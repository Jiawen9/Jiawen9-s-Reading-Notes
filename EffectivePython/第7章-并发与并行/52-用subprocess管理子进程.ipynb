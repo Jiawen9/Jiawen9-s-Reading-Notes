{
 "cells": [
  {
   "cell_type": "markdown",
   "metadata": {},
   "source": [
    "## 第52条 用subprocess管理子进程"
   ]
  },
  {
   "cell_type": "markdown",
   "metadata": {},
   "source": [
    "由python启动的子进程可以平行地运行，这让我们能够充分利用计算机的每一个CPU核心，来尽量提升程序的处理效率。"
   ]
  },
  {
   "cell_type": "code",
   "execution_count": 1,
   "metadata": {},
   "outputs": [
    {
     "name": "stdout",
     "output_type": "stream",
     "text": [
      "Hello from the child\n",
      "\n"
     ]
    }
   ],
   "source": [
    "import subprocess\n",
    "\n",
    "result = subprocess.run(\n",
    "    ['echo', 'Hello from the child'], # ehco 通常用于在屏幕上显示文本\n",
    "    capture_output=True,\n",
    "    encoding='utf-8'\n",
    ")\n",
    "\n",
    "result.check_returncode() # No exception means clean exit\n",
    "print(result.stdout)"
   ]
  },
  {
   "cell_type": "markdown",
   "metadata": {},
   "source": [
    "子进程可以独立于父进程而运行，假如刚才那条子进程不是通过run函数启动，而是由Popen类启动，那么我们就可以在它启动之后，让Python程序去做别的任务。"
   ]
  },
  {
   "cell_type": "code",
   "execution_count": 10,
   "metadata": {},
   "outputs": [
    {
     "name": "stdout",
     "output_type": "stream",
     "text": [
      "Working\n",
      "Working\n",
      "Working\n",
      "Working\n",
      "Working\n",
      "Working\n",
      "Working\n",
      "Working\n",
      "Working\n",
      "Working\n",
      "Working\n",
      "Working\n",
      "Exit status 0\n"
     ]
    }
   ],
   "source": [
    "proc = subprocess.Popen(['sleep', '0.001']) # subprocess.Popen()用于启动一个新的进程来执行指定的命令。\n",
    "                                            # 在这里，它启动了一个名为sleep的命令，'0.001'是sleep命令的参数，表示程序将会休眠0.001秒\n",
    "\n",
    "while proc.poll() is None: # proc.poll()返回进程的退出代码。如果进程尚未结束，它会返回None\n",
    "    print('Working')\n",
    "\n",
    "    # Some time-consuming work here\n",
    "\n",
    "print('Exit status', proc.poll())"
   ]
  },
  {
   "cell_type": "markdown",
   "metadata": {},
   "source": [
    "把子进程从父进程中剥离，可以让程序平行地运行多条子进程。"
   ]
  },
  {
   "cell_type": "code",
   "execution_count": 12,
   "metadata": {},
   "outputs": [],
   "source": [
    "import time\n",
    "\n",
    "start = time.time()\n",
    "sleep_procs = []\n",
    "for _ in range(10):\n",
    "    proc = subprocess.Popen(['sleep', '1'])\n",
    "    sleep_procs.append(proc)"
   ]
  },
  {
   "cell_type": "markdown",
   "metadata": {},
   "source": [
    "在主进程里调用每条子进程的communicate方法，等待这条子进程把它的I/O工作处理完毕。"
   ]
  },
  {
   "cell_type": "code",
   "execution_count": 13,
   "metadata": {},
   "outputs": [
    {
     "name": "stdout",
     "output_type": "stream",
     "text": [
      "Finished in  1.048064947128296 seconds\n"
     ]
    }
   ],
   "source": [
    "for proc in sleep_procs:\n",
    "    proc.communicate()\n",
    "\n",
    "end = time.time()\n",
    "delta = end - start\n",
    "print(f'Finished in {delta: 3} seconds')"
   ]
  },
  {
   "cell_type": "markdown",
   "metadata": {},
   "source": [
    "我们还可以在python程序中把数据通过管道发送给子进程所运行的外部命令，然后将那条命令的输出结果获取到python程序中。而且，在执行外部命令这个环节中，可以并行地运行多条命令。"
   ]
  },
  {
   "cell_type": "code",
   "execution_count": 14,
   "metadata": {},
   "outputs": [],
   "source": [
    "import os\n",
    "\n",
    "def run_encrypt(data):\n",
    "\n",
    "    env = os.environ.copy() # 这里创建了一个环境变量的副本，env将被传递给后续的subprocess.Popen调用，以确保子进程能够获取到相同的环境变量\n",
    "\n",
    "    env['password'] = 'zf7ShyBhZOraQDsE/FiZpm/m/8f9X+M1'\n",
    "    proc = subprocess.Popen(\n",
    "        ['openssl', 'enc', '-des3', '-pass', 'env:password'],\n",
    "        env=env,\n",
    "        stdin=subprocess.PIPE, # 这将配置子进程的输入和输出流\n",
    "        stdout=subprocess.PIPE\n",
    "    )\n",
    "\n",
    "    proc.stdin.write(data)\n",
    "    proc.stdin.flush() # Ensure that the child gets input\n",
    "\n",
    "    return proc # 返回了表示子进程的Popen对象，使得调用者可以与子进程进行交互"
   ]
  },
  {
   "cell_type": "markdown",
   "metadata": {},
   "source": [
    "随机生成一些字节数据，并传给刚才的加密函数去处理。这些子进程能够并行的运行，并各自处理他所接到的那份数据。"
   ]
  },
  {
   "cell_type": "code",
   "execution_count": 15,
   "metadata": {},
   "outputs": [
    {
     "name": "stdout",
     "output_type": "stream",
     "text": [
      "b'Salted__\\x99\\xee\\x15a\\xd8\\xdc@\\xeb\\xbb\\xbc]\\xbb\\xbf\\xb4#]\\x19\\xab\\xb6\\xae\\x91\\x92\\xa3\\xb7'\n",
      "b'Salted__\\xff{\\x02Be\\\\\\xc5\\x80\\xdb\\x96\\xb3\\xec\\x0e\\x9f\\x8aF6\\xd0\\xf9Y{\\xaf\\x0f('\n",
      "b'Salted__\\xd1p\\xaf\\xcb/\\x83;Y\\x18\\x85XL\\x86\\xed\\x08\\xce\\x9cv\\x076\\xf3\\xd19)'\n"
     ]
    }
   ],
   "source": [
    "procs = []\n",
    "for _ in range(3):\n",
    "    data = os.urandom(10)\n",
    "    proc = run_encrypt(data)\n",
    "    procs.append(proc)\n",
    "\n",
    "for proc in procs:\n",
    "    out, _ = proc.communicate()\n",
    "    print(out)"
   ]
  },
  {
   "cell_type": "markdown",
   "metadata": {},
   "source": [
    "这些并行的子进程还可以分别与另一套平行的子进程对接，形成许多条平行的管道（pipe）。这种管道与UNIX管道类似，能够把一条子进程的输出端与另一条子进程的输入端连接起来。"
   ]
  },
  {
   "cell_type": "code",
   "execution_count": 16,
   "metadata": {},
   "outputs": [],
   "source": [
    "def run_hash(input_stdin):\n",
    "    return subprocess.Popen(\n",
    "        ['openssl', 'dgst', '-whirlpool', '-binary'],\n",
    "        stdin=input_stdin,\n",
    "        stdout=subprocess.PIPE\n",
    "    )"
   ]
  },
  {
   "cell_type": "markdown",
   "metadata": {},
   "source": [
    "先启动一批进程来加密数据，然后启动另一批进程根据前面那些进程的加密结果形成哈希码。请注意，前面那批进程（也就是上游进程）的stdout实例必须谨慎处理，它把相应的哈希进程（也就是下游进程）启动之后，就应该及时关闭（close），并将它设为None。"
   ]
  },
  {
   "cell_type": "code",
   "execution_count": 23,
   "metadata": {},
   "outputs": [],
   "source": [
    "encrypt_procs = []\n",
    "hash_procs = []\n",
    "\n",
    "for _ in range(3):\n",
    "    data = os.urandom(100)\n",
    "\n",
    "    encrypt_proc = run_encrypt(data)\n",
    "    encrypt_procs.append(encrypt_proc)\n",
    "\n",
    "    hash_proc = run_hash(encrypt_proc.stdout)\n",
    "    hash_procs.append(hash_proc)\n",
    "\n",
    "    encrypt_proc.stdout.close()\n",
    "    encrypt_proc.stdout = None"
   ]
  },
  {
   "cell_type": "markdown",
   "metadata": {},
   "source": [
    "只要上游、下游的子进程都启动起来，两者之间的I/O管道就会自动打通。"
   ]
  },
  {
   "cell_type": "code",
   "execution_count": 24,
   "metadata": {},
   "outputs": [
    {
     "name": "stdout",
     "output_type": "stream",
     "text": [
      "b'o\\x8c\\xab\\xd2\\xad\\xbd\\x91\\x04\\xee\\xd1'\n",
      "b'\\x9a$r\\x84\\xdej7h\\x9f;'\n",
      "b'N\\x9d\\xf1\\x00ISsa\\xa3\\xc7'\n"
     ]
    }
   ],
   "source": [
    "for proc in encrypt_procs:\n",
    "    proc.communicate()\n",
    "    assert proc.returncode == 0\n",
    "\n",
    "for proc in hash_procs:\n",
    "    out, _ = proc.communicate()\n",
    "    print(out[-10:])\n",
    "    assert proc.returncode == 0"
   ]
  },
  {
   "cell_type": "markdown",
   "metadata": {},
   "source": [
    "子进程有可能一直不结束，或者由于某种原因卡在输入端或者输出端，那么可以在调用communicate方法时指定timeout参数。"
   ]
  },
  {
   "cell_type": "code",
   "execution_count": 25,
   "metadata": {},
   "outputs": [
    {
     "name": "stdout",
     "output_type": "stream",
     "text": [
      "Exit status -15\n"
     ]
    }
   ],
   "source": [
    "proc = subprocess.Popen(['sleep', '10'])\n",
    "\n",
    "try:\n",
    "    proc.communicate(timeout=0.1)\n",
    "except subprocess.TimeoutExpired:\n",
    "    proc.terminate()\n",
    "    proc.wait()\n",
    "\n",
    "print('Exit status', proc.poll())"
   ]
  }
 ],
 "metadata": {
  "kernelspec": {
   "display_name": "TACT-env",
   "language": "python",
   "name": "python3"
  },
  "language_info": {
   "codemirror_mode": {
    "name": "ipython",
    "version": 3
   },
   "file_extension": ".py",
   "mimetype": "text/x-python",
   "name": "python",
   "nbconvert_exporter": "python",
   "pygments_lexer": "ipython3",
   "version": "3.7.16"
  },
  "orig_nbformat": 4
 },
 "nbformat": 4,
 "nbformat_minor": 2
}
