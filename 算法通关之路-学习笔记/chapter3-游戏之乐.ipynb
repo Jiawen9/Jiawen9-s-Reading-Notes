{
 "cells": [
  {
   "attachments": {},
   "cell_type": "markdown",
   "metadata": {},
   "source": [
    "## 游戏之乐"
   ]
  },
  {
   "attachments": {},
   "cell_type": "markdown",
   "metadata": {},
   "source": [
    "### 外观数列\n",
    "***力扣第38题***  \n",
    "给定一个正整数 n ，输出外观数列的第 n 项。  \n",
    "「外观数列」是一个整数序列，从数字 1 开始，序列中的每一项都是对前一项的描述。"
   ]
  },
  {
   "cell_type": "code",
   "execution_count": 2,
   "metadata": {},
   "outputs": [
    {
     "data": {
      "text/plain": [
       "'1211'"
      ]
     },
     "execution_count": 2,
     "metadata": {},
     "output_type": "execute_result"
    }
   ],
   "source": [
    "'''\n",
    "方法一：迭代法\n",
    "时间复杂度：O（mn）\n",
    "'''\n",
    "class Solution:\n",
    "    def countAndSay(self, n: int) -> str:\n",
    "        s = '1'\n",
    "        for _ in range(n-1):\n",
    "            tmp = ''\n",
    "            left, right = 0, 0 # 具有相同数字的区间 \n",
    "            while right < len(s):\n",
    "                while right < len(s) and s[right] == s[left]: # 区间增长\n",
    "                    right += 1\n",
    "                tmp += str(len(s[left: right])) + s[left] # 记录区间长度和对应数字\n",
    "                left = right\n",
    "            s = tmp\n",
    "        return s\n",
    "\n",
    "# 试运行\n",
    "n = 4\n",
    "solu = Solution()\n",
    "solu.countAndSay(n)"
   ]
  },
  {
   "cell_type": "code",
   "execution_count": 3,
   "metadata": {},
   "outputs": [
    {
     "data": {
      "text/plain": [
       "'1211'"
      ]
     },
     "execution_count": 3,
     "metadata": {},
     "output_type": "execute_result"
    }
   ],
   "source": [
    "'''\n",
    "方法一：递归\n",
    "时间复杂度：O（mn）\n",
    "'''\n",
    "class Solution:\n",
    "    def countAndSay(self, n: int) -> str:\n",
    "        # 因为tmp每次都要置空，而s每次使用上一轮迭代结果，所以可以使用递归\n",
    "        def helper(n: int) -> str:\n",
    "            if n == 1:\n",
    "                return '1'\n",
    "            s = helper(n-1)\n",
    "            tmp = ''\n",
    "            left, right = 0, 0 # 具有相同数字的区间 \n",
    "            while right < len(s):\n",
    "                while right < len(s) and s[right] == s[left]: # 区间增长\n",
    "                    right += 1\n",
    "                tmp += str(len(s[left: right])) + s[left] # 记录区间长度和对应数字\n",
    "                left = right\n",
    "            return tmp\n",
    "        \n",
    "        return helper(n)\n",
    "\n",
    "# 试运行\n",
    "n = 4\n",
    "solu = Solution()\n",
    "solu.countAndSay(n)"
   ]
  },
  {
   "attachments": {},
   "cell_type": "markdown",
   "metadata": {},
   "source": [
    "### 24点\n",
    "***力扣第38题***  \n",
    "给定一个长度为4的整数数组 cards 。你有 4 张卡片，每张卡片上都包含一个范围在 [1,9] 的数字。您应该使用运算符 ['+', '-', '*', '/'] 和括号 '(' 和 ')' 将这些卡片上的数字排列成数学表达式，以获得值24。  \n",
    "如果可以得到这样的表达式，其计算结果为 24 ，则返回 true ，否则返回 false 。"
   ]
  },
  {
   "cell_type": "code",
   "execution_count": 6,
   "metadata": {},
   "outputs": [
    {
     "data": {
      "text/plain": [
       "True"
      ]
     },
     "execution_count": 6,
     "metadata": {},
     "output_type": "execute_result"
    }
   ],
   "source": [
    "'''\n",
    "方法一：全排列（回溯递归法）\n",
    "'''\n",
    "class Solution:\n",
    "    def judgePoint24(self, cards: list[int]) -> bool:\n",
    "        n = len(cards)\n",
    "        cards.sort()\n",
    "        used = [False] * n # 构造全排列时用到的访问数组\n",
    "        tmp = list() # 存全排列数\n",
    "\n",
    "        def dfs() -> bool:\n",
    "            '''构造全排列序列，并当即进行判断'''\n",
    "            if len(tmp) == len(cards):\n",
    "                return compute(tmp) # 是否组成24点\n",
    "            for i in range(n):\n",
    "                if i > 0 and cards[i] == cards[i-1] and used[i-1] == 0: # 去重\n",
    "                    continue\n",
    "                if used[i]:\n",
    "                    continue\n",
    "                else:\n",
    "                    tmp.append(cards[i])\n",
    "                    used[i] = True # 选择card[i]\n",
    "                    if dfs():\n",
    "                        return True\n",
    "                    tmp.pop() # 不选择card[i]\n",
    "                    used[i] = False\n",
    "            return False\n",
    "\n",
    "        def compute(cards: list[int]) -> bool:\n",
    "            '''判断四个数字能否组成24'''\n",
    "            if len(cards) == 1:\n",
    "                return abs(cards[0] - 24) < 1e-5 # 满足题目中的实数除法\n",
    "            for i in range(0, len(cards)-1):\n",
    "                if cards[i+1] == 0:\n",
    "                    compute_res = [cards[i] * cards[i+1], cards[i] + cards[i+1], cards[i] - cards[i+1]]\n",
    "                else:\n",
    "                    compute_res = [cards[i] * cards[i+1], cards[i] / cards[i+1], cards[i] + cards[i+1], cards[i] - cards[i+1]]\n",
    "                for c_res in compute_res:\n",
    "                    new_cards = cards[:]\n",
    "                    new_cards[i] = c_res\n",
    "                    new_cards.pop(i + 1)\n",
    "                    if compute(new_cards):\n",
    "                        return True\n",
    "            return False\n",
    "        \n",
    "        return dfs()\n",
    "\n",
    "# 试运行\n",
    "cards = [4, 1, 8, 7]\n",
    "solu = Solution()\n",
    "solu.judgePoint24(cards)"
   ]
  },
  {
   "cell_type": "code",
   "execution_count": 8,
   "metadata": {},
   "outputs": [
    {
     "data": {
      "text/plain": [
       "True"
      ]
     },
     "execution_count": 8,
     "metadata": {},
     "output_type": "execute_result"
    }
   ],
   "source": [
    "'''\n",
    "方法二：组合（迭代递归法）\n",
    "'''\n",
    "class Solution:\n",
    "    def judgePoint24(self, cards: list[int]) -> bool:\n",
    "\n",
    "        def compute(nums: list[int], n: int) -> bool:\n",
    "            if n == 1:\n",
    "                return abs(nums[0] - 24) < 1e-6\n",
    "            \n",
    "            new_nums = [0] * 4\n",
    "            # 双指针计算组合\n",
    "            for left in range(n-1):\n",
    "                for right in range(left + 1, n):\n",
    "                    idx = 0\n",
    "                    # 将未参与计算的数字移动到数组的前面\n",
    "                    for i in range(n):\n",
    "                        if i != left and i != right:\n",
    "                            new_nums[idx] = nums[i]\n",
    "                            idx += 1\n",
    "                    # 将运算后的结果附在其他数字末尾\n",
    "                    if nums[left] and nums[right]:\n",
    "                        compute_res = [nums[left] + nums[right], nums[left] * nums[right], nums[left] / nums[right],\\\n",
    "                            nums[right] / nums[left], nums[right] - nums[left], nums[left] - nums[right]]\n",
    "                    else:\n",
    "                        compute_res = [nums[left] + nums[right], nums[left] * nums[right], \\\n",
    "                            nums[left] - nums[right], nums[right] - nums[left]]\n",
    "                    for c_res in compute_res:\n",
    "                        new_nums[idx] = c_res\n",
    "                        if compute(new_nums, idx + 1):\n",
    "                            return True\n",
    "            return False\n",
    "        \n",
    "        return compute(cards, 4)\n",
    "\n",
    "# 试运行\n",
    "cards = [4, 1, 8, 7]\n",
    "solu = Solution()\n",
    "solu.judgePoint24(cards)"
   ]
  }
 ],
 "metadata": {
  "kernelspec": {
   "display_name": "base",
   "language": "python",
   "name": "python3"
  },
  "language_info": {
   "codemirror_mode": {
    "name": "ipython",
    "version": 3
   },
   "file_extension": ".py",
   "mimetype": "text/x-python",
   "name": "python",
   "nbconvert_exporter": "python",
   "pygments_lexer": "ipython3",
   "version": "3.9.12"
  },
  "orig_nbformat": 4
 },
 "nbformat": 4,
 "nbformat_minor": 2
}
