{
 "cells": [
  {
   "attachments": {},
   "cell_type": "markdown",
   "metadata": {},
   "source": [
    "## 深度优先遍历和广度优先遍历"
   ]
  },
  {
   "attachments": {},
   "cell_type": "markdown",
   "metadata": {},
   "source": [
    "### 路径总和 II\n",
    "***力扣第113题***  \n",
    "给你二叉树的根节点 root 和一个整数目标和 targetSum ，找出所有 从根节点到叶子节点 路径总和等于给定目标和的路径。   \n",
    "叶子节点 是指没有子节点的节点。   "
   ]
  },
  {
   "cell_type": "code",
   "execution_count": 5,
   "metadata": {},
   "outputs": [],
   "source": [
    "from typing import Optional\n",
    "class TreeNode:\n",
    "    def __init__(self, val=0, left=None, right=None):\n",
    "        self.val = val\n",
    "        self.left = left\n",
    "        self.right = right\n",
    "\n",
    "'''\n",
    "方法一：dfs递归\n",
    "时间复杂度：O（n）\n",
    "空间复杂度：最好情况 O（logn）\n",
    "'''\n",
    "class Solution:\n",
    "    def pathSum(self, root: Optional[TreeNode], targetSum: int) -> list[list[int]]:\n",
    "        res = []\n",
    "\n",
    "        def dfs(root: TreeNode, targetSum: int, path: list):\n",
    "            if not root:\n",
    "                return\n",
    "            if not root.left and not root. right and targetSum - root.val == 0:\n",
    "                path += [root.val]\n",
    "                res.append(path)\n",
    "            dfs(root.left, targetSum - root.val, path + [root.val])\n",
    "            dfs(root.right, targetSum - root.val, path + [root.val])\n",
    "        \n",
    "        dfs(root, targetSum, [])\n",
    "        return res"
   ]
  },
  {
   "attachments": {},
   "cell_type": "markdown",
   "metadata": {},
   "source": [
    "### 二叉树中的最大路径和\n",
    "***力扣第124题***  \n",
    "二叉树中的 路径 被定义为一条节点序列，序列中每对相邻节点之间都存在一条边。同一个节点在一条路径序列中 至多出现一次 。该路径 至少包含一个 节点，且不一定经过根节点。   \n",
    "路径和 是路径中各节点值的总和。   \n",
    "给你一个二叉树的根节点 root ，返回其 最大路径和 。   "
   ]
  },
  {
   "cell_type": "code",
   "execution_count": 6,
   "metadata": {},
   "outputs": [],
   "source": [
    "'''\n",
    "方法一：dfs递归\n",
    "时间复杂度：O（n）\n",
    "空间复杂度：最好情况 O（logn）\n",
    "'''\n",
    "class Solution:\n",
    "    def maxPathSum(self, root: Optional[TreeNode]) -> int:\n",
    "        max_sum = float('-inf')\n",
    "        \n",
    "        def dfs(root: TreeNode):\n",
    "            nonlocal max_sum\n",
    "            if not root:\n",
    "                return 0\n",
    "            max_left = max(dfs(root.left), 0)\n",
    "            max_right = max(dfs(root.right), 0)\n",
    "            max_sum = max(max_sum, max_left + max_right + root.val) # 当前层计算当前层最大路径并保留\n",
    "            return root.val + max(max_left, max_right) # 向上返回根节点+左右子树中路径大的一边\n",
    "        \n",
    "        dfs(root)\n",
    "        return max_sum"
   ]
  },
  {
   "attachments": {},
   "cell_type": "markdown",
   "metadata": {},
   "source": [
    "###  岛屿数量\n",
    "***力扣第200题***  \n",
    "给你一个由 '1'（陆地）和 '0'（水）组成的的二维网格，请你计算网格中岛屿的数量。   \n",
    "岛屿总是被水包围，并且每座岛屿只能由水平方向和/或竖直方向上相邻的陆地连接形成。   \n",
    "此外，你可以假设该网格的四条边均被水包围。   "
   ]
  },
  {
   "cell_type": "code",
   "execution_count": 1,
   "metadata": {},
   "outputs": [
    {
     "data": {
      "text/plain": [
       "1"
      ]
     },
     "execution_count": 1,
     "metadata": {},
     "output_type": "execute_result"
    }
   ],
   "source": [
    "'''\n",
    "方法一：dfs递归\n",
    "时间复杂度：O（mn）\n",
    "空间复杂度：最坏情况 O（mn）\n",
    "'''\n",
    "class Solution:\n",
    "    def numIslands(self, grid: list[list[str]]) -> int:\n",
    "        m, n = len(grid), len(grid[0])\n",
    "        cnt = 0\n",
    "\n",
    "        def dfs(r, c):\n",
    "            grid[r][c] = '0'\n",
    "            if c < n - 1 and grid[r][c+1] == '1':\n",
    "                dfs(r, c + 1)\n",
    "            if c > 0 and grid[r][c-1] == '1':\n",
    "                dfs(r, c - 1)\n",
    "            if r > 0 and grid[r-1][c] == '1':\n",
    "                dfs(r-1, c)\n",
    "            if r + 1 < m and grid[r+1][c] == '1':\n",
    "                dfs(r+1, c)\n",
    "        \n",
    "        for i in range(m):\n",
    "            for j in range(n):\n",
    "                if grid[i][j] == '1':\n",
    "                    dfs(i, j)\n",
    "                    cnt += 1\n",
    "        \n",
    "        return cnt\n",
    "\n",
    "# 试运行\n",
    "grid = [\n",
    "  [\"1\",\"1\",\"1\",\"1\",\"0\"],\n",
    "  [\"1\",\"1\",\"0\",\"1\",\"0\"],\n",
    "  [\"1\",\"1\",\"0\",\"0\",\"0\"],\n",
    "  [\"0\",\"0\",\"0\",\"0\",\"0\"]\n",
    "]\n",
    "\n",
    "solu = Solution()\n",
    "solu.numIslands(grid)"
   ]
  },
  {
   "cell_type": "code",
   "execution_count": 2,
   "metadata": {},
   "outputs": [
    {
     "data": {
      "text/plain": [
       "1"
      ]
     },
     "execution_count": 2,
     "metadata": {},
     "output_type": "execute_result"
    }
   ],
   "source": [
    "'''\n",
    "方法二：dfs迭代\n",
    "时间复杂度：O（mn）\n",
    "空间复杂度：最坏情况 O（mn）\n",
    "'''\n",
    "class Solution:\n",
    "    def numIslands(self, grid: list[list[str]]) -> int:\n",
    "        m, n = len(grid), len(grid[0])\n",
    "        cnt = 0\n",
    "\n",
    "        def dfs(r, c):\n",
    "            grid[r][c] = '0'\n",
    "            stack = [[r, c]]\n",
    "            while stack:\n",
    "                r, c = stack[-1]\n",
    "                if c < n - 1 and grid[r][c+1] == '1':\n",
    "                    stack.append([r, c+1])\n",
    "                    grid[r][c+1] = '0'\n",
    "                    continue\n",
    "                if c > 0 and grid[r][c-1] == '1':\n",
    "                    stack.append([r, c-1])\n",
    "                    grid[r][c-1] = '0'\n",
    "                    continue\n",
    "                if r > 0 and grid[r-1][c] == '1':\n",
    "                    stack.append([r-1, c])\n",
    "                    grid[r-1][c] = '0'\n",
    "                    continue\n",
    "                if r + 1 < m and grid[r+1][c] == '1':\n",
    "                    stack.append([r+1, c])\n",
    "                    grid[r+1][c] = '0'\n",
    "                    continue\n",
    "                stack.pop()\n",
    "        \n",
    "        for i in range(m):\n",
    "            for j in range(n):\n",
    "                if grid[i][j] == '1':\n",
    "                    dfs(i, j)\n",
    "                    cnt += 1\n",
    "        \n",
    "        return cnt\n",
    "\n",
    "# 试运行\n",
    "grid = [\n",
    "  [\"1\",\"1\",\"1\",\"1\",\"0\"],\n",
    "  [\"1\",\"1\",\"0\",\"1\",\"0\"],\n",
    "  [\"1\",\"1\",\"0\",\"0\",\"0\"],\n",
    "  [\"0\",\"0\",\"0\",\"0\",\"0\"]\n",
    "]\n",
    "\n",
    "solu = Solution()\n",
    "solu.numIslands(grid)"
   ]
  },
  {
   "cell_type": "code",
   "execution_count": 3,
   "metadata": {},
   "outputs": [
    {
     "data": {
      "text/plain": [
       "1"
      ]
     },
     "execution_count": 3,
     "metadata": {},
     "output_type": "execute_result"
    }
   ],
   "source": [
    "'''\n",
    "方法三：bfs\n",
    "时间复杂度：O（mn）\n",
    "空间复杂度：最坏情况 O（mn）\n",
    "'''\n",
    "class Solution:\n",
    "    def numIslands(self, grid: list[list[str]]) -> int:\n",
    "        m, n = len(grid), len(grid[0])\n",
    "        cnt = 0\n",
    "\n",
    "        def bfs(r, c):\n",
    "            grid[r][c] = '0'\n",
    "            queue = [[r, c]]\n",
    "            while queue:\n",
    "                r, c = queue.pop(0)\n",
    "                if c < n - 1 and grid[r][c+1] == '1':\n",
    "                    queue.append([r, c+1])\n",
    "                    grid[r][c+1] = '0'\n",
    "                if c > 0 and grid[r][c-1] == '1':\n",
    "                    queue.append([r, c-1])\n",
    "                    grid[r][c-1] = '0'\n",
    "                if r > 0 and grid[r-1][c] == '1':\n",
    "                    queue.append([r-1, c])\n",
    "                    grid[r-1][c] = '0'\n",
    "                if r + 1 < m and grid[r+1][c] == '1':\n",
    "                    queue.append([r+1, c])\n",
    "                    grid[r+1][c] = '0'\n",
    "        \n",
    "        for i in range(m):\n",
    "            for j in range(n):\n",
    "                if grid[i][j] == '1':\n",
    "                    bfs(i, j)\n",
    "                    cnt += 1\n",
    "        \n",
    "        return cnt\n",
    "    \n",
    "# 试运行\n",
    "grid = [\n",
    "  [\"1\",\"1\",\"1\",\"1\",\"0\"],\n",
    "  [\"1\",\"1\",\"0\",\"1\",\"0\"],\n",
    "  [\"1\",\"1\",\"0\",\"0\",\"0\"],\n",
    "  [\"0\",\"0\",\"0\",\"0\",\"0\"]\n",
    "]\n",
    "\n",
    "solu = Solution()\n",
    "solu.numIslands(grid)"
   ]
  },
  {
   "cell_type": "code",
   "execution_count": 5,
   "metadata": {},
   "outputs": [
    {
     "data": {
      "text/plain": [
       "1"
      ]
     },
     "execution_count": 5,
     "metadata": {},
     "output_type": "execute_result"
    }
   ],
   "source": [
    "'''\n",
    "方法四：并查集\n",
    "时间复杂度：O(mn×α(mn))\n",
    "空间复杂度：O（mn）\n",
    "'''\n",
    "class UnionFind:\n",
    "    def __init__(self, grid):\n",
    "        m, n = len(grid), len(grid[0])\n",
    "        self.count = 0\n",
    "        self.parent = [-1] * (m * n)\n",
    "        self.rank = [0] * (m * n)\n",
    "        for i in range(m):\n",
    "            for j in range(n):\n",
    "                if grid[i][j] == \"1\":\n",
    "                    self.parent[i * n + j] = i * n + j\n",
    "                    self.count += 1\n",
    "    \n",
    "    def find(self, i):\n",
    "        if self.parent[i] != i:\n",
    "            self.parent[i] = self.find(self.parent[i])\n",
    "        return self.parent[i]\n",
    "    \n",
    "    def union(self, x, y):\n",
    "        rootx = self.find(x)\n",
    "        rooty = self.find(y)\n",
    "        if rootx != rooty:\n",
    "            if self.rank[rootx] < self.rank[rooty]:\n",
    "                rootx, rooty = rooty, rootx\n",
    "            self.parent[rooty] = rootx\n",
    "            if self.rank[rootx] == self.rank[rooty]:\n",
    "                self.rank[rootx] += 1\n",
    "            self.count -= 1\n",
    "    \n",
    "    def getCount(self):\n",
    "        return self.count\n",
    "\n",
    "class Solution:\n",
    "    def numIslands(self, grid: list[list[str]]) -> int:\n",
    "        nr, nc = len(grid), len(grid[0])\n",
    "        uf = UnionFind(grid)\n",
    "\n",
    "        for r in range(nr):\n",
    "            for c in range(nc):\n",
    "                if grid[r][c] == \"1\":\n",
    "                    grid[r][c] = \"0\"\n",
    "                    for x, y in [(r - 1, c), (r + 1, c), (r, c - 1), (r, c + 1)]:\n",
    "                        if 0 <= x < nr and 0 <= y < nc and grid[x][y] == \"1\":\n",
    "                            uf.union(r * nc + c, x * nc + y)\n",
    "        \n",
    "        return uf.getCount()\n",
    "\n",
    "# 试运行\n",
    "grid = [\n",
    "  [\"1\",\"1\",\"1\",\"1\",\"0\"],\n",
    "  [\"1\",\"1\",\"0\",\"1\",\"0\"],\n",
    "  [\"1\",\"1\",\"0\",\"0\",\"0\"],\n",
    "  [\"0\",\"0\",\"0\",\"0\",\"0\"]\n",
    "]\n",
    "\n",
    "solu = Solution()\n",
    "solu.numIslands(grid)"
   ]
  },
  {
   "attachments": {},
   "cell_type": "markdown",
   "metadata": {},
   "source": [
    "### 岛屿数量 II\n",
    "***力扣第305题***  \n",
    "给你一个大小为 m x n 的二进制网格 grid 。网格表示一个地图，其中，0 表示水，1 表示陆地。最初，grid 中的所有单元格都是水单元格（即，所有单元格都是 0）。   \n",
    "可以通过执行 addLand 操作，将某个位置的水转换成陆地。给你一个数组 positions ，其中 positions[i] = [ri, ci] 是要执行第 i 次操作的位置 (ri, ci) 。   \n",
    "返回一个整数数组 answer ，其中 answer[i] 是将单元格 (ri, ci) 转换为陆地后，地图中岛屿的数量。   \n",
    "岛屿 的定义是被「水」包围的「陆地」，通过水平方向或者垂直方向上相邻的陆地连接而成。你可以假设地图网格的四边均被无边无际的「水」所包围。   "
   ]
  },
  {
   "cell_type": "code",
   "execution_count": 8,
   "metadata": {},
   "outputs": [
    {
     "data": {
      "text/plain": [
       "[1, 1, 2, 3]"
      ]
     },
     "execution_count": 8,
     "metadata": {},
     "output_type": "execute_result"
    }
   ],
   "source": [
    "'''\n",
    "方法一：并查集\n",
    "时间复杂度：O(klog(mn))\n",
    "空间复杂度：O（mn）\n",
    "'''\n",
    "class UnionFind:\n",
    "    def __init__(self, grid):\n",
    "        m, n = len(grid), len(grid[0])\n",
    "        self.count = 0\n",
    "        self.parent = [0] * (m * n)\n",
    "        self.rank = [0] * (m * n)\n",
    "    \n",
    "    def find(self, i):\n",
    "        if self.parent[i] != i:\n",
    "            self.parent[i] = self.find(self.parent[i])\n",
    "        return self.parent[i]\n",
    "    \n",
    "    def union(self, x, y):\n",
    "        rootx = self.find(x)\n",
    "        rooty = self.find(y)\n",
    "        if rootx != rooty:\n",
    "            if self.rank[rootx] < self.rank[rooty]:\n",
    "                rootx, rooty = rooty, rootx\n",
    "            self.parent[rooty] = rootx\n",
    "            if self.rank[rootx] == self.rank[rooty]:\n",
    "                self.rank[rootx] += 1\n",
    "            self.count -= 1\n",
    "    \n",
    "    def getCount(self):\n",
    "        return self.count\n",
    "    \n",
    "    def setCount(self, count):\n",
    "        self.count = count\n",
    "    \n",
    "    def setParent(self, i, val):\n",
    "        self.parent[i] = val\n",
    "\n",
    "class Solution:\n",
    "    def numIslands2(self, m: int, n: int, positions: list[list[int]]) -> list[int]:\n",
    "        answer = []\n",
    "        grid = [[0] * n for _ in range(m)]\n",
    "        uf = UnionFind(grid)\n",
    "        for row, col in positions:\n",
    "            if grid[row][col] == 0:\n",
    "                uf.setCount(uf.getCount() + 1)\n",
    "                uf.setParent(row * n + col, row * n + col)\n",
    "                grid[row][col] = 1\n",
    "                if row > 0 and grid[row-1][col] == 1:\n",
    "                    uf.union(row*n+col, (row-1)*n+col)\n",
    "                if row + 1 < m and grid[row+1][col] == 1:\n",
    "                    uf.union(row*n+col, (row+1)*n+col)\n",
    "                if col > 0 and grid[row][col-1] == 1:\n",
    "                    uf.union(row*n+col, row*n+col-1)\n",
    "                if col + 1 < n and grid[row][col+1] == 1:\n",
    "                    uf.union(row*n+col, row*n+col+1)\n",
    "            answer.append(uf.getCount())\n",
    "        return answer\n",
    "\n",
    "m, n, positions =  3, 3, [[0,0],[0,1],[1,2],[2,1]]\n",
    "solu = Solution()\n",
    "solu.numIslands2(m, n, positions)"
   ]
  }
 ],
 "metadata": {
  "kernelspec": {
   "display_name": "base",
   "language": "python",
   "name": "python3"
  },
  "language_info": {
   "codemirror_mode": {
    "name": "ipython",
    "version": 3
   },
   "file_extension": ".py",
   "mimetype": "text/x-python",
   "name": "python",
   "nbconvert_exporter": "python",
   "pygments_lexer": "ipython3",
   "version": "3.9.12"
  },
  "orig_nbformat": 4
 },
 "nbformat": 4,
 "nbformat_minor": 2
}
