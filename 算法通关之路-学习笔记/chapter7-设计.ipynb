{
 "cells": [
  {
   "attachments": {},
   "cell_type": "markdown",
   "metadata": {},
   "source": [
    "### 最小栈\n",
    "***力扣第155题***  \n",
    "设计一个支持 push ，pop ，top 操作，并能在常数时间内检索到最小元素的栈。   \n",
    "实现 MinStack 类:   \n",
    "MinStack() 初始化堆栈对象。   \n",
    "void push(int val) 将元素val推入堆栈。   \n",
    "void pop() 删除堆栈顶部的元素。   \n",
    "int top() 获取堆栈顶部的元素。   \n",
    "int getMin() 获取堆栈中的最小元素。   "
   ]
  },
  {
   "cell_type": "code",
   "execution_count": 1,
   "metadata": {},
   "outputs": [],
   "source": [
    "'''\n",
    "方法一：辅助栈\n",
    "时间复杂度：O（1）\n",
    "空间复杂度：O（n）\n",
    "'''\n",
    "class MinStack:\n",
    "\n",
    "    def __init__(self):\n",
    "        self.stack = []\n",
    "        self.min_stack = []\n",
    "\n",
    "    def push(self, val: int) -> None:\n",
    "        self.stack.append(val)\n",
    "        if not self.min_stack:\n",
    "            self.min_stack.append(val)\n",
    "        elif val < self.min_stack[-1]:\n",
    "            self.min_stack.append(val)\n",
    "        else:\n",
    "            self.min_stack.append(self.min_stack[-1])\n",
    "\n",
    "    def pop(self) -> None:\n",
    "        self.stack.pop()\n",
    "        self.min_stack.pop()\n",
    "\n",
    "    def top(self) -> int:\n",
    "        return self.stack[-1]        \n",
    "\n",
    "    def getMin(self) -> int:\n",
    "        return self.min_stack[-1]"
   ]
  },
  {
   "attachments": {},
   "cell_type": "markdown",
   "metadata": {},
   "source": [
    "![Alt text](c:/Users/panda/Desktop/df52808b36313a4610693b6dc6aee89a_r.jpg)"
   ]
  }
 ],
 "metadata": {
  "kernelspec": {
   "display_name": "base",
   "language": "python",
   "name": "python3"
  },
  "language_info": {
   "codemirror_mode": {
    "name": "ipython",
    "version": 3
   },
   "file_extension": ".py",
   "mimetype": "text/x-python",
   "name": "python",
   "nbconvert_exporter": "python",
   "pygments_lexer": "ipython3",
   "version": "3.9.12"
  },
  "orig_nbformat": 4
 },
 "nbformat": 4,
 "nbformat_minor": 2
}
