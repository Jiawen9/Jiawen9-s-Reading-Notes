{
 "cells": [
  {
   "attachments": {},
   "cell_type": "markdown",
   "metadata": {},
   "source": [
    "## 回文的艺术"
   ]
  },
  {
   "attachments": {},
   "cell_type": "markdown",
   "metadata": {},
   "source": [
    "### 验证回文串 II\n",
    "***力扣第680题***  \n",
    "给你一个字符串 s，最多 可以从中删除一个字符。  \n",
    "请你判断 s 是否能成为回文字符串：如果能，返回 true ；否则，返回 false 。"
   ]
  },
  {
   "cell_type": "code",
   "execution_count": 2,
   "metadata": {},
   "outputs": [
    {
     "data": {
      "text/plain": [
       "True"
      ]
     },
     "execution_count": 2,
     "metadata": {},
     "output_type": "execute_result"
    }
   ],
   "source": [
    "'''\n",
    "解法一:双指针法\n",
    "时间复杂度:O(n)\n",
    "'''\n",
    "class Solution:\n",
    "    def validPalindrome(self, s: str) -> bool:\n",
    "        l, r = 0, len(s)-1\n",
    "        \n",
    "        def isPalindrome(s: str) -> bool:\n",
    "            l, r = 0, len(s)-1\n",
    "            while l < r:\n",
    "                if s[l] == s[r]:\n",
    "                    l += 1\n",
    "                    r -= 1\n",
    "                else:\n",
    "                    return False\n",
    "            return True\n",
    "\n",
    "        while l < r:\n",
    "            if s[l] != s[r]:\n",
    "                return isPalindrome(s[l+1 : r+1]) or isPalindrome(s[l : r])\n",
    "            else:\n",
    "                l += 1\n",
    "                r -= 1\n",
    "        return True\n",
    "\n",
    "## 试运行\n",
    "s = \"abca\"\n",
    "solu = Solution()\n",
    "solu.validPalindrome(s)"
   ]
  },
  {
   "attachments": {},
   "cell_type": "markdown",
   "metadata": {},
   "source": [
    "### 回文链表\n",
    "***力扣第234题***  \n",
    "给你一个单链表的头节点 head ，请你判断该链表是否为回文链表。如果是，返回 true ；否则，返回 false 。  "
   ]
  },
  {
   "cell_type": "code",
   "execution_count": 4,
   "metadata": {},
   "outputs": [],
   "source": [
    "from typing import Optional\n",
    "\n",
    "class ListNode:\n",
    "    def __init__(self, val=0, next=None):\n",
    "        self.val = val\n",
    "        self.next = next\n",
    "\n",
    "'''\n",
    "解法一:链表（遍历1.5遍）->数组（长度为链表长度一半）\n",
    "时间复杂度:O(n)\n",
    "'''\n",
    "class Solution:\n",
    "    def isPalindrome(self, head: Optional[ListNode]) -> bool:\n",
    "        length = 0\n",
    "        p = head\n",
    "        while p:\n",
    "            p = p.next\n",
    "            length += 1\n",
    "        if length == 0 or length == 1:\n",
    "            return True\n",
    "        flag = False\n",
    "        if length % 2:\n",
    "            flag = True\n",
    "        half_of_length = length // 2\n",
    "        stack = []\n",
    "        p = head\n",
    "        while half_of_length :\n",
    "            stack.append(p.val)\n",
    "            p = p.next\n",
    "            half_of_length -= 1\n",
    "        if flag:\n",
    "            p = p.next\n",
    "        while p:\n",
    "            if p.val == stack[-1]:\n",
    "                p = p.next\n",
    "                stack.pop()\n",
    "            else: \n",
    "                return False\n",
    "        return True\n",
    "    \n",
    "'''\n",
    "解法二:链表（遍历1遍）->数组（长度为链表长度）\n",
    "时间复杂度:O(n)\n",
    "'''\n",
    "class Solution:\n",
    "    def isPalindrome(self, head: Optional[ListNode]) -> bool:\n",
    "        def isPalindrome(s: str) -> bool:\n",
    "            l, r = 0, len(s)-1\n",
    "            while l < r:\n",
    "                if s[l] == s[r]:\n",
    "                    l += 1\n",
    "                    r -= 1\n",
    "                else:\n",
    "                    return False\n",
    "            return True\n",
    "\n",
    "        p = head\n",
    "        stack = list()\n",
    "        while p:\n",
    "            stack.append(p.val)\n",
    "            p = p.next\n",
    "\n",
    "        return isPalindrome(stack)"
   ]
  },
  {
   "cell_type": "code",
   "execution_count": null,
   "metadata": {},
   "outputs": [],
   "source": [
    "'''\n",
    "反转链表\n",
    "def reverseList(head: ListNode) -> ListNode:\n",
    "    if not head:\n",
    "        return None\n",
    "    prev = None\n",
    "    cur = head\n",
    "    while cur:\n",
    "        cur.next, prev, cur = prev, cur, cur.next\n",
    "    return prev\n",
    "'''"
   ]
  },
  {
   "cell_type": "code",
   "execution_count": 5,
   "metadata": {},
   "outputs": [],
   "source": [
    "'''\n",
    "解法三:反转链表\n",
    "时间复杂度:O(n)，空间复杂度O(1)\n",
    "'''\n",
    "class Solution:\n",
    "    def isPalindrome(self, head: Optional[ListNode]) -> bool:\n",
    "        pre = None\n",
    "        slow = fast = head\n",
    "        while fast and fast.next:\n",
    "            fast = fast.next.next # 先更新fast指针\n",
    "            slow.next, pre, slow = pre, slow, slow.next\n",
    "        if fast:\n",
    "            slow = slow.next\n",
    "        # pre向前遍历，slow向后遍历\n",
    "        while slow:\n",
    "            if slow.val != pre.val:\n",
    "                return False\n",
    "            pre = pre.next\n",
    "            slow = slow.next\n",
    "        return True"
   ]
  },
  {
   "attachments": {},
   "cell_type": "markdown",
   "metadata": {},
   "source": [
    "### 回文数\n",
    "***力扣第9题***  \n",
    "给你一个整数 x ，如果 x 是一个回文整数，返回 true ；否则，返回 false 。  \n",
    "回文数是指正序（从左向右）和倒序（从右向左）读都是一样的整数。"
   ]
  },
  {
   "cell_type": "code",
   "execution_count": 6,
   "metadata": {},
   "outputs": [
    {
     "data": {
      "text/plain": [
       "False"
      ]
     },
     "execution_count": 6,
     "metadata": {},
     "output_type": "execute_result"
    }
   ],
   "source": [
    "'''\n",
    "解法一:转化为字符串\n",
    "时间复杂度:O(n)\n",
    "'''\n",
    "class Solution:\n",
    "    def isPalindrome(self, x: int) -> bool:\n",
    "        def isPalindrome(s: str) -> bool:\n",
    "            l, r = 0, len(s)-1\n",
    "            while l < r:\n",
    "                if s[l] == s[r]:\n",
    "                    l += 1\n",
    "                    r -= 1\n",
    "                else:\n",
    "                    return False\n",
    "            return True\n",
    "        \n",
    "        if x < 0:\n",
    "            return False\n",
    "        x = str(x)\n",
    "        return isPalindrome(x)\n",
    "\n",
    "## 试运行\n",
    "x = -121\n",
    "solu = Solution()\n",
    "solu.isPalindrome(x)"
   ]
  },
  {
   "cell_type": "code",
   "execution_count": 7,
   "metadata": {},
   "outputs": [
    {
     "data": {
      "text/plain": [
       "False"
      ]
     },
     "execution_count": 7,
     "metadata": {},
     "output_type": "execute_result"
    }
   ],
   "source": [
    "'''\n",
    "解法二:求余\n",
    "时间复杂度:O(n)\n",
    "'''\n",
    "class Solution:\n",
    "    def isPalindrome(self, x: int) -> bool:\n",
    "        if x < 0:\n",
    "            return False\n",
    "        if x  == 0:\n",
    "            return True\n",
    "        if x % 10 == 0:\n",
    "            return False\n",
    "\n",
    "        copy = x\n",
    "        res = 0\n",
    "        while x != 0:\n",
    "            res = (x % 10) + res * 10\n",
    "            x = x // 10\n",
    "        return res == copy\n",
    "## 试运行\n",
    "x = -121\n",
    "solu = Solution()\n",
    "solu.isPalindrome(x)"
   ]
  },
  {
   "attachments": {},
   "cell_type": "markdown",
   "metadata": {},
   "source": [
    "### 最长回文子串\n",
    "***力扣第5题***  \n",
    "给你一个字符串 s，找到 s 中最长的回文子串。  \n",
    "如果字符串的反序与原始字符串相同，则该字符串称为回文字符串。  "
   ]
  },
  {
   "cell_type": "code",
   "execution_count": 1,
   "metadata": {},
   "outputs": [
    {
     "data": {
      "text/plain": [
       "'bab'"
      ]
     },
     "execution_count": 1,
     "metadata": {},
     "output_type": "execute_result"
    }
   ],
   "source": [
    "'''\n",
    "解法一:暴力法（超时）\n",
    "时间复杂度:O(n3)\n",
    "'''\n",
    "class Solution:\n",
    "    def longestPalindrome(self, s: str) -> str:\n",
    "        n = len(s)\n",
    "        res = ''\n",
    "\n",
    "        def isPalindrome(s: str) -> bool:\n",
    "            l, r = 0, len(s)-1\n",
    "            while l < r:\n",
    "                if s[l] == s[r]:\n",
    "                    l += 1\n",
    "                    r -= 1\n",
    "                else:\n",
    "                    return False\n",
    "            return True\n",
    "        \n",
    "        for l in range(n):\n",
    "            for r in range(l, n):\n",
    "                if isPalindrome(s[l:r+1]) and r - l + 1 > len(res):\n",
    "                    res = s[l:r+1]\n",
    "        return res\n",
    "\n",
    "# 试运行\n",
    "s = \"babad\"\n",
    "solu = Solution()\n",
    "solu.longestPalindrome(s)"
   ]
  },
  {
   "cell_type": "code",
   "execution_count": 2,
   "metadata": {},
   "outputs": [
    {
     "data": {
      "text/plain": [
       "'bab'"
      ]
     },
     "execution_count": 2,
     "metadata": {},
     "output_type": "execute_result"
    }
   ],
   "source": [
    "'''\n",
    "解法一:中心扩展法\n",
    "时间复杂度:O(n2)\n",
    "'''\n",
    "class Solution:\n",
    "    def longestPalindrome(self, s: str) -> str:\n",
    "        n = len(s)\n",
    "        res = ''\n",
    "\n",
    "        def extend(s: str, i: int, j: int):\n",
    "            while i >= 0 and j < n and s[i] == s[j]:\n",
    "                i, j = i - 1, j + 1\n",
    "            return s[i + 1 : j]\n",
    "        \n",
    "        for i in range(n):\n",
    "            e1 = extend(s, i, i)\n",
    "            e2 = extend(s, i, i + 1)\n",
    "            if max(len(e1), len(e2)) > len(res):\n",
    "                res = e1 if len(e1) > len(e2) else e2\n",
    "        return res\n",
    "\n",
    "# 试运行\n",
    "s = \"babad\"\n",
    "solu = Solution()\n",
    "solu.longestPalindrome(s)"
   ]
  },
  {
   "attachments": {},
   "cell_type": "markdown",
   "metadata": {},
   "source": [
    "### 最长回文子序列\n",
    "***力扣第516题***  \n",
    "给你一个字符串 s ，找出其中最长的回文子序列，并返回该序列的长度。  \n",
    "子序列定义为：不改变剩余字符顺序的情况下，删除某些字符或者不删除任何字符形成的一个序列。  "
   ]
  },
  {
   "cell_type": "code",
   "execution_count": 3,
   "metadata": {},
   "outputs": [
    {
     "data": {
      "text/plain": [
       "4"
      ]
     },
     "execution_count": 3,
     "metadata": {},
     "output_type": "execute_result"
    }
   ],
   "source": [
    "'''\n",
    "解法一:动态规划\n",
    "时间复杂度:O(n2)\n",
    "'''\n",
    "class Solution:\n",
    "    def longestPalindromeSubseq(self, s: str) -> int:\n",
    "        n = len(s)\n",
    "        dp = [[0] * n for i in range(n)]\n",
    "        for i in reversed(range(n)):\n",
    "            for j in range(i, n):\n",
    "                if i == j:\n",
    "                    dp[i][j] = 1\n",
    "                elif s[i] == s[j]:\n",
    "                    dp[i][j] = dp[i + 1][j - 1] + 2\n",
    "                else:\n",
    "                    dp[i][j] = max(dp[i + 1][j], dp[i][j - 1])                                                       \n",
    "        return dp[0][n-1]\n",
    "\n",
    "# 试运行\n",
    "s = \"bbbab\"\n",
    "solu = Solution()\n",
    "solu.longestPalindromeSubseq(s)"
   ]
  },
  {
   "attachments": {},
   "cell_type": "markdown",
   "metadata": {},
   "source": [
    "### 超级回文数\n",
    "***力扣第906题***  \n",
    "如果一个正整数自身是回文数，而且它也是一个回文数的平方，那么我们称这个数为超级回文数。  \n",
    "现在，给定两个正整数 L 和 R （以字符串形式表示），返回包含在范围 [L, R] 中的超级回文数的数目。  "
   ]
  },
  {
   "cell_type": "code",
   "execution_count": 4,
   "metadata": {},
   "outputs": [
    {
     "data": {
      "text/plain": [
       "4"
      ]
     },
     "execution_count": 4,
     "metadata": {},
     "output_type": "execute_result"
    }
   ],
   "source": [
    "'''\n",
    "解法一:暴力法（超时）\n",
    "'''\n",
    "import math\n",
    "class Solution:\n",
    "    def superpalindromesInRange(self, left: str, right: str) -> int:\n",
    "        cnt = 0\n",
    "\n",
    "        def isPalindrome(s: str) -> bool:\n",
    "            l, r = 0, len(s)-1\n",
    "            while l < r:\n",
    "                if s[l] == s[r]:\n",
    "                    l += 1\n",
    "                    r -= 1\n",
    "                else:\n",
    "                    return False\n",
    "            return True\n",
    "        \n",
    "        for i in range(math.floor(int(left) ** 0.5), math.ceil(int(right) ** 0.5)):\n",
    "            if isPalindrome(str(i)) and isPalindrome(str(i ** 2)):\n",
    "                cnt += 1\n",
    "        return cnt\n",
    "\n",
    "# 试运行\n",
    "left, right = \"4\", \"1000\"\n",
    "solu = Solution()\n",
    "solu.superpalindromesInRange(left, right)"
   ]
  },
  {
   "cell_type": "code",
   "execution_count": 5,
   "metadata": {},
   "outputs": [
    {
     "data": {
      "text/plain": [
       "4"
      ]
     },
     "execution_count": 5,
     "metadata": {},
     "output_type": "execute_result"
    }
   ],
   "source": [
    "'''\n",
    "解法二:构造回文数\n",
    "'''\n",
    "import math\n",
    "class Solution:\n",
    "    def superpalindromesInRange(self, left: str, right: str) -> int:\n",
    "        cnt = 0\n",
    "\n",
    "        def isPalindrome(s: str) -> bool:\n",
    "            l, r = 0, len(s)-1\n",
    "            while l < r:\n",
    "                if s[l] == s[r]:\n",
    "                    l += 1\n",
    "                    r -= 1\n",
    "                else:\n",
    "                    return False\n",
    "            return True\n",
    "\n",
    "        i = 1\n",
    "        while i < 10 ** 5:\n",
    "            power = math.floor(math.log10(i))\n",
    "            x = i\n",
    "            r = 0 # r是倒序的i\n",
    "            while x > 0:\n",
    "                r = r * 10 + (x % 10)\n",
    "                x = x // 10\n",
    "            Q = (i * 10 ** power + r % 10 ** power) ** 2 # 12321\n",
    "\n",
    "            if Q > int(right):\n",
    "                return cnt\n",
    "\n",
    "            if Q >= int(left) and isPalindrome(str(Q)):\n",
    "                cnt += 1\n",
    "            Q = (i * 10 ** (power + 1) + r) ** 2 # 123321\n",
    "            if int(left) <= Q <= int(right) and isPalindrome(str(Q)):\n",
    "                cnt += 1\n",
    "            i += 1\n",
    "        return cnt\n",
    "\n",
    "# 试运行\n",
    "left, right = \"4\", \"1000\"\n",
    "solu = Solution()\n",
    "solu.superpalindromesInRange(left, right)"
   ]
  }
 ],
 "metadata": {
  "kernelspec": {
   "display_name": "base",
   "language": "python",
   "name": "python3"
  },
  "language_info": {
   "codemirror_mode": {
    "name": "ipython",
    "version": 3
   },
   "file_extension": ".py",
   "mimetype": "text/x-python",
   "name": "python",
   "nbconvert_exporter": "python",
   "pygments_lexer": "ipython3",
   "version": "3.9.12"
  },
  "orig_nbformat": 4
 },
 "nbformat": 4,
 "nbformat_minor": 2
}
