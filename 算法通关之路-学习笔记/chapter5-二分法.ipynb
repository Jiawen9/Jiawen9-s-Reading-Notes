{
 "cells": [
  {
   "attachments": {},
   "cell_type": "markdown",
   "metadata": {},
   "source": [
    "### 二分查找\n",
    "***力扣第704题***  \n",
    "给定一个 n 个元素有序的（升序）整型数组 nums 和一个目标值 target  ，写一个函数搜索 nums 中的 target，如果目标值存在返回下标，否则返回 -1。"
   ]
  },
  {
   "cell_type": "code",
   "execution_count": 4,
   "metadata": {},
   "outputs": [
    {
     "data": {
      "text/plain": [
       "4"
      ]
     },
     "execution_count": 4,
     "metadata": {},
     "output_type": "execute_result"
    }
   ],
   "source": [
    "'''\n",
    "方法一：递归\n",
    "时间复杂度：O（logn）\n",
    "空间复杂度：O（logn）\n",
    "'''\n",
    "class Solution:\n",
    "    def search(self, nums: list[int], target: int) -> int:\n",
    "        left, right = 0, len(nums) - 1\n",
    "\n",
    "        def binary_search(left: int, right: int, target: int) -> int:\n",
    "            if left > right:\n",
    "                return -1\n",
    "            mid = (left + right) // 2\n",
    "            if nums[mid] == target:\n",
    "                return mid\n",
    "            elif nums[mid] > target:\n",
    "                return binary_search(left, mid - 1, target)\n",
    "            else:\n",
    "                return binary_search(mid + 1, right, target)\n",
    "        \n",
    "        return binary_search(left, right, target)\n",
    "\n",
    "nums, target = [-1,0,3,5,9,12], 9\n",
    "solu = Solution()\n",
    "solu.search(nums, target)\n"
   ]
  },
  {
   "cell_type": "code",
   "execution_count": 6,
   "metadata": {},
   "outputs": [
    {
     "data": {
      "text/plain": [
       "4"
      ]
     },
     "execution_count": 6,
     "metadata": {},
     "output_type": "execute_result"
    }
   ],
   "source": [
    "'''\n",
    "方法一：迭代\n",
    "时间复杂度：O（logn）\n",
    "空间复杂度：O（1）\n",
    "'''\n",
    "class Solution:\n",
    "    def search(self, nums: list[int], target: int) -> int:\n",
    "        left, right = 0, len(nums)-1\n",
    "        while left <= right :\n",
    "            mid = (left + right) // 2\n",
    "            if nums[mid] == target:\n",
    "                return mid\n",
    "            elif nums[mid] > target:\n",
    "                right = mid - 1\n",
    "            else:\n",
    "                left = mid + 1\n",
    "        return -1\n",
    "\n",
    "nums, target = [-1,0,3,5,9,12], 9\n",
    "solu = Solution()\n",
    "solu.search(nums, target)"
   ]
  },
  {
   "attachments": {},
   "cell_type": "markdown",
   "metadata": {},
   "source": [
    "###  寻找旋转排序数组中的最小值\n",
    "***力扣第153题***  \n",
    "已知一个长度为 n 的数组，预先按照升序排列，经由 1 到 n 次 旋转 后，得到输入数组。例如，原数组 nums = [0,1,2,4,5,6,7] 在变化后可能得到：   \n",
    "若旋转 4 次，则可以得到 [4,5,6,7,0,1,2]   \n",
    "若旋转 7 次，则可以得到 [0,1,2,4,5,6,7]   \n",
    "注意，数组 [a[0], a[1], a[2], ..., a[n-1]] 旋转一次 的结果为数组 [a[n-1], a[0], a[1], a[2], ..., a[n-2]] 。   \n",
    "给你一个元素值 互不相同 的数组 nums ，它原来是一个升序排列的数组，并按上述情形进行了多次旋转。请你找出并返回数组中的 最小元素 。   \n",
    "你必须设计一个时间复杂度为 O(log n) 的算法解决此问题。"
   ]
  },
  {
   "cell_type": "code",
   "execution_count": 7,
   "metadata": {},
   "outputs": [
    {
     "data": {
      "text/plain": [
       "1"
      ]
     },
     "execution_count": 7,
     "metadata": {},
     "output_type": "execute_result"
    }
   ],
   "source": [
    "'''\n",
    "方法一：二分法\n",
    "时间复杂度：O（logn）\n",
    "空间复杂度：O（1）\n",
    "'''\n",
    "class Solution:\n",
    "    def findMin(self, nums: list[int]) -> int:\n",
    "        left, right = 0, len(nums) - 1\n",
    "        while left <= right:\n",
    "            mid = left + (right - left) // 2\n",
    "            if left == right:\n",
    "                return nums[mid]\n",
    "            if nums[mid] > nums[right]:\n",
    "                left = mid + 1\n",
    "            elif nums[mid] < nums[right]:\n",
    "                right = mid\n",
    "        return -1\n",
    "\n",
    "nums = [3,4,5,1,2]\n",
    "solu = Solution()\n",
    "solu.findMin(nums)"
   ]
  },
  {
   "attachments": {},
   "cell_type": "markdown",
   "metadata": {},
   "source": [
    "### 爱吃香蕉的珂珂\n",
    "***力扣第875题***  \n",
    "珂珂喜欢吃香蕉。这里有 n 堆香蕉，第 i 堆中有 piles[i] 根香蕉。警卫已经离开了，将在 h 小时后回来。   \n",
    "珂珂可以决定她吃香蕉的速度 k （单位：根/小时）。每个小时，她将会选择一堆香蕉，从中吃掉 k 根。如果这堆香蕉少于 k 根，她将吃掉这堆的所有香蕉，然后这一小时内不会再吃更多的香蕉。  \n",
    "珂珂喜欢慢慢吃，但仍然想在警卫回来前吃掉所有的香蕉。   \n",
    "返回她可以在 h 小时内吃掉所有香蕉的最小速度 k（k 为整数）。   "
   ]
  },
  {
   "cell_type": "code",
   "execution_count": 13,
   "metadata": {},
   "outputs": [
    {
     "data": {
      "text/plain": [
       "4"
      ]
     },
     "execution_count": 13,
     "metadata": {},
     "output_type": "execute_result"
    }
   ],
   "source": [
    "'''\n",
    "方法一：二分法\n",
    "时间复杂度：O（mlogn）\n",
    "空间复杂度：O（1）\n",
    "'''\n",
    "import math\n",
    "class Solution:\n",
    "    def minEatingSpeed(self, piles: list[int], h: int) -> int:\n",
    "\n",
    "        def eat(k, h):\n",
    "            need_h = 0\n",
    "            for pile in piles:\n",
    "                need_h += math.ceil(pile / k)\n",
    "            return need_h <= h\n",
    "\n",
    "        res = -1\n",
    "        left, right = 1, max(piles)\n",
    "        while left <= right:\n",
    "            mid = left + (right - left) // 2\n",
    "            if eat(mid, h):\n",
    "                res = mid\n",
    "                right = mid - 1\n",
    "            else:\n",
    "                left = mid + 1\n",
    "        return res\n",
    "\n",
    "piles, h = [3,6,7,11], 8\n",
    "solu = Solution()\n",
    "solu.minEatingSpeed(piles, h)"
   ]
  },
  {
   "attachments": {},
   "cell_type": "markdown",
   "metadata": {},
   "source": [
    "二分查找的变种(防止进入死循环)"
   ]
  },
  {
   "cell_type": "code",
   "execution_count": 18,
   "metadata": {},
   "outputs": [],
   "source": [
    "# 1. 在排序数组中找到第一个大于或等于x的元素，该元素必定存在\n",
    "def bs(nums, x):\n",
    "    l, h = 0, len(nums) - 1\n",
    "    while l <= h:\n",
    "        mid = l + (h - l) // 2\n",
    "        if l == h:\n",
    "            break\n",
    "        elif nums[mid] >= x:\n",
    "            h = mid\n",
    "        else:\n",
    "            l = mid + 1\n",
    "\n",
    "# 2. 在排序数组里找到最后一个小于或等于x的元素，该元素必定存在\n",
    "def bs(nums, x):\n",
    "    l, h = 0, len(nums) - 1\n",
    "    while l <= h:\n",
    "        mid = l + (h - l) // 2\n",
    "        if l == h or l + 1 == h:\n",
    "            break\n",
    "        elif nums[mid] <= x:\n",
    "            l = mid\n",
    "        else:\n",
    "            h = mid - 1\n",
    "    return nums[h] if nums[h] <= x else nums[l]"
   ]
  },
  {
   "attachments": {},
   "cell_type": "markdown",
   "metadata": {},
   "source": [
    "### x 的平方根 \n",
    "***力扣第69题***  \n",
    "给你一个非负整数 x ，计算并返回 x 的 算术平方根 。   \n",
    "由于返回类型是整数，结果只保留 整数部分 ，小数部分将被 舍去 。   \n",
    "注意：不允许使用任何内置指数函数和算符，例如 pow(x, 0.5) 或者 x ** 0.5 。   "
   ]
  },
  {
   "cell_type": "code",
   "execution_count": 10,
   "metadata": {},
   "outputs": [
    {
     "data": {
      "text/plain": [
       "2"
      ]
     },
     "execution_count": 10,
     "metadata": {},
     "output_type": "execute_result"
    }
   ],
   "source": [
    "'''\n",
    "方法一：二分法\n",
    "时间复杂度：O（logn）\n",
    "空间复杂度：O（1）\n",
    "'''\n",
    "class Solution:\n",
    "    def mySqrt(self, x: int) -> int:\n",
    "        l, r, ans = 0, x, -1\n",
    "        while l <= r:\n",
    "            mid = (l + r) // 2\n",
    "            if mid * mid <= x:\n",
    "                ans = mid\n",
    "                l = mid + 1\n",
    "            else:\n",
    "                r = mid - 1\n",
    "        return ans\n",
    "\n",
    "x = 8\n",
    "solu = Solution()\n",
    "solu.mySqrt(x)"
   ]
  },
  {
   "attachments": {},
   "cell_type": "markdown",
   "metadata": {},
   "source": [
    "### 寻找峰值 \n",
    "***力扣第162题***  \n",
    "峰值元素是指其值严格大于左右相邻值的元素。   \n",
    "给你一个整数数组 nums，找到峰值元素并返回其索引。数组可能包含多个峰值，在这种情况下，返回 任何一个峰值 所在位置即可。   \n",
    "你可以假设 nums[-1] = nums[n] = -∞ 。   \n",
    "你必须实现时间复杂度为 O(log n) 的算法来解决此问题。   "
   ]
  },
  {
   "cell_type": "code",
   "execution_count": 11,
   "metadata": {},
   "outputs": [
    {
     "data": {
      "text/plain": [
       "2"
      ]
     },
     "execution_count": 11,
     "metadata": {},
     "output_type": "execute_result"
    }
   ],
   "source": [
    "'''\n",
    "方法一：二分法\n",
    "时间复杂度：O（logn）\n",
    "空间复杂度：O（1）\n",
    "'''\n",
    "class Solution:\n",
    "    def findPeakElement(self, nums: list[int]) -> int:\n",
    "        left, right = 0, len(nums) - 1\n",
    "        while left <= right:\n",
    "            mid = left + (right - left) // 2\n",
    "            if mid + 1 < len(nums) and nums[mid] < nums[mid + 1]:\n",
    "                left = mid + 1\n",
    "            elif mid > 0 and nums[mid] < nums[mid - 1]:\n",
    "                right = mid - 1\n",
    "            else:\n",
    "                return mid\n",
    "        return -1\n",
    "\n",
    "nums = [1,2,3,1]\n",
    "solu = Solution()\n",
    "solu.findPeakElement(nums)"
   ]
  },
  {
   "attachments": {},
   "cell_type": "markdown",
   "metadata": {},
   "source": [
    "### 分割数组的最大值\n",
    "***力扣第410题***  \n",
    "给定一个非负整数数组 nums 和一个整数 m ，你需要将这个数组分成 m 个非空的连续子数组。   \n",
    "设计一个算法使得这 m 个子数组各自和的最大值最小。  "
   ]
  },
  {
   "cell_type": "code",
   "execution_count": 15,
   "metadata": {},
   "outputs": [
    {
     "data": {
      "text/plain": [
       "18"
      ]
     },
     "execution_count": 15,
     "metadata": {},
     "output_type": "execute_result"
    }
   ],
   "source": [
    "'''\n",
    "方法一：二分+贪心\n",
    "时间复杂度：O（nlogm）\n",
    "空间复杂度：O（1）\n",
    "'''\n",
    "class Solution:\n",
    "    def splitArray(self, nums: list[int], k: int) -> int:\n",
    "        left, right = max(nums), sum(nums)\n",
    "        \n",
    "        def helper(ans: int) -> bool:\n",
    "            cnt, cur = 1, 0\n",
    "            for num in nums:\n",
    "                if cur + num > ans:\n",
    "                    cur = num\n",
    "                    cnt += 1\n",
    "                else:\n",
    "                    cur += num\n",
    "            return cnt <= k\n",
    "\n",
    "        while left <= right:\n",
    "            mid = left + (right - left) // 2\n",
    "            if left == right:\n",
    "                return left\n",
    "            elif helper(mid):\n",
    "                right = mid\n",
    "            else:\n",
    "                left = mid + 1\n",
    "        return -1\n",
    "    \n",
    "nums, m = [7,2,5,10,8], 2\n",
    "solu = Solution()\n",
    "solu.splitArray(nums, m)"
   ]
  },
  {
   "attachments": {},
   "cell_type": "markdown",
   "metadata": {},
   "source": [
    "逆向二分法求解模板"
   ]
  },
  {
   "cell_type": "code",
   "execution_count": null,
   "metadata": {},
   "outputs": [],
   "source": [
    "def helper(x):\n",
    "    # 判断是否可行的函数\n",
    "\n",
    "# 搜索区间\n",
    "l, h = max(nums), sum(nums)\n",
    "\n",
    "# 根据实际情况调整二分逻辑\n",
    "# 这里情况可以是找任意满足条件的值、最左满足条件的值，最右满足条件的值等\n",
    "while l <= h:\n",
    "    mid = l + (h - l) // 2\n",
    "    if l == h:\n",
    "        return l\n",
    "    elif helper(mid):\n",
    "        h = mid\n",
    "    else:\n",
    "        l = mid + 1\n",
    "return -1"
   ]
  }
 ],
 "metadata": {
  "kernelspec": {
   "display_name": "base",
   "language": "python",
   "name": "python3"
  },
  "language_info": {
   "codemirror_mode": {
    "name": "ipython",
    "version": 3
   },
   "file_extension": ".py",
   "mimetype": "text/x-python",
   "name": "python",
   "nbconvert_exporter": "python",
   "pygments_lexer": "ipython3",
   "version": "3.9.12"
  },
  "orig_nbformat": 4
 },
 "nbformat": 4,
 "nbformat_minor": 2
}
