{
 "cells": [
  {
   "cell_type": "markdown",
   "metadata": {},
   "source": [
    "## 线性判别分析\n",
    "`线性判别分析`(`linear discriminant analysis, LDA`)是一种经典的线性分类方法，其基本思想是将数据投影到低维空间，使得同类数据尽可能接近，异类数据尽可能疏远。\n",
    "\n",
    "另外线性判别分析能够通过投影来降低样本维度，并且在投影过程中用到了标签信息，**线性判别分析是一种监督降维方法**。"
   ]
  },
  {
   "cell_type": "markdown",
   "metadata": {},
   "source": [
    "### 1 LDA数学推导"
   ]
  },
  {
   "cell_type": "markdown",
   "metadata": {},
   "source": [
    "### 2 基于numpy的LDA算法实现"
   ]
  },
  {
   "cell_type": "markdown",
   "metadata": {},
   "source": [
    "完整的LDA算法流程如下：\n",
    "- (1)对训练集按类别进行分组；\n",
    "- (2)分别计算每组样本的均值和协方差；\n",
    "- (3)计算类间散度矩阵$S_{w}$;\n",
    "- (4)计算两类样本的均值差$\\mu _{0} -\\mu_{1}$;\n",
    "- (5)对类间散度矩阵$S_{w}$进行奇异值分解，并求逆；\n",
    "- (6)根据$S_{w}^{-1} \\left ( \\mu _{0} -\\mu _{1}  \\right ) $得到$w$；\n",
    "- (7)计算投影后的数据点$Y = wX$。"
   ]
  },
  {
   "cell_type": "code",
   "execution_count": 29,
   "metadata": {},
   "outputs": [],
   "source": [
    "import numpy as np\n",
    "\n",
    "class LDA():\n",
    "    def __init__(self): # 初始化权重矩阵\n",
    "        self.w = None\n",
    "    \n",
    "    def calc_cov(self, X, Y=None): # 计算协方差矩阵\n",
    "        m = X.shape[0]\n",
    "        # 将数据缩放到均值为0，标准差为1的标准正态分布\n",
    "        X = (X - np.mean(X, axis=0))/np.std(X, axis=0) # 数据标准化\n",
    "        Y = X if Y == None else (Y - np.mean(Y, axis=0))/np.std(Y, axis=0)\n",
    "        return 1 / m * np.matmul(X.T, Y)\n",
    "    \n",
    "    def fit(self, X, y): # LDA拟合过程\n",
    "        \n",
    "        # 按类分组\n",
    "        X0 = X[y == 0] \n",
    "        X1 = X[y == 1]\n",
    "\n",
    "        # 分别计算两类数据自变量的协方差矩阵\n",
    "        sigma0 = self.calc_cov(X0)\n",
    "        sigma1 = self.calc_cov(X1)\n",
    "        \n",
    "        Sw = sigma0 + sigma1 # 计算类内散度矩阵\n",
    "\n",
    "        # 分别计算两类数据自变量的均值和差\n",
    "        u0, u1 = np.mean(X0, axis=0), np.mean(X1, axis=0)\n",
    "        mean_diff = np.atleast_1d(u0 - u1) # 如果 u0 - u1 是一个标量，则将其转换为长度为1的一维数组。如果 u0 - u1 是一个数组，则保持不变\n",
    "\n",
    "        # 利用 SVD 分解，我们可以通过计算矩阵 U、Σ 和 V 来得到原始矩阵的逆矩阵的近似\n",
    "        U, S, V = np.linalg.svd(Sw) # # 对类内散度矩阵进行奇异值分解\n",
    "        Sw_ = np.dot(np.dot(V.T, np.linalg.pinv(np.diag(S))), U.T) # 计算类内散度矩阵的逆\n",
    "        \n",
    "        self.w = Sw_.dot(mean_diff) # 计算w\n",
    "    \n",
    "    def predict(self, X): # LDA分类预测\n",
    "        y_pred = []\n",
    "        for sample in X:\n",
    "            h = sample.dot(self.w)\n",
    "            y = 1 * (h < 0) # 如果h小于0，则将y设置为1，否则将y设置为0\n",
    "            y_pred.append(y)\n",
    "        return y_pred"
   ]
  },
  {
   "cell_type": "code",
   "execution_count": 30,
   "metadata": {},
   "outputs": [
    {
     "data": {
      "text/plain": [
       "((80, 4), (20, 4), (80,), (20,))"
      ]
     },
     "execution_count": 30,
     "metadata": {},
     "output_type": "execute_result"
    }
   ],
   "source": [
    "from sklearn import datasets\n",
    "from sklearn.model_selection import train_test_split\n",
    "\n",
    "data = datasets.load_iris()\n",
    "X = data.data\n",
    "y = data.target\n",
    "X = X[y != 2]\n",
    "y = y[y != 2]\n",
    "X_train, X_test, y_train, y_test = train_test_split(X, y, test_size=0.2, random_state=41)\n",
    "X_train.shape, X_test.shape, y_train.shape, y_test.shape"
   ]
  },
  {
   "cell_type": "code",
   "execution_count": 31,
   "metadata": {},
   "outputs": [
    {
     "name": "stdout",
     "output_type": "stream",
     "text": [
      "0.85\n"
     ]
    }
   ],
   "source": [
    "lda = LDA()\n",
    "lda.fit(X_train, y_train)\n",
    "y_pred = lda.predict(X_test)\n",
    "\n",
    "from sklearn.metrics import accuracy_score\n",
    "accuracy = accuracy_score(y_test, y_pred)\n",
    "print(accuracy)"
   ]
  },
  {
   "cell_type": "code",
   "execution_count": 32,
   "metadata": {},
   "outputs": [
    {
     "data": {
      "image/png": "[encoded data removed]",
      "text/plain": [
       "<Figure size 432x288 with 1 Axes>"
      ]
     },
     "metadata": {
      "needs_background": "light"
     },
     "output_type": "display_data"
    },
    {
     "data": {
      "image/png": "[encoded data removed]",
      "text/plain": [
       "<Figure size 432x288 with 1 Axes>"
      ]
     },
     "metadata": {
      "needs_background": "light"
     },
     "output_type": "display_data"
    }
   ],
   "source": [
    "import matplotlib.pyplot as plt\n",
    "\n",
    "class Plot():\n",
    "    def __init__(self): \n",
    "        self.cmap = plt.get_cmap('viridis')\n",
    "\n",
    "    def _transform(self, X, dim):\n",
    "        covariance = LDA().calc_cov(X)\n",
    "        eigenvalues, eigenvectors = np.linalg.eig(covariance)\n",
    "        # Sort eigenvalues and eigenvector by largest eigenvalues\n",
    "        idx = eigenvalues.argsort()[::-1]\n",
    "        eigenvalues = eigenvalues[idx][:dim]\n",
    "        eigenvectors = np.atleast_1d(eigenvectors[:, idx])[:, :dim]\n",
    "        # Project the data onto principal components\n",
    "        X_transformed = X.dot(eigenvectors)\n",
    "\n",
    "        return X_transformed\n",
    "\n",
    "    # Plot the dataset X and the corresponding labels y in 2D using PCA.\n",
    "    def plot_in_2d(self, X, y=None, title=None, accuracy=None, legend_labels=None):\n",
    "        X_transformed = self._transform(X, dim=2)\n",
    "        x1 = X_transformed[:, 0]\n",
    "        x2 = X_transformed[:, 1]\n",
    "        class_distr = []\n",
    "\n",
    "        y = np.array(y).astype(int)\n",
    "\n",
    "        colors = [self.cmap(i) for i in np.linspace(0, 1, len(np.unique(y)))]\n",
    "\n",
    "        # Plot the different class distributions\n",
    "        for i, l in enumerate(np.unique(y)):\n",
    "            _x1 = x1[y == l]\n",
    "            _x2 = x2[y == l]\n",
    "            _y = y[y == l]\n",
    "            class_distr.append(plt.scatter(_x1, _x2, color=colors[i]))\n",
    "\n",
    "        # Plot legend\n",
    "        if not legend_labels is None: \n",
    "            plt.legend(class_distr, legend_labels, loc=1)\n",
    "\n",
    "        # Plot title\n",
    "        if title:\n",
    "            if accuracy:\n",
    "                perc = 100 * accuracy\n",
    "                plt.suptitle(title)\n",
    "                plt.title(\"Accuracy: %.1f%%\" % perc, fontsize=10)\n",
    "            else:\n",
    "                plt.title(title)\n",
    "\n",
    "        # Axis labels\n",
    "        plt.xlabel('class 1')\n",
    "        plt.ylabel('class 2')\n",
    "\n",
    "        plt.show()\n",
    "\n",
    "Plot().plot_in_2d(X_test, y_pred, title=\"LDA\", accuracy=accuracy)\n",
    "Plot().plot_in_2d(X_test, y_test, title=\"LDA\", accuracy=accuracy)"
   ]
  },
  {
   "cell_type": "markdown",
   "metadata": {},
   "source": [
    "### 3 基于sklearn的LDA算法实现"
   ]
  },
  {
   "cell_type": "code",
   "execution_count": 33,
   "metadata": {},
   "outputs": [
    {
     "name": "stdout",
     "output_type": "stream",
     "text": [
      "1.0\n"
     ]
    }
   ],
   "source": [
    "from sklearn.discriminant_analysis import LinearDiscriminantAnalysis\n",
    "clf = LinearDiscriminantAnalysis()\n",
    "clf.fit(X_train, y_train)\n",
    "y_pred = clf.predict(X_test)\n",
    "accuracy = accuracy_score(y_test, y_pred)\n",
    "print(accuracy)"
   ]
  }
 ],
 "metadata": {
  "kernelspec": {
   "display_name": "base",
   "language": "python",
   "name": "python3"
  },
  "language_info": {
   "codemirror_mode": {
    "name": "ipython",
    "version": 3
   },
   "file_extension": ".py",
   "mimetype": "text/x-python",
   "name": "python",
   "nbconvert_exporter": "python",
   "pygments_lexer": "ipython3",
   "version": "3.9.12"
  },
  "orig_nbformat": 4
 },
 "nbformat": 4,
 "nbformat_minor": 2
}
