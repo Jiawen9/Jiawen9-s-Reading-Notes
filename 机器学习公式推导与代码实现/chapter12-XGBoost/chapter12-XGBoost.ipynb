{
 "cells": [
  {
   "attachments": {},
   "cell_type": "markdown",
   "metadata": {},
   "source": [
    "## XGBoost\n",
    "从算法精度、速度和泛化能力等性能指标来看`GBDT`，仍然有较大的优化空间。`XGBoost`是一种基于`GBDT`的顶级梯度提升模型。相较于`GBDT`，`XGBoost`的最大特性在于对损失函数展开到二阶导数，使得梯度提升树模型更能逼近其真实损失。    \n",
    "`XGBoost`全称`eXtreme Gradient Boosting`，即极限梯度提升树，由陈天奇在其论文`XGBoost:A Scalable Tree Boosting System`中提出。"
   ]
  },
  {
   "attachments": {},
   "cell_type": "markdown",
   "metadata": {},
   "source": [
    "### 1 XGBoost介绍"
   ]
  },
  {
   "attachments": {},
   "cell_type": "markdown",
   "metadata": {},
   "source": [
    "XGBoost本质上仍属于GBDT算法，但在`算法精度`、`速度`和`泛化能力`上均要优于传统的GBDT算法。从算法精度上来看，XGBoost通过`将损失函数展开到二阶导数`，使得其更能逼近真是损失；从算法速度上来看，XGBoost使用了`加权分位数sketch`和`稀疏感知算法`这两个技巧，通过`缓存优化`和`模型并行`来提高算法速度；从算法泛化能力上来看，通过`对损失函数加入正则化项`、加性模型中`设置缩减率`和`列抽样`等方法，来防止模型过拟合。"
   ]
  },
  {
   "attachments": {},
   "cell_type": "markdown",
   "metadata": {},
   "source": [
    "### 2 XGBoost算法实现\n",
    "相较于GBDT，XGBoost的主要变化在于`损失函数二阶导数`、`信息增益计算`和`叶子结点得分计算`等方面，与上一章GBDT使用回归树不同，本章以分类树为例。   \n",
    "整个实现过程概括为：从损失函数出发，进行二阶泰勒展开并重新定义一棵决策树，通过对叶子结点分组得到最终的损失函数形式，最后求得最优点和最优取值，并得到叶子结点的分裂标准。"
   ]
  },
  {
   "cell_type": "code",
   "execution_count": 2,
   "metadata": {},
   "outputs": [],
   "source": [
    "from cart import BinaryDecisionTree\n",
    "import numpy as np\n",
    "\n",
    "# XGBoost单棵树类\n",
    "class XGBoost_Single_Tree(BinaryDecisionTree):\n",
    "\n",
    "    def node_split(self, y): # 结点分裂方法\n",
    "        feature = int(np.shape(y)[1]/2) # 中间特征所在列\n",
    "        y_true, y_pred = y[:, :feature], y[:, feature:] # 左子树为真实值，右子树为预测值\n",
    "        return y_true, y_pred\n",
    "\n",
    "    def gain(self, y, y_pred): # 信息增益计算方法\n",
    "        Gradient = np.power((y * self.loss.gradient(y, y_pred)).sum(), 2) # 梯度计算（一阶导数）\n",
    "        Hessian = self.loss.hess(y, y_pred).sum() # 黑塞矩阵（二阶导数）\n",
    "        return 0.5 * (Gradient / Hessian)\n",
    "\n",
    "    def gain_xgb(self, y, y1, y2): # 树分裂增益计算-式（12-22）\n",
    "        y_true, y_pred = self.node_split(y)\n",
    "        y1, y1_pred = self.node_split(y1)\n",
    "        y2, y2_pred = self.node_split(y2)\n",
    "        true_gain = self.gain(y1, y1_pred)\n",
    "        false_gain = self.gain(y2, y2_pred)\n",
    "        gain = self.gain(y_true, y_pred)\n",
    "        return true_gain + false_gain - gain\n",
    "\n",
    "    def leaf_weight(self, y): # 计算叶子结点最优权重 w*\n",
    "        y_true, y_pred = self.node_split(y)\n",
    "        gradient = np.sum(y_true * self.loss.gradient(y_true, y_pred), axis=0) # 梯度计算\n",
    "        hessian = np.sum(self.loss.hess(y_true, y_pred), axis=0) # 黑塞矩阵计算\n",
    "        leaf_weight = gradient / hessian\n",
    "        return leaf_weight\n",
    "\n",
    "    # 树拟合方法\n",
    "    def fit(self, X, y):\n",
    "        # 信息增益和叶子节点得分计算都用到了损失函数二阶导数信息\n",
    "        self.impurity_calculation = self.gain_xgb\n",
    "        self._leaf_value_calculation = self.leaf_weight\n",
    "        super(XGBoost_Single_Tree, self).fit(X, y)"
   ]
  },
  {
   "cell_type": "code",
   "execution_count": 23,
   "metadata": {},
   "outputs": [],
   "source": [
    "# XGBoost分类损失函数\n",
    "class Sigmoid: # 定义Sigmoid类\n",
    "    def __call__(self, x):\n",
    "        return 1 / (1 + np.exp(-x))\n",
    "    \n",
    "    def gradient(self, x):\n",
    "        return self.__call__(x) * (1 - self.__call__(x))\n",
    "\n",
    "# 定义logit损失\n",
    "class LogisticLoss:\n",
    "    def __init__(self):\n",
    "        sigmoid = Sigmoid()\n",
    "        self._func = sigmoid\n",
    "        self._grad = sigmoid.gradient\n",
    "    \n",
    "    # 定义Logit损失\n",
    "    def loss(self, y, y_pred):\n",
    "        y_pred = np.clip(y_pred, 1e-15, 1, 1e-15) # 截断函数\n",
    "        p = self._func(y_pred)\n",
    "        return y * np.log(p) + (1 - y) * np.log(1 - p)\n",
    "    \n",
    "    # 定义一阶梯度\n",
    "    def gradient(self, y, y_pred):\n",
    "        p = self._func(y_pred)\n",
    "        return -(y - p)\n",
    "    \n",
    "    # 定义二阶梯度\n",
    "    def hess(self, y, y_pred):\n",
    "        p = self._func(y_pred)\n",
    "        return p * (1 - p)"
   ]
  },
  {
   "cell_type": "code",
   "execution_count": 24,
   "metadata": {},
   "outputs": [],
   "source": [
    "from utils import cat_label_convert\n",
    "\n",
    "# XGBoost模型\n",
    "class XGBoost:\n",
    "    def __init__(self, n_estimators=300, learning_rate=0.001, min_samples_split=2, min_gini_impurity=999, max_depth=2):\n",
    "        self.n_estimators = n_estimators # 树的棵数\n",
    "        self.learning_rate = learning_rate # 学习率\n",
    "        self.min_samples_split = min_samples_split # 结点分裂最小样本数\n",
    "        self.min_gini_impurity = min_gini_impurity # 结点最小基尼不纯度\n",
    "        self.max_depth = max_depth # 树最大深度\n",
    "        self.loss = LogisticLoss() # 用于分类的对数损失，回归任务定义平方损失\n",
    "        self.estimators = [] # 初始化分类树列表\n",
    "\n",
    "        for _ in range(n_estimators): # 遍历构造每一棵决策树\n",
    "            tree = XGBoost_Single_Tree(\n",
    "                min_samples_split=self.min_samples_split,\n",
    "                min_gini_impurity=self.min_gini_impurity,\n",
    "                max_depth = max_depth,\n",
    "                loss = self.loss\n",
    "            )\n",
    "            self.estimators.append(tree)\n",
    "\n",
    "    def fit(self, X, y): # XGBoost拟合方法\n",
    "        y = cat_label_convert(y) # one-hot\n",
    "        y_pred = np.zeros(np.shape(y))\n",
    "        for i in range(self.n_estimators): # 拟合每一棵树后将结果累加\n",
    "            estimator = self.estimators[i]\n",
    "            y_true_pred = np.concatenate((y, y_pred), axis=1)\n",
    "            estimator.fit(X, y_true_pred)\n",
    "            iter_pred = estimator.predict(X)\n",
    "            y_pred -= np.multiply(self.learning_rate, iter_pred)\n",
    "\n",
    "    def predict(self, X): # XGBoost预测方法\n",
    "        y_pred = None\n",
    "        for estimator in self.estimators: # 遍历预测\n",
    "            iter_pred = estimator.predict(X)\n",
    "            if y_pred is None:\n",
    "                y_pred = np.zeros_like(iter_pred)\n",
    "            y_pred -= np.multiply(self.learning_rate, iter_pred)\n",
    "        y_pred = np.exp(y_pred) / np.sum(np.exp(y_pred), axis=1, keepdims=True)\n",
    "        y_pred = np.argmax(y_pred, axis=1)\n",
    "        return y_pred"
   ]
  },
  {
   "cell_type": "code",
   "execution_count": 25,
   "metadata": {},
   "outputs": [
    {
     "name": "stderr",
     "output_type": "stream",
     "text": [
      "e:\\Jiawen9-s-Reading-Notes\\机器学习公式推导与代码实现\\chapter12-XGBoost\\utils.py:14: VisibleDeprecationWarning: Creating an ndarray from ragged nested sequences (which is a list-or-tuple of lists-or-tuples-or ndarrays with different lengths or shapes) is deprecated. If you meant to do this, you must specify 'dtype=object' when creating the ndarray.\n",
      "  return np.array([X_left, X_right])\n"
     ]
    },
    {
     "name": "stdout",
     "output_type": "stream",
     "text": [
      "Accuracy:  0.9333333333333333\n"
     ]
    }
   ],
   "source": [
    "# XGBoost测试\n",
    "from sklearn.model_selection import train_test_split\n",
    "from sklearn.metrics import accuracy_score\n",
    "from sklearn import datasets # 导入鸢尾花数据集\n",
    "data = datasets.load_iris()\n",
    "X, y = data.data, data.target # 获取输入输出\n",
    "X_train, X_test, y_train, y_test = train_test_split(X, y, test_size=0.2, random_state=43)  # 数据集划分\n",
    "clf = XGBoost() # 创建xgboost分类器\n",
    "clf.fit(X_train, y_train) # 模型拟合\n",
    "y_pred = clf.predict(X_test) # 模型预测\n",
    "accuracy = accuracy_score(y_test, y_pred) # 准确率评估\n",
    "print (\"Accuracy: \", accuracy)"
   ]
  },
  {
   "attachments": {},
   "cell_type": "markdown",
   "metadata": {},
   "source": [
    "### 2 XGBoost原生库示例\n",
    "XGBoost的作者陈天奇也提供了XGBoost原生的工业级官方库xgboost。   \n",
    "首先需要指定xgboost模型训练的各种参数，包括提升树类型、任务类型、类别数量和树的最大深度等，然后将原始数据类型转换为xgboost的DMatrix数据类型，接着进行模型训练和预测，最后评估分类准确率，并绘制特征重要性图，可视化地呈现每个特征在模型中的重要性评分。"
   ]
  },
  {
   "cell_type": "code",
   "execution_count": 22,
   "metadata": {},
   "outputs": [
    {
     "name": "stdout",
     "output_type": "stream",
     "text": [
      "0.9666666666666667\n"
     ]
    },
    {
     "data": {
      "image/png": "[encoded data removed]",
      "text/plain": [
       "<Figure size 432x288 with 1 Axes>"
      ]
     },
     "metadata": {
      "needs_background": "light"
     },
     "output_type": "display_data"
    }
   ],
   "source": [
    "import xgboost as xgb\n",
    "from xgboost import plot_importance # 导入绘制特征重要性模块函数\n",
    "from matplotlib import pyplot as plt\n",
    "\n",
    "# 设置模型参数\n",
    "params = {\n",
    "    'booster': 'gbtree',\n",
    "    'objective': 'multi:softmax',\n",
    "    'num_class': 3,\n",
    "    'gamma': 0.1,\n",
    "    'max_depth': 2,\n",
    "    'lambda': 2,\n",
    "    'subsample': 0.7,\n",
    "    'colsample_bytree': 0.7,\n",
    "    'min_child_weight': 3,\n",
    "    'eta': 0.001,\n",
    "    'seed': 1000,\n",
    "    'nthread': 4,\n",
    "}\n",
    "\n",
    "dtrain = xgb.DMatrix(X_train, y_train) # 转换为xgb数据集格式Dmatrix\n",
    "num_rounds = 200 # 树的棵数\n",
    "model = xgb.train(params, dtrain, num_rounds)\n",
    "y_pred = model.predict(xgb.DMatrix(X_test)) # 对测试集进行验证\n",
    "accuracy = accuracy_score(y_test, y_pred)\n",
    "print(accuracy)\n",
    "plot_importance(model)\n",
    "plt.show()"
   ]
  }
 ],
 "metadata": {
  "kernelspec": {
   "display_name": "base",
   "language": "python",
   "name": "python3"
  },
  "language_info": {
   "codemirror_mode": {
    "name": "ipython",
    "version": 3
   },
   "file_extension": ".py",
   "mimetype": "text/x-python",
   "name": "python",
   "nbconvert_exporter": "python",
   "pygments_lexer": "ipython3",
   "version": "3.9.12"
  },
  "orig_nbformat": 4
 },
 "nbformat": 4,
 "nbformat_minor": 2
}
