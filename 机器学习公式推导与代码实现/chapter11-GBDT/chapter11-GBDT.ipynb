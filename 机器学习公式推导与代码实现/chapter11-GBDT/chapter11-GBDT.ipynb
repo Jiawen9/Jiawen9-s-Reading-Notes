{
 "cells": [
  {
   "attachments": {},
   "cell_type": "markdown",
   "metadata": {},
   "source": [
    "## AdaBoost\n",
    "将多个单模型组合成一个综合模型的方式早已成为现代机器学习模型采用的主流方法-`集成模型`(`ensemble learning`)。AdaBoost是集成学习中Boosting框架的一种经典代表。"
   ]
  }
 ],
 "metadata": {
  "language_info": {
   "name": "python"
  },
  "orig_nbformat": 4
 },
 "nbformat": 4,
 "nbformat_minor": 2
}
