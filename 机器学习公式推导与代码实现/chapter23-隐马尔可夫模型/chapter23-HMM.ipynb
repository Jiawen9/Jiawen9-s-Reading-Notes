{
 "cells": [
  {
   "cell_type": "markdown",
   "metadata": {},
   "source": [
    "## 隐马尔可夫模型"
   ]
  },
  {
   "cell_type": "markdown",
   "metadata": {},
   "source": [
    "### 盒子摸球模型的HMM观测序列生成"
   ]
  },
  {
   "cell_type": "code",
   "execution_count": 1,
   "metadata": {},
   "outputs": [
    {
     "data": {
      "text/plain": [
       "[0, 0, 1, 1, 0]"
      ]
     },
     "execution_count": 1,
     "metadata": {},
     "output_type": "execute_result"
    }
   ],
   "source": [
    "import numpy as np\n",
    "\n",
    "# HMM类\n",
    "class HMM:\n",
    "    def __init__(self, N, M, pi=None, A=None, B=None):\n",
    "        self.N = N # 可能的状态数\n",
    "        self.M = M # 可能的观测数\n",
    "        self.pi = pi # 初始状态概率向量\n",
    "        self.A = A # 状态转移矩阵\n",
    "        self.B = B # 观测概率矩阵\n",
    "    \n",
    "    def rdistribution(self, dist):\n",
    "        '''根据给定的概率分布随机返回数据'''\n",
    "        r = np.random.rand()\n",
    "        for ix, p in enumerate(dist):\n",
    "            if r < p:\n",
    "                return ix\n",
    "            r -= p\n",
    "    \n",
    "    def generate(self, T):\n",
    "        '''生成HMM观测序列'''\n",
    "        i = self.rdistribution(self.pi) # 根据初始概率分布生成第一个状态\n",
    "        o = self.rdistribution(self.B[i]) # 生成第一个观测数据\n",
    "        observed_data = [o]\n",
    "\n",
    "        for _ in range(T-1): # 遍历生成后续的状态和观测数据\n",
    "            i = self.rdistribution(self.A[i])\n",
    "            o = self.rdistribution(self.B[i])\n",
    "            observed_data.append(o)\n",
    "        return observed_data\n",
    "    \n",
    "pi = np.array([0.25, 0.25, 0.25, 0.25]) # 初始状态概率矩阵\n",
    "\n",
    "# 状态转移矩阵\n",
    "A = np.array([\n",
    "    [0, 1, 0, 0],\n",
    "    [0.4, 0, 0.6, 0],\n",
    "    [0, 0.4, 0, 0.6],\n",
    "    [0, 0, 0.5, 0.5]\n",
    "])\n",
    "\n",
    "# 观测概率矩阵\n",
    "B = np.array([\n",
    "    [0.5, 0.5],\n",
    "    [0.6, 0.4],\n",
    "    [0.2, 0.8],\n",
    "    [0.3, 0.7]\n",
    "])\n",
    "\n",
    "N = 4 # 状态数，\n",
    "M = 2 # 观测数，\n",
    "\n",
    "hmm = HMM(N, M, pi, A, B) # 创建HMM实例\n",
    "hmm.generate(5)"
   ]
  },
  {
   "cell_type": "markdown",
   "metadata": {},
   "source": [
    "### 基于盒子摸球实验的前向算法实现"
   ]
  },
  {
   "cell_type": "code",
   "execution_count": 30,
   "metadata": {},
   "outputs": [
    {
     "name": "stdout",
     "output_type": "stream",
     "text": [
      "0.01983169125\n"
     ]
    }
   ],
   "source": [
    "# 前向算法计算条件概率\n",
    "def prob_calc(O): \n",
    "    '''\n",
    "    输入：\n",
    "    O：观测序列\n",
    "    输出：\n",
    "    alpha.sum()：条件概率\n",
    "    '''\n",
    "\n",
    "    alpha = pi * B[:, O[0]] # 初始值\n",
    "\n",
    "    for o in O[1:]:\n",
    "        alpha_next = np.empty(4)\n",
    "        for j in range(4):\n",
    "            alpha_next[j] = np.sum(A[:, j] * alpha * B[j, o])\n",
    "        alpha = alpha_next\n",
    "    \n",
    "    return alpha.sum()\n",
    "\n",
    "O = [1, 0, 1, 0, 0] # 给定观测\n",
    "print(prob_calc(O)) # 计算生成该观测的概率"
   ]
  },
  {
   "cell_type": "markdown",
   "metadata": {},
   "source": [
    "### 基于盒子摸球实验的后向算法实现"
   ]
  },
  {
   "cell_type": "code",
   "execution_count": 33,
   "metadata": {},
   "outputs": [
    {
     "name": "stdout",
     "output_type": "stream",
     "text": [
      "0.027407493749999998\n"
     ]
    }
   ],
   "source": [
    "# 后向算法计算条件概率\n",
    "def prob_calc(O): \n",
    "    '''\n",
    "    输入：\n",
    "    O：观测序列\n",
    "    输出：\n",
    "    beta.sum()：条件概率\n",
    "    '''\n",
    "\n",
    "    beta = pi * B[:, O[-1]] # 初始值\n",
    "\n",
    "    for o in O[3::-1]:\n",
    "        beta_prev = np.empty(4)\n",
    "        for j in range(3,-1,-1):\n",
    "            beta_prev[j] = np.sum(A[:, j] * beta * B[j, o])\n",
    "        beta = beta_prev\n",
    "    \n",
    "    return beta.sum()\n",
    "\n",
    "O = [1, 0, 1, 0, 0] # 给定观测\n",
    "print(prob_calc(O)) # 计算生成该观测的概率"
   ]
  },
  {
   "cell_type": "markdown",
   "metadata": {},
   "source": [
    "### 基于盒子摸球实验的维特比算法实现"
   ]
  },
  {
   "cell_type": "code",
   "execution_count": 41,
   "metadata": {},
   "outputs": [
    {
     "name": "stdout",
     "output_type": "stream",
     "text": [
      "[0, 1, 2, 3, 3]\n"
     ]
    }
   ],
   "source": [
    "# 序列标注问题和维特比算法\n",
    "def verterbi_decode(O):\n",
    "    '''\n",
    "    输入：\n",
    "    O：观测序列\n",
    "    输出：\n",
    "    path：最优隐状态路径\n",
    "    '''\n",
    "\n",
    "    T, o = len(O), O[0] # 序列长度和初始观测\n",
    "    delta = pi * B[:, o] # 初始化delta变量\n",
    "    varphi = np.zeros((T, 4), dtype=int) # 初始化varphi变量\n",
    "    path = [0] * T\n",
    "\n",
    "    # 递推\n",
    "    for i in range(1, T):\n",
    "        delta = delta.reshape(-1, 1)\n",
    "        tmp = delta * A\n",
    "        varphi[i, :] = np.argmax(tmp, axis=0)\n",
    "        delta = np.max(tmp, axis=0) * B[:, O[i]]\n",
    "    \n",
    "    path[-1] = np.argmax(delta)\n",
    "    \n",
    "    # 回溯最优路径\n",
    "    for i in range(T-1, 0, -1):\n",
    "        path[i-1] = varphi[i, path[i]]\n",
    "    return path\n",
    "\n",
    "O = [1, 0, 1, 1, 0] # 给定观测序列\n",
    "print(verterbi_decode(O)) # 输出最有可能的隐状态序列"
   ]
  }
 ],
 "metadata": {
  "kernelspec": {
   "display_name": "base",
   "language": "python",
   "name": "python3"
  },
  "language_info": {
   "codemirror_mode": {
    "name": "ipython",
    "version": 3
   },
   "file_extension": ".py",
   "mimetype": "text/x-python",
   "name": "python",
   "nbconvert_exporter": "python",
   "pygments_lexer": "ipython3",
   "version": "3.9.12"
  },
  "orig_nbformat": 4
 },
 "nbformat": 4,
 "nbformat_minor": 2
}
