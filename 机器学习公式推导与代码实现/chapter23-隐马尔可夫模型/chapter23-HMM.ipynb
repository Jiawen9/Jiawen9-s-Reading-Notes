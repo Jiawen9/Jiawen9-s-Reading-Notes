{
 "cells": [
  {
   "cell_type": "markdown",
   "metadata": {},
   "source": [
    "## 隐马尔可夫模型"
   ]
  },
  {
   "cell_type": "markdown",
   "metadata": {},
   "source": [
    "### 盒子摸球模型的HMM观测序列生成"
   ]
  },
  {
   "cell_type": "code",
   "execution_count": 16,
   "metadata": {},
   "outputs": [
    {
     "data": {
      "text/plain": [
       "[0, 1, 1, 1, 0]"
      ]
     },
     "execution_count": 16,
     "metadata": {},
     "output_type": "execute_result"
    }
   ],
   "source": [
    "import numpy as np\n",
    "\n",
    "# HMM类\n",
    "class HMM:\n",
    "    def __init__(self, N, M, pi=None, A=None, B=None):\n",
    "        self.N = N # 可能的状态数\n",
    "        self.M = M # 可能的观测数\n",
    "        self.pi = pi # 初始状态概率向量\n",
    "        self.A = A # 状态转移矩阵\n",
    "        self.B = B # 观测概率矩阵\n",
    "    \n",
    "    def rdistribution(self, dist):\n",
    "        '''根据给定的概率分布随机返回数据'''\n",
    "        r = np.random.rand()\n",
    "        for ix, p in enumerate(dist):\n",
    "            if r < p:\n",
    "                return ix\n",
    "            r -= p\n",
    "    \n",
    "    def generate(self, T):\n",
    "        '''生成HMM观测序列'''\n",
    "        i = self.rdistribution(self.pi) # 根据初始概率分布生成第一个状态\n",
    "        o = self.rdistribution(self.B[i]) # 生成第一个观测数据\n",
    "        observed_data = [o]\n",
    "\n",
    "        for _ in range(T-1): # 遍历生成后续的状态和观测数据\n",
    "            i = self.rdistribution(self.A[i])\n",
    "            o = self.rdistribution(self.B[i])\n",
    "            observed_data.append(o)\n",
    "        return observed_data\n",
    "    \n",
    "pi = np.array([0.25, 0.25, 0.25, 0.25]) # 初始状态概率矩阵\n",
    "\n",
    "# 状态转移矩阵\n",
    "A = np.array([\n",
    "    [0, 1, 0, 0],\n",
    "    [0.4, 0, 0.6, 0],\n",
    "    [0, 0.4, 0, 0.6],\n",
    "    [0, 0, 0.5, 0.5]\n",
    "])\n",
    "\n",
    "# 观测概率矩阵\n",
    "B = np.array([\n",
    "    [0.5, 0.5],\n",
    "    [0.6, 0.4],\n",
    "    [0.2, 0.8],\n",
    "    [0.3, 0.7]\n",
    "])\n",
    "\n",
    "N = 4 # 状态数\n",
    "M = 2 # 观测数\n",
    "\n",
    "hmm = HMM(N, M, pi, A, B) # 创建HMM实例\n",
    "hmm.generate(5)"
   ]
  },
  {
   "cell_type": "code",
   "execution_count": 3,
   "metadata": {},
   "outputs": [
    {
     "data": {
      "text/plain": [
       "0.9464244308157841"
      ]
     },
     "execution_count": 3,
     "metadata": {},
     "output_type": "execute_result"
    }
   ],
   "source": [
    "np.random.rand()"
   ]
  }
 ],
 "metadata": {
  "kernelspec": {
   "display_name": "base",
   "language": "python",
   "name": "python3"
  },
  "language_info": {
   "codemirror_mode": {
    "name": "ipython",
    "version": 3
   },
   "file_extension": ".py",
   "mimetype": "text/x-python",
   "name": "python",
   "nbconvert_exporter": "python",
   "pygments_lexer": "ipython3",
   "version": "3.9.12"
  },
  "orig_nbformat": 4
 },
 "nbformat": 4,
 "nbformat_minor": 2
}
