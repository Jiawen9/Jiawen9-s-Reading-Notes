{
 "cells": [
  {
   "attachments": {},
   "cell_type": "markdown",
   "metadata": {},
   "source": [
    "## 决策树"
   ]
  },
  {
   "attachments": {},
   "cell_type": "markdown",
   "metadata": {},
   "source": [
    "**决策树**（decision tree）基于特征对数据实例按照条件不断进行划分，最终达到分类或回归的目的。   \n",
    "本章作者主要介绍如何将决策树用于分类模型。   \n",
    "决策树模型预测的过程既可以看作一组if-then条件的集合，也可以视为定义在特征空间与类空间中的条件概率分布。   \n",
    "决策树模型的核心概念包括`特征选择方法`、`决策树构造过程`、`决策树剪枝`。常见的特征选择方法包括`信息增益`、`信息增益比`和`基尼指数（Gini index）`，对应的三种常见的决策树算法为`ID3`、`C4.5`和`CART`。"
   ]
  },
  {
   "attachments": {},
   "cell_type": "markdown",
   "metadata": {},
   "source": [
    "$$alpha"
   ]
  }
 ],
 "metadata": {
  "language_info": {
   "name": "python"
  },
  "orig_nbformat": 4
 },
 "nbformat": 4,
 "nbformat_minor": 2
}
