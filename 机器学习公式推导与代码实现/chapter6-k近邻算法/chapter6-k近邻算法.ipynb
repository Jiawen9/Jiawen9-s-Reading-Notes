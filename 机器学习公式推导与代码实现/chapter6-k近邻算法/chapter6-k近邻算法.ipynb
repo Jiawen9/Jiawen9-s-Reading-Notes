{
 "cells": [
  {
   "attachments": {},
   "cell_type": "markdown",
   "metadata": {},
   "source": [
    "## k近邻算法\n",
    "k近邻(`k-nearest neighbor`, `k-NN`)算法是一种经典的分类算法。k近邻算法根据新的输入实例的k个最近邻实例的类别来决定其分类。所以k近邻算法不像主流的机器学习算法那样有显式的学习训练过程。也正因为如此，k近邻算法的实现和前几章所讲的回归模型略有不同。`k值的选择`、`距离度量方式`以及`分类决策规则`是k近邻算法的三要素。"
   ]
  },
  {
   "attachments": {},
   "cell_type": "markdown",
   "metadata": {},
   "source": [
    "### 1 距离度量方式\n",
    "为了衡量特征空间中两个实例之间的相似度，我们用距离(distance)来描述，常用的距离度量方式包括`闵氏距离`和`马氏距离`等。   \n",
    "\n",
    "(1) `闵氏距离`即`闵可夫斯基距离`(`Minkowski distance`)，该距离定义如下，给定`m`维向量样本集合`X`，对于`xi`，`xj`∈`X`，`xi`=`(x1i,x2i,...xmi)T`，那么样本xi与样本xj的闵氏距离可定义为：\n",
    "$$ d_{ij}=\\left ( \\sum_{k=1}^{m}\\left | x_{ki}-x_{kj}   \\right | ^{p}   \\right )^{\\frac{1}{p} }, p\\ge 1 $$\n",
    "可以简单看出，当`p=1`时，`闵氏距离`就变成了`曼哈顿距离`(`Manhatan distance`)：\n",
    "$$ d_{ij}=\\sum_{k=1}^{m}\\left | x_{ki}-x_{kj}   \\right | $$\n",
    "当`p=2`时，`闵氏距离`就变成了`欧氏距离`(`Euclidean distance`)：\n",
    "$$ d_{ij}=\\left ( \\sum_{k=1}^{m}\\left | x_{ki}-x_{kj}   \\right | ^{2}   \\right )^{\\frac{1}{2} } $$\n",
    "当`p=∞`时，`闵氏距离`也称`切比雪夫距离`(`Chebyshev distance`)：\n",
    "$$ d_{ij}=max\\left | x_{ki}-x_{kj}   \\right |   $$\n",
    "(2) `马氏距离`全称`马哈拉诺比斯距离`(`Mahalanobis distance`)，是一种衡量各个特征之间相关性的聚类度量方式。给定一个样本集合`X=(xij)mxn`，假设样本的协方差矩阵为`S`，那么样本xi与样本xj之间的马氏距离可以定义为：\n",
    "$$ d_{ij}=\\left [\\left(x_{i}-x_{j}\\right)^{T} S^{-1}\\left(x_{i}-x_{j}\\right)\\right] ^{\\frac{1}{2}} $$\n",
    "当`S`为单位矩阵，即样本的各特征之间相互独立且方差为1时，马氏距离就是欧氏距离。\n",
    "\n",
    "k近邻算法的特征空间是n维实数向量空间，一般直接使用欧氏距离作为实例之间的距离度量。"
   ]
  },
  {
   "attachments": {},
   "cell_type": "markdown",
   "metadata": {},
   "source": [
    "### 2 k近邻算法的基本原理\n",
    "给定一个训练集，对于新的输入实例，在训练集中找到与该实例最近邻的k个实例，这k个实例的多数属于哪个类，则该实例就属于哪个类。故总结出几个关键点：\n",
    "\n",
    "- 找到与该实例最近邻的实例，这里涉及如何找，一般使用欧氏距离。\n",
    "- k个实例，k的大小如何选择。\n",
    "- k个实例的多数属于哪个类，一般选取多数表决的归类规则。\n",
    "\n",
    "三个关键点中还需要重视的是k值的选择，k值较少时，预测结果会对实例非常敏感，分类器抗噪能力差，容易产生过拟合；如果k值较大相应的分类误差会增大，模型整体变简单，产生一定程度上的欠拟合。一般采用交叉验证的方式来选择合适的k值。"
   ]
  },
  {
   "attachments": {},
   "cell_type": "markdown",
   "metadata": {},
   "source": [
    "**knn**与**k-means**   \n",
    "`k近邻法`(`knn`)是一种基本的分类与回归方法。   \n",
    "`k-means`是一种简单有效的聚类方法。"
   ]
  },
  {
   "attachments": {},
   "cell_type": "markdown",
   "metadata": {},
   "source": [
    "### 3 基于numpy的k近邻算法实现"
   ]
  },
  {
   "attachments": {},
   "cell_type": "markdown",
   "metadata": {},
   "source": [
    "定义新的样本实例与训练样本之间的欧式距离函数"
   ]
  },
  {
   "cell_type": "code",
   "execution_count": 11,
   "metadata": {},
   "outputs": [],
   "source": [
    "import numpy as np\n",
    "\n",
    "# 定义欧式距离函数\n",
    "def compute_distances(X_test, X_train): # 测试样本实例矩阵，训练样本实例矩阵\n",
    "\n",
    "    num_test = X_test.shape[0] # 45\n",
    "    num_train = X_train.shape[0] # 105\n",
    "    dists = np.zeros((num_test, num_train)) # 基于训练和测试维度的欧式距离初始化 45*105\n",
    "    M = np.dot(X_test, X_train.T) # 测试样本与训练样本的矩阵点乘 45*105\n",
    "    te = np.square(X_test).sum(axis=1) # 测试样本矩阵平方 45*feature_dim\n",
    "    tr = np.square(X_train).sum(axis=1) # 训练样本矩阵平方 105*feature_dim\n",
    "    dists = np.sqrt(-2 * M + tr + np.matrix(te).T) # 计算欧式距离，广播\n",
    "    return dists # 欧氏距离"
   ]
  },
  {
   "cell_type": "code",
   "execution_count": 14,
   "metadata": {},
   "outputs": [
    {
     "data": {
      "image/png": "[encoded data removed]",
      "text/plain": [
       "<Figure size 432x288 with 1 Axes>"
      ]
     },
     "metadata": {
      "needs_background": "light"
     },
     "output_type": "display_data"
    }
   ],
   "source": [
    "import matplotlib.pyplot as plt\n",
    "from sklearn import datasets\n",
    "from sklearn.utils import shuffle\n",
    "\n",
    "# 加载鸢尾花数据集\n",
    "iris = datasets.load_iris() # 加载鸢尾花数据集\n",
    "X, y = shuffle(iris.data, iris.target, random_state=13) # 打乱数据\n",
    "X = X.astype(np.float32)\n",
    "\n",
    "offset = int(X.shape[0] * 0.7)\n",
    "X_train, y_train, X_test, y_test = X[:offset], y[:offset], X[offset:], y[offset:]\n",
    "y_train = y_train.reshape(-1, 1)\n",
    "y_test = y_test.reshape(-1, 1)\n",
    "\n",
    "dists = compute_distances(X_test, X_train)\n",
    "plt.imshow(dists, interpolation='none')\n",
    "plt.show()"
   ]
  },
  {
   "attachments": {},
   "cell_type": "markdown",
   "metadata": {},
   "source": [
    "标签预测函数，包含默认k值和分类决策规则"
   ]
  },
  {
   "cell_type": "code",
   "execution_count": 19,
   "metadata": {},
   "outputs": [],
   "source": [
    "from collections import Counter\n",
    "\n",
    "# 标签预测函数\n",
    "def predict_labels(y_train, dists, k=1): # 训练集标签, 测试集与训练集的欧氏距离, k值\n",
    "\n",
    "    num_test = dists.shape[0] # 测试样本量\n",
    "    y_pred = np.zeros(num_test) # 初始化测试集预测结果\n",
    "    for i in range(num_test):\n",
    "        closest_y = [] # 初始化最近邻列表\n",
    "        # 按欧式距离矩阵排序后取索引，并用训练集标签按排序后的索引取值，最后展开列表\n",
    "        labels = y_train[np.argsort(dists[i, :])].flatten() # argsort函数返回的是数组值从小到大的索引值\n",
    "        closest_y = labels[0:k] # 取最近的k个值进行计数统计\n",
    "        c = Counter(closest_y) # Counter\n",
    "        y_pred[i] = c.most_common(1)[0][0] # 取计数最多的那个类别\n",
    "    return y_pred # 测试集预测结果"
   ]
  },
  {
   "cell_type": "code",
   "execution_count": 39,
   "metadata": {},
   "outputs": [
    {
     "name": "stdout",
     "output_type": "stream",
     "text": [
      "0.9777777777777777\n"
     ]
    }
   ],
   "source": [
    "# 尝试对测试集进行预测，在默认k值取1的情况下，观察分类准确率\n",
    "y_test_pred = predict_labels(y_train, dists, k=10)\n",
    "y_test_pred = y_test_pred.reshape(-1, 1)\n",
    "num_correct = np.sum(y_test_pred == y_test) # 找出预测正确的实例\n",
    "accuracy = float(num_correct / y_test.shape[0])\n",
    "print(accuracy)"
   ]
  },
  {
   "attachments": {},
   "cell_type": "markdown",
   "metadata": {},
   "source": [
    "为了找出最优k值，我们尝试使用五折交叉验证的方式进行搜寻"
   ]
  },
  {
   "cell_type": "code",
   "execution_count": 30,
   "metadata": {},
   "outputs": [
    {
     "name": "stdout",
     "output_type": "stream",
     "text": [
      "k = 1, accuracy = 0.9047619047619048\n",
      "k = 1, accuracy = 1.0\n",
      "k = 1, accuracy = 0.9523809523809523\n",
      "k = 1, accuracy = 0.8571428571428571\n",
      "k = 1, accuracy = 0.9523809523809523\n",
      "k = 3, accuracy = 0.8571428571428571\n",
      "k = 3, accuracy = 1.0\n",
      "k = 3, accuracy = 0.9523809523809523\n",
      "k = 3, accuracy = 0.8571428571428571\n",
      "k = 3, accuracy = 0.9523809523809523\n",
      "k = 5, accuracy = 0.8571428571428571\n",
      "k = 5, accuracy = 1.0\n",
      "k = 5, accuracy = 0.9523809523809523\n",
      "k = 5, accuracy = 0.9047619047619048\n",
      "k = 5, accuracy = 0.9523809523809523\n",
      "k = 8, accuracy = 0.9047619047619048\n",
      "k = 8, accuracy = 1.0\n",
      "k = 8, accuracy = 0.9523809523809523\n",
      "k = 8, accuracy = 0.9047619047619048\n",
      "k = 8, accuracy = 0.9523809523809523\n",
      "k = 10, accuracy = 0.9523809523809523\n",
      "k = 10, accuracy = 1.0\n",
      "k = 10, accuracy = 0.9523809523809523\n",
      "k = 10, accuracy = 0.9047619047619048\n",
      "k = 10, accuracy = 0.9523809523809523\n",
      "k = 12, accuracy = 0.9523809523809523\n",
      "k = 12, accuracy = 1.0\n",
      "k = 12, accuracy = 0.9523809523809523\n",
      "k = 12, accuracy = 0.8571428571428571\n",
      "k = 12, accuracy = 0.9523809523809523\n",
      "k = 15, accuracy = 0.9523809523809523\n",
      "k = 15, accuracy = 1.0\n",
      "k = 15, accuracy = 0.9523809523809523\n",
      "k = 15, accuracy = 0.8571428571428571\n",
      "k = 15, accuracy = 0.9523809523809523\n",
      "k = 20, accuracy = 0.9523809523809523\n",
      "k = 20, accuracy = 1.0\n",
      "k = 20, accuracy = 0.9523809523809523\n",
      "k = 20, accuracy = 0.7619047619047619\n",
      "k = 20, accuracy = 0.9523809523809523\n",
      "k = 50, accuracy = 1.0\n",
      "k = 50, accuracy = 1.0\n",
      "k = 50, accuracy = 0.9047619047619048\n",
      "k = 50, accuracy = 0.7619047619047619\n",
      "k = 50, accuracy = 0.9047619047619048\n",
      "k = 100, accuracy = 0.2857142857142857\n",
      "k = 100, accuracy = 0.38095238095238093\n",
      "k = 100, accuracy = 0.3333333333333333\n",
      "k = 100, accuracy = 0.23809523809523808\n",
      "k = 100, accuracy = 0.19047619047619047\n"
     ]
    }
   ],
   "source": [
    "from sklearn.metrics import accuracy_score\n",
    "\n",
    "num_folds = 5\n",
    "k_choices = [1, 3, 5, 8, 10, 12, 15, 20, 50, 100]\n",
    "X_train_folds = np.array_split(X_train, num_folds)\n",
    "y_train_folds = np.array_split(y_train, num_folds)\n",
    "k_to_accuracies = dict()\n",
    "\n",
    "for k in k_choices:\n",
    "    for fold in range(num_folds):\n",
    "        # 为传入的训练集单独划分出一个验证集作为测试集\n",
    "        validation_X_test = X_train_folds[fold]\n",
    "        validation_y_test = y_train_folds[fold]\n",
    "        temp_X_train = np.concatenate(X_train_folds[:fold] + X_train_folds[fold + 1:])\n",
    "        temp_y_train = np.concatenate(y_train_folds[:fold] + y_train_folds[fold + 1:])\n",
    "        temp_dists = compute_distances(validation_X_test, temp_X_train)\n",
    "        temp_y_test_pred = predict_labels(temp_y_train, temp_dists, k)\n",
    "        temp_y_test_pred = temp_y_test_pred.reshape(-1, 1)\n",
    "        accuracy = accuracy_score(temp_y_test_pred, validation_y_test)\n",
    "        k_to_accuracies[k] = k_to_accuracies.get(k, []) + [accuracy]\n",
    "    \n",
    "for k in k_to_accuracies:\n",
    "    for accuracy in k_to_accuracies[k]:\n",
    "        print(f'k = {k}, accuracy = {accuracy}')"
   ]
  },
  {
   "attachments": {},
   "cell_type": "markdown",
   "metadata": {},
   "source": [
    "不同k值下的分类准确率"
   ]
  },
  {
   "cell_type": "code",
   "execution_count": 26,
   "metadata": {},
   "outputs": [
    {
     "data": {
      "image/png": "[encoded data removed]",
      "text/plain": [
       "<Figure size 432x288 with 1 Axes>"
      ]
     },
     "metadata": {
      "needs_background": "light"
     },
     "output_type": "display_data"
    }
   ],
   "source": [
    "for k in k_choices:\n",
    "    accuracies = k_to_accuracies[k]\n",
    "    plt.scatter([k] * len(accuracies), accuracies)\n",
    "accuracies_mean = np.array([np.mean(v) for k, v in k_to_accuracies.items()]) # 计算标准差\n",
    "accuracies_std = np.array([np.std(v) for k, v in k_to_accuracies.items()]) # 计算方差\n",
    "plt.errorbar(k_choices, accuracies_mean, yerr=accuracies_std) # 误差棒图 \n",
    "plt.title('cross-validation on k')\n",
    "plt.xlabel('k')\n",
    "plt.ylabel('cross_validation accuracy')\n",
    "plt.show()"
   ]
  },
  {
   "attachments": {},
   "cell_type": "markdown",
   "metadata": {},
   "source": [
    "### 4 基于sklearn的k近邻算法实现"
   ]
  },
  {
   "cell_type": "code",
   "execution_count": 32,
   "metadata": {},
   "outputs": [
    {
     "name": "stdout",
     "output_type": "stream",
     "text": [
      "0.9777777777777777\n"
     ]
    },
    {
     "name": "stderr",
     "output_type": "stream",
     "text": [
      "d:\\anaconda3\\lib\\site-packages\\sklearn\\neighbors\\_classification.py:198: DataConversionWarning: A column-vector y was passed when a 1d array was expected. Please change the shape of y to (n_samples,), for example using ravel().\n",
      "  return self._fit(X, y)\n"
     ]
    }
   ],
   "source": [
    "from sklearn.neighbors import KNeighborsClassifier\n",
    "neigh = KNeighborsClassifier(n_neighbors=10)\n",
    "neigh.fit(X_train, y_train)\n",
    "y_pred = neigh.predict(X_test)\n",
    "y_pred = y_pred.reshape(-1, 1)\n",
    "accuracy = accuracy_score(y_pred, y_test)\n",
    "print(accuracy)"
   ]
  }
 ],
 "metadata": {
  "kernelspec": {
   "display_name": "base",
   "language": "python",
   "name": "python3"
  },
  "language_info": {
   "codemirror_mode": {
    "name": "ipython",
    "version": 3
   },
   "file_extension": ".py",
   "mimetype": "text/x-python",
   "name": "python",
   "nbconvert_exporter": "python",
   "pygments_lexer": "ipython3",
   "version": "3.9.12"
  },
  "orig_nbformat": 4
 },
 "nbformat": 4,
 "nbformat_minor": 2
}
