{
 "cells": [
  {
   "attachments": {},
   "cell_type": "markdown",
   "metadata": {},
   "source": [
    "## 聚类分析和k均值聚类算法\n",
    "`聚类分析`(`cluster analysis`)是一类经典的无监督学习算法，在给定样本的情况下，聚类分析通过度量`特征相似度`或者`距离`，将样本自动划分为若干类别。"
   ]
  },
  {
   "attachments": {},
   "cell_type": "markdown",
   "metadata": {},
   "source": [
    "### 1 距离度量和相似度度量方式\n",
    "距离度量和相似度度量是聚类分析的核心概念，大多数聚类算法建立在距离度量之上。常用的距离度量方式包括`闵氏距离`和`马氏距离`，常用的相似度度量方式包括`相关系数`和`夹角余弦`等。   \n",
    "\n",
    "(1) `闵氏距离`即`闵可夫斯基距离`(`Minkowski distance`)，该距离定义如下，给定`m`维向量样本集合`X`，对于`xi`，`xj`∈`X`，`xi`=`(x1i,x2i,...xmi)T`，那么样本xi与样本xj的闵氏距离可定义为：\n",
    "$$ d_{ij}=\\left ( \\sum_{k=1}^{m}\\left | x_{ki}-x_{kj}   \\right | ^{p}   \\right )^{\\frac{1}{p} }, p\\ge 1 $$\n",
    "可以简单看出，当`p=1`时，`闵氏距离`就变成了`曼哈顿距离`(`Manhatan distance`)：\n",
    "$$ d_{ij}=\\sum_{k=1}^{m}\\left | x_{ki}-x_{kj}   \\right | $$\n",
    "当`p=2`时，`闵氏距离`就变成了`欧氏距离`(`Euclidean distance`)：\n",
    "$$ d_{ij}=\\left ( \\sum_{k=1}^{m}\\left | x_{ki}-x_{kj}   \\right | ^{2}   \\right )^{\\frac{1}{2} } $$\n",
    "当`p=∞`时，`闵氏距离`也称`切比雪夫距离`(`Chebyshev distance`)：\n",
    "$$ d_{ij}=max\\left | x_{ki}-x_{kj}   \\right |   $$\n",
    "(2) `马氏距离`全称`马哈拉诺比斯距离`(`Mahalanobis distance`)，是一种衡量各个特征之间相关性的聚类度量方式。给定一个样本集合`X=(xij)mxn`，假设样本的协方差矩阵为`S`，那么样本xi与样本xj之间的马氏距离可以定义为：\n",
    "$$ d_{ij}=\\left [\\left(x_{i}-x_{j}\\right)^{T} S^{-1}\\left(x_{i}-x_{j}\\right)\\right] ^{\\frac{1}{2}} $$\n",
    "当`S`为单位矩阵，即样本的各特征之间相互独立且方差为1时，马氏距离就是欧氏距离。\n",
    "\n",
    "(3) 相关系数(correlation coefficent)是度量样本相似度最常用的方式。相关系数有多种定义方式，较为常用的是皮尔逊相关系。相关系数越接近1，两个样本越相似；样本xi与样本xj之间的相关系数可定义为：\n",
    "$$ r_{ij}=\\frac{\\sum_{k=1}^{m}\\left ( x_{ki}-\\bar{x}_{i}\\right )\\left ( x_{kj}-\\bar{x}_{j}\\right )}{\\left [ \\sum_{k=1}^{m} \\left ( x_{ki}-\\bar{x}_{i}\\right )^{2} \\sum_{k=1}^{m} \\left ( x_{kj}-\\bar{x}_{j}\\right )^{2} \\right ] ^{\\frac{1}{2} } }  $$\n",
    "上边这个式子看起来有点复杂，其实就是：\n",
    "$$   r\\left ( X,Y \\right ) =\\frac{Cov\\left ( X,Y \\right ) }{\\sqrt{Var\\left [ X \\right ] Var\\left [ Y \\right ] } } $$\n",
    "(4) `余弦夹角`(`angle cosine`)也是度量两个样本相似度的方式。夹角余弦越接近1，表示两个样本越相似:\n",
    "$$ similarity=cos\\left ( \\theta  \\right ) =\\frac{A\\cdot B}{\\left\\|A\\right\\|\\left\\|B\\right\\|} $$ \n",
    "样本xi与样本xj之间的夹角余弦可定义为：\n",
    "$$ AC_{ij}=\\frac{\\sum_{k=1}^{m}x_{ki}x_{kj}}{\\left [ \\sum_{k=1}^{m}x_{ki}^{2} \\sum_{k=1}^{m}x_{kj}^{2}\\right ] ^{\\frac{1}{2}}}  $$"
   ]
  },
  {
   "attachments": {},
   "cell_type": "markdown",
   "metadata": {},
   "source": [
    "### 2 聚类算法一览\n",
    "聚类算法将相似的样本归入同一个簇(cluster)中，这使得同一个簇中的样本对象的相似度尽可能大，同时不同簇中的样本对象的差异性也尽可能大。常用的聚类算法有如下几种：\n",
    "- `基于距离的聚类`:该类算法的目标是使簇内距离小、簇间距离大，最典型的就是`k均值聚类`算法。\n",
    "- `基于密度的聚类`:该类算法是根据样本邻近区域的密度来进行划分的，最常见的密度聚类算法当属`DBSCAN算法`。\n",
    "- `层次聚类算法`:包括合并层次聚类和分裂层次聚类等。\n",
    "- 基于图论的`谱聚类`。"
   ]
  },
  {
   "attachments": {},
   "cell_type": "markdown",
   "metadata": {},
   "source": [
    "### 3 K-means算法实现"
   ]
  },
  {
   "cell_type": "code",
   "execution_count": 1,
   "metadata": {},
   "outputs": [],
   "source": [
    "import numpy as np\n",
    "\n",
    "# 定义欧氏距离\n",
    "def euclidean_distance(x, y):\n",
    "    \n",
    "    distance = 0\n",
    "    for i in range(len(x)):\n",
    "        distance += np.power((x[i] - y[i]), 2)\n",
    "    return np.sqrt(distance)"
   ]
  },
  {
   "cell_type": "code",
   "execution_count": 2,
   "metadata": {},
   "outputs": [],
   "source": [
    "# 质心初始化\n",
    "def centroids_init(X, k): # 训练样本,质心个数(聚类簇数）\n",
    "\n",
    "    m, n = X.shape # 样本数和特征数\n",
    "    centroids = np.zeros((k, n)) # 初始化质心矩阵，大小为质心个数*特征数\n",
    "    for i in range(k):\n",
    "        centroid = X[np.random.choice(range(m))]\n",
    "        centroids[i] = centroid\n",
    "    return centroids # centroids：质心矩阵,k个长度为n的从m个样本中选取的样本"
   ]
  },
  {
   "cell_type": "code",
   "execution_count": 8,
   "metadata": {},
   "outputs": [],
   "source": [
    "# 定义样本所属最近质心的索引\n",
    "def closest_centroid(x, centroids): # 单个样本实例，质心矩阵\n",
    "\n",
    "    closest_i, closest_dist = 0, float('inf')\n",
    "    for i, centroid in enumerate(centroids):\n",
    "        distance = euclidean_distance(x, centroid)\n",
    "        if distance < closest_dist:\n",
    "            closest_i = i\n",
    "            closest_dist = distance\n",
    "    return closest_i # closest_i：最近质心"
   ]
  },
  {
   "cell_type": "code",
   "execution_count": 3,
   "metadata": {},
   "outputs": [],
   "source": [
    "# 分配样本与构建簇\n",
    "def build_clusters(centroids, k, X): # 质心矩阵,质心个数, 训练样本\n",
    "\n",
    "    clusters = [[] for _ in range(k)] # 初始化簇列表\n",
    "    for x_i, x in enumerate(X):\n",
    "        centroid_i = closest_centroid(x, centroids) # 样本最近质心的下标\n",
    "        clusters[centroid_i].append(x_i) # 样本下标加入簇矩阵中\n",
    "    return clusters # 聚类簇"
   ]
  },
  {
   "cell_type": "code",
   "execution_count": 4,
   "metadata": {},
   "outputs": [],
   "source": [
    "# 计算新的质心\n",
    "def calculate_centroids(clusters, k, X):\n",
    "\n",
    "    n = X.shape[1] # 特征数\n",
    "    centroids = np.zeros((k, n)) # 初始化质心矩阵\n",
    "    for i, cluster in enumerate(clusters):\n",
    "        centroid = np.mean(X[cluster], axis=0) # 计算每个簇的均值作为新的质心\n",
    "        centroids[i] = centroid # 更新质心矩阵\n",
    "    return centroids # 返回新的质心矩阵"
   ]
  },
  {
   "cell_type": "code",
   "execution_count": 5,
   "metadata": {},
   "outputs": [],
   "source": [
    "# 获取每个样本所属聚类类别\n",
    "def get_cluster_labels(clusters, X):\n",
    "\n",
    "    y_pred = np.zeros(X.shape[0]) # 样本数\n",
    "    for cluster_i, cluster in enumerate(clusters):\n",
    "        for sample_i in cluster:\n",
    "            y_pred[sample_i] = cluster_i\n",
    "    return y_pred # 预测结果"
   ]
  },
  {
   "cell_type": "code",
   "execution_count": 59,
   "metadata": {},
   "outputs": [],
   "source": [
    "from matplotlib import pyplot as plt\n",
    "\n",
    "# 封装k-means算法\n",
    "def kmeans(X, k, max_iterations):\n",
    "\n",
    "    centroids = centroids_init(X, k) # 训练样本,质心个数(聚类簇数）\n",
    "\n",
    "    # 迭代至收敛\n",
    "    for _ in range(max_iterations):\n",
    "        clusters = build_clusters(centroids, k, X) # 分配样本与构建簇\n",
    "        new_centroids = calculate_centroids(clusters, k, X) # 计算新的质心\n",
    "        print(f'迭代进行到第{_}轮')\n",
    "        diff = centroids - new_centroids\n",
    "        centroids = new_centroids\n",
    "        if not diff.any():\n",
    "            break\n",
    "    return get_cluster_labels(clusters, X) # 获取每个样本所属聚类类别"
   ]
  },
  {
   "cell_type": "code",
   "execution_count": 97,
   "metadata": {},
   "outputs": [
    {
     "name": "stdout",
     "output_type": "stream",
     "text": [
      "迭代进行到第0轮\n",
      "迭代进行到第1轮\n",
      "迭代进行到第2轮\n"
     ]
    },
    {
     "data": {
      "image/png": "[encoded data removed]",
      "text/plain": [
       "<Figure size 432x288 with 1 Axes>"
      ]
     },
     "metadata": {
      "needs_background": "light"
     },
     "output_type": "display_data"
    }
   ],
   "source": [
    "from sklearn import datasets\n",
    "\n",
    "# 测试算法\n",
    "data = datasets.load_iris()\n",
    "iris, y = data.data, data.target\n",
    "label_pred = kmeans(iris, 3, 100)\n",
    "\n",
    "# 取2个或者3个维度来看一下聚类的效果\n",
    "X = iris[:,2:]\n",
    "x0 = X[label_pred == 0]\n",
    "x1 = X[label_pred == 1]\n",
    "plt.scatter(x0[:, 0], x0[:, 1], c = \"red\", marker='o', label='label0')\n",
    "plt.scatter(x1[:, 0], x1[:, 1], c = \"green\", marker='*', label='label1')\n",
    "plt.xlabel('petal length')\n",
    "plt.ylabel('petal width')\n",
    "plt.legend(loc=2)\n",
    "plt.show()"
   ]
  },
  {
   "attachments": {},
   "cell_type": "markdown",
   "metadata": {},
   "source": [
    "### 3 基于sklearn的K-means算法"
   ]
  },
  {
   "cell_type": "code",
   "execution_count": 96,
   "metadata": {},
   "outputs": [
    {
     "data": {
      "image/png": "[encoded data removed]",
      "text/plain": [
       "<Figure size 432x288 with 1 Axes>"
      ]
     },
     "metadata": {
      "needs_background": "light"
     },
     "output_type": "display_data"
    }
   ],
   "source": [
    "from sklearn.cluster import KMeans\n",
    "\n",
    "kmeans_sk = KMeans(n_clusters=3, random_state=2023).fit(iris)\n",
    "label_pred = kmeans_sk.labels_ # 打印拟合标签\n",
    "\n",
    "X = iris[:,2:]\n",
    "x0 = X[label_pred == 0]\n",
    "x1 = X[label_pred == 1]\n",
    "plt.scatter(x0[:, 0], x0[:, 1], c = \"red\", marker='o', label='label0')\n",
    "plt.scatter(x1[:, 0], x1[:, 1], c = \"green\", marker='*', label='label1')\n",
    "plt.xlabel('petal length')\n",
    "plt.ylabel('petal width')\n",
    "plt.legend(loc=2)\n",
    "plt.show()"
   ]
  }
 ],
 "metadata": {
  "kernelspec": {
   "display_name": "base",
   "language": "python",
   "name": "python3"
  },
  "language_info": {
   "codemirror_mode": {
    "name": "ipython",
    "version": 3
   },
   "file_extension": ".py",
   "mimetype": "text/x-python",
   "name": "python",
   "nbconvert_exporter": "python",
   "pygments_lexer": "ipython3",
   "version": "3.9.12"
  },
  "orig_nbformat": 4
 },
 "nbformat": 4,
 "nbformat_minor": 2
}
