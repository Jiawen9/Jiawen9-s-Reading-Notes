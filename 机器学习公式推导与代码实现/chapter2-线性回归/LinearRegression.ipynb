{
 "cells": [
  {
   "cell_type": "markdown",
   "metadata": {},
   "source": [
    "定义线性回归模型主体"
   ]
  },
  {
   "cell_type": "code",
   "execution_count": 6,
   "metadata": {},
   "outputs": [],
   "source": [
    "import numpy as np\n",
    "\n",
    "# 定义模型主体部分，包括线性回归模型公式、均方损失函数和参数求偏导三部分\n",
    "def linear_loss(X, y, w, b):\n",
    "    \"\"\"\n",
    "    输入：\n",
    "    X：输入变量矩阵\n",
    "    y：标签向量\n",
    "    w：参数矩阵\n",
    "    b：偏置\n",
    "    输出：\n",
    "    y_hat：线性回归模型预测值\n",
    "    loss：均方损失\n",
    "    dw：权重系数一阶偏导\n",
    "    db：偏置一阶偏导\n",
    "    \"\"\"\n",
    "\n",
    "    num_train, num_feature = X.shape[0], X.shape[1] # 样本数、特征数\n",
    "    y_hat = np.dot(X, w) + b # 线性回归预测值y_hat\n",
    "    loss = np.sum((y_hat - y) ** 2) / num_train # y_hat与真实y之间的均方损失\n",
    "    dw = np.dot(X.T, (y_hat - y)) / num_train # 基于均方损失对权值的一阶梯度\n",
    "    db = np.sum(y_hat - y) / num_train # 基于均方损失对偏置的一阶梯度\n",
    "    \n",
    "    return y_hat, loss, dw, db"
   ]
  },
  {
   "cell_type": "markdown",
   "metadata": {},
   "source": [
    "初始化模型参数"
   ]
  },
  {
   "cell_type": "code",
   "execution_count": 7,
   "metadata": {},
   "outputs": [],
   "source": [
    "# 初始化模型参数\n",
    "def initialize_params(dims):\n",
    "    \"\"\"\n",
    "    输入：\n",
    "    dims：训练数据变量的维度\n",
    "    输出：\n",
    "    w：初始化的权重系数\n",
    "    b：初始化的偏置\n",
    "    \"\"\"\n",
    "\n",
    "    w = np.zeros((dims, 1)) # 初始化权重系数为零向量\n",
    "    b = 0\n",
    "    \n",
    "    return w, b"
   ]
  },
  {
   "cell_type": "markdown",
   "metadata": {},
   "source": [
    "定义线性回归模型的训练过程"
   ]
  },
  {
   "cell_type": "code",
   "execution_count": 20,
   "metadata": {},
   "outputs": [],
   "source": [
    "def linear_train(X, y, learning_rate=0.01, epochs=10000):\n",
    "    \"\"\"\n",
    "    输入：\n",
    "    X：输入变量矩阵\n",
    "    y：标签向量\n",
    "    learning_rate：学习率\n",
    "    epochs：训练迭代次数\n",
    "    输出：\n",
    "    loss_his：每次迭代的均方损失\n",
    "    params：优化后的参数字典\n",
    "    grads：优化后的参数梯度字典\n",
    "    \"\"\"\n",
    "\n",
    "    loss_his = [] # 记录训练损失\n",
    "    w, b = initialize_params(X.shape[1]) # 初始化模型参数\n",
    "    for i in range(epochs):\n",
    "        y_hat, loss, dw, db = linear_loss(X, y, w, b) # 计算当前迭代的y_hat、损失、梯度\n",
    "        w += - learning_rate * dw # 梯度下降更新w\n",
    "        b += - learning_rate * db # 梯度下降更新b\n",
    "        loss_his.append((i, loss)) # 记录当前迭代的损失\n",
    "        if i % 10000 == 0:\n",
    "            print(f'epoch {i} loss {loss}')\n",
    "        params = {'w': w, 'b': b} # 当前迭代优化的参数保存到字典\n",
    "        grads = {'dw': dw, 'db': db} # 当前迭代步的梯度保存到字典\n",
    "\n",
    "    return loss_his, params, grads"
   ]
  },
  {
   "cell_type": "markdown",
   "metadata": {},
   "source": [
    "导入数据集"
   ]
  },
  {
   "cell_type": "code",
   "execution_count": 18,
   "metadata": {},
   "outputs": [],
   "source": [
    "from sklearn.datasets import load_diabetes # 导入diabetes数据集\n",
    "from sklearn.utils import shuffle # 打乱数据函数\n",
    "diabetes = load_diabetes() # 获取diabetes数据集\n",
    "data, target = diabetes.data, diabetes.target # 输入与标签\n",
    "X, y = shuffle(data, target, random_state=13) # 打乱数据集\n",
    "offset = int(X.shape[0] * 0.8) # 按照8：2划分为训练集和测试集\n",
    "X_train, y_train, X_test, y_test = X[:offset], y[:offset], X[offset:], y[offset:]\n",
    "y_train = y_train.reshape((-1, 1)) # 将训练集改成列向量形式\n",
    "y_test = y_test.reshape((-1, 1)) # 将测试集改成列向量形式"
   ]
  },
  {
   "cell_type": "markdown",
   "metadata": {},
   "source": [
    "模型训练"
   ]
  },
  {
   "cell_type": "code",
   "execution_count": 22,
   "metadata": {},
   "outputs": [
    {
     "name": "stdout",
     "output_type": "stream",
     "text": [
      "epoch 0 loss 28045.57223796034\n",
      "epoch 10000 loss 3679.788136114293\n",
      "epoch 20000 loss 3219.138779296055\n",
      "epoch 30000 loss 3040.807835697372\n",
      "epoch 40000 loss 2944.9292487179514\n",
      "epoch 50000 loss 2885.986899779199\n",
      "epoch 60000 loss 2848.0487698165666\n",
      "epoch 70000 loss 2823.1550740145344\n",
      "epoch 80000 loss 2806.626478474187\n",
      "epoch 90000 loss 2795.546012527875\n",
      "训练后得到的模型参数：{'w': array([[  20.45965531],\n",
      "       [-196.98085671],\n",
      "       [ 438.55028869],\n",
      "       [ 276.21015858],\n",
      "       [ -41.14885488],\n",
      "       [ -97.58028887],\n",
      "       [-215.26356221],\n",
      "       [ 158.67937397],\n",
      "       [ 374.38648461],\n",
      "       [  97.07716141]]), 'b': 150.81185325359615}\n"
     ]
    },
    {
     "data": {
      "text/plain": [
       "[<matplotlib.lines.Line2D at 0x1c2ed4e4790>]"
      ]
     },
     "execution_count": 22,
     "metadata": {},
     "output_type": "execute_result"
    },
    {
     "data": {
      "image/png": "[encoded data removed]",
      "text/plain": [
       "<Figure size 432x288 with 1 Axes>"
      ]
     },
     "metadata": {
      "needs_background": "light"
     },
     "output_type": "display_data"
    }
   ],
   "source": [
    "learning_rate, epochs = 0.01, 100000\n",
    "loss_his, params, grads = linear_train(X_train, y_train, learning_rate, epochs) # 训练\n",
    "print(f'训练后得到的模型参数：{params}')\n",
    "from matplotlib import pyplot as plt\n",
    "epoch, loss = zip(*loss_his)\n",
    "plt.plot(epoch, loss)"
   ]
  },
  {
   "cell_type": "markdown",
   "metadata": {},
   "source": [
    "回归模型的预测函数"
   ]
  },
  {
   "cell_type": "code",
   "execution_count": 25,
   "metadata": {},
   "outputs": [
    {
     "name": "stdout",
     "output_type": "stream",
     "text": [
      "模型预测结果：[[ 80.26611285]\n",
      " [169.94844028]\n",
      " [115.79823159]\n",
      " [135.88314187]\n",
      " [173.40892101]\n",
      " [140.72592949]\n",
      " [136.06396052]\n",
      " [ 95.01392848]\n",
      " [178.53043653]\n",
      " [144.82065396]\n",
      " [240.79079211]\n",
      " [218.21006543]\n",
      " [227.5585031 ]\n",
      " [178.06995465]\n",
      " [110.22935299]\n",
      " [139.87610805]\n",
      " [127.48378523]\n",
      " [227.79408881]\n",
      " [134.1997035 ]\n",
      " [121.57990886]\n",
      " [105.44904201]\n",
      " [ 96.36123717]\n",
      " [210.51621478]\n",
      " [160.71929013]\n",
      " [246.46391114]\n",
      " [118.53959067]\n",
      " [214.82857311]\n",
      " [148.38330757]\n",
      " [187.23809738]\n",
      " [172.84841189]\n",
      " [121.88429027]\n",
      " [161.26832789]\n",
      " [170.27281388]\n",
      " [238.00485535]\n",
      " [196.56215162]\n",
      " [ 71.06225623]\n",
      " [165.63252906]\n",
      " [108.27641402]\n",
      " [172.69703647]\n",
      " [244.35055784]\n",
      " [185.8654987 ]\n",
      " [ 69.44868705]\n",
      " [210.56265099]\n",
      " [204.14327605]\n",
      " [115.85829831]\n",
      " [156.74589544]\n",
      " [136.46541142]\n",
      " [102.68950187]\n",
      " [141.08960568]\n",
      " [160.97013546]\n",
      " [162.9546211 ]\n",
      " [153.50416632]\n",
      " [ 79.24784068]\n",
      " [138.50995515]\n",
      " [173.36271829]\n",
      " [213.71798301]\n",
      " [117.52305573]\n",
      " [165.79262344]\n",
      " [271.8734216 ]\n",
      " [ 86.22239607]\n",
      " [119.25325377]\n",
      " [221.05908319]\n",
      " [158.04799235]\n",
      " [184.09676474]\n",
      " [ 75.12101184]\n",
      " [129.54601871]\n",
      " [233.6826978 ]\n",
      " [186.66013774]\n",
      " [172.83980977]\n",
      " [234.03382439]\n",
      " [ 88.62796765]\n",
      " [133.86189026]\n",
      " [ 89.88037046]\n",
      " [120.78364827]\n",
      " [107.01289678]\n",
      " [129.9417233 ]\n",
      " [102.07391144]\n",
      " [ 69.77093108]\n",
      " [123.48016492]\n",
      " [157.31861723]\n",
      " [181.2164498 ]\n",
      " [129.2321673 ]\n",
      " [136.63454794]\n",
      " [192.13881777]\n",
      " [170.78563902]\n",
      " [193.00560439]\n",
      " [148.26991523]\n",
      " [156.30861941]\n",
      " [123.00177389]]\n"
     ]
    }
   ],
   "source": [
    "# 定义线性回归函数的预测函数\n",
    "def predict(X, params):\n",
    "    \"\"\"\n",
    "    输入：\n",
    "    X：测试集\n",
    "    params：模型参数\n",
    "    输出：\n",
    "    y_pred：模型预测结果\n",
    "    \"\"\"\n",
    "    \n",
    "    w, b = params['w'], params['b'] # 模型参数\n",
    "    y_pred = np.dot(X, w) + b # 预测\n",
    "    return y_pred\n",
    "\n",
    "y_pred = predict(X_test, params)\n",
    "print(f'模型预测结果：{y_pred}')"
   ]
  },
  {
   "cell_type": "markdown",
   "metadata": {},
   "source": [
    "回归模型R^2系数"
   ]
  },
  {
   "cell_type": "code",
   "execution_count": 26,
   "metadata": {},
   "outputs": [
    {
     "name": "stdout",
     "output_type": "stream",
     "text": [
      "R^2系数为0.520879342806108\n"
     ]
    }
   ],
   "source": [
    "# 定义R^2系数\n",
    "def r2_score(y_test, y_pred):\n",
    "    \"\"\"\n",
    "    输入：\n",
    "    y_test：标签值\n",
    "    y_pred：预测值\n",
    "    输出：\n",
    "    r2：R^2系数\n",
    "    \"\"\"\n",
    "\n",
    "    y_avg = np.mean(y_test) # 测试集标签均值\n",
    "    ss_tot = np.sum((y_test - y_avg) ** 2) # 总离差平方和\n",
    "    ss_res = np.sum((y_test - y_pred) ** 2) # 残差平方和\n",
    "    r2 = 1 - (ss_res / ss_tot)\n",
    "    \n",
    "    return r2\n",
    "\n",
    "r2 = r2_score(y_test, y_pred)\n",
    "print(f'R^2系数为{r2}')"
   ]
  },
  {
   "cell_type": "markdown",
   "metadata": {},
   "source": [
    "基于sklearn实现线性回归"
   ]
  },
  {
   "cell_type": "code",
   "execution_count": 27,
   "metadata": {},
   "outputs": [
    {
     "name": "stdout",
     "output_type": "stream",
     "text": [
      "测试集上的均方误差：3371.884211146165\n",
      "测试集上的R^2系数：0.5392080506325068\n"
     ]
    }
   ],
   "source": [
    "from sklearn import linear_model\n",
    "from sklearn.metrics import mean_squared_error, r2_score\n",
    "regr = linear_model.LinearRegression() # 定义模型\n",
    "regr.fit(X_train, y_train) # 模型拟合训练数据\n",
    "y_pred = regr.predict(X_test) # 模型预测\n",
    "mse = mean_squared_error(y_test, y_pred) # 计算测试数据的均方误差\n",
    "r2 = r2_score(y_test, y_pred)\n",
    "print(f'测试集上的均方误差：{mse}')\n",
    "print(f'测试集上的R^2系数：{r2}')"
   ]
  }
 ],
 "metadata": {
  "kernelspec": {
   "display_name": "Python 3.9.12 ('base')",
   "language": "python",
   "name": "python3"
  },
  "language_info": {
   "codemirror_mode": {
    "name": "ipython",
    "version": 3
   },
   "file_extension": ".py",
   "mimetype": "text/x-python",
   "name": "python",
   "nbconvert_exporter": "python",
   "pygments_lexer": "ipython3",
   "version": "3.9.12"
  },
  "orig_nbformat": 4,
  "vscode": {
   "interpreter": {
    "hash": "49cb93f377a7abe7414b7b0f21fb3017538004a126cf690fb524202736b7fb92"
   }
  }
 },
 "nbformat": 4,
 "nbformat_minor": 2
}
