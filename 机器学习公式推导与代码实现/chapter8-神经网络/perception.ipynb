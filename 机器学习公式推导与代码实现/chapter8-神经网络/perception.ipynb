{
 "cells": [
  {
   "attachments": {},
   "cell_type": "markdown",
   "metadata": {},
   "source": [
    "定义感知机辅助函数，其中包括感知机符号函数sign"
   ]
  },
  {
   "cell_type": "code",
   "execution_count": 34,
   "metadata": {},
   "outputs": [],
   "source": [
    "import numpy as np\n",
    "\n",
    "# 定义sign符号函数\n",
    "def sign(x, w, b):\n",
    "    return np.dot(x, w) + b\n",
    "\n",
    "def initialize_parameters(dim):\n",
    "    w = np.zeros(dim)\n",
    "    b = 0.0\n",
    "    return w, b "
   ]
  },
  {
   "attachments": {},
   "cell_type": "markdown",
   "metadata": {},
   "source": [
    "定义感知机训练过程"
   ]
  },
  {
   "cell_type": "code",
   "execution_count": 35,
   "metadata": {},
   "outputs": [],
   "source": [
    "def perception_train(X_train, y_train, learning_rate):\n",
    "    w, b = initialize_parameters(X_train.shape[1]) # 参数初始化\n",
    "    is_wrong = False # 初始化误分类状态\n",
    "    # 当存在误分类点时\n",
    "    while not is_wrong:\n",
    "        wrong_count = 0 # 初始化误分类点计数\n",
    "        for i in range(len(X_train)):\n",
    "            X = X_train[i]\n",
    "            y = y_train[i]\n",
    "            # 如果存在误分类点\n",
    "            if y * sign(X, w, b) <= 0:\n",
    "                # 更新参数\n",
    "                w = w + learning_rate * np.dot(y, X)\n",
    "                b = b + learning_rate * y\n",
    "                wrong_count += 1 # 误分类点+1\n",
    "        # 直到没有误分类点\n",
    "        if wrong_count == 0:\n",
    "            is_wrong = True\n",
    "            print('there is no missclassification!')\n",
    "        # 保存参数\n",
    "        params = {\n",
    "            'w': w,\n",
    "            'b': b\n",
    "        }\n",
    "    return params"
   ]
  },
  {
   "attachments": {},
   "cell_type": "markdown",
   "metadata": {},
   "source": [
    "测试数据准备"
   ]
  },
  {
   "cell_type": "code",
   "execution_count": 36,
   "metadata": {},
   "outputs": [
    {
     "data": {
      "text/plain": [
       "(array([[5.1, 3.5],\n",
       "        [4.9, 3. ],\n",
       "        [4.7, 3.2],\n",
       "        [4.6, 3.1],\n",
       "        [5. , 3.6],\n",
       "        [5.4, 3.9],\n",
       "        [4.6, 3.4],\n",
       "        [5. , 3.4],\n",
       "        [4.4, 2.9],\n",
       "        [4.9, 3.1],\n",
       "        [5.4, 3.7],\n",
       "        [4.8, 3.4],\n",
       "        [4.8, 3. ],\n",
       "        [4.3, 3. ],\n",
       "        [5.8, 4. ],\n",
       "        [5.7, 4.4],\n",
       "        [5.4, 3.9],\n",
       "        [5.1, 3.5],\n",
       "        [5.7, 3.8],\n",
       "        [5.1, 3.8],\n",
       "        [5.4, 3.4],\n",
       "        [5.1, 3.7],\n",
       "        [4.6, 3.6],\n",
       "        [5.1, 3.3],\n",
       "        [4.8, 3.4],\n",
       "        [5. , 3. ],\n",
       "        [5. , 3.4],\n",
       "        [5.2, 3.5],\n",
       "        [5.2, 3.4],\n",
       "        [4.7, 3.2],\n",
       "        [4.8, 3.1],\n",
       "        [5.4, 3.4],\n",
       "        [5.2, 4.1],\n",
       "        [5.5, 4.2],\n",
       "        [4.9, 3.1],\n",
       "        [5. , 3.2],\n",
       "        [5.5, 3.5],\n",
       "        [4.9, 3.6],\n",
       "        [4.4, 3. ],\n",
       "        [5.1, 3.4],\n",
       "        [5. , 3.5],\n",
       "        [4.5, 2.3],\n",
       "        [4.4, 3.2],\n",
       "        [5. , 3.5],\n",
       "        [5.1, 3.8],\n",
       "        [4.8, 3. ],\n",
       "        [5.1, 3.8],\n",
       "        [4.6, 3.2],\n",
       "        [5.3, 3.7],\n",
       "        [5. , 3.3],\n",
       "        [7. , 3.2],\n",
       "        [6.4, 3.2],\n",
       "        [6.9, 3.1],\n",
       "        [5.5, 2.3],\n",
       "        [6.5, 2.8],\n",
       "        [5.7, 2.8],\n",
       "        [6.3, 3.3],\n",
       "        [4.9, 2.4],\n",
       "        [6.6, 2.9],\n",
       "        [5.2, 2.7],\n",
       "        [5. , 2. ],\n",
       "        [5.9, 3. ],\n",
       "        [6. , 2.2],\n",
       "        [6.1, 2.9],\n",
       "        [5.6, 2.9],\n",
       "        [6.7, 3.1],\n",
       "        [5.6, 3. ],\n",
       "        [5.8, 2.7],\n",
       "        [6.2, 2.2],\n",
       "        [5.6, 2.5],\n",
       "        [5.9, 3.2],\n",
       "        [6.1, 2.8],\n",
       "        [6.3, 2.5],\n",
       "        [6.1, 2.8],\n",
       "        [6.4, 2.9],\n",
       "        [6.6, 3. ],\n",
       "        [6.8, 2.8],\n",
       "        [6.7, 3. ],\n",
       "        [6. , 2.9],\n",
       "        [5.7, 2.6],\n",
       "        [5.5, 2.4],\n",
       "        [5.5, 2.4],\n",
       "        [5.8, 2.7],\n",
       "        [6. , 2.7],\n",
       "        [5.4, 3. ],\n",
       "        [6. , 3.4],\n",
       "        [6.7, 3.1],\n",
       "        [6.3, 2.3],\n",
       "        [5.6, 3. ],\n",
       "        [5.5, 2.5],\n",
       "        [5.5, 2.6],\n",
       "        [6.1, 3. ],\n",
       "        [5.8, 2.6],\n",
       "        [5. , 2.3],\n",
       "        [5.6, 2.7],\n",
       "        [5.7, 3. ],\n",
       "        [5.7, 2.9],\n",
       "        [6.2, 2.9],\n",
       "        [5.1, 2.5],\n",
       "        [5.7, 2.8]]),\n",
       " array([-1, -1, -1, -1, -1, -1, -1, -1, -1, -1, -1, -1, -1, -1, -1, -1, -1,\n",
       "        -1, -1, -1, -1, -1, -1, -1, -1, -1, -1, -1, -1, -1, -1, -1, -1, -1,\n",
       "        -1, -1, -1, -1, -1, -1, -1, -1, -1, -1, -1, -1, -1, -1, -1, -1,  1,\n",
       "         1,  1,  1,  1,  1,  1,  1,  1,  1,  1,  1,  1,  1,  1,  1,  1,  1,\n",
       "         1,  1,  1,  1,  1,  1,  1,  1,  1,  1,  1,  1,  1,  1,  1,  1,  1,\n",
       "         1,  1,  1,  1,  1,  1,  1,  1,  1,  1,  1,  1,  1,  1,  1]),\n",
       " (100, 2),\n",
       " (100,))"
      ]
     },
     "execution_count": 36,
     "metadata": {},
     "output_type": "execute_result"
    }
   ],
   "source": [
    "import pandas as pd\n",
    "from sklearn.datasets import load_iris\n",
    "iris = load_iris()\n",
    "df = pd.DataFrame(iris.data, columns=iris.feature_names)\n",
    "df['label'] = iris.target\n",
    "df.columns = ['sepal length', 'sepal width', 'petal length', 'petal width', 'label']\n",
    "data = np.array(df.iloc[:100, [0, 1, -1]]) # 取前100行数据，并使用其中两个特征\n",
    "X, y = data[:, :-1], data[:, -1]\n",
    "y = np.array([1 if i == 1 else -1 for i in y])\n",
    "X, y, X.shape, y.shape"
   ]
  },
  {
   "cell_type": "code",
   "execution_count": 37,
   "metadata": {},
   "outputs": [
    {
     "name": "stdout",
     "output_type": "stream",
     "text": [
      "there is no missclassification!\n"
     ]
    },
    {
     "data": {
      "image/png": "[encoded data removed]",
      "text/plain": [
       "<Figure size 432x288 with 1 Axes>"
      ]
     },
     "metadata": {
      "needs_background": "light"
     },
     "output_type": "display_data"
    }
   ],
   "source": [
    "params = perception_train(X, y, 0.01)\n",
    "import matplotlib.pyplot as plt\n",
    "x_points = np.linspace(4, 7, 10) # np.linspace以均匀步长生成数字序列\n",
    "y_hat = -(params['w'][0] * x_points + params['b']) / params['w'][1]\n",
    "plt.plot(x_points, y_hat)\n",
    "plt.scatter(data[:50, 0], data[:50, 1], color='red', label='0')\n",
    "plt.scatter(data[50:100, 0], data[50:100, 1], color='blue', label='1')\n",
    "plt.xlabel('spal length')\n",
    "plt.ylabel('spal width')\n",
    "plt.legend()\n",
    "plt.show()"
   ]
  },
  {
   "attachments": {},
   "cell_type": "markdown",
   "metadata": {},
   "source": [
    "基于numpy实现神经网络"
   ]
  },
  {
   "cell_type": "code",
   "execution_count": 38,
   "metadata": {},
   "outputs": [],
   "source": [
    "# 定义网络结构\n",
    "def layer_sizes(X, Y):\n",
    "    n_x = X.shape[0] # 输入层大小\n",
    "    n_h = 4 # 隐藏层大小\n",
    "    n_y = Y.shape[0] # 输出层大小\n",
    "    return (n_x, n_h, n_y)\n",
    "\n",
    "# 初始化参数\n",
    "def initialize_parameters(n_x, n_h, n_y):\n",
    "    W1 = np.random.randn(n_h, n_x) * 0.01 # 权重系数随机初始化\n",
    "    b1 = np.zeros((n_h, 1))\n",
    "    W2 = np.random.randn(n_y, n_h) * 0.01\n",
    "    b2 = np.zeros((n_y, 1))\n",
    "    # 封装成字典\n",
    "    parameters = {\n",
    "        'W1': W1,\n",
    "        'b1': b1,\n",
    "        'W2': W2,\n",
    "        'b2': b2\n",
    "    }\n",
    "    return parameters"
   ]
  },
  {
   "attachments": {},
   "cell_type": "markdown",
   "metadata": {},
   "source": [
    "定义前向传播过程"
   ]
  },
  {
   "cell_type": "code",
   "execution_count": 39,
   "metadata": {},
   "outputs": [],
   "source": [
    "# 定义前向传播过程\n",
    "def sigmoid(x):\n",
    "    s = 1/(1+np.exp(-x))\n",
    "    return s\n",
    "\n",
    "def forward_propagation(X, parameters):\n",
    "    W1 = parameters['W1']\n",
    "    b1 = parameters['b1']\n",
    "    W2 = parameters['W2']\n",
    "    b2 = parameters['b2']\n",
    "    Z1 = np.dot(W1, X) + b1\n",
    "    A1 = np.tanh(Z1)\n",
    "    Z2 = np.dot(W2, A1) + b2\n",
    "    A2 = sigmoid(Z2)\n",
    "    cache = {\n",
    "        'Z1': Z1,\n",
    "        'A1': A1,\n",
    "        'Z2': Z2,\n",
    "        'A2': A2\n",
    "    }\n",
    "    return A2, cache"
   ]
  },
  {
   "attachments": {},
   "cell_type": "markdown",
   "metadata": {},
   "source": [
    "定义损失函数"
   ]
  },
  {
   "cell_type": "code",
   "execution_count": 40,
   "metadata": {},
   "outputs": [],
   "source": [
    "def compute_cost(A2, Y):\n",
    "    m = Y.shape[1]  # 训练样本量\n",
    "    logprobs = np.multiply(np.log(A2), Y) + np.multiply(np.log(1 - A2), 1-Y) # 计算交叉熵损失\n",
    "    cost = -1/m * np.sum(logprobs)\n",
    "    cost = np.squeeze(cost) # 维度压缩\n",
    "    return cost "
   ]
  },
  {
   "attachments": {},
   "cell_type": "markdown",
   "metadata": {},
   "source": [
    "定义反向传播函数"
   ]
  },
  {
   "cell_type": "code",
   "execution_count": 41,
   "metadata": {},
   "outputs": [],
   "source": [
    "def backward_propagation(parameters, cache, X, Y):\n",
    "    m = X.shape[1]\n",
    "    W1 = parameters['W1']\n",
    "    W2 = parameters['W2']\n",
    "    A1 = cache['A1']\n",
    "    A2 = cache['A2']\n",
    "    # 执行反向传播\n",
    "    dZ2 = A2- Y\n",
    "    dW2 = 1/m * np.dot(dZ2, A1.T)\n",
    "    db2 = 1/m * np.sum(dZ2, axis=1, keepdims=True)\n",
    "    dZ1 = np.dot(W2.T, dZ2)*(1-np.power(A1, 2))\n",
    "    dW1 = 1/m * np.dot(dZ1, X.T)\n",
    "    db1 = 1/m * np.sum(dZ1, axis=1, keepdims=True)\n",
    "\n",
    "    grads = {\n",
    "        'dW1': dW1,\n",
    "        'db1': db1,\n",
    "        'dW2': dW2,\n",
    "        'db2': db2\n",
    "    }\n",
    "\n",
    "    return grads"
   ]
  },
  {
   "attachments": {},
   "cell_type": "markdown",
   "metadata": {},
   "source": [
    "权重更新函数"
   ]
  },
  {
   "cell_type": "code",
   "execution_count": 42,
   "metadata": {},
   "outputs": [],
   "source": [
    "def update_parameters(parameters, grads, learning_rate=1.2):\n",
    "    parameters['W1'] -= grads['dW1'] * learning_rate\n",
    "    parameters['b1'] -= grads['db1'] * learning_rate\n",
    "    parameters['W2'] -= grads['dW2'] * learning_rate\n",
    "    parameters['b2'] -= grads['db2'] * learning_rate\n",
    "    return parameters"
   ]
  },
  {
   "attachments": {},
   "cell_type": "markdown",
   "metadata": {},
   "source": [
    "神经网络模型封装"
   ]
  },
  {
   "cell_type": "code",
   "execution_count": 43,
   "metadata": {},
   "outputs": [],
   "source": [
    "def nn_model(X, Y, n_h, num_iterations=10000, print_cost=False):\n",
    "    np.random.seed(3)\n",
    "    # 输入和输出结点数\n",
    "    n_x = layer_sizes(X, Y)[0]\n",
    "    n_y = layer_sizes(X, Y)[2]\n",
    "    parameters = initialize_parameters(n_x, n_h, n_y)\n",
    "    W1 = parameters['W1']\n",
    "    b1 = parameters['b1']\n",
    "    W2 = parameters['W2']\n",
    "    b2 = parameters['b2']\n",
    "    for i in range(0, num_iterations):\n",
    "        A2, cache = forward_propagation(X, parameters)\n",
    "        cost = compute_cost(A2, Y)\n",
    "        grads = backward_propagation(parameters, cache, X, Y)\n",
    "        parameters = update_parameters(parameters, grads, learning_rate=1.2)\n",
    "        if print_cost and i % 1000 == 0:\n",
    "            print(f'iteration {i} cost {cost}')\n",
    "    return parameters"
   ]
  },
  {
   "attachments": {},
   "cell_type": "markdown",
   "metadata": {},
   "source": [
    "生成模拟数据集"
   ]
  },
  {
   "cell_type": "code",
   "execution_count": 44,
   "metadata": {},
   "outputs": [],
   "source": [
    "def create_dataset():\n",
    "    np.random.seed(1)\n",
    "    m = 400 # 数据量\n",
    "    N = int(m/2) # 每个标签的实例数\n",
    "    D = 2 # 数据维度\n",
    "    X = np.zeros((m, D))\n",
    "    Y = np.zeros((m, 1), dtype='uint8') # 标签维度\n",
    "    a = 4\n",
    "    for j in range(2):\n",
    "        ix = range(N*j, N*(j+1))\n",
    "        t = np.linspace(j*3.12, (j+1)*3.12, N) + np.random.randn(N)*0.2 # theta\n",
    "        r = a*np.sin(4*t) + np.random.randn(N)*0.2\n",
    "        X[ix] = np.c_[r*np.sin(t), r*np.cos(t)]\n",
    "        Y[ix] = j\n",
    "    X = X.T\n",
    "    Y = Y.T\n",
    "    return X, Y"
   ]
  },
  {
   "cell_type": "code",
   "execution_count": 45,
   "metadata": {},
   "outputs": [
    {
     "data": {
      "image/png": "[encoded data removed]",
      "text/plain": [
       "<Figure size 432x288 with 1 Axes>"
      ]
     },
     "metadata": {
      "needs_background": "light"
     },
     "output_type": "display_data"
    }
   ],
   "source": [
    "X, Y = create_dataset()\n",
    "plt.scatter(X[0, :], X[1, :], c=Y[0], s=40, cmap=plt.cm.Spectral);"
   ]
  },
  {
   "cell_type": "code",
   "execution_count": 47,
   "metadata": {},
   "outputs": [
    {
     "name": "stdout",
     "output_type": "stream",
     "text": [
      "iteration 0 cost 0.6931621661402946\n",
      "iteration 1000 cost 0.25862506828690474\n",
      "iteration 2000 cost 0.23933351654583146\n",
      "iteration 3000 cost 0.23080163442975746\n",
      "iteration 4000 cost 0.2255280270817635\n",
      "iteration 5000 cost 0.22184467595022697\n",
      "iteration 6000 cost 0.2190943835487874\n",
      "iteration 7000 cost 0.22088369605864752\n",
      "iteration 8000 cost 0.21948287975621533\n",
      "iteration 9000 cost 0.21854783585583584\n"
     ]
    },
    {
     "data": {
      "text/plain": [
       "{'W1': array([[ 11.45753676,  -3.41713075],\n",
       "        [  0.1580534 ,  -9.70576973],\n",
       "        [ 11.49968112,  13.45174838],\n",
       "        [  9.25498481, -10.19974607]]),\n",
       " 'b1': array([[ 0.39374262],\n",
       "        [-0.09959337],\n",
       "        [ 0.03547642],\n",
       "        [ 0.09107878]]),\n",
       " 'W2': array([[ -3.45826866, -11.99167371,  -6.12698488,  10.56949614]]),\n",
       " 'b2': array([[-0.05423241]])}"
      ]
     },
     "execution_count": 47,
     "metadata": {},
     "output_type": "execute_result"
    }
   ],
   "source": [
    "parameters = nn_model(X, Y, n_h=4, num_iterations=10000, print_cost=True)\n",
    "parameters"
   ]
  },
  {
   "cell_type": "code",
   "execution_count": 107,
   "metadata": {},
   "outputs": [
    {
     "name": "stdout",
     "output_type": "stream",
     "text": [
      "accuracy: 90.5 %\n",
      "Accuracy: 90.5 %\n"
     ]
    }
   ],
   "source": [
    "def predict(parameters, X): \n",
    "    A2, cache = forward_propagation(X, parameters)\n",
    "    predictions = (A2 > 0.5)\n",
    "    return predictions\n",
    "\n",
    "predictions = predict(parameters, X)\n",
    "print(f'accuracy: {np.sum((predictions == Y)[0][(predictions == Y)[0] == True]) / len(predictions[0]) * 100} %')\n",
    "print (f'Accuracy: {float((np.dot(Y, predictions.T) + np.dot(1-Y, 1-predictions.T))/float(Y.size)*100)} %')"
   ]
  },
  {
   "attachments": {},
   "cell_type": "markdown",
   "metadata": {},
   "source": [
    "基于sklearn实现MLP"
   ]
  },
  {
   "cell_type": "code",
   "execution_count": 109,
   "metadata": {},
   "outputs": [
    {
     "name": "stderr",
     "output_type": "stream",
     "text": [
      "d:\\anaconda3\\lib\\site-packages\\sklearn\\neural_network\\_multilayer_perceptron.py:1109: DataConversionWarning: A column-vector y was passed when a 1d array was expected. Please change the shape of y to (n_samples, ), for example using ravel().\n",
      "  y = column_or_1d(y, warn=True)\n",
      "d:\\anaconda3\\lib\\site-packages\\sklearn\\neural_network\\_multilayer_perceptron.py:692: ConvergenceWarning: Stochastic Optimizer: Maximum iterations (200) reached and the optimization hasn't converged yet.\n",
      "  warnings.warn(\n"
     ]
    },
    {
     "data": {
      "text/plain": [
       "array([0, 1, 1, 1, 0], dtype=uint8)"
      ]
     },
     "execution_count": 109,
     "metadata": {},
     "output_type": "execute_result"
    }
   ],
   "source": [
    "from sklearn.neural_network import MLPClassifier\n",
    "clf = MLPClassifier(solver='sgd', alpha=1e-5, hidden_layer_sizes=(4), random_state=1)\n",
    "clf.fit(X.T, Y.T)\n",
    "clf.predict(X.T[:5])"
   ]
  }
 ],
 "metadata": {
  "kernelspec": {
   "display_name": "Python 3.9.12 ('base')",
   "language": "python",
   "name": "python3"
  },
  "language_info": {
   "codemirror_mode": {
    "name": "ipython",
    "version": 3
   },
   "file_extension": ".py",
   "mimetype": "text/x-python",
   "name": "python",
   "nbconvert_exporter": "python",
   "pygments_lexer": "ipython3",
   "version": "3.9.12"
  },
  "orig_nbformat": 4,
  "vscode": {
   "interpreter": {
    "hash": "49cb93f377a7abe7414b7b0f21fb3017538004a126cf690fb524202736b7fb92"
   }
  }
 },
 "nbformat": 4,
 "nbformat_minor": 2
}
