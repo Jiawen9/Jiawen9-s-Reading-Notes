{
 "cells": [
  {
   "attachments": {},
   "cell_type": "markdown",
   "metadata": {},
   "source": [
    "## 问题建模"
   ]
  },
  {
   "attachments": {},
   "cell_type": "markdown",
   "metadata": {},
   "source": [
    "当参赛者拿到竞赛题目时，首先应该考虑的事情就是问题建模，同时完成baseline模型的pipeline搭建，从而能够第一时间获得结果上的反馈，帮助后续工作的进行。此外，竞赛依赖于真实的业务场景和复杂的数据，参赛者通常对此会有很多想法，但是线上提交结果验证的次数往往有限。因此合理的划分训练集和测试集，以及构建可信的线下验证就变得非常重要，这也是保障模型具有泛化性的基础。   \n",
    "问题建模部分主要由`赛题理解`、`样本选择`、`线下评估策略`三个部分组成。"
   ]
  },
  {
   "cell_type": "code",
   "execution_count": null,
   "metadata": {},
   "outputs": [],
   "source": []
  }
 ],
 "metadata": {
  "language_info": {
   "name": "python"
  },
  "orig_nbformat": 4
 },
 "nbformat": 4,
 "nbformat_minor": 2
}
