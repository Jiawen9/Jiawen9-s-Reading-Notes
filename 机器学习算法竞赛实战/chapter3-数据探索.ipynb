{
 "cells": [
  {
   "attachments": {},
   "cell_type": "markdown",
   "metadata": {},
   "source": [
    "## 数据探索"
   ]
  },
  {
   "attachments": {},
   "cell_type": "markdown",
   "metadata": {},
   "source": [
    "数据探索是竞赛的核心模块之一，贯穿竞赛始终，也是很多竞赛胜利的关键。   \n",
    "在竞赛中如何确保自己准备好竞赛使用的算法模型？如何为数据集选择最合适的算法？如何定义可用于算法模型的特征变量？数据探索可以帮助回答以上这三点，并确保竞赛的最佳结果。   \n",
    "数据竞赛可以概括为可视化数据集中重要特征的方法，一般来说分为三个部分：   \n",
    "`数据初探`：帮助我们对数据有个整体性认识，并发现数据中存在的问题，比如缺失值、异常值和数据冗余等。   \n",
    "`变量分析`：通过分析数据发现变量的特点，帮助提取有价值的特征，可以从单变量、多变量、变量分布进行分析。   \n",
    "`模型分析`：可以分为重要性分析和结果误差分析，从结果中发现问题，并进一步优化。"
   ]
  },
  {
   "attachments": {},
   "cell_type": "markdown",
   "metadata": {},
   "source": []
  }
 ],
 "metadata": {
  "language_info": {
   "name": "python"
  },
  "orig_nbformat": 4
 },
 "nbformat": 4,
 "nbformat_minor": 2
}
