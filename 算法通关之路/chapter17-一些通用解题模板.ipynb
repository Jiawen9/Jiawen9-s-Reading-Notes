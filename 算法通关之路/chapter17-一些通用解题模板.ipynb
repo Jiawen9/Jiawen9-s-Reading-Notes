{
 "cells": [
  {
   "cell_type": "markdown",
   "metadata": {},
   "source": [
    "## 1 二分法\n",
    "### 1.1 普通二分法"
   ]
  },
  {
   "cell_type": "code",
   "execution_count": 1,
   "metadata": {},
   "outputs": [
    {
     "data": {
      "text/plain": [
       "8"
      ]
     },
     "execution_count": 1,
     "metadata": {},
     "output_type": "execute_result"
    }
   ],
   "source": [
    "# 查找nums数组中元素值为target的下标。如果不存在，则返回-1\n",
    "\n",
    "def bs(nums: list[int], target: int) -> int :\n",
    "    \n",
    "    l, h = 0, len(nums) - 1\n",
    "    while l <= h:\n",
    "        mid = l + (h - l) // 2\n",
    "        if nums[mid] == target:\n",
    "            return mid\n",
    "        elif nums[mid] < target:\n",
    "            l = mid + 1\n",
    "        else:\n",
    "            h = mid - 1\n",
    "    return -1\n",
    "\n",
    "nums = [1, 2, 3, 4, 5, 6, 7, 8, 9, 10]\n",
    "nums[bs(nums, 8)]"
   ]
  },
  {
   "cell_type": "markdown",
   "metadata": {},
   "source": [
    "### 1.2 二分法变种\n",
    "有些二分法类型的题目，在二分时无法直接判断中间元素是否为目标元素，这类问题被称作二分法变种问题。\n",
    "\n",
    "例如：在有序数组里面查找第1个大于或等于5的元素，每次判断中间元素时，无法直接断定这个元素是否是第1个大于或等于5的元素，它可能是第2个或第3个大于或等于5的元素。\n",
    "\n",
    "二分法变种问题大致分为两种情况：\n",
    "- 查找第一个满足条件的元素\n",
    "- 查找最后一个满足条件的元素\n",
    "\n",
    "此外需要注意边界问题，这是二分法变种问题最容易出错的地方"
   ]
  },
  {
   "cell_type": "code",
   "execution_count": 2,
   "metadata": {},
   "outputs": [
    {
     "data": {
      "text/plain": [
       "9"
      ]
     },
     "execution_count": 2,
     "metadata": {},
     "output_type": "execute_result"
    }
   ],
   "source": [
    "# 查找第1个大于等于x的元素\n",
    "# 左边界更新为l = mid + 1，不会产生死循环，当剩下1个元素时跳出即可\n",
    "\n",
    "def bs(nums: list[int], target: int) -> int :\n",
    "\n",
    "    l, h = 0, len(nums) - 1\n",
    "    while l <= h:\n",
    "        mid = l + (h - l) // 2\n",
    "        if l == h: # 边界条件\n",
    "            break\n",
    "        elif nums[mid] < target:\n",
    "            l = mid + 1\n",
    "        else:\n",
    "            h = mid\n",
    "    return l\n",
    "\n",
    "nums = [1, 2, 3, 4, 5, 6, 7, 9, 10]\n",
    "nums[bs(nums, 8)]"
   ]
  },
  {
   "cell_type": "code",
   "execution_count": 2,
   "metadata": {},
   "outputs": [
    {
     "data": {
      "text/plain": [
       "10"
      ]
     },
     "execution_count": 2,
     "metadata": {},
     "output_type": "execute_result"
    }
   ],
   "source": [
    "# 查找最后1个小于等于x的元素\n",
    "# 左边界更新为l = mid，会产生死循环，当剩下2个元素时跳出即可\n",
    "\n",
    "def bs(nums: list[int], target: int) -> int :\n",
    "\n",
    "    l, h = 0, len(nums) - 1\n",
    "    while l <= h:\n",
    "        mid = l + (h - l) // 2\n",
    "        if l == h or l + 1 == h: # 边界条件\n",
    "            break\n",
    "        elif nums[mid] <= target:\n",
    "            l = mid\n",
    "        else:\n",
    "            h = mid - 1\n",
    "    return nums[h] if nums[h] <= target else nums[l]\n",
    "\n",
    "nums = [1, 2, 3, 4, 5, 6, 7, 8, 10, 11]\n",
    "nums[bs(nums, 8)]"
   ]
  },
  {
   "cell_type": "markdown",
   "metadata": {},
   "source": [
    "## 2 回溯法\n",
    "回溯法的本质是回溯思想，通常使用递归实现。\n",
    "递归的实现需要考虑3个方面：**搜索的设计**、**递归的状态**及**递归的结束条件**。\n",
    "\n",
    "**搜索的设计**\n",
    "对求解空间进行划分，让每一层递归都去尝试搜索一部分解空间，直至搜索完所有可能的解空间。\n",
    "\n",
    "**递归的状态**\n",
    "状态是用来区分不同递归的，一般来说，我们至少携带一种状态-当前位置idx，它用于找到当前可以继续前进的搜索空间，以此进入下一层递归。\n",
    "\n",
    "**递归的结束状态**\n",
    "通常包括两个方面：找到可行解，提前结束搜索；搜索完毕，已经没有搜索的解空间。"
   ]
  },
  {
   "cell_type": "code",
   "execution_count": 3,
   "metadata": {},
   "outputs": [],
   "source": [
    "# ------\n",
    "ans = []\n",
    "target = 0\n",
    "n = 0\n",
    "nums = []\n",
    "error = 0\n",
    "visited = set()\n",
    "# ------\n",
    "\n",
    "# idx表示当前位置，cur表示当前路径的某个信息，path表示路径\n",
    "def dfs(idx, cur, path):\n",
    "    \n",
    "    # -------------结束条件\n",
    "    # 1 找到解\n",
    "    if cur == target:\n",
    "        ans.append(path.copy())\n",
    "        return\n",
    "    \n",
    "    # 2 搜索完毕\n",
    "    if idx == n:\n",
    "        return\n",
    "    # --------------------\n",
    "    \n",
    "    # 考虑可能的解，进入下一层递归\n",
    "    for num in nums:\n",
    "        if num == error or num in visited:\n",
    "            continue\n",
    "        \n",
    "        # 更新状态\n",
    "        visited.add(num)\n",
    "        dfs(idx + 1, cur + num, path + [num])\n",
    "\n",
    "        # 恢复状态\n",
    "        visited.remove(num)"
   ]
  },
  {
   "cell_type": "markdown",
   "metadata": {},
   "source": [
    "# 3 并查集\n",
    "\n",
    "使用parent数组记录每个节点的父节点，在初始情况下每个节点的父结点为本身，并使用rank记录每个节点为根的树的权值（树的节点数）。\n",
    "\n",
    "- find(p)：当parent[p]不为p时，表示存在非本身的父节点，此时让p等于parent[p]，即向上寻找祖先节点，不断寻找祖先节点，不断重复这个过程直到parnet[p]等于p。\n",
    "- union(p, q)：通过find(p,q)找到p和q的共同祖先节点，然后将权值小的祖先节点树合并到较高的树中。理论证明，这种算法能够保证合并后的树高度为O(logn)。\n",
    "\n",
    "可以使用find(p) == find(q)来判断两个节点是否属于同一个祖先。 "
   ]
  },
  {
   "cell_type": "code",
   "execution_count": 4,
   "metadata": {},
   "outputs": [],
   "source": [
    "class UnionFind:\n",
    "    '''加权快速合并'''\n",
    "\n",
    "    def __init__(self, n: int) -> None:\n",
    "\n",
    "        self.parent = [i for i in range(n)] # 每个节点的父节点\n",
    "        self.rank = [0 for _ in range(n)] # 以该节点为根的树权值（树的节点数）\n",
    "        self.cnt = n # 连通区域数量\n",
    "    \n",
    "    def find(self, p: int) -> int: \n",
    "\n",
    "        while p != self.parent[p]:\n",
    "            p = self.parent[p]\n",
    "        \n",
    "        return p\n",
    "    \n",
    "    def union(self, p: int, q: int) -> None: # 按秩合并\n",
    "\n",
    "        root_p, root_q = self.find(p), self.find(q)\n",
    "        if root_p == root_q:\n",
    "            return\n",
    "        if self.rank[root_p] > self.rank[root_q]:\n",
    "            self.parent[root_q] = root_p\n",
    "        elif self.rank[root_p] < self.rank[root_q]:\n",
    "            self.parent[root_p] = root_q\n",
    "        else:\n",
    "            self.parent[root_q] = root_p\n",
    "            self.rank[root_p] += 1\n",
    "        self.cnt -= 1"
   ]
  },
  {
   "cell_type": "code",
   "execution_count": 5,
   "metadata": {},
   "outputs": [],
   "source": [
    "class UnionFind:\n",
    "    '''路径压缩加权快速合并'''\n",
    "\n",
    "    def __init__(self, n: int) -> None:\n",
    "\n",
    "        self.parent = [i for i in range(n)] # 每个节点的父节点\n",
    "        self.rank = [0 for _ in range(n)] # 以该节点为根的树权值（树的节点数）\n",
    "        self.cnt = n # 连通区域数量\n",
    "    \n",
    "    def find(self, p: int) -> int:  # 路径压缩\n",
    "\n",
    "        if p != self.parent[p]:\n",
    "            self.parent[p] = self.find(self.parent[p])\n",
    "        \n",
    "        return self.parent[p]\n",
    "    \n",
    "    def union(self, p: int, q: int) -> None: # # 按秩合并\n",
    "\n",
    "        root_p, root_q = self.find(p), self.find(q)\n",
    "        if root_p == root_q:\n",
    "            return\n",
    "        if self.rank[root_p] > self.rank[root_q]:\n",
    "            self.parent[root_q] = root_p\n",
    "        elif self.rank[root_p] < self.rank[root_q]:\n",
    "            self.parent[root_p] = root_q\n",
    "        else:\n",
    "            self.parent[root_q] = root_p\n",
    "            self.rank[root_p] += 1\n",
    "        self.cnt -= 1"
   ]
  },
  {
   "cell_type": "markdown",
   "metadata": {},
   "source": [
    "## 4 BFS\n",
    "\n",
    "基于队列的广度优先遍历，将起始节点放入队列中，循环遍历队列中的节点。扩展节点相邻的有效节点，并将其放入队列中。"
   ]
  },
  {
   "cell_type": "code",
   "execution_count": 6,
   "metadata": {},
   "outputs": [],
   "source": [
    "from collections import deque\n",
    "\n",
    "grid = [0 * 5 for _ in range(5)] # n * m的矩阵\n",
    "\n",
    "def bfs(grid):\n",
    "\n",
    "    m, n = len(grid), len(grid[0])\n",
    "    directions = [(0, 1), (0, -1), (-1, 0), (1, 0)] # 扩展方向\n",
    "    visited = [[False] * n for _ in range(m)] # 记录节点是否被访问\n",
    "    queue = deque()\n",
    "    level = 0 # 深度\n",
    "\n",
    "    queue.append((0, 0))\n",
    "    visited[0][0] = True\n",
    "    while len(queue) > 0:\n",
    "        sz = len(queue)\n",
    "        for _ in range(sz):\n",
    "            top = queue.popleft()\n",
    "            x, y = top\n",
    "\n",
    "            # 扩展节点\n",
    "            for d in directions:\n",
    "                next_x, next_y = x + d[0], y + d[1]\n",
    "\n",
    "                # 判断相邻节点是否有效\n",
    "                if next_x < 0 or next_x >= m or next_y < 0 or next_y >= n:\n",
    "                    continue\n",
    "                \n",
    "                queue.append((next_x, next_y))\n",
    "                visited[next_x][next_y] = True\n",
    "        level += 1\n",
    "        \n",
    "    return level"
   ]
  },
  {
   "cell_type": "markdown",
   "metadata": {},
   "source": [
    "## 5 滑动窗口\n",
    "借助双指针表示窗口的左边界和右边界，并非根据题目要求不断移动指针。\n",
    "\n",
    "根据**窗口大小是否固定**，以及**最优解为最大或最小窗口**，可以将滑动窗口分为3种类型。\n",
    "\n",
    "### 5.1 窗口大小固定，最优解与窗口大小无关"
   ]
  },
  {
   "cell_type": "code",
   "execution_count": 22,
   "metadata": {},
   "outputs": [],
   "source": [
    "nums = [] # 题目给定数组\n",
    "cnt = {x : 0 for x in nums} #字典记录出现次数\n",
    "ans = 0 # 答案\n",
    "init_len = 0 # 窗口大小\n",
    "\n",
    "def check(cnt): # 题目所述条件\n",
    "    pass\n",
    "\n",
    "def get(left, right): # 题目要求的答案\n",
    "    pass\n",
    "\n",
    "# 初始化大小为init_len的窗口\n",
    "for i in range(init_len):\n",
    "    num = nums[i]\n",
    "    cnt[num] += 1\n",
    "\n",
    "left, right = 0, init_len\n",
    "\n",
    "# 检查是否满足题目要求\n",
    "if check(cnt):\n",
    "    ans = get(left, right)\n",
    "\n",
    "while right < len(nums):\n",
    "    num, num2 = nums[left], nums[right]\n",
    "    cnt[num] -= 1\n",
    "    cnt[num2] += 1\n",
    "\n",
    "    # 检查是否满足题目要求\n",
    "    if check(cnt):\n",
    "        # 优化答案\n",
    "        ans = max(ans, get(left, right))\n",
    "    \n",
    "    left += 1\n",
    "    right += 1"
   ]
  },
  {
   "cell_type": "markdown",
   "metadata": {},
   "source": [
    "### 5.2 窗口大小不固定，最优解为最小窗口\n",
    "\n",
    "初始化大小为0的滑动窗口；然后循环移动窗口直到抵达边界，每次右指针right向右移动一步，并检查窗口是否满足条件，如果是，则循环向右移动左指针left，每移动一步，不断尝试缩小窗口直到窗口不满足条件，更新最优解。"
   ]
  },
  {
   "cell_type": "code",
   "execution_count": 21,
   "metadata": {},
   "outputs": [],
   "source": [
    "left, right = 0, 0\n",
    "nums = [] # 题目给定数组\n",
    "cnt = {x : 0 for x in nums} #字典记录出现次数\n",
    "ans = len(nums) # 初始值\n",
    "\n",
    "while right < len(nums):\n",
    "    cnt[nums[right]] += 1\n",
    "\n",
    "    # 满足题目要求，尽可能缩小窗口\n",
    "    while left <= right and check(cnt):\n",
    "        # 优化答案\n",
    "        ans = min(ans, right - left + 1)\n",
    "        # 尝试缩小窗口\n",
    "        cnt[nums[left]] -= 1\n",
    "        left += 1\n",
    "    right += 1"
   ]
  },
  {
   "cell_type": "markdown",
   "metadata": {},
   "source": [
    "### 5.3 窗口大小不固定，最优解为最大窗口\n",
    "\n",
    "初始化大小为0的滑动窗口；然后循环移动窗口直到抵达边界，每次右指针right向右移动一步，并检查窗口是否不满足条件，如果是，则循环向右移动左指针left，每移动一步直到满足条件，更新最优解。"
   ]
  },
  {
   "cell_type": "code",
   "execution_count": 24,
   "metadata": {},
   "outputs": [],
   "source": [
    "left, right = 0, 0\n",
    "nums = [] # 题目给定数组\n",
    "cnt = {x : 0 for x in nums} #字典记录出现次数\n",
    "ans = 0 # 初始值\n",
    "\n",
    "while right < len(nums):\n",
    "    cnt[nums[right]] += 1\n",
    "\n",
    "    # 不满足题目要求，需要缩小窗口\n",
    "    while not check(cnt):\n",
    "        cnt[nums[left]] -= 1\n",
    "        left += 1\n",
    "\n",
    "    ans = max(ans, right - left + 1)\n",
    "    right += 1"
   ]
  },
  {
   "cell_type": "markdown",
   "metadata": {},
   "source": [
    "## 6 数学\n",
    "### 6.1 判断素数"
   ]
  },
  {
   "cell_type": "code",
   "execution_count": 26,
   "metadata": {},
   "outputs": [
    {
     "data": {
      "text/plain": [
       "False"
      ]
     },
     "execution_count": 26,
     "metadata": {},
     "output_type": "execute_result"
    }
   ],
   "source": [
    "def isPrime(n: int) -> bool:\n",
    "    \n",
    "    if n <= 1:\n",
    "        return False\n",
    "    i = 2\n",
    "    while i * i <= n:\n",
    "        if n % i == 0:\n",
    "             return False\n",
    "        i += 1\n",
    "    \n",
    "    return True\n",
    "\n",
    "isPrime(121)"
   ]
  },
  {
   "cell_type": "markdown",
   "metadata": {},
   "source": [
    "### 6.2 最大公约数\n",
    "\n",
    "欧几里得算法： 两个整数的最大公约数等于其中**较小的那个数**和**两数相除余数**的最大公约数。"
   ]
  },
  {
   "cell_type": "code",
   "execution_count": 27,
   "metadata": {},
   "outputs": [],
   "source": [
    "def gcd(a: int, b: int) -> int:\n",
    "    return a if b == 0 else gcd(b, a % b)"
   ]
  },
  {
   "cell_type": "markdown",
   "metadata": {},
   "source": [
    "### 6.3 最小公倍数\n",
    "两个数的乘积等于这两个数最大公约数和最小公倍数的乘积，最小公倍数 = 两数乘积 / 两数最大公约数"
   ]
  },
  {
   "cell_type": "code",
   "execution_count": 28,
   "metadata": {},
   "outputs": [],
   "source": [
    "def lcm(a, int, b: int) -> int:\n",
    "    return a * b // gcd(a, b)"
   ]
  }
 ],
 "metadata": {
  "kernelspec": {
   "display_name": "base",
   "language": "python",
   "name": "python3"
  },
  "language_info": {
   "codemirror_mode": {
    "name": "ipython",
    "version": 3
   },
   "file_extension": ".py",
   "mimetype": "text/x-python",
   "name": "python",
   "nbconvert_exporter": "python",
   "pygments_lexer": "ipython3",
   "version": "3.9.12"
  },
  "orig_nbformat": 4
 },
 "nbformat": 4,
 "nbformat_minor": 2
}
