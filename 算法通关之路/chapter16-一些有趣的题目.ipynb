{
 "cells": [
  {
   "cell_type": "markdown",
   "metadata": {},
   "source": [
    "### 多数元素 II\n",
    "***力扣第229题***  \n",
    "给定一个大小为 n 的整数数组，找出其中所有出现超过 ⌊ n/3 ⌋ 次的元素。"
   ]
  },
  {
   "cell_type": "code",
   "execution_count": 1,
   "metadata": {},
   "outputs": [
    {
     "data": {
      "text/plain": [
       "[3]"
      ]
     },
     "execution_count": 1,
     "metadata": {},
     "output_type": "execute_result"
    }
   ],
   "source": [
    "'''\n",
    "方法一：摩尔投票法\n",
    "\n",
    "时间复杂度：O（n）\n",
    "空间复杂度：O(1)\n",
    "'''\n",
    "\n",
    "class Solution:\n",
    "    def majorityElement(self, nums: list[int]) -> list[int]:\n",
    "        n = len(nums)\n",
    "        res = []\n",
    "        cnt1 = 0\n",
    "        cnt2 = 0\n",
    "        n1 = None\n",
    "        n2 = None\n",
    "\n",
    "        # 筛选出出现次数最多的前两个元素\n",
    "        for num in nums:\n",
    "            if num == n1:\n",
    "                cnt1 += 1\n",
    "            elif num == n2:\n",
    "                cnt2 += 1\n",
    "            elif cnt1 == 0:\n",
    "                n1 = num\n",
    "                cnt1 += 1\n",
    "            elif cnt2 == 0:\n",
    "                n2 = num\n",
    "                cnt2 += 1\n",
    "            else:\n",
    "                cnt1 -= 1\n",
    "                cnt2 -= 1\n",
    "        \n",
    "        # 筛选出出现次数超过1/3的元素\n",
    "        cnt1 = 0\n",
    "        cnt2 = 0\n",
    "        for num in nums:\n",
    "            if num == n1:\n",
    "                cnt1 += 1\n",
    "            if num == n2:\n",
    "                cnt2 += 1\n",
    "        if cnt1 > n // 3:\n",
    "            res += [n1]\n",
    "        if cnt2 > n // 3:\n",
    "            res += [n2]\n",
    "        return res\n",
    "\n",
    "nums = [3,2,3]\n",
    "solu = Solution()\n",
    "solu.majorityElement(nums)"
   ]
  },
  {
   "cell_type": "markdown",
   "metadata": {},
   "source": [
    "### 柱状图中最大的矩形\n",
    "***力扣第84题***  \n",
    "给定 n 个非负整数，用来表示柱状图中各个柱子的高度。每个柱子彼此相邻，且宽度为 1 。\n",
    "\n",
    "求在该柱状图中，能够勾勒出来的矩形的最大面积。"
   ]
  },
  {
   "cell_type": "code",
   "execution_count": 1,
   "metadata": {},
   "outputs": [
    {
     "data": {
      "text/plain": [
       "10"
      ]
     },
     "execution_count": 1,
     "metadata": {},
     "output_type": "execute_result"
    }
   ],
   "source": [
    "'''\n",
    "方法一：双层循环（超时）\n",
    "\n",
    "时间复杂度：O（n2）\n",
    "空间复杂度：O(1)\n",
    "'''\n",
    "\n",
    "class Solution:\n",
    "    def largestRectangleArea(self, heights: list[int]) -> int:\n",
    "        n, ans = len(heights), 0\n",
    "        if n != 0:\n",
    "            ans = heights[0]\n",
    "        for i in range(n):\n",
    "            height = heights[i]\n",
    "            for j in range(i, n):\n",
    "                height = min(height, heights[j]) # 最小高度\n",
    "                ans = max(ans, (j-i+1)*height) # 最大面积\n",
    "        return ans\n",
    "\n",
    "heights = [2,1,5,6,2,3]\n",
    "solu = Solution()\n",
    "solu.largestRectangleArea(heights)"
   ]
  },
  {
   "cell_type": "code",
   "execution_count": 3,
   "metadata": {},
   "outputs": [
    {
     "data": {
      "text/plain": [
       "10"
      ]
     },
     "execution_count": 3,
     "metadata": {},
     "output_type": "execute_result"
    }
   ],
   "source": [
    "'''\n",
    "方法二：中心扩展法（超时）\n",
    "\n",
    "时间复杂度：O（n2）\n",
    "空间复杂度：O（1）\n",
    "'''\n",
    "\n",
    "class Solution:\n",
    "    def largestRectangleArea(self, heights: list[int]) -> int:\n",
    "        n = len(heights)\n",
    "        ans = 0\n",
    "\n",
    "        # 计算左边第一个高度小于heights[i]的索引和右边第一个小于heights[i]的索引\n",
    "        for i in range(0, n):\n",
    "            j = i - 1\n",
    "            while j >= 0 and heights[j] >= heights[i]:\n",
    "                j -= 1\n",
    "            k = i + 1\n",
    "            while k < n and heights[k] >= heights[i]:\n",
    "                k += 1\n",
    "            \n",
    "            # 以i为最低点情况形成的最大矩阵面积\n",
    "            ans = max(ans, heights[i] * (k - j - 1))\n",
    "        return ans\n",
    "\n",
    "heights = [2,1,5,6,2,3]\n",
    "solu = Solution()\n",
    "solu.largestRectangleArea(heights)"
   ]
  },
  {
   "cell_type": "code",
   "execution_count": 4,
   "metadata": {},
   "outputs": [
    {
     "data": {
      "text/plain": [
       "10"
      ]
     },
     "execution_count": 4,
     "metadata": {},
     "output_type": "execute_result"
    }
   ],
   "source": [
    "'''\n",
    "方法三：中心扩展法（优化）\n",
    "\n",
    "时间复杂度：O（n）\n",
    "空间复杂度：O（n）\n",
    "'''\n",
    "\n",
    "class Solution:\n",
    "    def largestRectangleArea(self, heights: list[int]) -> int:\n",
    "        n = len(heights)\n",
    "        l, r, ans = [-1]*n, [n]*n, 0\n",
    "\n",
    "        for i in range(0, n):\n",
    "            j = i - 1\n",
    "            while j >= 0 and heights[j] >= heights[i]:\n",
    "                j = l[j] # 优化\n",
    "            l[i] = j\n",
    "\n",
    "        for i in range(n-2, -1, -1):\n",
    "            k = i + 1\n",
    "            while k < n and heights[k] >= heights[i]:\n",
    "                k = r[k] # 优化\n",
    "            r[i] = k\n",
    "        \n",
    "        for i in range(n):\n",
    "            ans = max(ans, heights[i] * (r[i] - l[i] - 1))\n",
    "        return ans\n",
    "\n",
    "heights = [2,1,5,6,2,3]\n",
    "solu = Solution()\n",
    "solu.largestRectangleArea(heights)"
   ]
  },
  {
   "cell_type": "code",
   "execution_count": 5,
   "metadata": {},
   "outputs": [
    {
     "data": {
      "text/plain": [
       "10"
      ]
     },
     "execution_count": 5,
     "metadata": {},
     "output_type": "execute_result"
    }
   ],
   "source": [
    "'''\n",
    "方法四：单调栈\n",
    "\n",
    "时间复杂度：O（n）\n",
    "空间复杂度：O（n）\n",
    "'''\n",
    "\n",
    "class Solution:\n",
    "    def largestRectangleArea(self, heights: list[int]) -> int:\n",
    "        n, heights, st, ans = len(heights), [0]+heights+[0], [], 0\n",
    "        for i in range(n+2):\n",
    "            while st and heights[st[-1]] > heights[i]:\n",
    "                ans = max(ans, heights[st.pop(-1)]*(i-st[-1]-1))\n",
    "            st.append(i)\n",
    "        return ans\n",
    "\n",
    "heights = [2,1,5,6,2,3]\n",
    "solu = Solution()\n",
    "solu.largestRectangleArea(heights)"
   ]
  },
  {
   "cell_type": "markdown",
   "metadata": {},
   "source": [
    "### 一周中的第几天\n",
    "***力扣第1185题***  \n",
    "给你一个日期，请你设计一个算法来判断它是对应一周中的哪一天。"
   ]
  },
  {
   "cell_type": "code",
   "execution_count": 8,
   "metadata": {},
   "outputs": [
    {
     "data": {
      "text/plain": [
       "'Saturday'"
      ]
     },
     "execution_count": 8,
     "metadata": {},
     "output_type": "execute_result"
    }
   ],
   "source": [
    "'''\n",
    "时间复杂度：O（n）\n",
    "空间复杂度：O（1）\n",
    "'''\n",
    "\n",
    "class Solution:\n",
    "    def dayOfTheWeek(self, day: int, month: int, year: int) -> str:\n",
    "        months = [31, 28, 31, 30, 31, 30, 31, 31, 30, 31, 30, 31]\n",
    "        leap_months = [31, 29, 31, 30, 31, 30, 31, 31, 30, 31, 30, 31]\n",
    "        \n",
    "        # 1971-01-01为基准日期，是周五\n",
    "        days = [\n",
    "            'Friday',\n",
    "            'Saturday',\n",
    "            'Sunday',\n",
    "            'Monday',\n",
    "            'Tuesday',\n",
    "            'Wednesday',\n",
    "            'Thursday'\n",
    "        ]\n",
    "\n",
    "        diff = 0\n",
    "        \n",
    "        # 处理年\n",
    "        for i in range(1971, year):\n",
    "            if i % 400 == 0 or (i % 4 == 0 and i % 100 != 0):\n",
    "                diff += 1\n",
    "        diff += (year - 1971) * 365\n",
    "\n",
    "        # 处理月\n",
    "        for m in range(month - 1):\n",
    "            if year % 400 == 0 or (year % 4 == 0 and year % 100 != 0):\n",
    "                diff += leap_months[m]\n",
    "            else:\n",
    "                diff += months[m]\n",
    "        \n",
    "        # 处理日\n",
    "        diff += day - 1\n",
    "        return days[diff % 7]\n",
    "\n",
    "day, month, year = 31, 8, 2019\n",
    "solu = Solution()\n",
    "solu.dayOfTheWeek(day, month, year)"
   ]
  },
  {
   "cell_type": "markdown",
   "metadata": {},
   "source": [
    "### 水壶问题\n",
    "***力扣第365题***  \n",
    "有两个水壶，容量分别为 jug1Capacity 和 jug2Capacity 升。水的供应是无限的。确定是否有可能使用这两个壶准确得到 targetCapacity 升。\n",
    "\n",
    "如果可以得到 targetCapacity 升水，最后请用以上水壶中的一或两个来盛放取得的 targetCapacity 升水。\n",
    "\n",
    "你可以：\n",
    "\n",
    "装满任意一个水壶\n",
    "清空任意一个水壶\n",
    "从一个水壶向另外一个水壶倒水，直到装满或者倒空"
   ]
  },
  {
   "cell_type": "code",
   "execution_count": 21,
   "metadata": {},
   "outputs": [
    {
     "data": {
      "text/plain": [
       "True"
      ]
     },
     "execution_count": 21,
     "metadata": {},
     "output_type": "execute_result"
    }
   ],
   "source": [
    "'''\n",
    "方法一：DFS（超时）\n",
    "\n",
    "时间复杂度：O（xy）\n",
    "空间复杂度：O（xy）\n",
    "'''\n",
    "\n",
    "class Solution:\n",
    "    def canMeasureWater(self, x: int, y: int, z: int) -> bool:\n",
    "\n",
    "        def dfs(x: int, y: int, z: int, state: set) -> bool:\n",
    "\n",
    "            a, b = state\n",
    "            if a == z or b == z or a + b == z:\n",
    "                return True\n",
    "\n",
    "            seen.add((a, b))\n",
    "            states = set()\n",
    "            states.add((x, b)) # 将x的水盛满\n",
    "            states.add((a, y)) # 将y的水盛满\n",
    "            states.add((0, b)) # 将x的水倒空\n",
    "            states.add((a, 0)) # 将y的水倒空\n",
    "            states.add((min(x, b + a), 0 if b < x - a else b - (x-a))) # 将x的水全部倒给y\n",
    "            states.add((0 if a < y - b else a - (y - b), min(b + a, y))) # 将y的水全部倒给x\n",
    "\n",
    "            res = False\n",
    "            for state in states:\n",
    "                if state in seen:\n",
    "                    res |= False\n",
    "                else:\n",
    "                    res |= dfs(x, y, z, state)\n",
    "            return res\n",
    "\n",
    "        if x + y < z:\n",
    "            return False\n",
    "        state = (0, 0)\n",
    "        seen = set(state)\n",
    "        return dfs(x, y, z, state)\n",
    "\n",
    "x, y, z = 3, 5, 4\n",
    "solu = Solution()\n",
    "solu.canMeasureWater(x, y, z)"
   ]
  },
  {
   "cell_type": "code",
   "execution_count": 22,
   "metadata": {},
   "outputs": [
    {
     "data": {
      "text/plain": [
       "True"
      ]
     },
     "execution_count": 22,
     "metadata": {},
     "output_type": "execute_result"
    }
   ],
   "source": [
    "'''\n",
    "方法二：BFS\n",
    "\n",
    "时间复杂度：O（xy）\n",
    "空间复杂度：O（xy）\n",
    "'''\n",
    "\n",
    "class Solution:\n",
    "    def canMeasureWater(self, x: int, y: int, z: int) -> bool:\n",
    "        if x + y < z:\n",
    "            return False\n",
    "        \n",
    "        queue = [(0, 0)]\n",
    "        seen = set((0, 0))\n",
    "\n",
    "        while len(queue) > 0:\n",
    "            a, b = queue.pop(0)\n",
    "            if a == z or b == z or a + b == z:\n",
    "                return True\n",
    "\n",
    "            states = set()\n",
    "\n",
    "            states.add((x, b)) # 将x的水盛满\n",
    "            states.add((a, y)) # 将y的水盛满\n",
    "            states.add((0, b)) # 将x的水倒空\n",
    "            states.add((a, 0)) # 将y的水倒空\n",
    "            states.add((min(x, b + a), 0 if b < x - a else b - (x-a))) # 将x的水全部倒给y\n",
    "            states.add((0 if a < y - b else a - (y - b), min(b + a, y))) # 将y的水全部倒给x\n",
    "\n",
    "            for state in states:\n",
    "                if state in seen:\n",
    "                    continue\n",
    "                queue.append(state)\n",
    "\n",
    "                seen.add(state)\n",
    "        \n",
    "        return False\n",
    "\n",
    "x, y, z = 3, 5, 4\n",
    "solu = Solution()\n",
    "solu.canMeasureWater(x, y, z)"
   ]
  },
  {
   "cell_type": "code",
   "execution_count": 23,
   "metadata": {},
   "outputs": [
    {
     "data": {
      "text/plain": [
       "True"
      ]
     },
     "execution_count": 23,
     "metadata": {},
     "output_type": "execute_result"
    }
   ],
   "source": [
    "'''\n",
    "方法三：最大公约数\n",
    "\n",
    "时间复杂度：O(log(max(a, b)))\n",
    "空间复杂度：O(min(a, b))\n",
    "'''\n",
    "\n",
    "class Solution:\n",
    "    def canMeasureWater(self, x: int, y: int, z: int) -> bool:\n",
    "\n",
    "        if x + y < z:\n",
    "            return False\n",
    "        \n",
    "        if z == 0:\n",
    "            return True\n",
    "        \n",
    "        if x == 0:\n",
    "            return y == z\n",
    "        \n",
    "        if y == 0:\n",
    "            return x == z\n",
    "\n",
    "        def GCD(a: int, b:int) -> int:\n",
    "            return a if b == 0 else GCD(b, a % b)\n",
    "        \n",
    "        return z % GCD(x, y) == 0\n",
    "\n",
    "x, y, z = 3, 5, 4\n",
    "solu = Solution()\n",
    "solu.canMeasureWater(x, y, z)"
   ]
  },
  {
   "cell_type": "markdown",
   "metadata": {},
   "source": [
    "### 可怜的小猪\n",
    "\n",
    "***力扣第458题***  \n",
    "有 buckets 桶液体，其中 正好有一桶 含有毒药，其余装的都是水。它们从外观看起来都一样。为了弄清楚哪只水桶含有毒药，你可以喂一些猪喝，通过观察猪是否会死进行判断。不幸的是，你只有 minutesToTest 分钟时间来确定哪桶液体是有毒的。\n",
    "\n",
    "喂猪的规则如下：\n",
    "\n",
    "选择若干活猪进行喂养\n",
    "可以允许小猪同时饮用任意数量的桶中的水，并且该过程不需要时间。\n",
    "小猪喝完水后，必须有 minutesToDie 分钟的冷却时间。在这段时间里，你只能观察，而不允许继续喂猪。\n",
    "过了 minutesToDie 分钟后，所有喝到毒药的猪都会死去，其他所有猪都会活下来。\n",
    "重复这一过程，直到时间用完。\n",
    "给你桶的数目 buckets ，minutesToDie 和 minutesToTest ，返回 在规定时间内判断哪个桶有毒所需的 最小 猪数 。"
   ]
  },
  {
   "cell_type": "code",
   "execution_count": 24,
   "metadata": {},
   "outputs": [
    {
     "data": {
      "text/plain": [
       "5"
      ]
     },
     "execution_count": 24,
     "metadata": {},
     "output_type": "execute_result"
    }
   ],
   "source": [
    "'''\n",
    "方法一：搜索法\n",
    "\n",
    "时间复杂度：O(logn)\n",
    "空间复杂度：O(1)\n",
    "'''\n",
    "\n",
    "class Solution:\n",
    "    def poorPigs(self, buckets: int, minutesToDie: int, minutesToTest: int) -> int:\n",
    "        cnt = 0\n",
    "        while(minutesToTest // minutesToDie + 1) ** cnt < buckets:\n",
    "            cnt += 1\n",
    "        return cnt\n",
    "\n",
    "buckets, minutesToDie, minutesToTest = 1000, 15, 60\n",
    "solu = Solution()\n",
    "solu.poorPigs(buckets, minutesToDie, minutesToTest)"
   ]
  },
  {
   "cell_type": "code",
   "execution_count": 25,
   "metadata": {},
   "outputs": [
    {
     "data": {
      "text/plain": [
       "5"
      ]
     },
     "execution_count": 25,
     "metadata": {},
     "output_type": "execute_result"
    }
   ],
   "source": [
    "import math\n",
    "'''\n",
    "方法二：n分法\n",
    "\n",
    "时间复杂度：O(logn)\n",
    "空间复杂度：O(1)\n",
    "'''\n",
    "\n",
    "class Solution:\n",
    "    def poorPigs(self, buckets: int, minutesToDie: int, minutesToTest: int) -> int:\n",
    "        states = minutesToTest // minutesToDie + 1\n",
    "        return math.ceil(math.log(buckets) / math.log(states) - 1e-5)\n",
    "\n",
    "buckets, minutesToDie, minutesToTest = 1000, 15, 60\n",
    "solu = Solution()\n",
    "solu.poorPigs(buckets, minutesToDie, minutesToTest)"
   ]
  }
 ],
 "metadata": {
  "kernelspec": {
   "display_name": "base",
   "language": "python",
   "name": "python3"
  },
  "language_info": {
   "codemirror_mode": {
    "name": "ipython",
    "version": 3
   },
   "file_extension": ".py",
   "mimetype": "text/x-python",
   "name": "python",
   "nbconvert_exporter": "python",
   "pygments_lexer": "ipython3",
   "version": "3.9.12"
  },
  "orig_nbformat": 4
 },
 "nbformat": 4,
 "nbformat_minor": 2
}
