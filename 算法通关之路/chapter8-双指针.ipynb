{
 "cells": [
  {
   "attachments": {},
   "cell_type": "markdown",
   "metadata": {},
   "source": [
    "### 盛最多水的容器\n",
    "***力扣第11题***  \n",
    "给定一个长度为 n 的整数数组 height 。有 n 条垂线，第 i 条线的两个端点是 (i, 0) 和 (i, height[i]) 。   \n",
    "找出其中的两条线，使得它们与 x 轴共同构成的容器可以容纳最多的水。    \n",
    "返回容器可以储存的最大水量。  \n",
    "说明：你不能倾斜容器。   "
   ]
  },
  {
   "cell_type": "code",
   "execution_count": 1,
   "metadata": {},
   "outputs": [
    {
     "data": {
      "text/plain": [
       "49"
      ]
     },
     "execution_count": 1,
     "metadata": {},
     "output_type": "execute_result"
    }
   ],
   "source": [
    "'''\n",
    "方法一：暴力法（超时）\n",
    "时间复杂度：O（n2）\n",
    "空间复杂度：O（1）\n",
    "'''\n",
    "class Solution:\n",
    "    def maxArea(self, height: list[int]) -> int:\n",
    "        \n",
    "        def compute_area(idx1, idx2):\n",
    "            return min(height[idx1], height[idx2]) * (idx2 - idx1)\n",
    "        \n",
    "        max_area = 0\n",
    "        for idx1 in range(len(height)):\n",
    "            for idx2 in range(idx1+1, len(height)):\n",
    "                max_area = max(max_area, compute_area(idx1, idx2))\n",
    "        return max_area\n",
    "    \n",
    "height = [1,8,6,2,5,4,8,3,7]\n",
    "solu = Solution()\n",
    "solu.maxArea(height)"
   ]
  },
  {
   "cell_type": "code",
   "execution_count": 2,
   "metadata": {},
   "outputs": [
    {
     "data": {
      "text/plain": [
       "49"
      ]
     },
     "execution_count": 2,
     "metadata": {},
     "output_type": "execute_result"
    }
   ],
   "source": [
    "'''\n",
    "方法二：左右指针\n",
    "时间复杂度：O（n）\n",
    "空间复杂度：O（1）\n",
    "'''\n",
    "class Solution:\n",
    "    def maxArea(self, height: list[int]) -> int:\n",
    "        \n",
    "        def compute_area(idx1, idx2):\n",
    "            return min(height[idx1], height[idx2]) * (idx2 - idx1)\n",
    "        \n",
    "        max_area = 0\n",
    "        left, right = 0, len(height) - 1\n",
    "        while left < right:\n",
    "            max_area = max(max_area, compute_area(left, right)) \n",
    "            if height[left] < height[right]:\n",
    "                left = left + 1\n",
    "            else:\n",
    "                right =  right - 1\n",
    "\n",
    "        return max_area\n",
    "\n",
    "height = [1,8,6,2,5,4,8,3,7]\n",
    "solu = Solution()\n",
    "solu.maxArea(height)"
   ]
  },
  {
   "attachments": {},
   "cell_type": "markdown",
   "metadata": {},
   "source": [
    "### 无重复字符的最长子串\n",
    "***力扣第3题***  \n",
    "给定一个字符串 s ，请你找出其中不含有重复字符的 最长子串 的长度。"
   ]
  },
  {
   "cell_type": "code",
   "execution_count": 3,
   "metadata": {},
   "outputs": [
    {
     "data": {
      "text/plain": [
       "3"
      ]
     },
     "execution_count": 3,
     "metadata": {},
     "output_type": "execute_result"
    }
   ],
   "source": [
    "'''\n",
    "方法一：快慢指针列举所有子串（超时）\n",
    "时间复杂度：O（n3）\n",
    "空间复杂度：O（min（len(s),len(dic)）\n",
    "'''\n",
    "class Solution:\n",
    "    def lengthOfLongestSubstring(self, s: str) -> int:\n",
    "        \n",
    "        def isUnique(s: str)->bool:\n",
    "            dic = dict()\n",
    "            for i in range(0, len(s)):\n",
    "                if s[i] in dic:\n",
    "                    return False\n",
    "                else:\n",
    "                    dic[s[i]] = 1\n",
    "            return True\n",
    "        \n",
    "        res = 0\n",
    "        for i in range(len(s)):\n",
    "            for j in range(i, len(s)):\n",
    "                if isUnique(s[i:j+1]):\n",
    "                    res = max(res, j-i+1)\n",
    "                else:\n",
    "                    break\n",
    "        return res\n",
    "\n",
    "s = \"abcabcbb\"\n",
    "solu = Solution()\n",
    "solu.lengthOfLongestSubstring(s)"
   ]
  },
  {
   "cell_type": "code",
   "execution_count": 5,
   "metadata": {},
   "outputs": [
    {
     "data": {
      "text/plain": [
       "3"
      ]
     },
     "execution_count": 5,
     "metadata": {},
     "output_type": "execute_result"
    }
   ],
   "source": [
    "'''\n",
    "方法二：快慢指针（优化方法一，set代替dict优化时间）\n",
    "时间复杂度：O（n2）\n",
    "空间复杂度：O（len(ch_set)）\n",
    "'''\n",
    "class Solution:\n",
    "    def lengthOfLongestSubstring(self, s: str) -> int:\n",
    "        \n",
    "        res, left, right = 0, 0, 0\n",
    "        while left < len(s):\n",
    "            ch_set = set()\n",
    "            right = left\n",
    "            while right < len(s):\n",
    "                if s[right] in ch_set:\n",
    "                    break\n",
    "                else:\n",
    "                    ch_set.add(s[right])\n",
    "                    res = max(res, right-left+1)\n",
    "                    right += 1\n",
    "            left += 1       \n",
    "        return res\n",
    "\n",
    "s = \"abcabcbb\"\n",
    "solu = Solution()\n",
    "solu.lengthOfLongestSubstring(s)"
   ]
  },
  {
   "cell_type": "code",
   "execution_count": 7,
   "metadata": {},
   "outputs": [
    {
     "data": {
      "text/plain": [
       "3"
      ]
     },
     "execution_count": 7,
     "metadata": {},
     "output_type": "execute_result"
    }
   ],
   "source": [
    "'''\n",
    "方法三：快慢指针（优化方法二，left自增跳过重复子串）\n",
    "时间复杂度：O（n2）\n",
    "空间复杂度：O（len(ch_set)）\n",
    "'''\n",
    "class Solution:\n",
    "    def lengthOfLongestSubstring(self, s: str) -> int:\n",
    "        res, left, right = 0, 0, 0\n",
    "        ch_set = set()\n",
    "        while right < len(s):\n",
    "            if s[right] in ch_set:\n",
    "                while left < right:\n",
    "                    ch_set.discard(s[left])\n",
    "                    if s[left] == s[right]:\n",
    "                        left += 1\n",
    "                        break\n",
    "                    left += 1\n",
    "            ch_set.add(s[right])\n",
    "            res = max(res, right-left+1)\n",
    "            right += 1\n",
    "        return res\n",
    "\n",
    "s = \"abcabcbb\"\n",
    "solu = Solution()\n",
    "solu.lengthOfLongestSubstring(s)"
   ]
  },
  {
   "cell_type": "code",
   "execution_count": 6,
   "metadata": {},
   "outputs": [
    {
     "data": {
      "text/plain": [
       "3"
      ]
     },
     "execution_count": 6,
     "metadata": {},
     "output_type": "execute_result"
    }
   ],
   "source": [
    "'''\n",
    "方法四：滑动窗口（优化方法三，dict存储right下标，left直接跳过重复子串）\n",
    "时间复杂度：O（n2）\n",
    "空间复杂度：O（len(dic)）\n",
    "'''\n",
    "class Solution:\n",
    "    def lengthOfLongestSubstring(self, s: str) -> int:\n",
    "        res, left, right = 0, 0, 0\n",
    "        dic = dict()\n",
    "        while right < len(s) and left + res < len(s):\n",
    "            if s[right] in dic:\n",
    "                left = max(left, dic[s[right]]+1)\n",
    "            dic[s[right]] = right\n",
    "            res = max(res, right-left+1)\n",
    "            right += 1\n",
    "        return res\n",
    "\n",
    "s = \"abcabcbb\"\n",
    "solu = Solution()\n",
    "solu.lengthOfLongestSubstring(s)"
   ]
  }
 ],
 "metadata": {
  "kernelspec": {
   "display_name": "base",
   "language": "python",
   "name": "python3"
  },
  "language_info": {
   "codemirror_mode": {
    "name": "ipython",
    "version": 3
   },
   "file_extension": ".py",
   "mimetype": "text/x-python",
   "name": "python",
   "nbconvert_exporter": "python",
   "pygments_lexer": "ipython3",
   "version": "3.9.12"
  },
  "orig_nbformat": 4
 },
 "nbformat": 4,
 "nbformat_minor": 2
}
