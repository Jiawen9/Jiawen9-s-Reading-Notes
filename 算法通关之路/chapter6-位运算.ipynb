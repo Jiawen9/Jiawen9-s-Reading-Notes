{
 "cells": [
  {
   "attachments": {},
   "cell_type": "markdown",
   "metadata": {},
   "source": [
    "### 位1的个数 \n",
    "***力扣第191题***  \n",
    "编写一个函数，输入是一个无符号整数（以二进制串的形式），返回其二进制表达式中数字位数为 '1' 的个数（也被称为汉明重量）。"
   ]
  },
  {
   "cell_type": "code",
   "execution_count": 32,
   "metadata": {},
   "outputs": [
    {
     "data": {
      "text/plain": [
       "3"
      ]
     },
     "execution_count": 32,
     "metadata": {},
     "output_type": "execute_result"
    }
   ],
   "source": [
    "'''\n",
    "方法一：循环和位移动\n",
    "时间复杂度：O（1）\n",
    "空间复杂度：O（1）\n",
    "'''\n",
    "class Solution:\n",
    "    def hammingWeight(self, n: int) -> int:\n",
    "        retval = 0\n",
    "        for i in range(32):\n",
    "            if n & (1 << i):\n",
    "                retval += 1\n",
    "        return retval\n",
    "    \n",
    "n = 0b00000000000000000000000000001011\n",
    "solu = Solution()\n",
    "solu.hammingWeight(n)"
   ]
  },
  {
   "cell_type": "code",
   "execution_count": 34,
   "metadata": {},
   "outputs": [
    {
     "data": {
      "text/plain": [
       "3"
      ]
     },
     "execution_count": 34,
     "metadata": {},
     "output_type": "execute_result"
    }
   ],
   "source": [
    "'''\n",
    "方法二：翻转最低有效比特为1的比特为0 -> \"n & (n - 1)\"\n",
    "时间复杂度：O（1）\n",
    "空间复杂度：O（1）\n",
    "'''\n",
    "class Solution:\n",
    "    def hammingWeight(self, n: int) -> int:\n",
    "        retval = 0\n",
    "        while n:\n",
    "            retval += 1\n",
    "            n &= n - 1\n",
    "        return retval\n",
    "\n",
    "n = 0b00000000000000000000000000001011\n",
    "solu = Solution()\n",
    "solu.hammingWeight(n)"
   ]
  },
  {
   "attachments": {},
   "cell_type": "markdown",
   "metadata": {},
   "source": [
    "### 两整数之和\n",
    "***力扣第371题***  \n",
    "给你两个整数 a 和 b ，不使用 运算符 + 和 - ​​​​​​​，计算并返回两整数之和。"
   ]
  },
  {
   "cell_type": "code",
   "execution_count": 36,
   "metadata": {},
   "outputs": [
    {
     "data": {
      "text/plain": [
       "3"
      ]
     },
     "execution_count": 36,
     "metadata": {},
     "output_type": "execute_result"
    }
   ],
   "source": [
    "'''\n",
    "方法二：位运算\n",
    "时间复杂度：O（1）\n",
    "空间复杂度：O（1）\n",
    "'''\n",
    "class Solution:\n",
    "    def getSum(self, a: int, b: int) -> int:\n",
    "        mask = 0xFFFFFFFF\n",
    "\n",
    "        while b & mask != 0:\n",
    "            carry = (a & b) << 1 # 对应位进位值的计算\n",
    "            a = a ^ b # 对应值原位值的计算\n",
    "            b = carry\n",
    "        \n",
    "        if b > mask:\n",
    "            return a & mask\n",
    "        else:\n",
    "            return a\n",
    "\n",
    "a, b = 1, 2\n",
    "solu = Solution()\n",
    "solu.getSum(a, b)"
   ]
  },
  {
   "attachments": {},
   "cell_type": "markdown",
   "metadata": {},
   "source": [
    "### 整数替换\n",
    "***力扣第397题***  \n",
    "给定一个正整数 n ，你可以做如下操作：   \n",
    "如果 n 是偶数，则用 n / 2替换 n 。   \n",
    "如果 n 是奇数，则可以用 n + 1或n - 1替换 n 。   \n",
    "返回 n 变为 1 所需的 最小替换次数 。   "
   ]
  },
  {
   "cell_type": "code",
   "execution_count": 1,
   "metadata": {},
   "outputs": [
    {
     "data": {
      "text/plain": [
       "3"
      ]
     },
     "execution_count": 1,
     "metadata": {},
     "output_type": "execute_result"
    }
   ],
   "source": [
    "'''\n",
    "方法一：递归法\n",
    "时间复杂度：O（logn）\n",
    "空间复杂度：O（1）\n",
    "'''\n",
    "class Solution:\n",
    "    def integerReplacement(self, n: int) -> int:\n",
    "\n",
    "        def dfs(n, cnt):\n",
    "            if n == 1:\n",
    "                return cnt\n",
    "            if n & 1 == 0:\n",
    "                return dfs(n//2, cnt+1)\n",
    "            else:\n",
    "                return min(dfs(n-1, cnt+1), dfs(n+1, cnt+1))\n",
    "        \n",
    "        cnt = 0\n",
    "        return dfs(n, cnt)\n",
    "\n",
    "n = 8\n",
    "solu = Solution()\n",
    "solu.integerReplacement(n)"
   ]
  },
  {
   "cell_type": "code",
   "execution_count": 1,
   "metadata": {},
   "outputs": [
    {
     "data": {
      "text/plain": [
       "3"
      ]
     },
     "execution_count": 1,
     "metadata": {},
     "output_type": "execute_result"
    }
   ],
   "source": [
    "'''\n",
    "方法二：位操作法-使用3（对比5和7就懂了）\n",
    "时间复杂度：O（logn）\n",
    "空间复杂度：O（1）\n",
    "'''\n",
    "class Solution:\n",
    "    def integerReplacement(self, n: int) -> int:\n",
    "        if n == 1:\n",
    "            return 0\n",
    "        cnt = 0\n",
    "\n",
    "        while n > 3:\n",
    "            if n & 1 == 0:\n",
    "                n >>= 1\n",
    "            elif n & 3 == 3:\n",
    "                n += 1\n",
    "            else:\n",
    "                n -= 1\n",
    "            cnt += 1\n",
    "        \n",
    "        return cnt + 2 if n == 3 else cnt + 1\n",
    "\n",
    "n = 8\n",
    "solu = Solution()\n",
    "solu.integerReplacement(n)"
   ]
  },
  {
   "cell_type": "code",
   "execution_count": 2,
   "metadata": {},
   "outputs": [
    {
     "data": {
      "text/plain": [
       "3"
      ]
     },
     "execution_count": 2,
     "metadata": {},
     "output_type": "execute_result"
    }
   ],
   "source": [
    "'''\n",
    "方法三：位操作法-使用2\n",
    "时间复杂度：O（logn）\n",
    "空间复杂度：O（1）\n",
    "'''\n",
    "class Solution:\n",
    "    def integerReplacement(self, n: int) -> int:\n",
    "        cnt = 0\n",
    "\n",
    "        while n != 1:\n",
    "            if n & 1 == 0:\n",
    "                n >>= 1\n",
    "            else:\n",
    "                if n & 2 == 0 or n == 3:\n",
    "                    n -= 1\n",
    "                else:\n",
    "                    n += 1\n",
    "            cnt += 1\n",
    "        \n",
    "        return cnt\n",
    "\n",
    "n = 8\n",
    "solu = Solution()\n",
    "solu.integerReplacement(n)"
   ]
  },
  {
   "attachments": {},
   "cell_type": "markdown",
   "metadata": {},
   "source": [
    "### 只出现一次的数字\n",
    "***力扣第136题***  \n",
    "给你一个 非空 整数数组 nums ，除了某个元素只出现一次以外，其余每个元素均出现两次。找出那个只出现了一次的元素。   \n",
    "你必须设计并实现线性时间复杂度的算法来解决此问题，且该算法只使用常量额外空间。   "
   ]
  },
  {
   "cell_type": "code",
   "execution_count": 3,
   "metadata": {},
   "outputs": [
    {
     "data": {
      "text/plain": [
       "1"
      ]
     },
     "execution_count": 3,
     "metadata": {},
     "output_type": "execute_result"
    }
   ],
   "source": [
    "'''\n",
    "方法一：dict\n",
    "时间复杂度：O（n）\n",
    "空间复杂度：O（n）\n",
    "'''\n",
    "class Solution:\n",
    "    def singleNumber(self, nums: list[int]) -> int:\n",
    "        num_dict = {}\n",
    "        for num in nums:\n",
    "            if not num_dict.get(num):\n",
    "                num_dict[num] = 0\n",
    "            num_dict[num] += 1\n",
    "        for key, value in num_dict.items():\n",
    "            if value == 1:\n",
    "                return key\n",
    "\n",
    "nums = [2,2,1]\n",
    "solu = Solution()\n",
    "solu.singleNumber(nums)"
   ]
  },
  {
   "cell_type": "code",
   "execution_count": 4,
   "metadata": {},
   "outputs": [
    {
     "data": {
      "text/plain": [
       "1"
      ]
     },
     "execution_count": 4,
     "metadata": {},
     "output_type": "execute_result"
    }
   ],
   "source": [
    "'''\n",
    "方法二：异或操作（异或满足交换律）\n",
    "时间复杂度：O（n）\n",
    "空间复杂度：O（1）\n",
    "'''\n",
    "class Solution:\n",
    "    def singleNumber(self, nums: list[int]) -> int:\n",
    "        res = 0\n",
    "        for num in nums:\n",
    "            res ^= num\n",
    "        return res\n",
    "\n",
    "nums = [2,2,1]\n",
    "solu = Solution()\n",
    "solu.singleNumber(nums)"
   ]
  },
  {
   "cell_type": "code",
   "execution_count": 5,
   "metadata": {},
   "outputs": [
    {
     "data": {
      "text/plain": [
       "1"
      ]
     },
     "execution_count": 5,
     "metadata": {},
     "output_type": "execute_result"
    }
   ],
   "source": [
    "'''\n",
    "方法三：数学法\n",
    "时间复杂度：O（n）\n",
    "空间复杂度：O（n）\n",
    "'''\n",
    "class Solution:\n",
    "    def singleNumber(self, nums: list[int]) -> int:\n",
    "        return 2*sum(set(nums)) - sum(nums) # set去重\n",
    "\n",
    "nums = [2,2,1]\n",
    "solu = Solution()\n",
    "solu.singleNumber(nums)"
   ]
  },
  {
   "attachments": {},
   "cell_type": "markdown",
   "metadata": {},
   "source": [
    "### 只出现一次的数字 II\n",
    "***力扣第137题***  \n",
    "给你一个整数数组 nums ，除某个元素仅出现 一次 外，其余每个元素都恰出现 三次 。请你找出并返回那个只出现了一次的元素。   \n",
    "你必须设计并实现线性时间复杂度的算法且不使用额外空间来解决此问题。    "
   ]
  },
  {
   "cell_type": "code",
   "execution_count": 7,
   "metadata": {},
   "outputs": [
    {
     "data": {
      "text/plain": [
       "3"
      ]
     },
     "execution_count": 7,
     "metadata": {},
     "output_type": "execute_result"
    }
   ],
   "source": [
    "'''\n",
    "方法一：位运算\n",
    "时间复杂度：O（n）\n",
    "空间复杂度：O（1）\n",
    "'''\n",
    "class Solution:\n",
    "    def singleNumber(self, nums: list[int]) -> int:\n",
    "        counts = [0] * 32 # 统计nums中每个元素的二进制形式中对应位上1的个数\n",
    "        for num in nums:\n",
    "            for j in range(32):\n",
    "                counts[j] += num & 1\n",
    "                num >>= 1\n",
    "        res = 0\n",
    "        for i in range(32):\n",
    "            res <<= 1\n",
    "            res |= counts[31 - i] % 3\n",
    "        \n",
    "        return res if counts[31] % 3 == 0 else ~(res ^ 0xffffffff)\n",
    "\n",
    "nums = [2,2,3,2]\n",
    "solu = Solution()\n",
    "solu.singleNumber(nums)"
   ]
  },
  {
   "cell_type": "code",
   "execution_count": 10,
   "metadata": {},
   "outputs": [
    {
     "data": {
      "text/plain": [
       "3"
      ]
     },
     "execution_count": 10,
     "metadata": {},
     "output_type": "execute_result"
    }
   ],
   "source": [
    "'''\n",
    "方法二：位运算\n",
    "时间复杂度：O（n）\n",
    "空间复杂度：O（1）\n",
    "'''\n",
    "class Solution:\n",
    "    def singleNumber(self, nums: list[int]) -> int:\n",
    "        one, two = 0, 0\n",
    "        for num in nums:\n",
    "            two |= one & num # two中相应的位等于1，表示该位出现2次\n",
    "            one ^= num # one中相应的位等于1，表示该位出现1次\n",
    "            three = one & two # three中相应的位等于1，表示该位出现过3次\n",
    "            # 出现过三次的位重置为0\n",
    "            two &= ~three\n",
    "            one &= ~three\n",
    "        return one\n",
    "\n",
    "\n",
    "nums = [2,2,3,2]\n",
    "solu = Solution()\n",
    "solu.singleNumber(nums)"
   ]
  },
  {
   "cell_type": "code",
   "execution_count": 8,
   "metadata": {},
   "outputs": [
    {
     "data": {
      "text/plain": [
       "3"
      ]
     },
     "execution_count": 8,
     "metadata": {},
     "output_type": "execute_result"
    }
   ],
   "source": [
    "'''\n",
    "方法三：数学法\n",
    "时间复杂度：O（n）\n",
    "空间复杂度：O（n）\n",
    "'''\n",
    "class Solution:\n",
    "    def singleNumber(self, nums: list[int]) -> int:\n",
    "        return (sum(set(nums)) * 3 - sum(nums)) // 2\n",
    "\n",
    "nums = [2,2,3,2]\n",
    "solu = Solution()\n",
    "solu.singleNumber(nums)"
   ]
  },
  {
   "attachments": {},
   "cell_type": "markdown",
   "metadata": {},
   "source": [
    "### 只出现一次的数字 III\n",
    "***力扣第260题***  \n",
    "给你一个整数数组 nums，其中恰好有两个元素只出现一次，其余所有元素均出现两次。 找出只出现一次的那两个元素。你可以按 任意顺序 返回答案。   \n",
    "你必须设计并实现线性时间复杂度的算法且仅使用常量额外空间来解决此问题。    "
   ]
  },
  {
   "cell_type": "code",
   "execution_count": 11,
   "metadata": {},
   "outputs": [
    {
     "data": {
      "text/plain": [
       "[5, 3]"
      ]
     },
     "execution_count": 11,
     "metadata": {},
     "output_type": "execute_result"
    }
   ],
   "source": [
    "class Solution:\n",
    "    def singleNumber(self, nums: list[int]) -> list[int]:\n",
    "        res = 0 # 所有数字异或的结果\n",
    "        a, b = 0, 0\n",
    "        for num in nums:\n",
    "            res ^= num\n",
    "        # 找到第一个位不是0的\n",
    "        h = 1\n",
    "        while res & h == 0:\n",
    "            h <<= 1\n",
    "        for num in nums:\n",
    "            if h & num == 0:\n",
    "                a ^= num\n",
    "            else:\n",
    "                b ^= num\n",
    "        return [a, b]\n",
    "\n",
    "\n",
    "nums = [1,2,1,3,2,5]\n",
    "solu = Solution()\n",
    "solu.singleNumber(nums)"
   ]
  }
 ],
 "metadata": {
  "kernelspec": {
   "display_name": "base",
   "language": "python",
   "name": "python3"
  },
  "language_info": {
   "codemirror_mode": {
    "name": "ipython",
    "version": 3
   },
   "file_extension": ".py",
   "mimetype": "text/x-python",
   "name": "python",
   "nbconvert_exporter": "python",
   "pygments_lexer": "ipython3",
   "version": "3.9.12"
  },
  "orig_nbformat": 4
 },
 "nbformat": 4,
 "nbformat_minor": 2
}
