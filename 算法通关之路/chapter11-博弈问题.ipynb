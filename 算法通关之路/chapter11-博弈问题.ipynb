{
 "cells": [
  {
   "attachments": {},
   "cell_type": "markdown",
   "metadata": {},
   "source": [
    "### 石子游戏\n",
    "***力扣第877题***  \n",
    "Alice 和 Bob 用几堆石子在做游戏。一共有偶数堆石子，排成一行；每堆都有 正 整数颗石子，数目为 piles[i] 。   \n",
    "游戏以谁手中的石子最多来决出胜负。石子的 总数 是 奇数 ，所以没有平局。   \n",
    "Alice 和 Bob 轮流进行，Alice 先开始 。 每回合，玩家从行的 开始 或 结束 处取走整堆石头。 这种情况一直持续到没有更多的石子堆为止，此时手中石子最多的玩家获胜 。   \n",
    "假设 Alice 和 Bob 都发挥出最佳水平，当 Alice 赢得比赛时返回 true ，当 Bob 赢得比赛时返回 false 。    "
   ]
  },
  {
   "cell_type": "code",
   "execution_count": 2,
   "metadata": {},
   "outputs": [
    {
     "data": {
      "text/plain": [
       "True"
      ]
     },
     "execution_count": 2,
     "metadata": {},
     "output_type": "execute_result"
    }
   ],
   "source": [
    "'''\n",
    "方法一：记忆化递归\n",
    "时间复杂度：O（n2）\n",
    "空间复杂度：O（n2）\n",
    "'''\n",
    "class Solution:\n",
    "    def stoneGame(self, piles: list[int]) -> bool:\n",
    "        \n",
    "        def find_max(left: int, right: int, piles: list[int], mem: list[list[int]]) -> int:\n",
    "            if left < 0 or right < 0 or left > right:\n",
    "                return 0\n",
    "            if mem[left][right] != 0:\n",
    "                return mem[left][right]\n",
    "            if left == right:\n",
    "                mem[left][right] = piles[left]\n",
    "                return piles[left]\n",
    "            \n",
    "            # 零和博弈：最大化己方收益，最小化对方收益\n",
    "            max_stone = max(\n",
    "                piles[left] + min(\n",
    "                    find_max(left+2, right, piles, mem),\n",
    "                    find_max(left+1, right-1, piles, mem)\n",
    "                ),\n",
    "                piles[right] + min(\n",
    "                    find_max(left+1, right-1, piles, mem),\n",
    "                    find_max(left, right-2, piles, mem)\n",
    "                )\n",
    "            )\n",
    "            mem[left][right] = max_stone\n",
    "            return max_stone\n",
    "        \n",
    "        mem = [[0] * len(piles) for _ in range(len(piles))]\n",
    "        return 2 * find_max(0, len(piles) - 1, piles, mem) > sum(piles)\n",
    "\n",
    "piles = [5,3,4,5]\n",
    "solu = Solution()\n",
    "solu.stoneGame(piles)"
   ]
  },
  {
   "attachments": {},
   "cell_type": "markdown",
   "metadata": {},
   "source": [
    "### 预测赢家\n",
    "***力扣第486题***  \n",
    "给你一个整数数组 nums 。玩家 1 和玩家 2 基于这个数组设计了一个游戏。   \n",
    "玩家 1 和玩家 2 轮流进行自己的回合，玩家 1 先手。开始时，两个玩家的初始分值都是 0 。每一回合，玩家从数组的任意一端取一个数字（即，nums[0] 或 nums[nums.length - 1]），取到的数字将会从数组中移除（数组长度减 1 ）。玩家选中的数字将会加到他的得分上。当数组中没有剩余数字可取时，游戏结束。   \n",
    "如果玩家 1 能成为赢家，返回 true 。如果两个玩家得分相等，同样认为玩家 1 是游戏的赢家，也返回 true 。你可以假设每个玩家的玩法都会使他的分数最大化。   "
   ]
  },
  {
   "cell_type": "code",
   "execution_count": 2,
   "metadata": {},
   "outputs": [
    {
     "data": {
      "text/plain": [
       "False"
      ]
     },
     "execution_count": 2,
     "metadata": {},
     "output_type": "execute_result"
    }
   ],
   "source": [
    "'''\n",
    "方法一：记忆化递归\n",
    "时间复杂度：O（n2）\n",
    "空间复杂度：O（n2）\n",
    "'''\n",
    "class Solution:\n",
    "    def PredictTheWinner(self, nums: list[int]) -> bool:\n",
    "        \n",
    "        def find_max(left: int, right: int, piles: list[int], mem: list[list[int]]) -> int:\n",
    "            if left < 0 or right < 0 or left > right:\n",
    "                return 0\n",
    "            if mem[left][right] != 0:\n",
    "                return mem[left][right]\n",
    "            if left == right:\n",
    "                mem[left][right] = piles[left]\n",
    "                return piles[left]\n",
    "            \n",
    "            # 零和博弈：最大化己方收益，最小化对方收益\n",
    "            max_num = max(\n",
    "                piles[left] + min(\n",
    "                    find_max(left+2, right, piles, mem),\n",
    "                    find_max(left+1, right-1, piles, mem)\n",
    "                ),\n",
    "                piles[right] + min(\n",
    "                    find_max(left+1, right-1, piles, mem),\n",
    "                    find_max(left, right-2, piles, mem)\n",
    "                )\n",
    "            )\n",
    "            mem[left][right] = max_num\n",
    "            return max_num\n",
    "        \n",
    "        mem = [[0] * len(nums) for _ in range(len(nums))]\n",
    "        return 2 * find_max(0, len(nums) - 1, nums, mem) >= sum(nums)\n",
    "\n",
    "nums = [1,5,2]\n",
    "solu = Solution()\n",
    "solu.PredictTheWinner(nums)"
   ]
  },
  {
   "cell_type": "code",
   "execution_count": 3,
   "metadata": {},
   "outputs": [
    {
     "data": {
      "text/plain": [
       "False"
      ]
     },
     "execution_count": 3,
     "metadata": {},
     "output_type": "execute_result"
    }
   ],
   "source": [
    "'''\n",
    "方法二：动态规划\n",
    "时间复杂度：O（n2）\n",
    "空间复杂度：O（n2）\n",
    "'''\n",
    "class Solution:\n",
    "    def PredictTheWinner(self, nums: list[int]) -> bool:\n",
    "        n = len(nums)\n",
    "        dp = [[0] *n for _ in range(n)]\n",
    "\n",
    "        for i in range(n):\n",
    "            dp[i][i] = nums[i]\n",
    "        \n",
    "        for i in range(n-1, -1, -1):\n",
    "            for j in range(i+1, n):\n",
    "                dp[i][j] = max(nums[i] - dp[i+1][j], nums[j]-dp[i][j-1])\n",
    "        return dp[0][n-1] >= 0\n",
    "\n",
    "nums = [1,5,2]\n",
    "solu = Solution()\n",
    "solu.PredictTheWinner(nums)"
   ]
  },
  {
   "cell_type": "code",
   "execution_count": 4,
   "metadata": {},
   "outputs": [
    {
     "data": {
      "text/plain": [
       "False"
      ]
     },
     "execution_count": 4,
     "metadata": {},
     "output_type": "execute_result"
    }
   ],
   "source": [
    "'''\n",
    "方法三：动态规划(滚动数组优化)\n",
    "时间复杂度：O（n2）\n",
    "空间复杂度：O（n）\n",
    "'''\n",
    "class Solution:\n",
    "    def PredictTheWinner(self, nums: list[int]) -> bool:\n",
    "        n = len(nums)\n",
    "        if n % 2 == 0:\n",
    "            return True\n",
    "        dp = [0] *n \n",
    "        for i in range(n-1, -1, -1):\n",
    "            dp[i] = nums[i]\n",
    "            for j in range(i+1, n):\n",
    "                dp[j] = max(nums[i] - dp[j], nums[j] - dp[j-1])\n",
    "        return dp[-1] >= 0\n",
    "\n",
    "nums = [1,5,2]\n",
    "solu = Solution()\n",
    "solu.PredictTheWinner(nums)"
   ]
  },
  {
   "attachments": {},
   "cell_type": "markdown",
   "metadata": {},
   "source": [
    "### Nim 游戏\n",
    "***力扣第292题***  \n",
    "你和你的朋友，两个人一起玩 Nim 游戏：   \n",
    "桌子上有一堆石头。   \n",
    "你们轮流进行自己的回合， 你作为先手 。   \n",
    "每一回合，轮到的人拿掉 1 - 3 块石头。   \n",
    "拿掉最后一块石头的人就是获胜者。   \n",
    "假设你们每一步都是最优解。请编写一个函数，来判断你是否可以在给定石头数量为 n 的情况下赢得游戏。如果可以赢，返回 true；否则，返回 false 。   "
   ]
  },
  {
   "cell_type": "code",
   "execution_count": 9,
   "metadata": {},
   "outputs": [
    {
     "data": {
      "text/plain": [
       "False"
      ]
     },
     "execution_count": 9,
     "metadata": {},
     "output_type": "execute_result"
    }
   ],
   "source": [
    "'''\n",
    "方法一：自底向上（超时）\n",
    "时间复杂度：O（n）\n",
    "空间复杂度：O（n）\n",
    "'''\n",
    "class Solution:\n",
    "    def canWinNim(self, n: int) -> bool:\n",
    "        if n < 4:\n",
    "            return True\n",
    "        mem = [True] * (n + 1) # True意味着你的朋友可以赢\n",
    "        for i in range(4, n+1):\n",
    "            if not (mem[i-1] and mem[i-2] and mem[i-3]): # 能否找到剩下几个石子可以赢得比赛\n",
    "                mem[i] = True\n",
    "            else:\n",
    "                mem[i]  = False\n",
    "        return mem[n]\n",
    "\n",
    "n = 8\n",
    "solu = Solution()\n",
    "solu.canWinNim(n)"
   ]
  },
  {
   "cell_type": "code",
   "execution_count": 10,
   "metadata": {},
   "outputs": [
    {
     "data": {
      "text/plain": [
       "False"
      ]
     },
     "execution_count": 10,
     "metadata": {},
     "output_type": "execute_result"
    }
   ],
   "source": [
    "'''\n",
    "方法二：优化空间（超时）\n",
    "时间复杂度：O（n）\n",
    "空间复杂度：O（1）\n",
    "'''\n",
    "class Solution:\n",
    "    def canWinNim(self, n: int) -> bool:\n",
    "        a, b, c = True, True, True # True意味着你的朋友可以赢\n",
    "        for i in range(4, n+1):\n",
    "            a, b, c = b, c, not (a and b and c)\n",
    "        return c\n",
    "\n",
    "n = 8\n",
    "solu = Solution()\n",
    "solu.canWinNim(n)"
   ]
  },
  {
   "cell_type": "code",
   "execution_count": 11,
   "metadata": {},
   "outputs": [
    {
     "data": {
      "text/plain": [
       "False"
      ]
     },
     "execution_count": 11,
     "metadata": {},
     "output_type": "execute_result"
    }
   ],
   "source": [
    "'''\n",
    "方法三：找规律\n",
    "时间复杂度：O（1）\n",
    "空间复杂度：O（1）\n",
    "'''\n",
    "class Solution:\n",
    "    def canWinNim(self, n: int) -> bool:\n",
    "        return n % 4 != 0\n",
    "\n",
    "n = 8\n",
    "solu = Solution()\n",
    "solu.canWinNim(n)"
   ]
  },
  {
   "attachments": {},
   "cell_type": "markdown",
   "metadata": {},
   "source": [
    "### 猜数字大小 II\n",
    "***力扣第375题***  \n",
    "我们正在玩一个猜数游戏，游戏规则如下：   \n",
    "我从 1 到 n 之间选择一个数字。   \n",
    "你来猜我选了哪个数字。   \n",
    "如果你猜到正确的数字，就会 赢得游戏 。   \n",
    "如果你猜错了，那么我会告诉你，我选的数字比你的 更大或者更小 ，并且你需要继续猜数。   \n",
    "每当你猜了数字 x 并且猜错了的时候，你需要支付金额为 x 的现金。如果你花光了钱，就会 输掉游戏 。   \n",
    "给你一个特定的数字 n ，返回能够 确保你获胜 的最小现金数，不管我选择那个数字 。   "
   ]
  },
  {
   "cell_type": "code",
   "execution_count": 14,
   "metadata": {},
   "outputs": [
    {
     "data": {
      "text/plain": [
       "16"
      ]
     },
     "execution_count": 14,
     "metadata": {},
     "output_type": "execute_result"
    }
   ],
   "source": [
    "'''\n",
    "方法一：暴力法(超时)\n",
    "时间复杂度：O（n!）\n",
    "空间复杂度：O（n）\n",
    "'''\n",
    "class Solution:\n",
    "    # 极小极大法：选最好的数字遇最坏的情况\n",
    "    def getMoneyAmount(self, n: int) -> int:\n",
    "\n",
    "        def cost(low, high):\n",
    "            if low >= high:\n",
    "                return 0\n",
    "            res = float('inf')\n",
    "            for i in range(low, high + 1):\n",
    "                tmp = i + max(cost(low, i-1), cost(i+1, high)) # 遭遇最坏情况\n",
    "                res = min(res, tmp) # 选花费最少的数字\n",
    "            return res\n",
    "        \n",
    "        return cost(1, n)\n",
    "    \n",
    "n = 10\n",
    "solu = Solution()\n",
    "solu.getMoneyAmount(n)"
   ]
  },
  {
   "cell_type": "code",
   "execution_count": 13,
   "metadata": {},
   "outputs": [
    {
     "data": {
      "text/plain": [
       "16"
      ]
     },
     "execution_count": 13,
     "metadata": {},
     "output_type": "execute_result"
    }
   ],
   "source": [
    "'''\n",
    "方法二：记忆化递归\n",
    "空间复杂度：O（n2）\n",
    "'''\n",
    "class Solution:\n",
    "    def getMoneyAmount(self, n: int) -> int:\n",
    "        mem = [[0] * (n+1) for _ in range(n+1)]\n",
    "\n",
    "        def cost(low, high):\n",
    "            if low >= high:\n",
    "                return 0\n",
    "            if mem[low][high] != 0:\n",
    "                return mem[low][high]\n",
    "            res = float('inf')\n",
    "            for i in range((low+high)//2, high + 1): # 从右侧区域开始查找的开销一定大于左侧\n",
    "                tmp = i + max(cost(low, i-1), cost(i+1, high)) # 遭遇最坏情况\n",
    "                res = min(res, tmp) # 选花费最少的数字\n",
    "            mem[low][high] = res\n",
    "            return res\n",
    "        \n",
    "        return cost(1, n)\n",
    "\n",
    "n = 10\n",
    "solu = Solution()\n",
    "solu.getMoneyAmount(n)"
   ]
  }
 ],
 "metadata": {
  "kernelspec": {
   "display_name": "base",
   "language": "python",
   "name": "python3"
  },
  "language_info": {
   "codemirror_mode": {
    "name": "ipython",
    "version": 3
   },
   "file_extension": ".py",
   "mimetype": "text/x-python",
   "name": "python",
   "nbconvert_exporter": "python",
   "pygments_lexer": "ipython3",
   "version": "3.9.12"
  },
  "orig_nbformat": 4
 },
 "nbformat": 4,
 "nbformat_minor": 2
}
