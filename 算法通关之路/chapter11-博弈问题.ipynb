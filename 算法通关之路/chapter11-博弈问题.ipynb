{
 "cells": [
  {
   "attachments": {},
   "cell_type": "markdown",
   "metadata": {},
   "source": [
    "### 石子游戏\n",
    "***力扣第877题***  \n",
    "Alice 和 Bob 用几堆石子在做游戏。一共有偶数堆石子，排成一行；每堆都有 正 整数颗石子，数目为 piles[i] 。   \n",
    "游戏以谁手中的石子最多来决出胜负。石子的 总数 是 奇数 ，所以没有平局。   \n",
    "Alice 和 Bob 轮流进行，Alice 先开始 。 每回合，玩家从行的 开始 或 结束 处取走整堆石头。 这种情况一直持续到没有更多的石子堆为止，此时手中石子最多的玩家获胜 。   \n",
    "假设 Alice 和 Bob 都发挥出最佳水平，当 Alice 赢得比赛时返回 true ，当 Bob 赢得比赛时返回 false 。    "
   ]
  },
  {
   "cell_type": "code",
   "execution_count": 2,
   "metadata": {},
   "outputs": [
    {
     "data": {
      "text/plain": [
       "True"
      ]
     },
     "execution_count": 2,
     "metadata": {},
     "output_type": "execute_result"
    }
   ],
   "source": [
    "'''\n",
    "方法一：记忆化递归\n",
    "时间复杂度：O（n2）\n",
    "空间复杂度：O（n2）\n",
    "'''\n",
    "class Solution:\n",
    "    def stoneGame(self, piles: list[int]) -> bool:\n",
    "        \n",
    "        def find_max(left: int, right: int, piles: list[int], mem: list[list[int]]) -> int:\n",
    "            if left < 0 or right < 0 or left > right:\n",
    "                return 0\n",
    "            if mem[left][right] != 0:\n",
    "                return mem[left][right]\n",
    "            if left == right:\n",
    "                mem[left][right] = piles[left]\n",
    "                return piles[left]\n",
    "            \n",
    "            # 零和博弈：最大化己方收益，最小化对方收益\n",
    "            max_stone = max(\n",
    "                piles[left] + min(\n",
    "                    find_max(left+2, right, piles, mem),\n",
    "                    find_max(left+1, right-1, piles, mem)\n",
    "                ),\n",
    "                piles[right] + min(\n",
    "                    find_max(left+1, right-1, piles, mem),\n",
    "                    find_max(left, right-2, piles, mem)\n",
    "                )\n",
    "            )\n",
    "            mem[left][right] = max_stone\n",
    "            return max_stone\n",
    "        \n",
    "        mem = [[0] * len(piles) for _ in range(len(piles))]\n",
    "        return 2 * find_max(0, len(piles) - 1, piles, mem) > sum(piles)\n",
    "\n",
    "piles = [5,3,4,5]\n",
    "solu = Solution()\n",
    "solu.stoneGame(piles)"
   ]
  },
  {
   "attachments": {},
   "cell_type": "markdown",
   "metadata": {},
   "source": [
    "### 预测赢家\n",
    "***力扣第486题***  \n",
    "给你一个整数数组 nums 。玩家 1 和玩家 2 基于这个数组设计了一个游戏。   \n",
    "玩家 1 和玩家 2 轮流进行自己的回合，玩家 1 先手。开始时，两个玩家的初始分值都是 0 。每一回合，玩家从数组的任意一端取一个数字（即，nums[0] 或 nums[nums.length - 1]），取到的数字将会从数组中移除（数组长度减 1 ）。玩家选中的数字将会加到他的得分上。当数组中没有剩余数字可取时，游戏结束。   \n",
    "如果玩家 1 能成为赢家，返回 true 。如果两个玩家得分相等，同样认为玩家 1 是游戏的赢家，也返回 true 。你可以假设每个玩家的玩法都会使他的分数最大化。   "
   ]
  },
  {
   "cell_type": "code",
   "execution_count": null,
   "metadata": {},
   "outputs": [],
   "source": []
  }
 ],
 "metadata": {
  "kernelspec": {
   "display_name": "base",
   "language": "python",
   "name": "python3"
  },
  "language_info": {
   "codemirror_mode": {
    "name": "ipython",
    "version": 3
   },
   "file_extension": ".py",
   "mimetype": "text/x-python",
   "name": "python",
   "nbconvert_exporter": "python",
   "pygments_lexer": "ipython3",
   "version": "3.9.12"
  },
  "orig_nbformat": 4
 },
 "nbformat": 4,
 "nbformat_minor": 2
}
