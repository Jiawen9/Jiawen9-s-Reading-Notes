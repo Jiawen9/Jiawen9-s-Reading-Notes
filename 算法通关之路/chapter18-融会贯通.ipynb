{
 "cells": [
  {
   "cell_type": "markdown",
   "metadata": {},
   "source": [
    "### 轮转数组\n",
    "***力扣第189题***  \n",
    "给定一个整数数组 nums，将数组中的元素向右轮转 k 个位置，其中 k 是非负数。"
   ]
  },
  {
   "cell_type": "code",
   "execution_count": 1,
   "metadata": {},
   "outputs": [
    {
     "name": "stdout",
     "output_type": "stream",
     "text": [
      "[1, 2, 3, 4, 5, 6, 7]\n",
      "[5, 6, 7, 1, 2, 3, 4]\n"
     ]
    }
   ],
   "source": [
    "'''\n",
    "方法一：复制相同的数组\n",
    "\n",
    "时间复杂度：O（n）\n",
    "空间复杂度：O（n）\n",
    "'''\n",
    "\n",
    "class Solution:\n",
    "    def rotate(self, nums: list[int], k: int) -> None:\n",
    "\n",
    "        copy = nums.copy()\n",
    "        n = len(nums)\n",
    "\n",
    "        for i in range(n):\n",
    "            nums[(k+i)%n] = copy[i]\n",
    "\n",
    "nums, k = [1,2,3,4,5,6,7], 3\n",
    "print(nums)\n",
    "solu = Solution()\n",
    "solu.rotate(nums, k)\n",
    "print(nums)"
   ]
  },
  {
   "cell_type": "code",
   "execution_count": 2,
   "metadata": {},
   "outputs": [
    {
     "name": "stdout",
     "output_type": "stream",
     "text": [
      "[1, 2, 3, 4, 5, 6, 7]\n",
      "[5, 6, 7, 1, 2, 3, 4]\n"
     ]
    }
   ],
   "source": [
    "'''\n",
    "方法二：时间换空间（超时）\n",
    "\n",
    "时间复杂度：O（nk）\n",
    "空间复杂度：O（1）\n",
    "'''\n",
    "\n",
    "class Solution:\n",
    "    def rotate(self, nums: list[int], k: int) -> None:\n",
    "\n",
    "        n = len(nums)\n",
    "        t = None\n",
    "        offset = n - k % n # 右移变左移\n",
    "        if offset == 0:\n",
    "            return\n",
    "        while offset:\n",
    "            t = nums[0]\n",
    "            offset -= 1\n",
    "            for i in range(n-1):\n",
    "                nums[i] = nums[i+1]\n",
    "            nums[n-1] = t\n",
    "\n",
    "nums, k = [1,2,3,4,5,6,7], 3\n",
    "print(nums)\n",
    "solu = Solution()\n",
    "solu.rotate(nums, k)\n",
    "print(nums)"
   ]
  },
  {
   "cell_type": "code",
   "execution_count": 4,
   "metadata": {},
   "outputs": [
    {
     "name": "stdout",
     "output_type": "stream",
     "text": [
      "[1, 2, 3, 4, 5, 6, 7]\n"
     ]
    },
    {
     "data": {
      "text/plain": [
       "[5, 6, 7, 1, 2, 3, 4]"
      ]
     },
     "execution_count": 4,
     "metadata": {},
     "output_type": "execute_result"
    }
   ],
   "source": [
    "'''\n",
    "方法三：空间换时间（不符合题意）\n",
    "\n",
    "时间复杂度：O（n）\n",
    "空间复杂度：O（n）\n",
    "'''\n",
    "\n",
    "class Solution:\n",
    "    def rotate(self, nums: list[int], k: int) -> None:\n",
    "\n",
    "        n = len(nums)\n",
    "        offset = k % n\n",
    "        nums = nums + nums.copy()\n",
    "        return nums[n - offset : n * 2 - offset]\n",
    "\n",
    "nums, k = [1,2,3,4,5,6,7], 3\n",
    "print(nums)\n",
    "solu = Solution()\n",
    "solu.rotate(nums, k)"
   ]
  },
  {
   "cell_type": "code",
   "execution_count": 6,
   "metadata": {},
   "outputs": [
    {
     "name": "stdout",
     "output_type": "stream",
     "text": [
      "[1, 2, 3, 4, 5, 6, 7]\n",
      "[5, 6, 7, 1, 2, 3, 4]\n"
     ]
    }
   ],
   "source": [
    "'''\n",
    "方法四：利用python迭代器\n",
    "\n",
    "时间复杂度：O（k）\n",
    "空间复杂度：O（1）\n",
    "'''\n",
    "\n",
    "class Solution:\n",
    "    def rotate(self, nums: list[int], k: int) -> None:\n",
    "        \"\"\"\n",
    "        Do not return anything, modify nums in-place instead.\n",
    "        \"\"\"\n",
    "        for i in range(0, -k, -1):\n",
    "            nums.insert(0,nums.pop())\n",
    "\n",
    "nums, k = [1,2,3,4,5,6,7], 3\n",
    "print(nums)\n",
    "solu = Solution()\n",
    "solu.rotate(nums, k)\n",
    "print(nums)"
   ]
  },
  {
   "cell_type": "code",
   "execution_count": 1,
   "metadata": {},
   "outputs": [
    {
     "name": "stdout",
     "output_type": "stream",
     "text": [
      "[1, 2, 3, 4, 5, 6, 7]\n",
      "[5, 6, 7, 1, 2, 3, 4]\n"
     ]
    }
   ],
   "source": [
    "'''\n",
    "方法五：三次翻转法\n",
    "\n",
    "时间复杂度：O（k）\n",
    "空间复杂度：O（1）\n",
    "'''\n",
    "\n",
    "class Solution:\n",
    "    def rotate(self, nums: list[int], k: int) -> None:\n",
    "\n",
    "        def reverse(list: list[int], start: int, end: int) -> None:\n",
    "            \n",
    "            while start < end:\n",
    "                t = list[start]\n",
    "                list[start] = list[end]\n",
    "                list[end] = t\n",
    "                start += 1\n",
    "                end -= 1\n",
    "        \n",
    "        n = len(nums)\n",
    "        offset = k % n\n",
    "        if offset == 0:\n",
    "            return\n",
    "\n",
    "        reverse(nums, 0, n - offset - 1)\n",
    "        reverse(nums, n - offset, n - 1)\n",
    "        reverse(nums, 0, n - 1)\n",
    "\n",
    "nums, k = [1,2,3,4,5,6,7], 3\n",
    "print(nums)\n",
    "solu = Solution()\n",
    "solu.rotate(nums, k)\n",
    "print(nums)"
   ]
  },
  {
   "cell_type": "markdown",
   "metadata": {},
   "source": [
    "### 旋转链表\n",
    "***力扣第61题***  \n",
    "给你一个链表的头节点 head ，旋转链表，将链表每个节点向右移动 k 个位置。"
   ]
  },
  {
   "cell_type": "code",
   "execution_count": 4,
   "metadata": {},
   "outputs": [],
   "source": [
    "'''\n",
    "方法一：右移变左移\n",
    "\n",
    "时间复杂度：O（n）\n",
    "空间复杂度：O（1）\n",
    "'''\n",
    "\n",
    "from typing import Optional\n",
    "\n",
    "class ListNode:\n",
    "    def __init__(self, val=0, next=None):\n",
    "        self.val = val\n",
    "        self.next = next\n",
    "        \n",
    "class Solution:\n",
    "    def rotateRight(self, head: Optional[ListNode], k: int) -> Optional[ListNode]:\n",
    "\n",
    "        if not head or k == 0 or not head.next:\n",
    "            return head\n",
    "\n",
    "        p1 = head\n",
    "        res = None\n",
    "        n = 1\n",
    "\n",
    "        while p1 and p1.next:\n",
    "            p1 = p1.next\n",
    "            n += 1\n",
    "        \n",
    "        cur  = 1 # 通过cur计数来寻找断点\n",
    "        p2 = head\n",
    "        while cur < n - k % n:\n",
    "            p2 = p2.next\n",
    "            cur += 1\n",
    "        \n",
    "        p1.next = head\n",
    "        res = p2.next\n",
    "        p2.next = None\n",
    "\n",
    "        return res"
   ]
  },
  {
   "cell_type": "markdown",
   "metadata": {},
   "source": [
    "### 编辑距离\n",
    "***力扣第72题***  \n",
    "给你两个单词 word1 和 word2， 请返回将 word1 转换成 word2 所使用的最少操作数 。   \n",
    "你可以对一个单词进行如下三种操作：   \n",
    "插入一个字符   \n",
    "删除一个字符   \n",
    "替换一个字符   "
   ]
  },
  {
   "cell_type": "code",
   "execution_count": 5,
   "metadata": {},
   "outputs": [
    {
     "data": {
      "text/plain": [
       "3"
      ]
     },
     "execution_count": 5,
     "metadata": {},
     "output_type": "execute_result"
    }
   ],
   "source": [
    "'''\n",
    "方法一：记忆化递归\n",
    "\n",
    "空间复杂度：O（mn）\n",
    "'''\n",
    "\n",
    "class Solution:\n",
    "    def minDistance(self, s1: str, s2: str) -> int:\n",
    "\n",
    "        def find_min(s1, i, s2, j, memo):\n",
    "            if i == -1:\n",
    "                return j + 1\n",
    "            if j == -1:\n",
    "                return i + 1\n",
    "\n",
    "            if memo[i][j] != -1:\n",
    "                return memo[i][j]\n",
    "\n",
    "            if s1[i] == s2[j]:\n",
    "                memo[i][j] = find_min(s1, i - 1, s2, j - 1, memo)\n",
    "            else:\n",
    "                memo[i][j] = min(\n",
    "                    find_min(s1, i, s2, j - 1, memo) + 1,  # 插入\n",
    "                    find_min(s1, i - 1, s2, j, memo) + 1,  # 删除\n",
    "                    find_min(s1, i - 1, s2, j - 1, memo) + 1  # 替换\n",
    "                )\n",
    "            return memo[i][j]\n",
    "\n",
    "        m, n = len(s1), len(s2)\n",
    "        memo = [[-1] * n for _ in range(m)]\n",
    "        res = find_min(s1, m - 1, s2, n - 1, memo)\n",
    "        return res\n",
    "\n",
    "word1, word2 = \"horse\", \"ros\"\n",
    "solu = Solution()\n",
    "solu.minDistance(word1, word2)"
   ]
  },
  {
   "cell_type": "code",
   "execution_count": 6,
   "metadata": {},
   "outputs": [
    {
     "data": {
      "text/plain": [
       "3"
      ]
     },
     "execution_count": 6,
     "metadata": {},
     "output_type": "execute_result"
    }
   ],
   "source": [
    "'''\n",
    "方法二：动态规划\n",
    "\n",
    "时间复杂度：O（mn）\n",
    "空间复杂度：O（mn）\n",
    "'''\n",
    "\n",
    "class Solution:\n",
    "    def minDistance(self, word1: str, word2: str) -> int:\n",
    "\n",
    "        m, n = len(word1), len(word2)\n",
    "\n",
    "        # dp[i][j]表示字符串word[:i]和word[:j]的最小编辑距离\n",
    "        dp = [[0 for j in range(n + 1)] for i in range(m + 1)]\n",
    "\n",
    "        for i in range(1, m + 1):\n",
    "            dp[i][0] = i\n",
    "        for j in range(1, n + 1):\n",
    "            dp[0][j] = j\n",
    "        \n",
    "        for i in range(1, m + 1):\n",
    "            for j in range(1, n + 1):\n",
    "                if word1[i - 1] == word2[j - 1]:\n",
    "                    dp[i][j] = dp[i - 1][j - 1]\n",
    "                else:\n",
    "                    dp[i][j] = min(dp[i - 1][j - 1], dp[i][j - 1], dp[i - 1][j]) + 1\n",
    "        \n",
    "        return dp[m][n]\n",
    "\n",
    "word1, word2 = \"horse\", \"ros\"\n",
    "solu = Solution()\n",
    "solu.minDistance(word1, word2)"
   ]
  },
  {
   "cell_type": "code",
   "execution_count": 7,
   "metadata": {},
   "outputs": [
    {
     "data": {
      "text/plain": [
       "3"
      ]
     },
     "execution_count": 7,
     "metadata": {},
     "output_type": "execute_result"
    }
   ],
   "source": [
    "'''\n",
    "方法三：动态规划（空间优化）\n",
    "\n",
    "时间复杂度：O（mn）\n",
    "空间复杂度：O（n）\n",
    "'''\n",
    "\n",
    "class Solution:\n",
    "    def minDistance(self, word1: str, word2: str) -> int:\n",
    "\n",
    "        m, n = len(word1), len(word2)\n",
    "        pre, cur = [0] * (n + 1), [0] * (n + 1)\n",
    "\n",
    "        for i in range(1, n + 1):\n",
    "            pre[i] = i\n",
    "        for i in range(1, m + 1):\n",
    "            cur[0] = i\n",
    "            for j in range(1, n + 1):\n",
    "                if word1[i - 1] == word2[j - 1]:\n",
    "                    cur[j] = pre[j - 1]\n",
    "                else:\n",
    "                    cur[j] = min(pre[j], pre[j - 1], cur[j - 1]) + 1\n",
    "            pre = cur.copy()\n",
    "        \n",
    "        return pre[n] # 解决没有进入循环的情况\n",
    "\n",
    "word1, word2 = \"horse\", \"ros\"\n",
    "solu = Solution()\n",
    "solu.minDistance(word1, word2)"
   ]
  },
  {
   "cell_type": "code",
   "execution_count": 8,
   "metadata": {},
   "outputs": [
    {
     "data": {
      "text/plain": [
       "3"
      ]
     },
     "execution_count": 8,
     "metadata": {},
     "output_type": "execute_result"
    }
   ],
   "source": [
    "'''\n",
    "方法四：动态规划（继续优化空间）\n",
    "\n",
    "时间复杂度：O（mn）\n",
    "空间复杂度：O（n）\n",
    "'''\n",
    "\n",
    "class Solution:\n",
    "    def minDistance(self, word1: str, word2: str) -> int:\n",
    "\n",
    "        m, n = len(word1), len(word2)\n",
    "        cur = [0] * (n + 1)\n",
    "        pre = None\n",
    "\n",
    "        for i in range(1, n + 1):\n",
    "            cur[i] = i\n",
    "        for i in range(1, m + 1):\n",
    "            pre = cur[0]\n",
    "            cur[0] = i\n",
    "            for j in range(1, n + 1):\n",
    "                tmp = cur[j]\n",
    "                if word1[i - 1] == word2[j - 1]:\n",
    "                    cur[j] = pre\n",
    "                else:\n",
    "                    cur[j] = min(cur[j], cur[j - 1], pre) + 1\n",
    "                pre = tmp\n",
    "        \n",
    "        return cur[n]\n",
    "\n",
    "word1, word2 = \"horse\", \"ros\"\n",
    "solu = Solution()\n",
    "solu.minDistance(word1, word2)"
   ]
  },
  {
   "cell_type": "markdown",
   "metadata": {},
   "source": [
    "### 数组中的第K个最大元素\n",
    "***力扣第215题***  \n",
    "给定整数数组 nums 和整数 k，请返回数组中第 k 个最大的元素。\n",
    "\n",
    "请注意，你需要找的是数组排序后的第 k 个最大的元素，而不是第 k 个不同的元素。\n",
    "\n",
    "你必须设计并实现时间复杂度为 O(n) 的算法解决此问题。"
   ]
  },
  {
   "cell_type": "code",
   "execution_count": 9,
   "metadata": {},
   "outputs": [
    {
     "data": {
      "text/plain": [
       "5"
      ]
     },
     "execution_count": 9,
     "metadata": {},
     "output_type": "execute_result"
    }
   ],
   "source": [
    "'''\n",
    "方法一：堆排序（调包）\n",
    "\n",
    "时间复杂度：O（nlogk）\n",
    "空间复杂度：O（k）\n",
    "'''\n",
    "\n",
    "from heapq import nlargest\n",
    "\n",
    "class Solution:\n",
    "    def findKthLargest(self, nums: list[int], k: int) -> int:\n",
    "\n",
    "        # [3,2,1,5,6,4]\n",
    "        # [6, 5]\n",
    "        \n",
    "        return nlargest(k, nums)[-1] \n",
    "\n",
    "nums, k = [3,2,1,5,6,4], 2\n",
    "solu = Solution()\n",
    "solu.findKthLargest(nums, k)"
   ]
  },
  {
   "cell_type": "markdown",
   "metadata": {},
   "source": [
    "###  数据流中的第 K 大元素\n",
    "\n",
    "***力扣第703题***  \n",
    "设计一个找到数据流中第 k 大元素的类（class）。注意是排序后的第 k 大元素，不是第 k 个不同的元素。\n",
    "\n",
    "请实现 KthLargest 类：\n",
    "\n",
    "KthLargest(int k, int[] nums) 使用整数 k 和整数流 nums 初始化对象。\n",
    "int add(int val) 将 val 插入数据流 nums 后，返回当前数据流中第 k 大的元素。"
   ]
  },
  {
   "cell_type": "code",
   "execution_count": 12,
   "metadata": {},
   "outputs": [
    {
     "data": {
      "text/plain": [
       "8"
      ]
     },
     "execution_count": 12,
     "metadata": {},
     "output_type": "execute_result"
    }
   ],
   "source": [
    "'''\n",
    "方法一：堆排序（调包）\n",
    "\n",
    "时间复杂度：O（nlogk）\n",
    "空间复杂度：O（k）\n",
    "'''\n",
    "\n",
    "import heapq\n",
    "\n",
    "class KthLargest:\n",
    "\n",
    "    def __init__(self, k: int, nums: list[int]):\n",
    "\n",
    "        # len(nums) >= k-1，通过加一个元素保证查找k大元素时，数组中至少有k个元素\n",
    "        self.nums = heapq.nlargest(k, nums + [float('-inf')])\n",
    "        self.k = k\n",
    "        heapq.heapify(self.nums)\n",
    "\n",
    "    def add(self, val: int) -> int:\n",
    "        heapq.heappushpop(self.nums, val)\n",
    "        return self.nums[0]\n",
    "\n",
    "kth_largest =  KthLargest(3, [4, 5, 8, 2])\n",
    "kth_largest.add(3)   # return 4\n",
    "kth_largest.add(5)   # return 5\n",
    "kth_largest.add(10)  # return 5\n",
    "kth_largest.add(9)   # return 8\n",
    "kth_largest.add(4)   # return 8"
   ]
  },
  {
   "cell_type": "markdown",
   "metadata": {},
   "source": [
    "###  二叉搜索树中第K小的元素\n",
    "\n",
    "***力扣第230题***  \n",
    "给定一个二叉搜索树的根节点 root ，和一个整数 k ，请你设计一个算法查找其中第 k 个最小元素（从 1 开始计数）。"
   ]
  },
  {
   "cell_type": "code",
   "execution_count": 13,
   "metadata": {},
   "outputs": [],
   "source": [
    "'''\n",
    "方法一：二分查找\n",
    "\n",
    "时间复杂度：O（n），最坏O（n2）\n",
    "空间复杂度：O（n），最坏O（n2）\n",
    "'''\n",
    "\n",
    "class TreeNode:\n",
    "    def __init__(self, val=0, left=None, right=None):\n",
    "        self.val = val\n",
    "        self.left = left\n",
    "        self.right = right\n",
    "\n",
    "class Solution:\n",
    "    def kthSmallest(self, root: Optional[TreeNode], k: int) -> int:\n",
    "        \n",
    "        # 返回该节点及所有子节点的个数\n",
    "        def countNodes(node) -> int:\n",
    "            if node == None:\n",
    "                return 0\n",
    "            l = countNodes(node.left)\n",
    "            r = countNodes(node.right)\n",
    "            return l + r + 1\n",
    "\n",
    "        cnt = countNodes(root.left)\n",
    "        if cnt == k - 1:\n",
    "            return root.val\n",
    "        elif cnt > k - 1:\n",
    "            return self.kthSmallest(root.left, k)\n",
    "        \n",
    "        return self.kthSmallest(root.right, k - cnt - 1)"
   ]
  },
  {
   "cell_type": "markdown",
   "metadata": {},
   "source": [
    "###  有序矩阵中第 K 小的元素\n",
    "\n",
    "***力扣第378题***  \n",
    "给你一个 n x n 矩阵 matrix ，其中每行和每列元素均按升序排序，找到矩阵中第 k 小的元素。\n",
    "请注意，它是 排序后 的第 k 小元素，而不是第 k 个 不同 的元素。\n",
    "\n",
    "你必须找到一个内存复杂度优于 O(n2) 的解决方案。"
   ]
  },
  {
   "cell_type": "code",
   "execution_count": 14,
   "metadata": {},
   "outputs": [
    {
     "data": {
      "text/plain": [
       "13"
      ]
     },
     "execution_count": 14,
     "metadata": {},
     "output_type": "execute_result"
    }
   ],
   "source": [
    "'''\n",
    "方法一：二分查找\n",
    "\n",
    "时间复杂度：O（nlog(hi-lo)）\n",
    "空间复杂度：O（1）\n",
    "'''\n",
    "\n",
    "class Solution:\n",
    "    def kthSmallest(self, matrix: list[list[int]], k: int) -> int:\n",
    "\n",
    "        n = len(matrix)\n",
    "        lo, hi = matrix[0][0], matrix[n - 1][n - 1]\n",
    "\n",
    "        def countNotGreater(target: int) -> int:\n",
    "            \n",
    "            i, j = 0, n - 1\n",
    "            cnt = 0\n",
    "            while i < n and j >= 0:\n",
    "                if matrix[i][j] <= target:\n",
    "                    cnt += j + 1\n",
    "                    i += 1\n",
    "                else:\n",
    "                    j -= 1\n",
    "            return cnt\n",
    "        \n",
    "        while lo < hi:\n",
    "            mid = (lo + hi) // 2\n",
    "            cnt = countNotGreater(mid)\n",
    "\n",
    "            if cnt < k:\n",
    "                lo = mid + 1\n",
    "            else:\n",
    "                hi = mid\n",
    "        \n",
    "        return lo\n",
    "\n",
    "matrix, k = [[1,5,9],[10,11,13],[12,13,15]], 8\n",
    "solu = Solution()\n",
    "solu.kthSmallest(matrix, k)"
   ]
  },
  {
   "cell_type": "markdown",
   "metadata": {},
   "source": [
    "###  乘法表中第k小的数\n",
    "\n",
    "***力扣第668题***  \n",
    "几乎每一个人都用 乘法表。但是你能在乘法表中快速找到第 k 小的数字吗？"
   ]
  },
  {
   "cell_type": "code",
   "execution_count": 16,
   "metadata": {},
   "outputs": [
    {
     "data": {
      "text/plain": [
       "3"
      ]
     },
     "execution_count": 16,
     "metadata": {},
     "output_type": "execute_result"
    }
   ],
   "source": [
    "'''\n",
    "方法一：二分查找\n",
    "\n",
    "时间复杂度：O（mlogmn）\n",
    "空间复杂度：O（1）\n",
    "'''\n",
    "\n",
    "class Solution:\n",
    "    def findKthNumber(self, m: int, n: int, k: int) -> int:\n",
    "        \n",
    "        lo, hi = 1, m * n\n",
    "\n",
    "        def countNotGreater(mid: int, m: int, n: int) -> int:\n",
    "            \n",
    "            cnt = 0\n",
    "            for i in range(1, m + 1):\n",
    "                cnt += min(mid // i, n)\n",
    "                \n",
    "            return cnt\n",
    "        \n",
    "        while lo < hi:\n",
    "            mid = (lo + hi) // 2\n",
    "            if countNotGreater(mid, m, n) < k:\n",
    "                lo = mid + 1\n",
    "            else:\n",
    "                hi = mid\n",
    "        \n",
    "        return lo\n",
    "\n",
    "m, n, k = 3, 3, 5\n",
    "solu = Solution()\n",
    "solu.findKthNumber(m, n, k)"
   ]
  }
 ],
 "metadata": {
  "kernelspec": {
   "display_name": "base",
   "language": "python",
   "name": "python3"
  },
  "language_info": {
   "codemirror_mode": {
    "name": "ipython",
    "version": 3
   },
   "file_extension": ".py",
   "mimetype": "text/x-python",
   "name": "python",
   "nbconvert_exporter": "python",
   "pygments_lexer": "ipython3",
   "version": "3.9.12"
  },
  "orig_nbformat": 4
 },
 "nbformat": 4,
 "nbformat_minor": 2
}
