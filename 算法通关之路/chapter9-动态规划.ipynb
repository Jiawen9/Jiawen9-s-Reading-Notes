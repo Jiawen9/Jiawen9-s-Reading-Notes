{
 "cells": [
  {
   "attachments": {},
   "cell_type": "markdown",
   "metadata": {},
   "source": [
    "### 爬楼梯\n",
    "***力扣第70题***  \n",
    "假设你正在爬楼梯。需要 n 阶你才能到达楼顶。   \n",
    "每次你可以爬 1 或 2 个台阶。你有多少种不同的方法可以爬到楼顶呢？"
   ]
  },
  {
   "cell_type": "code",
   "execution_count": 3,
   "metadata": {},
   "outputs": [
    {
     "data": {
      "text/plain": [
       "2"
      ]
     },
     "execution_count": 3,
     "metadata": {},
     "output_type": "execute_result"
    }
   ],
   "source": [
    "'''\n",
    "方法二：动态规划\n",
    "时间复杂度：O（n）\n",
    "空间复杂度：O（n）\n",
    "'''\n",
    "class Solution:\n",
    "    def climbStairs(self, n: int) -> int:\n",
    "        if n < 2:\n",
    "            return n\n",
    "        dp = [0] * (n + 1)\n",
    "        dp[1], dp[2] = 1, 2\n",
    "        for i in range(3, n + 1):\n",
    "            dp[i] = dp[i-1] + dp[i-2]\n",
    "        return dp[n]\n",
    "    \n",
    "n = 2\n",
    "solu = Solution()\n",
    "solu.climbStairs(n)"
   ]
  },
  {
   "cell_type": "code",
   "execution_count": 2,
   "metadata": {},
   "outputs": [
    {
     "data": {
      "text/plain": [
       "3"
      ]
     },
     "execution_count": 2,
     "metadata": {},
     "output_type": "execute_result"
    }
   ],
   "source": [
    "'''\n",
    "方法二：动态规划（优化空间）\n",
    "时间复杂度：O（n）\n",
    "空间复杂度：O（1）\n",
    "'''\n",
    "class Solution:\n",
    "    def climbStairs(self, n: int) -> int:\n",
    "        if n < 2:\n",
    "            return n\n",
    "        fir, sec = 1, 2\n",
    "        for i in range(3, n + 1):\n",
    "            fir, sec = sec, fir + sec\n",
    "        return sec\n",
    "\n",
    "n = 3\n",
    "solu = Solution()\n",
    "solu.climbStairs(n)"
   ]
  },
  {
   "attachments": {},
   "cell_type": "markdown",
   "metadata": {},
   "source": [
    "### 打家劫舍\n",
    "***力扣第198题***  \n",
    "你是一个专业的小偷，计划偷窃沿街的房屋。每间房内都藏有一定的现金，影响你偷窃的唯一制约因素就是相邻的房屋装有相互连通的防盗系统，如果两间相邻的房屋在同一晚上被小偷闯入，系统会自动报警。   \n",
    "给定一个代表每个房屋存放金额的非负整数数组，计算你 不触动警报装置的情况下 ，一夜之内能够偷窃到的最高金额。   "
   ]
  },
  {
   "cell_type": "code",
   "execution_count": 7,
   "metadata": {},
   "outputs": [
    {
     "data": {
      "text/plain": [
       "4"
      ]
     },
     "execution_count": 7,
     "metadata": {},
     "output_type": "execute_result"
    }
   ],
   "source": [
    "'''\n",
    "方法一：递归（超时）\n",
    "时间复杂度：O（2^n）\n",
    "空间复杂度：O（n）\n",
    "'''\n",
    "class Solution:\n",
    "    def rob(self, nums: list[int]) -> int:\n",
    "        if len(nums) == 0:\n",
    "            return 0\n",
    "        return max(self.rob(nums[1:]), nums[0] + self.rob(nums[2:]))\n",
    "\n",
    "nums = [1,2,3,1]\n",
    "solu = Solution()\n",
    "solu.rob(nums)"
   ]
  },
  {
   "cell_type": "code",
   "execution_count": 9,
   "metadata": {},
   "outputs": [
    {
     "data": {
      "text/plain": [
       "4"
      ]
     },
     "execution_count": 9,
     "metadata": {},
     "output_type": "execute_result"
    }
   ],
   "source": [
    "'''\n",
    "方法二：递记忆化递归\n",
    "时间复杂度：O（n）\n",
    "空间复杂度：O（n）\n",
    "'''\n",
    "class Solution:\n",
    "    def rob(self, nums: list[int]) -> int:\n",
    "        memo = [-1] * (len(nums) + 1)\n",
    "        memo[-1] = 0\n",
    "\n",
    "        def helper(n: int, nums: list[int], memo: list[int]) -> int:\n",
    "            if n >= len(nums):\n",
    "                return 0\n",
    "            if memo[n] != -1:\n",
    "                return memo[n]\n",
    "            memo[n] = max(helper(n+1, nums, memo), nums[n] + helper(n+2, nums, memo))\n",
    "            return memo[n]\n",
    "        \n",
    "        return helper(0, nums, memo)\n",
    "\n",
    "nums = [1,2,3,1]\n",
    "solu = Solution()\n",
    "solu.rob(nums)"
   ]
  },
  {
   "cell_type": "code",
   "execution_count": 10,
   "metadata": {},
   "outputs": [
    {
     "data": {
      "text/plain": [
       "4"
      ]
     },
     "execution_count": 10,
     "metadata": {},
     "output_type": "execute_result"
    }
   ],
   "source": [
    "'''\n",
    "方法三：动态规划\n",
    "时间复杂度：O（n）\n",
    "空间复杂度：O（n）\n",
    "'''\n",
    "class Solution:\n",
    "    def rob(self, nums: list[int]) -> int:\n",
    "        n = len(nums)\n",
    "        dp = [0] * (n+2)\n",
    "        for i in range(0, len(nums)):\n",
    "            dp[i+2] = max(dp[i] + nums[i], dp[i+1])\n",
    "        return dp[n+1]\n",
    "\n",
    "nums = [1,2,3,1]\n",
    "solu = Solution()\n",
    "solu.rob(nums)"
   ]
  },
  {
   "cell_type": "code",
   "execution_count": 12,
   "metadata": {},
   "outputs": [
    {
     "data": {
      "text/plain": [
       "4"
      ]
     },
     "execution_count": 12,
     "metadata": {},
     "output_type": "execute_result"
    }
   ],
   "source": [
    "'''\n",
    "方法四：动态规划（优化空间）\n",
    "时间复杂度：O（n）\n",
    "空间复杂度：O（1）\n",
    "'''\n",
    "class Solution:\n",
    "    def rob(self, nums: list[int]) -> int:\n",
    "        curr, prev = 0, 0\n",
    "        for i in range(0, len(nums)):\n",
    "            prev, curr = curr, max(prev + nums[i], curr)\n",
    "        return curr\n",
    "\n",
    "nums = [1,2,3,1]\n",
    "solu = Solution()\n",
    "solu.rob(nums)"
   ]
  },
  {
   "attachments": {},
   "cell_type": "markdown",
   "metadata": {},
   "source": [
    "### 打家劫舍 II\n",
    "***力扣第213题***  \n",
    "你是一个专业的小偷，计划偷窃沿街的房屋，每间房内都藏有一定的现金。这个地方所有的房屋都 围成一圈 ，这意味着第一个房屋和最后一个房屋是紧挨着的。同时，相邻的房屋装有相互连通的防盗系统，如果两间相邻的房屋在同一晚上被小偷闯入，系统会自动报警 。     \n",
    "给定一个代表每个房屋存放金额的非负整数数组，计算你 在不触动警报装置的情况下 ，今晚能够偷窃到的最高金额。"
   ]
  },
  {
   "cell_type": "code",
   "execution_count": 13,
   "metadata": {},
   "outputs": [
    {
     "data": {
      "text/plain": [
       "3"
      ]
     },
     "execution_count": 13,
     "metadata": {},
     "output_type": "execute_result"
    }
   ],
   "source": [
    "'''\n",
    "方法四：动态规划（优化空间）\n",
    "时间复杂度：O（n）\n",
    "空间复杂度：O（1）\n",
    "'''\n",
    "class Solution:\n",
    "    def rob(self, nums: list[int]) -> int:\n",
    "        if len(nums) == 1:\n",
    "            return nums[0]\n",
    "            \n",
    "        def the_most_cash(nums): # 打家劫舍中的dp\n",
    "            curr, prev = 0, 0\n",
    "            for i in range(0, len(nums)):\n",
    "                prev, curr = curr, max(prev + nums[i], curr)\n",
    "            return curr\n",
    "        \n",
    "        return max(the_most_cash(nums[1:]), the_most_cash(nums[:-1]))\n",
    "\n",
    "nums = [2,3,2]\n",
    "solu = Solution()\n",
    "solu.rob(nums)"
   ]
  },
  {
   "attachments": {},
   "cell_type": "markdown",
   "metadata": {},
   "source": [
    "### 不同路径\n",
    "***力扣第62题***  \n",
    "一个机器人位于一个 m x n 网格的左上角 （起始点在下图中标记为 “Start” ）。   \n",
    "机器人每次只能向下或者向右移动一步。机器人试图达到网格的右下角（在下图中标记为 “Finish” ）。   \n",
    "问总共有多少条不同的路径？   "
   ]
  },
  {
   "cell_type": "code",
   "execution_count": 5,
   "metadata": {},
   "outputs": [
    {
     "data": {
      "text/plain": [
       "28"
      ]
     },
     "execution_count": 5,
     "metadata": {},
     "output_type": "execute_result"
    }
   ],
   "source": [
    "'''\n",
    "方法一：记忆化递归（超时）\n",
    "时间复杂度：O（mn）\n",
    "空间复杂度：O（mn）\n",
    "'''\n",
    "class Solution:\n",
    "    def uniquePaths(self, m: int, n: int) -> int:\n",
    "        visited = dict()\n",
    "        if m == 1 or n == 1:\n",
    "            return 1\n",
    "        if (m, n) in visited:\n",
    "            return visited[(m, n)]\n",
    "        cnt = self.uniquePaths(m, n-1) + self.uniquePaths(m-1, n)\n",
    "        visited[(m, n)] = cnt\n",
    "        return cnt\n",
    "\n",
    "m, n = 3, 7\n",
    "solu = Solution()\n",
    "solu.uniquePaths(m, n)"
   ]
  },
  {
   "cell_type": "code",
   "execution_count": 6,
   "metadata": {},
   "outputs": [
    {
     "data": {
      "text/plain": [
       "28"
      ]
     },
     "execution_count": 6,
     "metadata": {},
     "output_type": "execute_result"
    }
   ],
   "source": [
    "'''\n",
    "方法二：动态规划\n",
    "时间复杂度：O（mn）\n",
    "空间复杂度：O（mn）\n",
    "'''\n",
    "class Solution:\n",
    "    def uniquePaths(self, m: int, n: int) -> int:\n",
    "        dp = [[1] * n for _ in range(m)]\n",
    "        for i in range(1, m):\n",
    "            for j in range(1, n):\n",
    "                dp[i][j] = dp[i-1][j] + dp[i][j-1]\n",
    "        return dp[m-1][n-1]\n",
    "\n",
    "m, n = 3, 7\n",
    "solu = Solution()\n",
    "solu.uniquePaths(m, n)"
   ]
  },
  {
   "cell_type": "code",
   "execution_count": 7,
   "metadata": {},
   "outputs": [
    {
     "data": {
      "text/plain": [
       "28"
      ]
     },
     "execution_count": 7,
     "metadata": {},
     "output_type": "execute_result"
    }
   ],
   "source": [
    "'''\n",
    "方法三：动态规划（滚动数组）\n",
    "时间复杂度：O（mn）\n",
    "空间复杂度：O（n）\n",
    "'''\n",
    "class Solution:\n",
    "    def uniquePaths(self, m: int, n: int) -> int:\n",
    "        dp = [1] * n\n",
    "        for i in range(1, m):\n",
    "            for j in range(1, n):\n",
    "                dp[j] += dp[j-1]\n",
    "        return dp[n-1]\n",
    "\n",
    "m, n = 3, 7\n",
    "solu = Solution()\n",
    "solu.uniquePaths(m, n)"
   ]
  },
  {
   "attachments": {},
   "cell_type": "markdown",
   "metadata": {},
   "source": [
    "### 零钱兑换\n",
    "***力扣第322题***  \n",
    "给你一个整数数组 coins ，表示不同面额的硬币；以及一个整数 amount ，表示总金额。   \n",
    "计算并返回可以凑成总金额所需的 最少的硬币个数 。如果没有任何一种硬币组合能组成总金额，返回 -1 。   \n",
    "你可以认为每种硬币的数量是无限的。"
   ]
  },
  {
   "cell_type": "code",
   "execution_count": 8,
   "metadata": {},
   "outputs": [
    {
     "data": {
      "text/plain": [
       "3"
      ]
     },
     "execution_count": 8,
     "metadata": {},
     "output_type": "execute_result"
    }
   ],
   "source": [
    "'''\n",
    "方法一：动态规划\n",
    "时间复杂度：O（mn）\n",
    "空间复杂度：O（n）\n",
    "'''\n",
    "class Solution:\n",
    "    def coinChange(self, coins: list[int], amount: int) -> int:\n",
    "        if amount == 0:\n",
    "            return 0\n",
    "        dp = [amount+1] * (amount+1)\n",
    "        dp[0] = 0\n",
    "        for i in range(1, amount+1):\n",
    "            for coin in coins:\n",
    "                if coin <= i:\n",
    "                    dp[i] = min(dp[i], dp[i-coin]+1)\n",
    "        return -1 if dp[amount] == amount + 1 else dp[amount]\n",
    "\n",
    "coins, amount = [1, 2, 5], 11\n",
    "solu = Solution()\n",
    "solu.coinChange(coins, amount)"
   ]
  },
  {
   "attachments": {},
   "cell_type": "markdown",
   "metadata": {},
   "source": [
    "### 零钱兑换 II\n",
    "***力扣第518题***  \n",
    "给你一个整数数组 coins 表示不同面额的硬币，另给一个整数 amount 表示总金额。   \n",
    "请你计算并返回可以凑成总金额的硬币组合数。如果任何硬币组合都无法凑出总金额，返回 0 。   \n",
    "假设每一种面额的硬币有无限个。      \n",
    "题目数据保证结果符合 32 位带符号整数。"
   ]
  },
  {
   "cell_type": "code",
   "execution_count": 11,
   "metadata": {},
   "outputs": [
    {
     "data": {
      "text/plain": [
       "4"
      ]
     },
     "execution_count": 11,
     "metadata": {},
     "output_type": "execute_result"
    }
   ],
   "source": [
    "'''\n",
    "方法一：动态规划\n",
    "时间复杂度：O（mn）\n",
    "空间复杂度：O（n）\n",
    "'''\n",
    "class Solution:\n",
    "    def change(self, amount: int, coins: list[int]) -> int:\n",
    "        dp = [0] * (amount+1)\n",
    "        dp[0] = 1\n",
    "        for coin in coins:\n",
    "            for i in range(coin, amount+1):\n",
    "                if coin <= i:\n",
    "                    dp[i] += dp[i-coin]\n",
    "        return dp[amount]\n",
    "\n",
    "amount, coins = 5, [1, 2, 5]\n",
    "solu = Solution()\n",
    "solu.change(amount, coins)"
   ]
  }
 ],
 "metadata": {
  "kernelspec": {
   "display_name": "base",
   "language": "python",
   "name": "python3"
  },
  "language_info": {
   "codemirror_mode": {
    "name": "ipython",
    "version": 3
   },
   "file_extension": ".py",
   "mimetype": "text/x-python",
   "name": "python",
   "nbconvert_exporter": "python",
   "pygments_lexer": "ipython3",
   "version": "3.9.12"
  },
  "orig_nbformat": 4
 },
 "nbformat": 4,
 "nbformat_minor": 2
}
