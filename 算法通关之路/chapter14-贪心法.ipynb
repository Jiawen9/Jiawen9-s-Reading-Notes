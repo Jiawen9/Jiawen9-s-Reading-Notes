{
 "cells": [
  {
   "cell_type": "markdown",
   "metadata": {},
   "source": [
    "### 分发饼干\n",
    "***力扣第455题***  \n",
    "假设你是一位很棒的家长，想要给你的孩子们一些小饼干。但是，每个孩子最多只能给一块饼干。\n",
    "\n",
    "对每个孩子 i，都有一个胃口值 g[i]，这是能让孩子们满足胃口的饼干的最小尺寸；并且每块饼干 j，都有一个尺寸 s[j] 。如果 s[j] >= g[i]，我们可以将这个饼干 j 分配给孩子 i ，这个孩子会得到满足。你的目标是尽可能满足越多数量的孩子，并输出这个最大数值。\n",
    "\n",
    "来源：力扣（LeetCode）\n",
    "链接：https://leetcode.cn/problems/assign-cookies\n",
    "著作权归领扣网络所有。商业转载请联系官方授权，非商业转载请注明出处。"
   ]
  },
  {
   "cell_type": "code",
   "execution_count": 1,
   "metadata": {},
   "outputs": [
    {
     "data": {
      "text/plain": [
       "1"
      ]
     },
     "execution_count": 1,
     "metadata": {},
     "output_type": "execute_result"
    }
   ],
   "source": [
    "'''\n",
    "方法一：贪心法\n",
    "时间复杂度：O（glogg+slogs）\n",
    "空间复杂度：O(1)\n",
    "'''\n",
    "\n",
    "class Solution:\n",
    "    def findContentChildren(self, g: list[int], s: list[int]) -> int:\n",
    "        g.sort()\n",
    "        s.sort()\n",
    "        i, j = len(g) - 1, len(s) - 1\n",
    "        while i >= 0 and j >= 0:\n",
    "            if s[j] >= g[i]: # 饼干满足孩子\n",
    "                j -= 1\n",
    "                i -= 1\n",
    "            else:\n",
    "                i -= 1\n",
    "        return len(s) - j - 1 # 总饼干数减去剩下的饼干数\n",
    "\n",
    "g, s = [1,2,3], [1,1]\n",
    "solu = Solution()\n",
    "solu.findContentChildren(g, s)"
   ]
  },
  {
   "cell_type": "markdown",
   "metadata": {},
   "source": [
    "###  跳跃游戏\n",
    "***力扣第55题***  \n",
    "给定一个非负整数数组 nums ，你最初位于数组的 第一个下标 。\n",
    "\n",
    "数组中的每个元素代表你在该位置可以跳跃的最大长度。\n",
    "\n",
    "判断你是否能够到达最后一个下标。"
   ]
  },
  {
   "cell_type": "code",
   "execution_count": 2,
   "metadata": {},
   "outputs": [
    {
     "data": {
      "text/plain": [
       "True"
      ]
     },
     "execution_count": 2,
     "metadata": {},
     "output_type": "execute_result"
    }
   ],
   "source": [
    "'''\n",
    "方法一：动态规划\n",
    "时间复杂度：O（n2）\n",
    "空间复杂度：O（n）\n",
    "'''\n",
    "\n",
    "class Solution:\n",
    "    def canJump(self, nums: list[int]) -> bool:\n",
    "        dp = [False] * len(nums)\n",
    "        dp[0] = True # 第一个位置直接到达\n",
    "        for i in range(len(nums)):\n",
    "            if dp[i] == False:\n",
    "                break\n",
    "            for j in range(i + 1, i + nums[i] + 1):\n",
    "                if j > len(nums) - 1: # 能到达的长度大于nums长度\n",
    "                    return True\n",
    "                dp[j] = True # 能到达的位置设为True\n",
    "        return dp[-1]\n",
    "\n",
    "nums = [2,3,1,1,4]\n",
    "solu = Solution()\n",
    "solu.canJump(nums)"
   ]
  },
  {
   "cell_type": "code",
   "execution_count": 3,
   "metadata": {},
   "outputs": [
    {
     "data": {
      "text/plain": [
       "True"
      ]
     },
     "execution_count": 3,
     "metadata": {},
     "output_type": "execute_result"
    }
   ],
   "source": [
    "'''\n",
    "方法二：动态规划（时间优化）\n",
    "时间复杂度：O（n）\n",
    "空间复杂度：O（n）\n",
    "'''\n",
    "\n",
    "class Solution:\n",
    "    def canJump(self, nums: list[int]) -> bool:\n",
    "        n = len(nums)\n",
    "        if n == 1: # 长度为1一定可以到达\n",
    "            return True\n",
    "        dp = [0] * n\n",
    "        dp[0] = nums[0] # dp存储当前能到达的最远距离\n",
    "        for i in range(1, n):\n",
    "            if dp[i-1] < i: # 中间断开\n",
    "                return False\n",
    "            elif dp[i-1] >= n - 1: # 能到达终点\n",
    "                return True\n",
    "            else:\n",
    "                dp[i] = max(dp[i-1], i + nums[i]) # 更新最远能到达的距离\n",
    "        return True\n",
    "\n",
    "nums = [2,3,1,1,4]\n",
    "solu = Solution()\n",
    "solu.canJump(nums)"
   ]
  },
  {
   "cell_type": "code",
   "execution_count": 4,
   "metadata": {},
   "outputs": [
    {
     "data": {
      "text/plain": [
       "True"
      ]
     },
     "execution_count": 4,
     "metadata": {},
     "output_type": "execute_result"
    }
   ],
   "source": [
    "'''\n",
    "方法三：动态规划（空间优化）\n",
    "时间复杂度：O（n）\n",
    "空间复杂度：O（1）\n",
    "'''\n",
    "\n",
    "class Solution:\n",
    "    def canJump(self, nums: list[int]) -> bool:\n",
    "        n = len(nums)\n",
    "        if n == 1: # 长度为1一定可以到达\n",
    "            return True\n",
    "        pre = nums[0] # dp存储当前能到达的最远距离\n",
    "        for i in range(1, n):\n",
    "            if pre < i: # 中间断开\n",
    "                return False\n",
    "            elif pre >= n - 1: # 能到达终点\n",
    "                return True\n",
    "            else:\n",
    "                pre = max(pre, i + nums[i]) # 更新最远能到达的距离\n",
    "        return True\n",
    "\n",
    "nums = [2,3,1,1,4]\n",
    "solu = Solution()\n",
    "solu.canJump(nums)"
   ]
  },
  {
   "cell_type": "code",
   "execution_count": 6,
   "metadata": {},
   "outputs": [
    {
     "data": {
      "text/plain": [
       "True"
      ]
     },
     "execution_count": 6,
     "metadata": {},
     "output_type": "execute_result"
    }
   ],
   "source": [
    "'''\n",
    "方法四：贪心法:每次在可跳跃范围内选择一个下一次能跳得更远的地方\n",
    "时间复杂度：O（n）\n",
    "空间复杂度：O（1）\n",
    "'''\n",
    "\n",
    "class Solution:\n",
    "    def canJump(self, nums: list[int]) -> bool:\n",
    "        begin, end = 0, 0\n",
    "        next_end = end\n",
    "        while True:\n",
    "            if end >= len(nums) - 1: # 能到达终点\n",
    "                return True\n",
    "            for i in range(begin, end + 1): # 计算最大终点\n",
    "                next_end = max(next_end, i + nums[i])\n",
    "            if next_end == end: # 中间断开\n",
    "                return False\n",
    "            begin, end = end + 1, next_end # 更新计算区间\n",
    "        return True\n",
    "\n",
    "nums = [2,3,1,1,4]\n",
    "solu = Solution()\n",
    "solu.canJump(nums)"
   ]
  },
  {
   "cell_type": "markdown",
   "metadata": {},
   "source": [
    "###  任务调度器\n",
    "***力扣第621题***  \n",
    "给你一个用字符数组 tasks 表示的 CPU 需要执行的任务列表。其中每个字母表示一种不同种类的任务。任务可以以任意顺序执行，并且每个任务都可以在 1 个单位时间内执行完。在任何一个单位时间，CPU 可以完成一个任务，或者处于待命状态。\n",
    "\n",
    "然而，两个 相同种类 的任务之间必须有长度为整数 n 的冷却时间，因此至少有连续 n 个单位时间内 CPU 在执行不同的任务，或者在待命状态。\n",
    "\n",
    "你需要计算完成所有任务所需要的 最短时间 。\n",
    "\n",
    "来源：力扣（LeetCode）\n",
    "链接：https://leetcode.cn/problems/task-scheduler\n",
    "著作权归领扣网络所有。商业转载请联系官方授权，非商业转载请注明出处。"
   ]
  },
  {
   "cell_type": "code",
   "execution_count": 3,
   "metadata": {},
   "outputs": [
    {
     "data": {
      "text/plain": [
       "8"
      ]
     },
     "execution_count": 3,
     "metadata": {},
     "output_type": "execute_result"
    }
   ],
   "source": [
    "'''\n",
    "方法一：模拟+贪心：优先选择剩余执行次数最多的那个任务\n",
    "'''\n",
    "\n",
    "class Solution:\n",
    "    def leastInterval(self, tasks: list[str], n: int) -> int:\n",
    "        n_task, cnt = len(tasks), 0\n",
    "        task_dict, time_dict = dict(), dict()\n",
    "\n",
    "        # 初始化\n",
    "        for i in range(n_task):\n",
    "            if not task_dict.get(tasks[i]):\n",
    "                task_dict[tasks[i]] = 0\n",
    "            task_dict[tasks[i]] += 1\n",
    "            time_dict[tasks[i]] = 1\n",
    "        \n",
    "        # 做任务\n",
    "        while n_task:\n",
    "\n",
    "            # 有多种任务不在冷却中，应当选择剩余执行次数最多的那个任务，将每种任务的剩余执行次数尽可能平均\n",
    "            max_task = 0\n",
    "            for key in task_dict.keys():\n",
    "                if time_dict[key] == 1 and task_dict[key] > 0 and task_dict[key] > max_task:\n",
    "                    max_task = task_dict[key]\n",
    "                    max_task_id = key\n",
    "            \n",
    "            # 执行任务\n",
    "            if max_task:\n",
    "                task_dict[max_task_id] -= 1 # 任务数-1\n",
    "                n_task -= 1 # 总任务数-1\n",
    "                time_dict[max_task_id] += (n + 1) # 等待时间 + n\n",
    "\n",
    "            # 更新时间\n",
    "            for key in time_dict.keys():\n",
    "                if time_dict[key] > 1:\n",
    "                    time_dict[key] -= 1\n",
    "            \n",
    "            cnt += 1 # 时间计数+1\n",
    "            \n",
    "        return cnt\n",
    "\n",
    "tasks, n = [\"A\",\"A\",\"A\",\"B\",\"B\",\"B\"], 2\n",
    "solu = Solution()\n",
    "solu.leastInterval(tasks, n)"
   ]
  },
  {
   "cell_type": "code",
   "execution_count": 4,
   "metadata": {},
   "outputs": [
    {
     "data": {
      "text/plain": [
       "8"
      ]
     },
     "execution_count": 4,
     "metadata": {},
     "output_type": "execute_result"
    }
   ],
   "source": [
    "'''\n",
    "方法二：贪心法\n",
    "时间复杂度：O(n)\n",
    "空间复杂度：O(1)\n",
    "'''\n",
    "\n",
    "class Solution:\n",
    "    def leastInterval(self, tasks: list[str], n: int) -> int:\n",
    "        task_dict = [0] * 26\n",
    "        for t in tasks:\n",
    "            task_dict[ord(t) - ord(\"A\")] += 1\n",
    "        task_dict.sort() # 直接打乱，我们对它们是什么名字不需要了解\n",
    "        max_num, cnt = task_dict[25], 0\n",
    "        for i in range(26): # 任务次数最多的任务个数\n",
    "            if task_dict[i] == max_num:\n",
    "                cnt += 1\n",
    "        # 任务次数最多的来搭框架，其余任务来填坑\n",
    "        return max((max_num - 1) * (n + 1) + cnt, len(tasks))\n",
    "\n",
    "tasks, n = [\"A\",\"A\",\"A\",\"B\",\"B\",\"B\"], 2\n",
    "solu = Solution()\n",
    "solu.leastInterval(tasks, n)"
   ]
  },
  {
   "cell_type": "markdown",
   "metadata": {},
   "source": [
    "###  分发糖果\n",
    "***力扣第135题***  \n",
    "n 个孩子站成一排。给你一个整数数组 ratings 表示每个孩子的评分。\n",
    "\n",
    "你需要按照以下要求，给这些孩子分发糖果：\n",
    "\n",
    "每个孩子至少分配到 1 个糖果。\n",
    "相邻两个孩子评分更高的孩子会获得更多的糖果。\n",
    "请你给每个孩子分发糖果，计算并返回需要准备的 最少糖果数目 。\n",
    "\n",
    "来源：力扣（LeetCode）\n",
    "链接：https://leetcode.cn/problems/candy\n",
    "著作权归领扣网络所有。商业转载请联系官方授权，非商业转载请注明出处。"
   ]
  },
  {
   "cell_type": "code",
   "execution_count": 6,
   "metadata": {},
   "outputs": [
    {
     "data": {
      "text/plain": [
       "5"
      ]
     },
     "execution_count": 6,
     "metadata": {},
     "output_type": "execute_result"
    }
   ],
   "source": [
    "'''\n",
    "方法一：贪心法\n",
    "时间复杂度：O(n)\n",
    "空间复杂度：O(n)\n",
    "'''\n",
    "class Solution:\n",
    "    def candy(self, ratings: list[int]) -> int:\n",
    "        left_ans, right_ans = [1] * len(ratings), [1] * len(ratings) # 先默认发一个糖果\n",
    "\n",
    "        # 考虑左相邻孩子条件\n",
    "        for i in range(1, len(ratings)):\n",
    "            if ratings[i] > ratings[i-1]:\n",
    "                left_ans[i] = left_ans[i-1] + 1 # 多发一个\n",
    "\n",
    "        # 考虑右相邻孩子\n",
    "        for i in range(len(ratings) - 2, -1, -1):\n",
    "            if ratings[i] > ratings[i+1]:\n",
    "                right_ans[i] = right_ans[i+1] + 1 # 多发一个\n",
    "\n",
    "        # 合并两个结果\n",
    "        ans = 0\n",
    "        for i in range(len(ratings)):\n",
    "            ans += max(left_ans[i], right_ans[i]) # 满足左右\n",
    "\n",
    "        return ans \n",
    "\n",
    "ratings = [1,0,2]\n",
    "solu = Solution()\n",
    "solu.candy(ratings)"
   ]
  },
  {
   "cell_type": "markdown",
   "metadata": {},
   "source": [
    "###  无重叠区间\n",
    "***力扣第435题***  \n",
    "给定一个区间的集合 intervals ，其中 intervals[i] = [starti, endi] 。返回 需要移除区间的最小数量，使剩余区间互不重叠 。\n",
    "\n",
    "来源：力扣（LeetCode）\n",
    "链接：https://leetcode.cn/problems/non-overlapping-intervals\n",
    "著作权归领扣网络所有。商业转载请联系官方授权，非商业转载请注明出处。"
   ]
  },
  {
   "cell_type": "code",
   "execution_count": 7,
   "metadata": {},
   "outputs": [
    {
     "data": {
      "text/plain": [
       "1"
      ]
     },
     "execution_count": 7,
     "metadata": {},
     "output_type": "execute_result"
    }
   ],
   "source": [
    "'''\n",
    "方法一：贪心法:按照区间右端点进行排序\n",
    "时间复杂度：O(n)\n",
    "空间复杂度：O(1)\n",
    "'''\n",
    "\n",
    "class Solution:\n",
    "    def eraseOverlapIntervals(self, intervals: list[list[int]]) -> int:\n",
    "        intervals.sort(key=lambda x:x[1]) # 按照区间右端点进行排序\n",
    "        cnt = 0\n",
    "        for i in range(1, len(intervals)):\n",
    "            # 如果上一个区间的右端点大于这个区间的左端点\n",
    "            if intervals[i-1][1] > intervals[i][0]:\n",
    "                intervals[i] = intervals[i-1]\n",
    "                cnt += 1\n",
    "        return cnt\n",
    "\n",
    "intervals = [[1,2],[2,3],[3,4],[1,3]]\n",
    "solu = Solution()\n",
    "solu.eraseOverlapIntervals(intervals)"
   ]
  }
 ],
 "metadata": {
  "kernelspec": {
   "display_name": "base",
   "language": "python",
   "name": "python3"
  },
  "language_info": {
   "codemirror_mode": {
    "name": "ipython",
    "version": 3
   },
   "file_extension": ".py",
   "mimetype": "text/x-python",
   "name": "python",
   "nbconvert_exporter": "python",
   "pygments_lexer": "ipython3",
   "version": "3.9.12"
  },
  "orig_nbformat": 4
 },
 "nbformat": 4,
 "nbformat_minor": 2
}
