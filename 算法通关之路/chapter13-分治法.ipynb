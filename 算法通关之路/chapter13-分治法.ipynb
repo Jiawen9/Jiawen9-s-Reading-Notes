{
 "cells": [
  {
   "cell_type": "markdown",
   "metadata": {},
   "source": [
    "### 合并 K 个升序链表\n",
    "***力扣第23题***  \n",
    "给你一个链表数组，每个链表都已经按升序排列。\n",
    "\n",
    "请你将所有链表合并到一个升序链表中，返回合并后的链表。"
   ]
  },
  {
   "cell_type": "code",
   "execution_count": 4,
   "metadata": {},
   "outputs": [],
   "source": [
    "'''\n",
    "方法一：问题分解-逐一两两合并\n",
    "时间复杂度：O（kn）\n",
    "空间复杂度：最坏O（n）\n",
    "'''\n",
    "from typing import Optional\n",
    "\n",
    "class ListNode:\n",
    "    def __init__(self, val=0, next=None):\n",
    "        self.val = val\n",
    "        self.next = next\n",
    "\n",
    "class Solution:\n",
    "    def mergeKLists(self, lists: list[Optional[ListNode]]) -> Optional[ListNode]:\n",
    "        \n",
    "        # 递归两两合并的代码，也可改为迭代\n",
    "        def mergeTwoLists(l1: ListNode, l2: ListNode) -> ListNode:\n",
    "            if l1 is None:\n",
    "                return l2\n",
    "            if l2 is None:\n",
    "                return l1\n",
    "            if l1.val < l2.val:\n",
    "                l1.next = mergeTwoLists(l1.next, l2)\n",
    "                return l1\n",
    "            l2.next = mergeTwoLists(l1, l2.next)\n",
    "            return l2\n",
    "        \n",
    "        new_list = None\n",
    "        for i in range(len(lists)):\n",
    "            new_list = mergeTwoLists(new_list, lists[i])\n",
    "        return new_list"
   ]
  },
  {
   "cell_type": "code",
   "execution_count": 5,
   "metadata": {},
   "outputs": [],
   "source": [
    "'''\n",
    "方法二：分治法-归并\n",
    "时间复杂度：O（nlogk）\n",
    "空间复杂度：O（1）\n",
    "'''\n",
    "class Solution:\n",
    "    def mergeKLists(self, lists: list[Optional[ListNode]]) -> Optional[ListNode]:\n",
    "        # 递归\n",
    "        def mergeTwoLists(l1: ListNode, l2: ListNode) -> ListNode:\n",
    "            if l1 is None:\n",
    "                return l2\n",
    "            if l2 is None:\n",
    "                return l1\n",
    "            if l1.val < l2.val:\n",
    "                l1.next = mergeTwoLists(l1.next, l2)\n",
    "                return l1\n",
    "            l2.next = mergeTwoLists(l1, l2.next)\n",
    "            return l2\n",
    "        \n",
    "        amount = len(lists)\n",
    "        if amount == 0:\n",
    "            return None\n",
    "        interval = 1\n",
    "        while interval < amount:\n",
    "            for i in range(0, amount - interval, interval*2):\n",
    "                lists[i] = mergeTwoLists(lists[i], lists[i+interval])\n",
    "            interval *= 2\n",
    "        return lists[0]"
   ]
  },
  {
   "cell_type": "markdown",
   "metadata": {},
   "source": [
    "### 数组中的第K个最大元素\n",
    "***力扣第215题***  \n",
    "给定整数数组 nums 和整数 k，请返回数组中第 k 个最大的元素。\n",
    "\n",
    "请注意，你需要找的是数组排序后的第 k 个最大的元素，而不是第 k 个不同的元素。\n",
    "\n",
    "你必须设计并实现时间复杂度为 O(n) 的算法解决此问题。"
   ]
  },
  {
   "cell_type": "code",
   "execution_count": 11,
   "metadata": {},
   "outputs": [
    {
     "data": {
      "text/plain": [
       "5"
      ]
     },
     "execution_count": 11,
     "metadata": {},
     "output_type": "execute_result"
    }
   ],
   "source": [
    "'''\n",
    "方法一：堆排序（手动实现，大小为n的堆），适用于n较大\n",
    "时间复杂度：O（klogn）\n",
    "空间复杂度：O（n）\n",
    "'''\n",
    "\n",
    "class Solution:\n",
    "    def findKthLargest(self, nums: list[int], k: int) -> int:\n",
    "\n",
    "        # 大根堆的向下筛选算法\n",
    "        def sift_down(heap: list, start: int, m: int):\n",
    "            i = start\n",
    "            j = 2*i + 1 # 左孩子\n",
    "            tmp = heap[i]\n",
    "            while j <= m:\n",
    "                if j < m and heap[j] < heap[j+1]: # 选两孩子的大者\n",
    "                    j += 1\n",
    "                if tmp >= heap[j]: # 根比孩子大\n",
    "                    break\n",
    "                else: # 大孩子上移\n",
    "                    heap[i] = heap[j]\n",
    "                    i = j\n",
    "                    j = 2*j + 1\n",
    "                heap[i] = tmp\n",
    "        \n",
    "        # 堆排序\n",
    "        def heap_sort(heap:list, heap_len: int):\n",
    "            for i in range(heap_len//2-1, -1, -1): # 从第一个非叶子结点开始比较\n",
    "                sift_down(heap, i, heap_len-1) # 向下筛选\n",
    "            \n",
    "            for i in range(heap_len-1, heap_len-k, -1): # 每趟确定一个元素，需len(heap)-1趟\n",
    "                heap[i], heap[0] = heap[0], heap[i]\n",
    "                sift_down(heap, 0, i-1)\n",
    "        \n",
    "        nums_len = len(nums)\n",
    "        heap_sort(nums, nums_len)\n",
    "        return nums[0]\n",
    "\n",
    "\n",
    "nums, k = [3,2,1,5,6,4], 2\n",
    "solu = Solution()\n",
    "solu.findKthLargest(nums, k)"
   ]
  },
  {
   "cell_type": "code",
   "execution_count": 16,
   "metadata": {},
   "outputs": [
    {
     "data": {
      "text/plain": [
       "5"
      ]
     },
     "execution_count": 16,
     "metadata": {},
     "output_type": "execute_result"
    }
   ],
   "source": [
    "'''\n",
    "方法二：堆排序（手动实现，大小为k的堆）,适用于n较小\n",
    "时间复杂度：O（nlogk）\n",
    "空间复杂度：O（k）\n",
    "'''\n",
    "class Solution:\n",
    "    def findKthLargest(self, nums: list[int], k: int) -> int:\n",
    "\n",
    "        # 小根堆的向下筛选算法\n",
    "        def sift_down(heap: list, start: int, m: int):\n",
    "            i = start\n",
    "            j = 2*i + 1 # 左孩子\n",
    "            tmp = heap[i]\n",
    "            while j <= m:\n",
    "                if j < m and heap[j] > heap[j+1]: # 选两孩子的小者\n",
    "                    j += 1\n",
    "                if tmp <= heap[j]: # 根比孩子大小\n",
    "                    break\n",
    "                else: # 小孩子上移\n",
    "                    heap[i] = heap[j]\n",
    "                    i = j\n",
    "                    j = 2*j + 1\n",
    "                heap[i] = tmp\n",
    "        \n",
    "        # 堆排序\n",
    "        def top_k(heap:list):\n",
    "            for i in range(k//2-1, -1, -1): # 从第一个非叶子结点开始比较\n",
    "                sift_down(heap, i, k-1) # 向下筛选\n",
    "\n",
    "            for i in range(k, len(heap)): # 遍历后续元素，维护小根堆\n",
    "                if heap[i] >= heap[0]:\n",
    "                    heap[0] = heap[i]\n",
    "                    sift_down(heap, 0, k-1)\n",
    "            return heap[0]\n",
    "        \n",
    "        return top_k(nums)\n",
    "\n",
    "nums, k = [3,2,1,5,6,4], 2\n",
    "solu = Solution()\n",
    "solu.findKthLargest(nums, k)"
   ]
  },
  {
   "cell_type": "code",
   "execution_count": 12,
   "metadata": {},
   "outputs": [
    {
     "data": {
      "text/plain": [
       "5"
      ]
     },
     "execution_count": 12,
     "metadata": {},
     "output_type": "execute_result"
    }
   ],
   "source": [
    "'''\n",
    "方法三：堆排序（调包）\n",
    "\n",
    "时间复杂度：O（nlogk）\n",
    "空间复杂度：O（k）\n",
    "'''\n",
    "class Solution:\n",
    "    def findKthLargest(self, nums: list[int], k: int) -> int:\n",
    "        from heapq import nlargest\n",
    "        return nlargest(k, nums)[-1] # nlargest快速形成前k个最大元素的小顶堆\n",
    "\n",
    "nums, k = [3,2,1,5,6,4], 2\n",
    "solu = Solution()\n",
    "solu.findKthLargest(nums, k)"
   ]
  },
  {
   "cell_type": "code",
   "execution_count": 18,
   "metadata": {},
   "outputs": [
    {
     "data": {
      "text/plain": [
       "5"
      ]
     },
     "execution_count": 18,
     "metadata": {},
     "output_type": "execute_result"
    }
   ],
   "source": [
    "'''\n",
    "方法四：快速选择排序\n",
    "时间复杂度：最好O(n)，最坏O(n2)\n",
    "空间复杂度：最好O(logn)，最坏O(n)\n",
    "'''\n",
    "import random\n",
    "\n",
    "class Solution:\n",
    "    def findKthLargest(self, nums: list[int], k: int) -> int:\n",
    "        \n",
    "        def select(nums: list[int], left: int, right: int, k_smallest: int) -> int :\n",
    "            \n",
    "            if left == right: # 少取一次随机\n",
    "                return nums[left]\n",
    "\n",
    "            pivot_index = random.randint(left, right)\n",
    "\n",
    "            # 根据pivot=nums[pivot_index]进行划分，得到新的pivot_index, 此时pivot_index左边的元素都小于或等于pivot，右边元素都大于或等于pivot\n",
    "            pivot_index = partition(nums, left, right, pivot_index)\n",
    "            \n",
    "            if k_smallest == pivot_index:\n",
    "                # 如果此时n-k==pivot_index，表示我们已经找到第n-k+1小的元素, 即第k大元素，这也是前面所说的可以直接解决的子问题\n",
    "                return nums[k_smallest]\n",
    "            elif k_smallest < pivot_index:\n",
    "                return select(nums, left, pivot_index - 1, k_smallest)\n",
    "            return select(nums, pivot_index + 1, right, k_smallest)\n",
    "        \n",
    "        def partition(nums: list[int], i: int, j: int, pivot_index: int): # i代表left，j代表right\n",
    "\n",
    "            pivot = nums[pivot_index]\n",
    "            nums[pivot_index], nums[i] = nums[i], nums[pivot_index]\n",
    "\n",
    "            while i < j: # j逆向遍历，i正向遍历\n",
    "                while i < j and nums[j] >= pivot: # 逆向遍历\n",
    "                    j -= 1\n",
    "                if i < j:\n",
    "                    nums[i] = nums[j] # 小于基准值左移\n",
    "                    i += 1\n",
    "                while i < j and nums[i] <= pivot: # 正向遍历\n",
    "                    i += 1\n",
    "                if i < j:\n",
    "                    nums[j] = nums[i] # 大于基准值右\n",
    "                    j -=1\n",
    "            nums[i] = pivot # 基准值就位\n",
    "            return i # 返回基准下标\n",
    "        \n",
    "        return select(nums, 0, len(nums)-1, len(nums)-k)\n",
    "\n",
    "nums, k = [3,2,1,5,6,4], 2\n",
    "solu = Solution()\n",
    "solu.findKthLargest(nums, k)"
   ]
  },
  {
   "cell_type": "code",
   "execution_count": 20,
   "metadata": {},
   "outputs": [
    {
     "data": {
      "text/plain": [
       "5"
      ]
     },
     "execution_count": 20,
     "metadata": {},
     "output_type": "execute_result"
    }
   ],
   "source": [
    "'''\n",
    "方法五：快速选择排序(尾递归优化为迭代)\n",
    "时间复杂度：最好O(n)，最坏O(n2)\n",
    "空间复杂度：O(1)\n",
    "'''\n",
    "\n",
    "import random\n",
    "\n",
    "class Solution:\n",
    "    def findKthLargest(self, nums: list[int], k: int) -> int:\n",
    "        \n",
    "        def select(nums: list[int], left: int, right: int, k_smallest: int) -> int :\n",
    "\n",
    "            while left <= right:\n",
    "                pivot_index = random.randint(left, right)\n",
    "\n",
    "                # 根据pivot=nums[pivot_index]进行划分，得到新的pivot_index, 此时pivot_index左边的元素都小于或等于pivot，右边元素都大于或等于pivot\n",
    "                pivot_index = partition(nums, left, right, pivot_index)\n",
    "            \n",
    "                if k_smallest == pivot_index:\n",
    "                    # 如果此时n-k==pivot_index，表示我们已经找到第n-k+1小的元素, 即第k大元素，这也是前面所说的可以直接解决的子问题\n",
    "                    return nums[k_smallest]\n",
    "                elif k_smallest < pivot_index:\n",
    "                    right = pivot_index - 1\n",
    "                else:\n",
    "                    left = pivot_index + 1\n",
    "                \n",
    "            if left == right:\n",
    "                return nums[left]\n",
    "        \n",
    "        def partition(nums: list[int], i: int, j: int, pivot_index: int): # i代表left，j代表right\n",
    "\n",
    "            pivot = nums[pivot_index]\n",
    "            nums[pivot_index], nums[i] = nums[i], nums[pivot_index]\n",
    "\n",
    "            while i < j: # j逆向遍历，i正向遍历\n",
    "                while i < j and nums[j] >= pivot: # 逆向遍历\n",
    "                    j -= 1\n",
    "                if i < j:\n",
    "                    nums[i] = nums[j] # 小于基准值左移\n",
    "                    i += 1\n",
    "                while i < j and nums[i] <= pivot: # 正向遍历\n",
    "                    i += 1\n",
    "                if i < j:\n",
    "                    nums[j] = nums[i] # 大于基准值右\n",
    "                    j -=1\n",
    "            nums[i] = pivot # 基准值就位\n",
    "            return i # 返回基准下标\n",
    "        \n",
    "        return select(nums, 0, len(nums)-1, len(nums)-k)\n",
    "\n",
    "nums, k = [3,2,1,5,6,4], 2\n",
    "solu = Solution()\n",
    "solu.findKthLargest(nums, k)"
   ]
  },
  {
   "cell_type": "markdown",
   "metadata": {},
   "source": [
    "### 搜索二维矩阵 II\n",
    "***力扣第240题***  \n",
    "编写一个高效的算法来搜索 m x n 矩阵 matrix 中的一个目标值 target 。该矩阵具有以下特性：\n",
    "\n",
    "每行的元素从左到右升序排列。\n",
    "每列的元素从上到下升序排列。\n",
    "\n",
    "来源：力扣（LeetCode）\n",
    "链接：https://leetcode.cn/problems/search-a-2d-matrix-ii\n",
    "著作权归领扣网络所有。商业转载请联系官方授权，非商业转载请注明出处。"
   ]
  },
  {
   "cell_type": "code",
   "execution_count": 23,
   "metadata": {},
   "outputs": [
    {
     "data": {
      "text/plain": [
       "True"
      ]
     },
     "execution_count": 23,
     "metadata": {},
     "output_type": "execute_result"
    }
   ],
   "source": [
    "'''\n",
    "方法一：水平二分+垂直二分\n",
    "时间复杂度：O(nlogn)\n",
    "空间复杂度：O(1)\n",
    "'''\n",
    "\n",
    "class Solution:\n",
    "    def searchMatrix(self, matrix: list[list[int]], target: int) -> bool:\n",
    "        \n",
    "        def binary_search(start: int, vertical: bool) -> bool:\n",
    "            low = start\n",
    "            high = len(matrix[0]) - 1 if vertical else len(matrix) - 1\n",
    "\n",
    "            while low <= high:\n",
    "                mid = low + (high - low) // 2\n",
    "                if vertical: # 垂直二分\n",
    "                    if matrix[start][mid] < target:\n",
    "                        low = mid + 1\n",
    "                    elif matrix[start][mid] > target:\n",
    "                        high = mid - 1\n",
    "                    else:\n",
    "                        return True\n",
    "                else: # 水平二分\n",
    "                    if matrix[mid][start] < target:\n",
    "                        low = mid + 1\n",
    "                    elif matrix[mid][start] > target:\n",
    "                        high = mid - 1\n",
    "                    else:\n",
    "                        return True\n",
    "            return False\n",
    "        \n",
    "        min_len = min(len(matrix), len(matrix[0])) # 取行和列中小的一方\n",
    "        for i in range(min_len):\n",
    "            vertical_found = binary_search(i, True)\n",
    "            horizontal_found = binary_search(i, False)\n",
    "\n",
    "            if vertical_found or horizontal_found: # 找到\n",
    "                return True\n",
    "        return False\n",
    "\n",
    "matrix, target = [[1,4,7,11,15],[2,5,8,12,19],[3,6,9,16,22],[10,13,14,17,24],[18,21,23,26,30]], 5\n",
    "solu = Solution()\n",
    "solu.searchMatrix(matrix, target)"
   ]
  },
  {
   "cell_type": "code",
   "execution_count": 24,
   "metadata": {},
   "outputs": [
    {
     "data": {
      "text/plain": [
       "True"
      ]
     },
     "execution_count": 24,
     "metadata": {},
     "output_type": "execute_result"
    }
   ],
   "source": [
    "'''\n",
    "方法二：分治法：将矩阵分为四个小矩阵，左上矩阵和右下自然被丢掉\n",
    "时间复杂度：O(nlogn)\n",
    "空间复杂度：O(logn)\n",
    "'''\n",
    "\n",
    "class Solution:\n",
    "    def searchMatrix(self, matrix: list[list[int]], target: int) -> bool:\n",
    "        \n",
    "        def search_res(left, up, right, down):\n",
    "            if  left > right or up > down: # 递归边界\n",
    "                return False\n",
    "            elif target < matrix[up][left] or target > matrix[down][right]: # 目标值大于矩阵右上角元素或小于左上角元素\n",
    "                return False\n",
    "            mid = left + (right - left) // 2 # 从矩阵中间划分\n",
    "\n",
    "            # 定位row，使matrix[row-1][mid]<target<matrix[row][mid]\n",
    "            row = up\n",
    "            while row <= down and matrix[row][mid] <= target:\n",
    "                if matrix[row][mid] == target:\n",
    "                    return True\n",
    "                row += 1\n",
    "            \n",
    "            # target 是否在左下矩阵说右上矩阵\n",
    "            return search_res(left, row, mid-1, down) or search_res(mid+1, up, right, row-1)\n",
    "        \n",
    "        return search_res(0, 0, len(matrix[0])-1, len(matrix)-1)\n",
    "\n",
    "matrix, target = [[1,4,7,11,15],[2,5,8,12,19],[3,6,9,16,22],[10,13,14,17,24],[18,21,23,26,30]], 5\n",
    "solu = Solution()\n",
    "solu.searchMatrix(matrix, target)"
   ]
  },
  {
   "cell_type": "code",
   "execution_count": 25,
   "metadata": {},
   "outputs": [
    {
     "data": {
      "text/plain": [
       "True"
      ]
     },
     "execution_count": 25,
     "metadata": {},
     "output_type": "execute_result"
    }
   ],
   "source": [
    "'''\n",
    "方法三：分治法改进，二分搜索划分点\n",
    "时间复杂度：O(logn*logn)\n",
    "空间复杂度：O(logn)\n",
    "'''\n",
    "class Solution:\n",
    "    def searchMatrix(self, matrix: list[list[int]], target: int) -> bool:\n",
    "        \n",
    "        def binary_search(up: int, down: int, col:int) -> tuple:\n",
    "            low = up\n",
    "            high = down\n",
    "            while low <= high:\n",
    "                mid = low + (high - low) // 2\n",
    "                if matrix[mid][col] < target:\n",
    "                    low = mid + 1\n",
    "                elif matrix[mid][col] > target:\n",
    "                    high = mid - 1\n",
    "                else:\n",
    "                    return True, mid\n",
    "            return False, low\n",
    "        \n",
    "        def search_res(left: int, up: int, right: int, down: int) -> bool:\n",
    "            if  left > right or up > down: # 递归边界\n",
    "                return False\n",
    "            elif target < matrix[up][left] or target > matrix[down][right]: # 目标值大于矩阵右上角元素或小于左上角元素\n",
    "                return False\n",
    "            mid = left + (right - left) // 2 # 从矩阵中间划分\n",
    "\n",
    "            # 定位row，使matrix[row-1][mid]<target<matrix[row][mid]\n",
    "            find, row = binary_search(up, down, mid)\n",
    "            \n",
    "            # target 是否在左下矩阵说右上矩阵\n",
    "            return find or search_res(left, row, mid-1, down) or search_res(mid+1, up, right, row-1)\n",
    "        \n",
    "        return search_res(0, 0, len(matrix[0])-1, len(matrix)-1)\n",
    "\n",
    "matrix, target = [[1,4,7,11,15],[2,5,8,12,19],[3,6,9,16,22],[10,13,14,17,24],[18,21,23,26,30]], 5\n",
    "solu = Solution()\n",
    "solu.searchMatrix(matrix, target)"
   ]
  },
  {
   "cell_type": "code",
   "execution_count": 21,
   "metadata": {},
   "outputs": [
    {
     "data": {
      "text/plain": [
       "True"
      ]
     },
     "execution_count": 21,
     "metadata": {},
     "output_type": "execute_result"
    }
   ],
   "source": [
    "'''\n",
    "方法四：z字搜索（右上角开始）\n",
    "时间复杂度：O(m+n)\n",
    "空间复杂度：O(1)\n",
    "'''\n",
    "\n",
    "class Solution:\n",
    "    def searchMatrix(self, matrix: list[list[int]], target: int) -> bool:\n",
    "        \n",
    "        x, y = 0, len(matrix[0]) - 1\n",
    "        while x < len(matrix) and y >= 0:\n",
    "            if matrix[x][y] == target:\n",
    "                return True\n",
    "            if matrix[x][y] > target:\n",
    "                y -= 1\n",
    "            else:\n",
    "                x += 1\n",
    "        return False\n",
    "\n",
    "matrix, target = [[1,4,7,11,15],[2,5,8,12,19],[3,6,9,16,22],[10,13,14,17,24],[18,21,23,26,30]], 5\n",
    "solu = Solution()\n",
    "solu.searchMatrix(matrix, target)"
   ]
  },
  {
   "cell_type": "code",
   "execution_count": 22,
   "metadata": {},
   "outputs": [
    {
     "data": {
      "text/plain": [
       "True"
      ]
     },
     "execution_count": 22,
     "metadata": {},
     "output_type": "execute_result"
    }
   ],
   "source": [
    "'''\n",
    "方法五：z字搜索（左下角开始）\n",
    "时间复杂度：O(m+n)\n",
    "空间复杂度：O(1)\n",
    "'''\n",
    "\n",
    "class Solution:\n",
    "    def searchMatrix(self, matrix: list[list[int]], target: int) -> bool:\n",
    "\n",
    "        x, y = len(matrix) - 1, 0\n",
    "        while x >= 0 and y < len(matrix[0]):\n",
    "            if matrix[x][y] == target:\n",
    "                return True\n",
    "            if matrix[x][y] > target:\n",
    "                x -= 1\n",
    "            else:\n",
    "                y += 1\n",
    "        return False\n",
    "\n",
    "matrix, target = [[1,4,7,11,15],[2,5,8,12,19],[3,6,9,16,22],[10,13,14,17,24],[18,21,23,26,30]], 5\n",
    "solu = Solution()\n",
    "solu.searchMatrix(matrix, target)"
   ]
  }
 ],
 "metadata": {
  "kernelspec": {
   "display_name": "base",
   "language": "python",
   "name": "python3"
  },
  "language_info": {
   "codemirror_mode": {
    "name": "ipython",
    "version": 3
   },
   "file_extension": ".py",
   "mimetype": "text/x-python",
   "name": "python",
   "nbconvert_exporter": "python",
   "pygments_lexer": "ipython3",
   "version": "3.9.12"
  },
  "orig_nbformat": 4
 },
 "nbformat": 4,
 "nbformat_minor": 2
}
