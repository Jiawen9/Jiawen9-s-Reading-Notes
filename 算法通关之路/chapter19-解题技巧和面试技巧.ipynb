{
 "cells": [
  {
   "cell_type": "markdown",
   "metadata": {},
   "source": [
    "# 1 看限制条件\n",
    "## 1.1数据规模"
   ]
  },
  {
   "cell_type": "markdown",
   "metadata": {},
   "source": [
    "### 转化为全零矩阵的最少反转次数\n",
    "\n",
    "***力扣第1284题***  \n",
    "给你一个 m x n 的二进制矩阵 mat。每一步，你可以选择一个单元格并将它反转（反转表示 0 变 1 ，1 变 0 ）。如果存在和它相邻的单元格，那么这些相邻的单元格也会被反转。相邻的两个单元格共享同一条边。\n",
    "\n",
    "请你返回将矩阵 mat 转化为全零矩阵的最少反转次数，如果无法转化为全零矩阵，请返回 -1 。\n",
    "\n",
    "二进制矩阵 的每一个格子要么是 0 要么是 1 。\n",
    "\n",
    "全零矩阵 是所有格子都为 0 的矩阵。\n",
    "\n",
    "1 <= m <= 3   \n",
    "1 <= n <= 3"
   ]
  },
  {
   "cell_type": "code",
   "execution_count": 1,
   "metadata": {},
   "outputs": [
    {
     "data": {
      "text/plain": [
       "3"
      ]
     },
     "execution_count": 1,
     "metadata": {},
     "output_type": "execute_result"
    }
   ],
   "source": [
    "'''\n",
    "方法一：广度优先遍历（降维）\n",
    "\n",
    "时间复杂度：O（2^{mn}）\n",
    "空间复杂度：O（2^{mn}）\n",
    "'''\n",
    "\n",
    "class Solution:\n",
    "    def minFlips(self, mat: list[list[int]]) -> int:\n",
    "\n",
    "        # 放到flip函数外部可以减少计算\n",
    "        mapper = {'0': '1', '1': '0'}\n",
    "\n",
    "        def flip(state: list[str], i: int) -> None:\n",
    "            \n",
    "            state[i] = mapper[state[i]]\n",
    "            \n",
    "            if i % n != 0:\n",
    "                state[i - 1] = mapper[state[i - 1]]\n",
    "            if i % n < n - 1:\n",
    "                state[i + 1] = mapper[state[i + 1]]\n",
    "            if i >= n:\n",
    "                state[i - n] = mapper[state[i - n]]\n",
    "            if i < (m - 1) * n:\n",
    "                state[i + n] = mapper[state[i + n]]\n",
    "        \n",
    "        m, n = len(mat), len(mat[0])\n",
    "        target = '0' * (m * n)\n",
    "        cur = ''.join(str(cell) for row in mat for cell in row)\n",
    "        queue = [cur]\n",
    "        visited = set()\n",
    "        steps = 0\n",
    "\n",
    "        while len(queue) > 0:\n",
    "            for _ in range(len(queue)):\n",
    "                cur = queue.pop(0)\n",
    "                if cur == target:\n",
    "                    return steps\n",
    "                if cur in visited:\n",
    "                    continue\n",
    "                \n",
    "                visited.add(cur)\n",
    "                for i in range(len(cur)):\n",
    "                    s = list(cur)\n",
    "                    flip(s, i)\n",
    "                    queue.append(''.join(s))\n",
    "            steps += 1\n",
    "        \n",
    "        return -1\n",
    "\n",
    "mat = [[0,0],[0,1]]\n",
    "solu = Solution()\n",
    "solu.minFlips(mat)"
   ]
  },
  {
   "cell_type": "markdown",
   "metadata": {},
   "source": [
    "## 1.2 复杂度"
   ]
  },
  {
   "cell_type": "markdown",
   "metadata": {},
   "source": [
    "### 矩阵置零\n",
    "\n",
    "***力扣第73题***  \n",
    "给定一个 m x n 的矩阵，如果一个元素为 0 ，则将其所在行和列的所有元素都设为 0 。请使用 原地 算法。"
   ]
  },
  {
   "cell_type": "code",
   "execution_count": 6,
   "metadata": {},
   "outputs": [
    {
     "name": "stdout",
     "output_type": "stream",
     "text": [
      "[[0, 0, 0, 0], [0, 4, 5, 0], [0, 3, 1, 0]]\n"
     ]
    }
   ],
   "source": [
    "'''\n",
    "方法一：原地算法\n",
    "\n",
    "时间复杂度：O（mn）\n",
    "空间复杂度：O（1）\n",
    "'''\n",
    "\n",
    "class Solution:\n",
    "    def setZeroes(self, matrix: list[list[int]]) -> None:\n",
    "\n",
    "        C = len(matrix[0])\n",
    "        R = len(matrix)\n",
    "\n",
    "        def setRowZeros(matrix: list[list[int]], i: int) -> None:\n",
    "            matrix[i] = [0] * C\n",
    "        \n",
    "        def setColZeros(matrix: list[list[int]], j: int) -> None:\n",
    "            for i in range(R):\n",
    "                matrix[i][j] = 0\n",
    "        \n",
    "        isCol = False # 如果不使用一个变量来存第一行或者第一列，最后矩阵会都变为0\n",
    "        for i in range(R):\n",
    "            if matrix[i][0] == 0:\n",
    "                isCol = True\n",
    "            for j in range(1, C):\n",
    "                if matrix[i][j] == 0:\n",
    "                    matrix[i][0] = 0\n",
    "                    matrix[0][j] = 0\n",
    "\n",
    "        for j in range(1, C): # 第一列存着行的变换\n",
    "            if matrix[0][j] == 0:\n",
    "                setColZeros(matrix, j)\n",
    "        \n",
    "        for i in range(R):\n",
    "            if matrix[i][0] == 0:\n",
    "                setRowZeros(matrix, i)\n",
    "        \n",
    "        if isCol:\n",
    "            setColZeros(matrix, 0)\n",
    "\n",
    "matrix = [[0,1,2,0],[3,4,5,2],[1,3,1,5]]\n",
    "solu = Solution()\n",
    "solu.setZeroes(matrix)\n",
    "print(matrix)"
   ]
  },
  {
   "cell_type": "markdown",
   "metadata": {},
   "source": [
    "# 2 预处理"
   ]
  },
  {
   "cell_type": "markdown",
   "metadata": {},
   "source": [
    "### 顺次数\n",
    "\n",
    "***力扣第1291题***  \n",
    "我们定义「顺次数」为：每一位上的数字都比前一位上的数字大 1 的整数。\n",
    "\n",
    "请你返回由 [low, high] 范围内所有顺次数组成的 有序 列表（从小到大排序）。\n",
    "\n",
    "10 <= low <= high <= 10^9"
   ]
  },
  {
   "cell_type": "code",
   "execution_count": 8,
   "metadata": {},
   "outputs": [
    {
     "data": {
      "text/plain": [
       "[1234, 2345, 3456, 4567, 5678, 6789, 12345]"
      ]
     },
     "execution_count": 8,
     "metadata": {},
     "output_type": "execute_result"
    }
   ],
   "source": [
    "'''\n",
    "方法一：打表\n",
    "\n",
    "时间复杂度：O（1）\n",
    "空间复杂度：O（1）\n",
    "'''\n",
    "\n",
    "class Solution:\n",
    "    def sequentialDigits(self, low: int, high: int) -> list[int]:\n",
    "\n",
    "        numbers = '123456789'\n",
    "        ins = []\n",
    "        n = len(numbers)\n",
    "        for i in range(1, n): # i控制长度\n",
    "            for j in range(n - i): # j控制位置\n",
    "                ins.append(int(numbers[j : i + j + 1]))\n",
    "\n",
    "        return [x for x in ins if x >= low and x <= high]\n",
    "\n",
    "low, high = 1000, 13000\n",
    "solu = Solution()\n",
    "solu.sequentialDigits(low, high)"
   ]
  },
  {
   "cell_type": "code",
   "execution_count": 12,
   "metadata": {},
   "outputs": [
    {
     "data": {
      "text/plain": [
       "[1234, 2345, 3456, 4567, 5678, 6789, 12345]"
      ]
     },
     "execution_count": 12,
     "metadata": {},
     "output_type": "execute_result"
    }
   ],
   "source": [
    "'''\n",
    "方法二：打表 + 二分查找\n",
    "\n",
    "时间复杂度：O（1）\n",
    "空间复杂度：O（1）\n",
    "'''\n",
    "\n",
    "import bisect\n",
    "\n",
    "class Solution:\n",
    "    def sequentialDigits(self, low: int, high: int) -> list[int]:\n",
    "\n",
    "        numbers = '123456789'\n",
    "        ins = []\n",
    "        n = len(numbers)\n",
    "        for i in range(1, n): # i控制长度\n",
    "            for j in range(n - i): # j控制位置\n",
    "                ins.append(int(numbers[j : i + j + 1]))\n",
    "\n",
    "        return ins[bisect.bisect_left(ins, low) : bisect.bisect(ins, high)]\n",
    "\n",
    "low, high = 1000, 13000\n",
    "solu = Solution()\n",
    "solu.sequentialDigits(low, high)"
   ]
  },
  {
   "cell_type": "code",
   "execution_count": 13,
   "metadata": {},
   "outputs": [
    {
     "data": {
      "text/plain": [
       "[1234, 2345, 3456, 4567, 5678, 6789, 12345]"
      ]
     },
     "execution_count": 13,
     "metadata": {},
     "output_type": "execute_result"
    }
   ],
   "source": [
    "'''\n",
    "方法三：最朴实的打表\n",
    "\n",
    "时间复杂度：O（1）\n",
    "空间复杂度：O（1）\n",
    "'''\n",
    "\n",
    "import bisect\n",
    "\n",
    "class Solution:\n",
    "    def sequentialDigits(self, low: int, high: int) -> list[int]:\n",
    "\n",
    "        ins = [\n",
    "            12, \n",
    "            23, \n",
    "            34, \n",
    "            45, \n",
    "            56, \n",
    "            67, \n",
    "            78, \n",
    "            89, \n",
    "            123, \n",
    "            234, \n",
    "            345, \n",
    "            456, \n",
    "            567, \n",
    "            678, \n",
    "            789, \n",
    "            1234, \n",
    "            2345, \n",
    "            3456, \n",
    "            4567, \n",
    "            5678, \n",
    "            6789, \n",
    "            12345, \n",
    "            23456, \n",
    "            34567, \n",
    "            45678, \n",
    "            56789, \n",
    "            123456, \n",
    "            234567, \n",
    "            345678, \n",
    "            456789, \n",
    "            1234567, \n",
    "            2345678, \n",
    "            3456789, \n",
    "            12345678, \n",
    "            23456789, \n",
    "            123456789\n",
    "            ]\n",
    "\n",
    "        return ins[bisect.bisect_left(ins, low) : bisect.bisect(ins, high)]\n",
    "\n",
    "low, high = 1000, 13000\n",
    "solu = Solution()\n",
    "solu.sequentialDigits(low, high)"
   ]
  },
  {
   "cell_type": "markdown",
   "metadata": {},
   "source": [
    "### 单词接龙\n",
    "\n",
    "***力扣第127题***  \n",
    "字典 wordList 中从单词 beginWord 和 endWord 的 转换序列 是一个按下述规格形成的序列 beginWord -> s1 -> s2 -> ... -> sk：\n",
    "\n",
    "每一对相邻的单词只差一个字母。\n",
    " 对于 1 <= i <= k 时，每个 si 都在 wordList 中。注意， beginWord 不需要在 wordList 中。\n",
    "sk == endWord\n",
    "给你两个单词 beginWord 和 endWord 和一个字典 wordList ，返回 从 beginWord 到 endWord 的 最短转换序列 中的 单词数目 。如果不存在这样的转换序列，返回 0 。"
   ]
  },
  {
   "cell_type": "code",
   "execution_count": 2,
   "metadata": {},
   "outputs": [
    {
     "data": {
      "text/plain": [
       "5"
      ]
     },
     "execution_count": 2,
     "metadata": {},
     "output_type": "execute_result"
    }
   ],
   "source": [
    "'''\n",
    "方法一：暴力BFS（超时）\n",
    "\n",
    "时间复杂度：O（m^2*n）\n",
    "空间复杂度：O（n）\n",
    "'''\n",
    "\n",
    "class Solution:\n",
    "    def ladderLength(self, beginWord: str, endWord: str, wordList: list[str]) -> int:\n",
    "\n",
    "        queue = [beginWord]\n",
    "        visited = set()\n",
    "        steps = 1\n",
    "        L = len(beginWord)\n",
    "\n",
    "        while len(queue) > 0:\n",
    "            for _ in range(len(queue)):\n",
    "                cur = queue.pop(0)\n",
    "                if cur in visited:\n",
    "                    continue\n",
    "                visited.add(cur)\n",
    "                if cur == endWord:\n",
    "                    return steps\n",
    "                \n",
    "                for i in range(L):\n",
    "                    for j in range(26):\n",
    "                        s = list(cur)\n",
    "                        s[i] = chr(ord('a') + j) # ord()转换ASCII码，chr转换为字符\n",
    "                        for word in wordList:\n",
    "                            if word == ''.join(s):\n",
    "                                queue.append(word)\n",
    "            steps += 1\n",
    "        \n",
    "        return 0\n",
    "\n",
    "beginWord, endWord, wordList = \"hit\", \"cog\", [\"hot\",\"dot\",\"dog\",\"lot\",\"log\",\"cog\"]\n",
    "solu = Solution()\n",
    "solu.ladderLength(beginWord, endWord, wordList)"
   ]
  },
  {
   "cell_type": "code",
   "execution_count": 3,
   "metadata": {},
   "outputs": [
    {
     "name": "stdout",
     "output_type": "stream",
     "text": [
      "defaultdict(<class 'list'>, {'*ot': ['hot', 'dot', 'lot'], 'h*t': ['hot'], 'ho*': ['hot'], 'd*t': ['dot'], 'do*': ['dot', 'dog'], '*og': ['dog', 'log', 'cog'], 'd*g': ['dog'], 'l*t': ['lot'], 'lo*': ['lot', 'log'], 'l*g': ['log'], 'c*g': ['cog'], 'co*': ['cog']})\n"
     ]
    },
    {
     "data": {
      "text/plain": [
       "5"
      ]
     },
     "execution_count": 3,
     "metadata": {},
     "output_type": "execute_result"
    }
   ],
   "source": [
    "'''\n",
    "方法二：预处理 + BFS （空间换时间）\n",
    "\n",
    "时间复杂度：O（m*n）\n",
    "空间复杂度：O（m*n）\n",
    "'''\n",
    "\n",
    "from collections import defaultdict\n",
    "\n",
    "class Solution:\n",
    "    def ladderLength(self, beginWord: str, endWord: str, wordList: list[str]) -> int:\n",
    "\n",
    "        queue = [beginWord]\n",
    "        visited = set()\n",
    "        steps = 1\n",
    "        L = len(beginWord)\n",
    "        n = len(wordList)\n",
    "        wizards = defaultdict(list)\n",
    "        for i in range(n):\n",
    "            word = wordList[i]\n",
    "            for j in range(L):\n",
    "                wizards[word[:j] + '*' + word[j + 1 : ]].append(word)\n",
    "        \n",
    "        print(wizards)\n",
    "\n",
    "        while len(queue) > 0:\n",
    "            for _ in range(len(queue)):\n",
    "                cur = queue.pop(0)\n",
    "                if cur in visited:\n",
    "                    continue\n",
    "                visited.add(cur)\n",
    "                if cur == endWord:\n",
    "                    return steps\n",
    "                \n",
    "                for i in range(L):\n",
    "                    for word in wizards.get(cur[:i] + '*' + cur[i + 1 :], []):\n",
    "                        queue.append(word)\n",
    "            steps += 1\n",
    "\n",
    "        return 0\n",
    "\n",
    "beginWord, endWord, wordList = \"hit\", \"cog\", [\"hot\",\"dot\",\"dog\",\"lot\",\"log\",\"cog\"]\n",
    "solu = Solution()\n",
    "solu.ladderLength(beginWord, endWord, wordList)"
   ]
  },
  {
   "cell_type": "markdown",
   "metadata": {},
   "source": [
    "# 3 不要忽视暴力法"
   ]
  },
  {
   "cell_type": "markdown",
   "metadata": {},
   "source": [
    "### 统计全为 1 的正方形子矩阵\n",
    "\n",
    "***力扣第1277题***  \n",
    "给你一个 m * n 的矩阵，矩阵中的元素不是 0 就是 1，请你统计并返回其中完全由 1 组成的 正方形 子矩阵的个数。"
   ]
  },
  {
   "cell_type": "code",
   "execution_count": 5,
   "metadata": {},
   "outputs": [
    {
     "data": {
      "text/plain": [
       "15"
      ]
     },
     "execution_count": 5,
     "metadata": {},
     "output_type": "execute_result"
    }
   ],
   "source": [
    "'''\n",
    "方法一：暴力法（超时）\n",
    "\n",
    "时间复杂度：O（m*n*min(m,n)）\n",
    "空间复杂度：O（1）\n",
    "'''\n",
    "\n",
    "class Solution:\n",
    "    def countSquares(self, matrix: list[list[int]]) -> int:\n",
    "\n",
    "        num_rows, num_cols = len(matrix), len(matrix[0])\n",
    "        min_side_length = min(num_rows, num_cols)\n",
    "\n",
    "        def is_all_ones(matrix):\n",
    "            for row in matrix:\n",
    "                for element in row:\n",
    "                    if element != 1:\n",
    "                        return False\n",
    "            return True\n",
    "\n",
    "        cnt = 0\n",
    "        for side_length in range(1, min_side_length + 1):\n",
    "            for i in range(num_rows - side_length + 1):\n",
    "                for j in range(num_cols - side_length + 1):\n",
    "                    if is_all_ones([row[j : j + side_length] for row in matrix[i : i + side_length]]): # 遍历二维list中所有边长为side_length的正方形\n",
    "                        cnt += 1\n",
    "        \n",
    "        return cnt\n",
    "\n",
    "matrix = [\n",
    "  [0,1,1,1],\n",
    "  [1,1,1,1],\n",
    "  [0,1,1,1]\n",
    "]\n",
    "solu = Solution()\n",
    "solu.countSquares(matrix)"
   ]
  },
  {
   "cell_type": "code",
   "execution_count": 6,
   "metadata": {},
   "outputs": [
    {
     "data": {
      "text/plain": [
       "15"
      ]
     },
     "execution_count": 6,
     "metadata": {},
     "output_type": "execute_result"
    }
   ],
   "source": [
    "'''\n",
    "方法二：动态规划\n",
    "\n",
    "时间复杂度：O（m*n）\n",
    "空间复杂度：O（m*n）\n",
    "'''\n",
    "\n",
    "class Solution:\n",
    "    def countSquares(self, matrix: list[list[int]]) -> int:\n",
    "\n",
    "        num_rows, num_cols = len(matrix), len(matrix[0])\n",
    "        cnt = 0\n",
    "        # dp[i][j]表示以顶点i，j为右下角所能构成的最大正方形边长\n",
    "        dp = [[0] * (num_cols + 1) for _ in range(num_rows + 1)]\n",
    "\n",
    "        for i in range(1, num_rows + 1):\n",
    "            for j in range(1, num_cols + 1):\n",
    "                if matrix[i - 1][j - 1] == 1:\n",
    "                    dp[i][j] = min(dp[i - 1][j], dp[i][j - 1], dp[i - 1][j - 1]) + 1\n",
    "                    cnt += dp[i][j]\n",
    "        \n",
    "        return cnt\n",
    "\n",
    "matrix = [\n",
    "  [0,1,1,1],\n",
    "  [1,1,1,1],\n",
    "  [0,1,1,1]\n",
    "]\n",
    "solu = Solution()\n",
    "solu.countSquares(matrix)"
   ]
  },
  {
   "cell_type": "markdown",
   "metadata": {},
   "source": [
    "### 子串的最大出现次数\n",
    "\n",
    "***力扣第1297题***  \n",
    "给你一个字符串 s ，请你返回满足以下条件且出现次数最大的 任意 子串的出现次数：\n",
    "\n",
    "子串中不同字母的数目必须小于等于 maxLetters 。\n",
    "子串的长度必须大于等于 minSize 且小于等于 maxSize 。"
   ]
  },
  {
   "cell_type": "code",
   "execution_count": 9,
   "metadata": {},
   "outputs": [
    {
     "data": {
      "text/plain": [
       "2"
      ]
     },
     "execution_count": 9,
     "metadata": {},
     "output_type": "execute_result"
    }
   ],
   "source": [
    "'''\n",
    "方法一：暴力法\n",
    "\n",
    "时间复杂度：O（(26^2)*n）\n",
    "空间复杂度：O（(26^2)*n）\n",
    "'''\n",
    "\n",
    "class Solution:\n",
    "    def maxFreq(self, s: str, maxLetters: int, minSize: int, maxSize: int) -> int:\n",
    "        \n",
    "        counter = {}\n",
    "        for i in range(0, len(s) - minSize + 1): # 记住这种写法\n",
    "            for length in range(minSize, maxSize + 1):\n",
    "                if i + length > len(s):\n",
    "                    break\n",
    "                sub = s[i : i + length]\n",
    "                if len(set(sub)) <= maxLetters: # 用set统计不同字符数目\n",
    "                    counter[sub] = counter.get(sub, 0) + 1\n",
    "\n",
    "        return max(counter.values()) if counter else 0\n",
    "\n",
    "s, maxLetters, minSize, maxSize = \"aababcaab\", 2, 3, 4\n",
    "solu = Solution()\n",
    "solu.maxFreq(s, maxLetters, minSize, maxSize)"
   ]
  },
  {
   "cell_type": "code",
   "execution_count": 10,
   "metadata": {},
   "outputs": [
    {
     "data": {
      "text/plain": [
       "2"
      ]
     },
     "execution_count": 10,
     "metadata": {},
     "output_type": "execute_result"
    }
   ],
   "source": [
    "'''\n",
    "方法二：暴力法剪枝（只统计长度为minSize的子串即可）\n",
    "\n",
    "时间复杂度：O（26*n）\n",
    "空间复杂度：O（26*n）\n",
    "'''\n",
    "\n",
    "class Solution:\n",
    "    def maxFreq(self, s: str, maxLetters: int, minSize: int, maxSize: int) -> int:\n",
    "        \n",
    "        counter = {}\n",
    "        for i in range(0, len(s) - minSize + 1):\n",
    "            sub = s[i : i + minSize]\n",
    "            if len(set(sub)) <= maxLetters:\n",
    "                counter[sub] = counter.get(sub, 0) + 1\n",
    "\n",
    "        return max(counter.values()) if counter else 0\n",
    "\n",
    "s, maxLetters, minSize, maxSize = \"aababcaab\", 2, 3, 4\n",
    "solu = Solution()\n",
    "solu.maxFreq(s, maxLetters, minSize, maxSize)"
   ]
  },
  {
   "cell_type": "markdown",
   "metadata": {},
   "source": [
    "# 4 降维与状态压缩"
   ]
  },
  {
   "cell_type": "code",
   "execution_count": 12,
   "metadata": {},
   "outputs": [
    {
     "data": {
      "text/plain": [
       "False"
      ]
     },
     "execution_count": 12,
     "metadata": {},
     "output_type": "execute_result"
    }
   ],
   "source": [
    "# 判断一个字符串中的字符是否全部唯一（状态压缩）\n",
    "\n",
    "def isUnique(s: str) -> bool:\n",
    "    \n",
    "    seen = 0 # 相当于set()\n",
    "    for c in s:\n",
    "        if seen & 1 << ord(c) - ord('a') != 0: # 相当于判断c是否在set中\n",
    "            return False\n",
    "        seen |= 1 << ord(c) - ord('a') # 相当于将c加入set\n",
    "    \n",
    "    return True\n",
    "\n",
    "isUnique('absxssxsxsxsxsx')"
   ]
  },
  {
   "cell_type": "markdown",
   "metadata": {},
   "source": [
    "### 生命游戏\n",
    "***力扣第289题***  \n",
    "根据 百度百科 ， 生命游戏 ，简称为 生命 ，是英国数学家约翰·何顿·康威在 1970 年发明的细胞自动机。  \n",
    "给定一个包含 m × n 个格子的面板，每一个格子都可以看成是一个细胞。每个细胞都具有一个初始状态： 1 即为 活细胞 （live），或 0 即为 死细胞 （dead）。每个细胞与其八个相邻位置（水平，垂直，对角线）的细胞都遵循以下四条生存定律：  \n",
    "如果活细胞周围八个位置的活细胞数少于两个，则该位置活细胞死亡；  \n",
    "如果活细胞周围八个位置有两个或三个活细胞，则该位置活细胞仍然存活；  \n",
    "如果活细胞周围八个位置有超过三个活细胞，则该位置活细胞死亡；  \n",
    "如果死细胞周围正好有三个活细胞，则该位置死细胞复活；  \n",
    "下一个状态是通过将上述规则同时应用于当前状态下的每个细胞所形成的，其中细胞的出生和死亡是同时发生的。给你 m x n 网格面板 board 的当前状态，返回下一个状态。  \n",
    "\n",
    "1 <= m, n <= 25"
   ]
  },
  {
   "cell_type": "code",
   "execution_count": 14,
   "metadata": {},
   "outputs": [
    {
     "name": "stdout",
     "output_type": "stream",
     "text": [
      "[[0, 0, 0], [1, 0, 1], [0, 1, 1], [0, 1, 0]]\n"
     ]
    }
   ],
   "source": [
    "'''\n",
    "方法一：常规方法\n",
    "\n",
    "时间复杂度：O（mn）\n",
    "空间复杂度：O（mn）\n",
    "'''\n",
    "\n",
    "import copy\n",
    "\n",
    "class Solution:\n",
    "    def gameOfLife(self, board: list[list[int]]) -> None:\n",
    "\n",
    "        \"\"\"\n",
    "        Do not return anything, modify board in-place instead.\n",
    "        \"\"\"\n",
    "\n",
    "        m, n = len(board), len(board[0])\n",
    "        old = copy.deepcopy(board)\n",
    "\n",
    "        def cntLiveCell(i: int, j: int) -> int:\n",
    "            \n",
    "            cnt = 0\n",
    "            directions = [\n",
    "                (0, 1),\n",
    "                (0, -1),\n",
    "                (-1, 0),\n",
    "                (1, 0),\n",
    "                (1, 1),\n",
    "                (1, -1),\n",
    "                (-1, 1),\n",
    "                (-1, -1)\n",
    "            ]\n",
    "\n",
    "            for (dx, dy) in directions:\n",
    "                if i + dx >= 0 and i + dx < m and j + dy >= 0 and j + dy < n:\n",
    "                    cnt += old[i + dx][j + dy]\n",
    "            \n",
    "            return cnt\n",
    "        \n",
    "        for i in range(m):\n",
    "            for j in range(n):\n",
    "                cnt = cntLiveCell(i, j)\n",
    "                if old[i][j] == 0 and cnt == 3:\n",
    "                    board[i][j] = 1\n",
    "                if old[i][j] == 1 and (cnt < 2 or cnt > 3):\n",
    "                    board[i][j] = 0\n",
    "\n",
    "board = [[0,1,0],[0,0,1],[1,1,1],[0,0,0]]\n",
    "solu = Solution()\n",
    "solu.gameOfLife(board)\n",
    "print(board)"
   ]
  },
  {
   "cell_type": "code",
   "execution_count": 18,
   "metadata": {},
   "outputs": [
    {
     "name": "stdout",
     "output_type": "stream",
     "text": [
      "[[0, 0, 0], [1, 0, 1], [0, 1, 1], [0, 1, 0]]\n"
     ]
    }
   ],
   "source": [
    "'''\n",
    "方法二：状态压缩（将这个细胞中有多少活细胞这个信息存储到高位）\n",
    "\n",
    "时间复杂度：O（mn）\n",
    "空间复杂度：O（1）\n",
    "'''\n",
    "\n",
    "class Solution:\n",
    "    def gameOfLife(self, board: list[list[int]]) -> None:\n",
    "        \n",
    "        \"\"\"\n",
    "        Do not return anything, modify board in-place instead.\n",
    "        \"\"\"\n",
    "\n",
    "        m, n = len(board), len(board[0])\n",
    "\n",
    "        def cntLiveCell(i: int, j: int) -> int:\n",
    "            \n",
    "            cnt = 0\n",
    "            directions = [\n",
    "                (0, 1),\n",
    "                (0, -1),\n",
    "                (-1, 0),\n",
    "                (1, 0),\n",
    "                (1, 1),\n",
    "                (1, -1),\n",
    "                (-1, 1),\n",
    "                (-1, -1)\n",
    "            ]\n",
    "\n",
    "            for (dx, dy) in directions:\n",
    "                if i + dx >= 0 and i + dx < m and j + dy >= 0 and j + dy < n:\n",
    "                    cnt += board[i + dx][j + dy] & 1\n",
    "            \n",
    "            return cnt\n",
    "        \n",
    "        for i in range(m):\n",
    "            for j in range(n):\n",
    "                cnt = cntLiveCell(i, j)\n",
    "                board[i][j] |= cnt << 1\n",
    "        \n",
    "        for i in range(m):\n",
    "            for j in range(n):\n",
    "                cell = board[i][j] & 1\n",
    "                cnt = board[i][j] >> 1\n",
    "                if cell == 0 and cnt == 3:\n",
    "                    board[i][j] = 1\n",
    "                elif cell == 1 and (cnt > 3 or cnt < 2):\n",
    "                    board[i][j] = 0\n",
    "                else:\n",
    "                    board[i][j] = cell\n",
    "\n",
    "board = [[0,1,0],[0,0,1],[1,1,1],[0,0,0]]\n",
    "solu = Solution()\n",
    "solu.gameOfLife(board)\n",
    "print(board)"
   ]
  }
 ],
 "metadata": {
  "kernelspec": {
   "display_name": "base",
   "language": "python",
   "name": "python3"
  },
  "language_info": {
   "codemirror_mode": {
    "name": "ipython",
    "version": 3
   },
   "file_extension": ".py",
   "mimetype": "text/x-python",
   "name": "python",
   "nbconvert_exporter": "python",
   "pygments_lexer": "ipython3",
   "version": "3.9.12"
  },
  "orig_nbformat": 4
 },
 "nbformat": 4,
 "nbformat_minor": 2
}
