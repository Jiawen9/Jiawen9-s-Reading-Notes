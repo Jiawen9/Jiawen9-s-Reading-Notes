{
 "cells": [
  {
   "attachments": {},
   "cell_type": "markdown",
   "metadata": {},
   "source": [
    "## 数学之美"
   ]
  },
  {
   "attachments": {},
   "cell_type": "markdown",
   "metadata": {},
   "source": [
    "### 两数之和\n",
    "***力扣第1题***  \n",
    "给定一个整数数组**nums**和一个整数目标值**target**，请你在该数组中找出 和为目标值**target**的那两个整数，并返回它们的数组下标。  \n",
    "你可以假设每种输入只会对应一个答案。但是，数组中同一个元素在答案里不能重复出现。  \n",
    "你可以按任意顺序返回答案。  "
   ]
  },
  {
   "cell_type": "code",
   "execution_count": 27,
   "metadata": {},
   "outputs": [
    {
     "data": {
      "text/plain": [
       "[0, 1]"
      ]
     },
     "execution_count": 27,
     "metadata": {},
     "output_type": "execute_result"
    }
   ],
   "source": [
    "'''\n",
    "解法一:双指针法\n",
    "时间复杂度:O(nlogn)\n",
    "'''\n",
    "class Solution:\n",
    "    def twoSum(self, nums: list[int], target: int) -> list[int]:\n",
    "        new_nums = []\n",
    "        for idx, num in enumerate(nums):\n",
    "            new_nums.append((num, idx))\n",
    "        new_nums = sorted(new_nums, key=lambda d: d[0])\n",
    "        l = 0\n",
    "        r = len(new_nums) - 1\n",
    "        while(l < r):\n",
    "            if (new_nums[l][0] + new_nums[r][0] < target):\n",
    "                l += 1\n",
    "            elif (new_nums[l][0] + new_nums[r][0] > target):\n",
    "                r -= 1\n",
    "            else:\n",
    "                return [new_nums[l][1], new_nums[r][1]]\n",
    "        return []\n",
    "\n",
    "## 试运行\n",
    "nums, target= [2,7,11,15], 9\n",
    "solu = Solution()\n",
    "solu.twoSum(nums, target)"
   ]
  },
  {
   "cell_type": "code",
   "execution_count": 28,
   "metadata": {},
   "outputs": [
    {
     "data": {
      "text/plain": [
       "[(1, 2), (1, 1)]"
      ]
     },
     "execution_count": 28,
     "metadata": {},
     "output_type": "execute_result"
    }
   ],
   "source": [
    "'''\n",
    "补充：以tuple或list的某个值为key进行排序的方法\n",
    "'''\n",
    "a_list = [(1, 2), (1, 1)]\n",
    "sorted(a_list, key=lambda d: d[1], reverse=True) # reverse=True从大到小"
   ]
  },
  {
   "cell_type": "code",
   "execution_count": 25,
   "metadata": {},
   "outputs": [
    {
     "data": {
      "text/plain": [
       "[1, 0]"
      ]
     },
     "execution_count": 25,
     "metadata": {},
     "output_type": "execute_result"
    }
   ],
   "source": [
    "'''\n",
    "解法二:dict空间换时间\n",
    "时间复杂度:O(n)\n",
    "'''\n",
    "class Solution:\n",
    "    def twoSum(self, nums: list[int], target: int) -> list[int]:\n",
    "        num_dict = dict()\n",
    "        for idx, num in enumerate(nums):\n",
    "            if num_dict.get(target - num) is not None:\n",
    "                return [idx, num_dict[target - num]]\n",
    "            else:\n",
    "                num_dict[num] = idx\n",
    "        return []\n",
    "\n",
    "## 试运行\n",
    "nums, target= [2,7,11,15], 9\n",
    "solu = Solution()\n",
    "solu.twoSum(nums, target)"
   ]
  },
  {
   "attachments": {},
   "cell_type": "markdown",
   "metadata": {},
   "source": [
    "### 三数之和\n",
    "***力扣第15题***  \n",
    "给你一个整数数组 nums ，判断是否存在三元组 [nums[i], nums[j], nums[k]] 满足 i != j、i != k 且 j != k ，同时还满足 nums[i] + nums[j] + nums[k] == 0。  \n",
    "请你返回所有和为 0 且不重复的三元组。  \n",
    "注意：答案中不可以包含重复的三元组。  "
   ]
  },
  {
   "cell_type": "code",
   "execution_count": 32,
   "metadata": {},
   "outputs": [
    {
     "data": {
      "text/plain": [
       "[[-1, 0, 1]]"
      ]
     },
     "execution_count": 32,
     "metadata": {},
     "output_type": "execute_result"
    }
   ],
   "source": [
    "'''\n",
    "解法:双指针法\n",
    "时间复杂度:O(n2)\n",
    "'''\n",
    "class Solution:\n",
    "    def threeSum(self, nums: list[int]) -> list[list[int]]:\n",
    "        nums.sort()\n",
    "        n = len(nums)\n",
    "        res = list()\n",
    "        for idx in range(n - 2):\n",
    "            if idx > 0 and nums[idx] == nums[idx-1]: ##去重\n",
    "                continue\n",
    "            l , r = idx + 1, n - 1\n",
    "            while l < r:\n",
    "                if nums[idx] + nums[l] + nums[r] == 0:\n",
    "                    res.append([nums[idx], nums[l], nums[r]])\n",
    "                    while(l < r and nums[l] == nums[l + 1]): ##去重\n",
    "                        l += 1\n",
    "                    while(l < r and nums[r] == nums[r - 1]): ##去重\n",
    "                        r -= 1\n",
    "                    l += 1\n",
    "                    r -= 1\n",
    "                elif nums[idx] + nums[l] + nums[r] < 0:\n",
    "                    l += 1\n",
    "                else:\n",
    "                    r -= 1\n",
    "        return res\n",
    "\n",
    "## 试运行\n",
    "nums = [0,-1,1,-1]\n",
    "solu = Solution()\n",
    "solu.threeSum(nums)"
   ]
  },
  {
   "cell_type": "code",
   "execution_count": null,
   "metadata": {},
   "outputs": [],
   "source": [
    "'''\n",
    "enumerate or range ?\n",
    "使用enumerate同时获得index和value比range获得index后取得value的效率高；  \n",
    "range中存在len时，效率会降低；  \n",
    "在只需要value的情况下，直接使用in list的效率更高\n",
    "'''"
   ]
  },
  {
   "attachments": {},
   "cell_type": "markdown",
   "metadata": {},
   "source": [
    "### 四数之和\n",
    "***力扣第18题***  \n",
    "给你一个由 n 个整数组成的数组 nums ，和一个目标值 target 。请你找出并返回满足下述全部条件且不重复的四元组 [nums[a], nums[b], nums[c], nums[d]] （若两个四元组元素一一对应，则认为两个四元组重复）：  \n",
    "1.0 <= a, b, c, d < n  \n",
    "2.a、b、c 和 d 互不相同  \n",
    "3.nums[a] + nums[b] + nums[c] + nums[d] == target  \n",
    "4.你可以按任意顺序返回答案 。"
   ]
  },
  {
   "cell_type": "code",
   "execution_count": 37,
   "metadata": {},
   "outputs": [
    {
     "data": {
      "text/plain": [
       "[(-2, -1, 1, 2), (-2, 0, 0, 2), (-1, 0, 0, 1)]"
      ]
     },
     "execution_count": 37,
     "metadata": {},
     "output_type": "execute_result"
    }
   ],
   "source": [
    "'''\n",
    "解法一:双指针法\n",
    "时间复杂度:O(n3)\n",
    "'''\n",
    "class Solution:\n",
    "    def fourSum(self, nums: list[int], target: int) -> list[list[int]]:\n",
    "        nums.sort()\n",
    "        n = len(nums)\n",
    "        res = list()\n",
    "        for idx_a in range(n - 3):\n",
    "            # 去重\n",
    "            if idx_a > 0 and nums[idx_a] == nums[idx_a - 1]:\n",
    "                continue\n",
    "            for idx_b in range(idx_a + 1, n - 2):\n",
    "                # 去重\n",
    "                if idx_b > idx_a + 1 and nums[idx_b] == nums[idx_b - 1]:\n",
    "                    continue\n",
    "                l, r = idx_b + 1, n - 1\n",
    "                while l < r:\n",
    "                    if nums[idx_a] + nums[idx_b] + nums[l] + nums[r] == target:\n",
    "                        res.append((nums[idx_a], nums[idx_b], nums[l], nums[r]))\n",
    "                        l += 1\n",
    "                        r -= 1\n",
    "                        while l < r and nums[l] == nums[l-1]: # 去重\n",
    "                            l += 1\n",
    "                        while l < r  and nums[r] == nums[r+1]: # 去重\n",
    "                            r -= 1\n",
    "                    elif nums[idx_a] + nums[idx_b] + nums[l] + nums[r] > target:\n",
    "                        r -= 1\n",
    "                    else:\n",
    "                        l += 1\n",
    "        return res\n",
    "\n",
    "# 试运行\n",
    "nums, target = [1,0,-1,0,-2,2], 0\n",
    "solu = Solution()\n",
    "solu.fourSum(nums, target)"
   ]
  },
  {
   "cell_type": "code",
   "execution_count": 35,
   "metadata": {},
   "outputs": [
    {
     "data": {
      "text/plain": [
       "[[-2, -1, 1, 2], [-2, 0, 0, 2], [-1, 0, 0, 1]]"
      ]
     },
     "execution_count": 35,
     "metadata": {},
     "output_type": "execute_result"
    }
   ],
   "source": [
    "'''\n",
    "解法二:回溯（超时）\n",
    "时间复杂度:O(n4) T(n)=n(n-1)(n-2)(n-3)\n",
    "'''\n",
    "class Solution:\n",
    "    def fourSum(self, nums: list[int], target: int) -> list[list[int]]:\n",
    "        res = list()\n",
    "        temp = list()\n",
    "        nums_set = set()\n",
    "        n = len(nums)\n",
    "        nums.sort()\n",
    "\n",
    "        def dfs(nums: list[int], remain: int, start: int):\n",
    "            if len(temp) > 4:\n",
    "                return\n",
    "            if remain == 0 and len(temp) == 4:\n",
    "                if tuple(temp) in nums_set:\n",
    "                    return\n",
    "                else:\n",
    "                    nums_set.add(tuple(temp))\n",
    "                    return res.append(temp.copy())\n",
    "            for i in range(start, n):\n",
    "                temp.append(nums[i])\n",
    "                dfs(nums, remain-nums[i], i + 1)\n",
    "                temp.pop()\n",
    "        \n",
    "        dfs(nums, target, 0)\n",
    "        return res\n",
    "\n",
    "# 试运行\n",
    "nums, target = [1,0,-1,0,-2,2], 0\n",
    "solu = Solution()\n",
    "solu.fourSum(nums, target)"
   ]
  },
  {
   "cell_type": "code",
   "execution_count": 38,
   "metadata": {},
   "outputs": [
    {
     "data": {
      "text/plain": [
       "[[-2, -1, 1, 2], [-2, 0, 0, 2], [-1, 0, 0, 1]]"
      ]
     },
     "execution_count": 38,
     "metadata": {},
     "output_type": "execute_result"
    }
   ],
   "source": [
    "'''\n",
    "解法三:分治法（比双指针快）\n",
    "时间复杂度:O(n3)\n",
    "'''\n",
    "class Solution:\n",
    "    def fourSum(self, nums: list[int], target: int) -> list[list[int]]:\n",
    "        nums.sort()\n",
    "        res = list()\n",
    "        temp = list()   \n",
    "\n",
    "        def findNsum(nums: list[int], target: int, N: int, temp:list[int]):\n",
    "            if len(nums) < N or N < 2:\n",
    "                return\n",
    "            # 两数之和\n",
    "            if N == 2:\n",
    "                l, r = 0, len(nums) - 1\n",
    "                while l < r:\n",
    "                    if nums[l] + nums[r] == target:\n",
    "                        res.append(temp + [nums[l], nums[r]])\n",
    "                        l += 1\n",
    "                        r -= 1\n",
    "                        while l < r and nums[l] == nums[l - 1]:\n",
    "                            l += 1\n",
    "                        while r > l and nums[r] == nums[r + 1]:\n",
    "                            r -= 1\n",
    "                    elif nums[l] + nums[r] < target:\n",
    "                        l += 1\n",
    "                    else:\n",
    "                        r -= 1\n",
    "            # 缩减问题规模\n",
    "            else:\n",
    "                for i in range(len(nums)):\n",
    "                    if i == 0 or i > 0 and nums[i-1] != nums[i]:\n",
    "                        findNsum(nums[i+1:], target-nums[i], N-1, temp+[nums[i]])\n",
    "            return\n",
    "        \n",
    "        findNsum(nums, target, 4, temp)\n",
    "        return res\n",
    "\n",
    "# 试运行\n",
    "nums, target = [1,0,-1,0,-2,2], 0\n",
    "solu = Solution()\n",
    "solu.fourSum(nums, target)"
   ]
  },
  {
   "attachments": {},
   "cell_type": "markdown",
   "metadata": {},
   "source": [
    "### 四数相加II\n",
    "***力扣第454题***  \n",
    "给你四个整数数组 nums1、nums2、nums3 和 nums4 ，数组长度都是 n ，请你计算有多少个元组 (i, j, k, l) 能满足：  \n",
    "0 <= i, j, k, l < n  \n",
    "nums1[i] + nums2[j] + nums3[k] + nums4[l] == 0  "
   ]
  },
  {
   "cell_type": "code",
   "execution_count": 40,
   "metadata": {},
   "outputs": [
    {
     "data": {
      "text/plain": [
       "2"
      ]
     },
     "execution_count": 40,
     "metadata": {},
     "output_type": "execute_result"
    }
   ],
   "source": [
    "'''\n",
    "解法一:dict空间换时间\n",
    "时间复杂度:O(n2)\n",
    "'''\n",
    "class Solution:\n",
    "    def fourSumCount(self, nums1: list[int], nums2: list[int], nums3: list[int], nums4: list[int]) -> int:\n",
    "        num_dict = dict()\n",
    "        res = 0\n",
    "        for i in nums1:\n",
    "            for j in nums2:\n",
    "                num_dict[i + j] = num_dict.get(i + j, 0) + 1\n",
    "        for i in nums3:\n",
    "            for j in nums4:\n",
    "                res += num_dict.get(-(i + j), 0)\n",
    "        return res\n",
    "\n",
    "# 试运行\n",
    "nums1, nums2, nums3, nums4 = [1,2], [-2,-1], [-1,2], [0,2]\n",
    "solu = Solution()\n",
    "solu.fourSumCount(nums1, nums2, nums3, nums4)"
   ]
  },
  {
   "attachments": {},
   "cell_type": "markdown",
   "metadata": {},
   "source": [
    "### 最接近的三数之和\n",
    "***力扣第16题***  \n",
    "给你一个长度为 n 的整数数组 nums 和 一个目标值 target。请你从 nums 中选出三个整数，使它们的和与 target 最接近。  \n",
    "返回这三个数的和。  \n",
    "假定每组输入只存在恰好一个解。"
   ]
  },
  {
   "cell_type": "code",
   "execution_count": 41,
   "metadata": {},
   "outputs": [
    {
     "data": {
      "text/plain": [
       "2"
      ]
     },
     "execution_count": 41,
     "metadata": {},
     "output_type": "execute_result"
    }
   ],
   "source": [
    "'''\n",
    "解法一:双指针\n",
    "时间复杂度:O(n2)\n",
    "'''\n",
    "class Solution:\n",
    "    def threeSumClosest(self, nums: list[int], target: int) -> int:\n",
    "        nums.sort()\n",
    "        n = len(nums)\n",
    "        res = nums[0] + nums[1] + nums[2] # res赋初值\n",
    "        for idx in range(n - 2):\n",
    "            if idx > 0 and nums[idx] == nums[idx-1]: ##去重\n",
    "                continue\n",
    "            l , r = idx + 1, n - 1\n",
    "            while l < r:\n",
    "                tmp_sum = nums[idx] + nums[l] + nums[r]\n",
    "                if tmp_sum == target:\n",
    "                    return tmp_sum\n",
    "                if abs(tmp_sum - target) < abs(res - target):\n",
    "                    res = tmp_sum\n",
    "                elif tmp_sum < target:\n",
    "                    l += 1\n",
    "                    while l < r and nums[l] == nums[l-1]: ##去重\n",
    "                        l += 1\n",
    "                else:\n",
    "                    r -= 1\n",
    "                    while l < r and nums[r] == nums[r+1]: ##去重\n",
    "                        r -= 1\n",
    "        return res\n",
    "\n",
    "# 试运行\n",
    "nums, target = [-1,2,1,-4], 1\n",
    "solu = Solution()\n",
    "solu.threeSumClosest(nums, target)"
   ]
  },
  {
   "attachments": {},
   "cell_type": "markdown",
   "metadata": {},
   "source": [
    "### 最大子序列和\n",
    "***力扣第53题***  \n",
    "给你一个整数数组 nums ，请你找出一个具有最大和的连续子数组（子数组最少包含一个元素），返回其最大和。  \n",
    "子数组 是数组中的一个连续部分。  "
   ]
  },
  {
   "cell_type": "code",
   "execution_count": 5,
   "metadata": {},
   "outputs": [
    {
     "data": {
      "text/plain": [
       "6"
      ]
     },
     "execution_count": 5,
     "metadata": {},
     "output_type": "execute_result"
    }
   ],
   "source": [
    "'''\n",
    "解法一:暴力法（超时）\n",
    "时间复杂度:O(n2)\n",
    "'''\n",
    "class Solution:\n",
    "    def maxSubArray(self, nums: list[int]) -> int:\n",
    "        n = len(nums)\n",
    "        maxSum = float('-inf') # 负无穷的表示法\n",
    "        for i in range(n):\n",
    "            for j in range(i, n):\n",
    "                tmp_sum = sum(nums[i:j+1])\n",
    "                if tmp_sum > maxSum:\n",
    "                    maxSum = tmp_sum\n",
    "        return maxSum\n",
    "\n",
    "# 试运行\n",
    "nums = [-2,1,-3,4,-1,2,1,-5,4]\n",
    "solu = Solution()\n",
    "solu.maxSubArray(nums)"
   ]
  },
  {
   "cell_type": "code",
   "execution_count": 6,
   "metadata": {},
   "outputs": [
    {
     "data": {
      "text/plain": [
       "6"
      ]
     },
     "execution_count": 6,
     "metadata": {},
     "output_type": "execute_result"
    }
   ],
   "source": [
    "'''\n",
    "解法二:分治法\n",
    "时间复杂度:O(nlogn)\n",
    "'''\n",
    "class Solution:\n",
    "    def maxSubArray(self, nums: list[int]) -> int:\n",
    "        def helper(nums: list[int], l: int, r: int):\n",
    "            if l > r:\n",
    "                return float('-inf')\n",
    "            mid = (l + r) // 2\n",
    "            left = helper(nums, l, mid - 1)\n",
    "            right = helper(nums, mid + 1, r)\n",
    "\n",
    "            left_suffix_max_sum = right_prefix_max_sum = 0\n",
    "            total = 0\n",
    "            for i in reversed(range(l, mid)):\n",
    "                total += nums[i]\n",
    "                left_suffix_max_sum = max(left_suffix_max_sum, total)\n",
    "            total = 0\n",
    "            for i in range(mid + 1, r + 1):\n",
    "                total += nums[i]\n",
    "                right_prefix_max_sum = max(right_prefix_max_sum, total)\n",
    "            cross_max_sum = left_suffix_max_sum + right_prefix_max_sum + nums[mid]\n",
    "            return max(cross_max_sum, left, right)\n",
    "        \n",
    "        return helper(nums, 0, len(nums)-1)\n",
    "\n",
    "# 试运行\n",
    "nums = [-2,1,-3,4,-1,2,1,-5,4]\n",
    "solu = Solution()\n",
    "solu.maxSubArray(nums)"
   ]
  },
  {
   "cell_type": "code",
   "execution_count": 8,
   "metadata": {},
   "outputs": [
    {
     "data": {
      "text/plain": [
       "6"
      ]
     },
     "execution_count": 8,
     "metadata": {},
     "output_type": "execute_result"
    }
   ],
   "source": [
    "'''\n",
    "解法三：动态规划\n",
    "时间复杂度:O(n)\n",
    "'''\n",
    "class Solution:\n",
    "    def maxSubArray(self, nums: list[int]) -> int:\n",
    "        n = len(nums)\n",
    "        dp = [0] * (n + 1)\n",
    "        dp[0] = float('-inf')\n",
    "        for i in range(1, n + 1):\n",
    "            dp[i] = max(nums[i-1], nums[i-1] + dp[i-1])\n",
    "        return max(dp)\n",
    "    \n",
    "# 优化空间复杂度\n",
    "class Solution:\n",
    "    def maxSubArray(self, nums: list[int]) -> int:\n",
    "        n = len(nums)\n",
    "        max_sum = max_cur_sum = float('-inf')\n",
    "        for i in range(1, n + 1):\n",
    "            max_cur_sum = max(nums[i-1], nums[i-1] + max_cur_sum)\n",
    "            if max_cur_sum > max_sum:\n",
    "                max_sum = max_cur_sum\n",
    "        return max_sum\n",
    "\n",
    "# 试运行\n",
    "nums = [-2,1,-3,4,-1,2,1,-5,4]\n",
    "solu = Solution()\n",
    "solu.maxSubArray(nums)"
   ]
  },
  {
   "cell_type": "code",
   "execution_count": 10,
   "metadata": {},
   "outputs": [
    {
     "data": {
      "text/plain": [
       "6"
      ]
     },
     "execution_count": 10,
     "metadata": {},
     "output_type": "execute_result"
    }
   ],
   "source": [
    "'''\n",
    "解法四：前缀和\n",
    "时间复杂度:O(n)\n",
    "'''\n",
    "class Solution:\n",
    "    def maxSubArray(self, nums: list[int]) -> int:\n",
    "        n = len(nums)\n",
    "        max_sum = nums[0]\n",
    "        # min_sum 最小前缀和表示序列和不再继续扩展的最后一个位置\n",
    "        min_sum = tmp_sum = 0\n",
    "        for i in range(n):\n",
    "            tmp_sum += nums[i]\n",
    "            max_sum = max(max_sum, tmp_sum - min_sum)\n",
    "            min_sum = min(min_sum, tmp_sum)\n",
    "        return max_sum\n",
    "\n",
    "# 试运行\n",
    "nums = [-2,1,-3,4,-1,2,1,-5,4]\n",
    "solu = Solution()\n",
    "solu.maxSubArray(nums)"
   ]
  },
  {
   "attachments": {},
   "cell_type": "markdown",
   "metadata": {},
   "source": [
    "### 最大数\n",
    "***力扣第179题***  \n",
    "给定一组非负整数 nums，重新排列每个数的顺序（每个数不可拆分）使之组成一个最大的整数。   \n",
    "注意：输出结果可能非常大，所以你需要返回一个字符串而不是整数。   "
   ]
  },
  {
   "cell_type": "code",
   "execution_count": 4,
   "metadata": {},
   "outputs": [
    {
     "data": {
      "text/plain": [
       "'210'"
      ]
     },
     "execution_count": 4,
     "metadata": {},
     "output_type": "execute_result"
    }
   ],
   "source": [
    "'''\n",
    "解法一：排序\n",
    "时间复杂度:O(nlogn)\n",
    "'''\n",
    "class Solution:\n",
    "    def largestNumber(self, nums: list[int]) -> str:\n",
    "        nums_str = list(map(str, nums))\n",
    "        import functools\n",
    "        def comp(a, b):\n",
    "            if a + b > b + a:\n",
    "                return 1\n",
    "            elif a + b < b + a:\n",
    "                return -1\n",
    "            else:\n",
    "                return 0\n",
    "        nums_str.sort(reverse=True, key=functools.cmp_to_key(comp))\n",
    "        return ''.join(nums_str) if nums_str[0] != '0' else '0'\n",
    "\n",
    "# 试运行\n",
    "nums = [10,2]\n",
    "solu = Solution()\n",
    "solu.largestNumber(nums)"
   ]
  },
  {
   "attachments": {},
   "cell_type": "markdown",
   "metadata": {},
   "source": [
    "### 分数到小数\n",
    "***力扣第166题***  \n",
    "给定两个整数，分别表示分数的分子 numerator 和分母 denominator，以 字符串形式返回小数 。  \n",
    "如果小数部分为循环小数，则将循环的部分括在括号内。  \n",
    "如果存在多个答案，只需返回 任意一个。  \n",
    "对于所有给定的输入，保证 答案字符串的长度小于 104 。  "
   ]
  },
  {
   "cell_type": "code",
   "execution_count": 3,
   "metadata": {},
   "outputs": [
    {
     "data": {
      "text/plain": [
       "'0.(012)'"
      ]
     },
     "execution_count": 3,
     "metadata": {},
     "output_type": "execute_result"
    }
   ],
   "source": [
    "'''\n",
    "解法一：短除法\n",
    "时间复杂度:O(l)\n",
    "'''\n",
    "class Solution:\n",
    "    def fractionToDecimal(self, numerator: int, denominator: int) -> str:\n",
    "        # divmod() 函数把除数和余数运算结果结合起来，返回一个包含商和余数的元组(a // b, a % b)\n",
    "        n, remainder = divmod(abs(numerator), abs(denominator)) # 去除符号\n",
    "        sign = ''\n",
    "        if(numerator // denominator < 0):\n",
    "            sign = '-'\n",
    "        res = [str(n), '.']\n",
    "        seen = []\n",
    "        # 短除法\n",
    "        while remainder not in seen:\n",
    "            seen.append(remainder)\n",
    "            n, remainder = divmod(remainder * 10, abs(denominator))\n",
    "            res.append(str(n))\n",
    "        # 处理循环节\n",
    "        index = seen.index(remainder)\n",
    "        res.insert(index + 2, '(')\n",
    "        res.append(')')\n",
    "        # 去除不循环时末尾的(0)还有整除时末尾的小数点\n",
    "        return sign + ''.join(res).replace('(0)', '').rstrip('.')\n",
    "\n",
    "# 试运行\n",
    "numerator, denominator  = 4, 333\n",
    "solu = Solution()\n",
    "solu.fractionToDecimal(numerator, denominator)"
   ]
  },
  {
   "attachments": {},
   "cell_type": "markdown",
   "metadata": {},
   "source": [
    "### 最大整除子集\n",
    "***力扣第368题***  \n",
    "给你一个由 无重复 正整数组成的集合 nums ，请你找出并返回其中最大的整除子集 answer ，子集中每一元素对 (answer[i], answer[j]) 都应当满足：  \n",
    "answer[i] % answer[j] == 0 ，或 answer[j] % answer[i] == 0  \n",
    "如果存在多个有效解子集，返回其中任何一个均可。  "
   ]
  },
  {
   "cell_type": "code",
   "execution_count": 4,
   "metadata": {},
   "outputs": [
    {
     "data": {
      "text/plain": [
       "[1, 2, 4, 8]"
      ]
     },
     "execution_count": 4,
     "metadata": {},
     "output_type": "execute_result"
    }
   ],
   "source": [
    "'''\n",
    "解法一：动态规划\n",
    "时间复杂度:O(n2）\n",
    "'''\n",
    "class Solution:\n",
    "    def largestDivisibleSubset(self, nums: list[int]) -> list[int]:\n",
    "        S = {-1: list()}\n",
    "        for x in sorted(nums):\n",
    "            S[x] = max((S[d] for d in S if x % d == 0), key=len) + [x]\n",
    "        return max(S.values(), key=len) # 取list中长度最大的那一个\n",
    "\n",
    "# 试运行\n",
    "nums = [1,2,4,8]\n",
    "solu = Solution()\n",
    "solu.largestDivisibleSubset(nums)"
   ]
  },
  {
   "attachments": {},
   "cell_type": "markdown",
   "metadata": {},
   "source": [
    "### 质数排列\n",
    "***力扣第1175题***  \n",
    "请你帮忙给从 1 到 n 的数设计排列方案，使得所有的「质数」都应该被放在「质数索引」（索引从 1 开始）上；你需要返回可能的方案总数。  \n",
    "让我们一起来回顾一下「质数」：质数一定是大于 1 的，并且不能用两个小于它的正整数的乘积来表示。    \n",
    "由于答案可能会很大，所以请你返回答案 模 mod 10^9 + 7 之后的结果即可。  "
   ]
  },
  {
   "cell_type": "code",
   "execution_count": 9,
   "metadata": {},
   "outputs": [
    {
     "data": {
      "text/plain": [
       "682289015"
      ]
     },
     "execution_count": 9,
     "metadata": {},
     "output_type": "execute_result"
    }
   ],
   "source": [
    "'''\n",
    "解法一：求质数+阶乘\n",
    "时间复杂度:O(n^3/2\n",
    "'''\n",
    "import math\n",
    "class Solution:\n",
    "    def numPrimeArrangements(self, n: int) -> int:\n",
    "        count = 1\n",
    "        for num in range(3, n+1):\n",
    "            flag = True\n",
    "            for div in range(2, int(math.sqrt(num)) + 1):\n",
    "                if num % div == 0:\n",
    "                    flag = False\n",
    "                    break\n",
    "            if flag == True:\n",
    "                count += 1\n",
    "        res = 1\n",
    "        for i in range(1, count + 1):\n",
    "            res = (i * res) % (1e9 + 7)\n",
    "        for i in range(1, n - count + 1):\n",
    "            res = (i * res) % (1e9 + 7)\n",
    "        return int(res) # 其中一个或两个数是浮点数，则求余的结果将是浮点数\n",
    "\n",
    "# 试运行\n",
    "n = 100\n",
    "solu = Solution()\n",
    "solu.numPrimeArrangements(n)"
   ]
  }
 ],
 "metadata": {
  "kernelspec": {
   "display_name": "base",
   "language": "python",
   "name": "python3"
  },
  "language_info": {
   "codemirror_mode": {
    "name": "ipython",
    "version": 3
   },
   "file_extension": ".py",
   "mimetype": "text/x-python",
   "name": "python",
   "nbconvert_exporter": "python",
   "pygments_lexer": "ipython3",
   "version": "3.9.12"
  },
  "orig_nbformat": 4
 },
 "nbformat": 4,
 "nbformat_minor": 2
}
