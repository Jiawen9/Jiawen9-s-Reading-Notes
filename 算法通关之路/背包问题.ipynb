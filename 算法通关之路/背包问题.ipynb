{
 "cells": [
  {
   "cell_type": "markdown",
   "metadata": {},
   "source": [
    "## 0-1背包\n",
    "有 N 件物品和一个容量是 V 的背包。每件物品只能使用一次。\n",
    "\n",
    "第 i 件物品的体积是 vi，价值是 wi。求解将哪些物品装入背包，可使这些物品的总体积不超过背包容量，且总价值最大。输出最大价值。"
   ]
  },
  {
   "cell_type": "code",
   "execution_count": 36,
   "metadata": {},
   "outputs": [
    {
     "name": "stdout",
     "output_type": "stream",
     "text": [
      "[[0, 0, 0, 0, 0, 0],\n",
      " [0, 2, 2, 2, 2, 2],\n",
      " [0, 2, 4, 6, 6, 6],\n",
      " [0, 2, 4, 6, 6, 8],\n",
      " [0, 2, 4, 6, 6, 8]]\n",
      "8\n"
     ]
    }
   ],
   "source": [
    "from pprint import pprint\n",
    "\n",
    "def knapsack(N, V, w, v):\n",
    "    '''\n",
    "    每种物品有两种状态选或不选，要求实现给定容积物品价值最大\n",
    "    '''\n",
    "    dp = [[0] * (V + 1) for _ in range(N + 1)]\n",
    "    \n",
    "    for i in range(1, N + 1):\n",
    "        for j in range(1, V + 1):\n",
    "            if j < v[i-1]:\n",
    "                dp[i][j] = dp[i-1][j]\n",
    "            else:\n",
    "                dp[i][j] = max(dp[i-1][j], dp[i-1][j - v[i-1]]+ w[i-1])\n",
    "    \n",
    "    pprint(dp) # dp矩阵\n",
    "\n",
    "    return dp[-1][-1]\n",
    "\n",
    "if __name__ == '__main__':\n",
    "    N, V = 4, 5 # 物品个数，背包容积\n",
    "    w = [2, 4, 4, 5] # 物品价值\n",
    "    v = [1, 2, 3, 4] # 物品体积\n",
    "    result = knapsack(N, V, w, v)\n",
    "    print(result)"
   ]
  },
  {
   "cell_type": "markdown",
   "metadata": {},
   "source": [
    "## 完全背包\n",
    "有 N 种物品和一个容量是 V 的背包，每种物品都有无限件可用。\n",
    "\n",
    "第 i 种物品的体积是 vi，价值是 wi。\n",
    "\n",
    "求解将哪些物品装入背包，可使这些物品的总体积不超过背包容量，且总价值最大。输出最大价值。"
   ]
  },
  {
   "cell_type": "code",
   "execution_count": 19,
   "metadata": {},
   "outputs": [
    {
     "name": "stdout",
     "output_type": "stream",
     "text": [
      "[[0, 0, 0, 0, 0, 0],\n",
      " [0, 2, 4, 6, 8, 10],\n",
      " [0, 2, 4, 6, 8, 10],\n",
      " [0, 2, 4, 6, 8, 10],\n",
      " [0, 2, 4, 6, 8, 10]]\n",
      "10\n"
     ]
    }
   ],
   "source": [
    "from pprint import pprint\n",
    "\n",
    "def knapsack(N, V, w, v):\n",
    "    '''\n",
    "    每种物品可以选任意次，要求实现给定容积物品价值最大\n",
    "    '''\n",
    "    dp = [[0] * (V + 1) for _ in range(N + 1)]\n",
    "    \n",
    "    for i in range(1, N + 1):\n",
    "        for j in range(1, V + 1):\n",
    "            k = 0\n",
    "            while k * v[i-1] <= j:\n",
    "                dp[i][j] = max(dp[i][j], dp[i-1][j - k * v[i-1]]+ k * w[i-1])\n",
    "                k += 1\n",
    "    \n",
    "    pprint(dp) # dp矩阵\n",
    "\n",
    "    return dp[-1][-1]\n",
    "\n",
    "if __name__ == '__main__':\n",
    "    N, V = 4, 5 # 物品个数，背包容积\n",
    "    w = [2, 4, 4, 5] # 物品价值\n",
    "    v = [1, 2, 3, 4] # 物品体积\n",
    "    result = knapsack(N, V, w, v)\n",
    "    print(result)"
   ]
  },
  {
   "cell_type": "markdown",
   "metadata": {},
   "source": [
    "## 多重背包\n",
    "有 N 种物品和一个容量是 V 的背包。\n",
    "\n",
    "第 i 种物品最多有 si 件，每件体积是 vi，价值是 wi。\n",
    "\n",
    "求解将哪些物品装入背包，可使物品体积总和不超过背包容量，且价值总和最大。输出最大价值。"
   ]
  },
  {
   "cell_type": "code",
   "execution_count": 37,
   "metadata": {},
   "outputs": [
    {
     "name": "stdout",
     "output_type": "stream",
     "text": [
      "[[0, 0, 0, 0, 0, 0],\n",
      " [0, 2, 4, 6, 6, 6],\n",
      " [0, 2, 4, 6, 8, 10],\n",
      " [0, 2, 4, 6, 8, 10],\n",
      " [0, 2, 4, 6, 8, 10]]\n",
      "10\n"
     ]
    }
   ],
   "source": [
    "from pprint import pprint\n",
    "\n",
    "def knapsack(N, V, w, v, s):\n",
    "    '''\n",
    "    每种物品可以选任意次，要求实现给定容积物品价值最大\n",
    "    '''\n",
    "    dp = [[0] * (V + 1) for _ in range(N + 1)]\n",
    "    \n",
    "    for i in range(1, N + 1):\n",
    "        for j in range(1, V + 1):\n",
    "            k = 0\n",
    "            while k * v[i-1] <= j and k <= s[i-1]:\n",
    "                dp[i][j] = max(dp[i][j], dp[i-1][j - k * v[i-1]]+ k * w[i-1])\n",
    "                k += 1\n",
    "\n",
    "    return dp[-1][-1]\n",
    "\n",
    "if __name__ == '__main__':\n",
    "    N, V = 4, 5 # 物品个数，背包容积\n",
    "    w = [2, 4, 4, 5] # 物品价值\n",
    "    v = [1, 2, 3, 4] # 物品体积\n",
    "    s = [3, 1, 3, 2] # 物品个数\n",
    "    result = knapsack(N, V, w, v, s)\n",
    "    print(result)"
   ]
  }
 ],
 "metadata": {
  "kernelspec": {
   "display_name": "base",
   "language": "python",
   "name": "python3"
  },
  "language_info": {
   "codemirror_mode": {
    "name": "ipython",
    "version": 3
   },
   "file_extension": ".py",
   "mimetype": "text/x-python",
   "name": "python",
   "nbconvert_exporter": "python",
   "pygments_lexer": "ipython3",
   "version": "3.9.12"
  },
  "orig_nbformat": 4
 },
 "nbformat": 4,
 "nbformat_minor": 2
}
