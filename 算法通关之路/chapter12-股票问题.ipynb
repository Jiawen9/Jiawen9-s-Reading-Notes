{
 "cells": [
  {
   "attachments": {},
   "cell_type": "markdown",
   "metadata": {},
   "source": [
    "### 买卖股票的最佳时机\n",
    "***力扣第121题***  \n",
    "给定一个数组 prices ，它的第 i 个元素 prices[i] 表示一支给定股票第 i 天的价格。   \n",
    "你只能选择 某一天 买入这只股票，并选择在 未来的某一个不同的日子 卖出该股票。设计一个算法来计算你所能获取的最大利润。   \n",
    "返回你可以从这笔交易中获取的最大利润。如果你不能获取任何利润，返回 0 。   "
   ]
  },
  {
   "cell_type": "code",
   "execution_count": 1,
   "metadata": {},
   "outputs": [
    {
     "data": {
      "text/plain": [
       "5"
      ]
     },
     "execution_count": 1,
     "metadata": {},
     "output_type": "execute_result"
    }
   ],
   "source": [
    "'''\n",
    "方法一：动态规划\n",
    "时间复杂度：O（n）\n",
    "空间复杂度：O（n）\n",
    "'''\n",
    "class Solution:\n",
    "    def maxProfit(self, prices: list[int]) -> int:\n",
    "        n = len(prices)\n",
    "        min_price, dp = prices[0], [0] * n\n",
    "        for i in range(1, n):\n",
    "            if prices[i] < min_price:\n",
    "                min_price = prices[i]\n",
    "            dp[i] = max(dp[i-1], prices[i]-min_price) # i只依赖于i-1\n",
    "        return dp[-1]\n",
    "\n",
    "prices = [7,1,5,3,6,4]\n",
    "solu = Solution()\n",
    "solu.maxProfit(prices)"
   ]
  },
  {
   "cell_type": "code",
   "execution_count": 2,
   "metadata": {},
   "outputs": [
    {
     "data": {
      "text/plain": [
       "5"
      ]
     },
     "execution_count": 2,
     "metadata": {},
     "output_type": "execute_result"
    }
   ],
   "source": [
    "'''\n",
    "方法二：优化空间\n",
    "时间复杂度：O（n）\n",
    "空间复杂度：O（1）\n",
    "'''\n",
    "class Solution:\n",
    "    def maxProfit(self, prices: list[int]) -> int:\n",
    "        n = len(prices)\n",
    "        min_price, max_diff = prices[0], 0\n",
    "        for i in range(1, n):\n",
    "            if prices[i] < min_price:\n",
    "                min_price = prices[i]\n",
    "            max_diff = max(max_diff, prices[i]-min_price)\n",
    "        return max_diff\n",
    "\n",
    "prices = [7,1,5,3,6,4]\n",
    "solu = Solution()\n",
    "solu.maxProfit(prices)"
   ]
  },
  {
   "attachments": {},
   "cell_type": "markdown",
   "metadata": {},
   "source": [
    "### 买卖股票的最佳时机 II\n",
    "***力扣第122题***  \n",
    "给你一个整数数组 prices ，其中 prices[i] 表示某支股票第 i 天的价格。   \n",
    "在每一天，你可以决定是否购买和/或出售股票。你在任何时候 最多 只能持有 一股 股票。你也可以先购买，然后在 同一天 出售。   \n",
    "返回 你能获得的 最大 利润 。"
   ]
  },
  {
   "cell_type": "code",
   "execution_count": 8,
   "metadata": {},
   "outputs": [
    {
     "data": {
      "text/plain": [
       "7"
      ]
     },
     "execution_count": 8,
     "metadata": {},
     "output_type": "execute_result"
    }
   ],
   "source": [
    "'''\n",
    "方法一：动态规划\n",
    "时间复杂度：O（n）\n",
    "空间复杂度：O（n）\n",
    "'''\n",
    "class Solution:\n",
    "    def maxProfit(self, prices: list[int]) -> int:\n",
    "        buy, sell = [0] * len(prices), [0] * len(prices)\n",
    "        buy[0] = -prices[0]\n",
    "        for i in range(1, len(prices)):\n",
    "            buy[i] = max(buy[i-1] , sell[i-1] - prices[i]) # i只依赖于i-1\n",
    "            sell[i] = max(buy[i-1] + prices[i], sell[i-1])\n",
    "        return sell[-1] # 买入本身减少收益\n",
    "\n",
    "prices = [7,1,5,3,6,4]\n",
    "solu = Solution()\n",
    "solu.maxProfit(prices)"
   ]
  },
  {
   "cell_type": "code",
   "execution_count": 9,
   "metadata": {},
   "outputs": [
    {
     "data": {
      "text/plain": [
       "7"
      ]
     },
     "execution_count": 9,
     "metadata": {},
     "output_type": "execute_result"
    }
   ],
   "source": [
    "'''\n",
    "方法二：优化空间\n",
    "时间复杂度：O（n）\n",
    "空间复杂度：O（1）\n",
    "'''\n",
    "class Solution:\n",
    "    def maxProfit(self, prices: list[int]) -> int:\n",
    "        buy, sell = -prices[0], 0\n",
    "        for i in range(1, len(prices)):\n",
    "            buy = max(buy , sell - prices[i])\n",
    "            sell = max(buy + prices[i], sell)\n",
    "        return sell # 买入本身减少收益\n",
    "\n",
    "prices = [7,1,5,3,6,4]\n",
    "solu = Solution()\n",
    "solu.maxProfit(prices)"
   ]
  },
  {
   "cell_type": "code",
   "execution_count": 4,
   "metadata": {},
   "outputs": [
    {
     "data": {
      "text/plain": [
       "7"
      ]
     },
     "execution_count": 4,
     "metadata": {},
     "output_type": "execute_result"
    }
   ],
   "source": [
    "'''\n",
    "方法三：贪心算法\n",
    "时间复杂度：O（n）\n",
    "空间复杂度：O（1）\n",
    "'''\n",
    "class Solution:\n",
    "    def maxProfit(self, prices: list[int]) -> int:\n",
    "        max_profit = 0\n",
    "        for i in range(1, len(prices)):\n",
    "            if prices[i] - prices[i-1] > 0:\n",
    "                # 没有操作成本可以每日兑现可能产生的利润\n",
    "                # 观察后一日价格更高可以重新买进，相当于这一日没有进行交易\n",
    "                max_profit += prices[i] - prices[i-1]\n",
    "        return max_profit\n",
    "\n",
    "prices = [7,1,5,3,6,4]\n",
    "solu = Solution()\n",
    "solu.maxProfit(prices)"
   ]
  },
  {
   "attachments": {},
   "cell_type": "markdown",
   "metadata": {},
   "source": [
    "### 买卖股票的最佳时机含手续费\n",
    "***力扣第714题***  \n",
    "给定一个整数数组 prices，其中 prices[i]表示第 i 天的股票价格 ；整数 fee 代表了交易股票的手续费用。   \n",
    "你可以无限次地完成交易，但是你每笔交易都需要付手续费。如果你已经购买了一个股票，在卖出它之前你就不能再继续购买股票了。   \n",
    "返回获得利润的最大值。   \n",
    "注意：这里的一笔交易指买入持有并卖出股票的整个过程，每笔交易你只需要为支付一次手续费。"
   ]
  },
  {
   "cell_type": "code",
   "execution_count": 6,
   "metadata": {},
   "outputs": [
    {
     "data": {
      "text/plain": [
       "8"
      ]
     },
     "execution_count": 6,
     "metadata": {},
     "output_type": "execute_result"
    }
   ],
   "source": [
    "'''\n",
    "方法一：动态规划\n",
    "时间复杂度：O（n）\n",
    "空间复杂度：O（n）\n",
    "'''\n",
    "class Solution:\n",
    "    def maxProfit(self, prices: list[int], fee: int) -> int:\n",
    "        buy, sell = [0] * len(prices), [0] * len(prices)\n",
    "        buy[0] = -prices[0]\n",
    "        for i in range(1, len(prices)):\n",
    "            buy[i] = max(buy[i-1] , sell[i-1] - prices[i]) # i只依赖于i-1\n",
    "            sell[i] = max(buy[i-1] + prices[i] - fee, sell[i-1]) # 买入加卖出代表一次交易，把手续费在卖出时算\n",
    "        return sell[-1] # 买入本身减少收益\n",
    "\n",
    "prices, fee = [1, 3, 2, 8, 4, 9], 2\n",
    "solu = Solution()\n",
    "solu.maxProfit(prices, fee)"
   ]
  },
  {
   "cell_type": "code",
   "execution_count": 7,
   "metadata": {},
   "outputs": [
    {
     "data": {
      "text/plain": [
       "8"
      ]
     },
     "execution_count": 7,
     "metadata": {},
     "output_type": "execute_result"
    }
   ],
   "source": [
    "'''\n",
    "方法二：动态规划（优化空间）\n",
    "时间复杂度：O（n）\n",
    "空间复杂度：O（1）\n",
    "'''\n",
    "class Solution:\n",
    "    def maxProfit(self, prices: list[int], fee: int) -> int:\n",
    "        buy, sell = -prices[0], 0\n",
    "        for i in range(1, len(prices)):\n",
    "            buy = max(buy , sell - prices[i])\n",
    "            sell = max(buy + prices[i] - fee, sell)\n",
    "        return sell\n",
    "\n",
    "prices, fee = [1, 3, 2, 8, 4, 9], 2\n",
    "solu = Solution()\n",
    "solu.maxProfit(prices, fee)"
   ]
  },
  {
   "cell_type": "code",
   "execution_count": 13,
   "metadata": {},
   "outputs": [
    {
     "data": {
      "text/plain": [
       "8"
      ]
     },
     "execution_count": 13,
     "metadata": {},
     "output_type": "execute_result"
    }
   ],
   "source": [
    "'''\n",
    "方法三：贪心算法\n",
    "时间复杂度：O（n）\n",
    "空间复杂度：O（1）\n",
    "'''\n",
    "class Solution:\n",
    "    def maxProfit(self, prices: list[int], fee:int) -> int:\n",
    "        max_profit = 0\n",
    "        buy = prices[0] + fee # 手续费放在买入时计算\n",
    "        for i in range(1, len(prices)):\n",
    "            if prices[i] + fee < buy: # 与其使用 buy 的价格购买股票，我们不如以prices[i]+fee 的价格购买股票\n",
    "                buy = prices[i] + fee # 买入\n",
    "            elif prices[i] > buy:  # 当我们卖出一支股票时，我们就立即获得了以相同价格并且免除手续费买入一支股票的权利, 也就是可以反悔\n",
    "                max_profit += prices[i] - buy # 卖出\n",
    "                buy = prices[i] # 保留反悔的后路\n",
    "        return max_profit\n",
    "\n",
    "prices, fee = [1, 3, 2, 8, 4, 9], 2\n",
    "solu = Solution()\n",
    "solu.maxProfit(prices, fee)"
   ]
  },
  {
   "attachments": {},
   "cell_type": "markdown",
   "metadata": {},
   "source": [
    "### 最佳买卖股票时机含冷冻期\n",
    "***力扣第309题***  \n",
    "给定一个整数数组prices，其中第  prices[i] 表示第 i 天的股票价格 。​   \n",
    "设计一个算法计算出最大利润。在满足以下约束条件下，你可以尽可能地完成更多的交易（多次买卖一支股票）:   \n",
    "卖出股票后，你无法在第二天买入股票 (即冷冻期为 1 天)。   "
   ]
  },
  {
   "cell_type": "code",
   "execution_count": 15,
   "metadata": {},
   "outputs": [
    {
     "data": {
      "text/plain": [
       "3"
      ]
     },
     "execution_count": 15,
     "metadata": {},
     "output_type": "execute_result"
    }
   ],
   "source": [
    "'''\n",
    "方法一：动态规划\n",
    "时间复杂度：O（n）\n",
    "空间复杂度：O（n）\n",
    "'''\n",
    "class Solution:\n",
    "    def maxProfit(self, prices: list[int]) -> int:\n",
    "        if len(prices) == 1:\n",
    "            return 0\n",
    "        buy, sell = [0] * len(prices), [0] * len(prices)\n",
    "        buy[0] = -prices[0]\n",
    "\n",
    "        # 单独处理第二天的情况\n",
    "        buy[1] = max(-prices[1], buy[0])\n",
    "        sell[1] = max(buy[0] + prices[1], 0)\n",
    "\n",
    "        for i in range(2, len(prices)):\n",
    "            buy[i] = max(buy[i-1] , sell[i-2] - prices[i]) # buy[i]考虑sell[i-2]\n",
    "            sell[i] = max(buy[i-1] + prices[i], sell[i-1])\n",
    "        return sell[-1] # 买入本身减少收益\n",
    "\n",
    "prices = [1,2,3,0,2]\n",
    "solu = Solution()\n",
    "solu.maxProfit(prices)"
   ]
  },
  {
   "attachments": {},
   "cell_type": "markdown",
   "metadata": {},
   "source": [
    "### 买卖股票的最佳时机 IV\n",
    "***力扣第188题***  \n",
    "给定一个整数数组 prices ，它的第 i 个元素 prices[i] 是一支给定的股票在第 i 天的价格，和一个整型 k 。   \n",
    "设计一个算法来计算你所能获取的最大利润。你最多可以完成 k 笔交易。也就是说，你最多可以买 k 次，卖 k 次。   \n",
    "注意：你不能同时参与多笔交易（你必须在再次购买前出售掉之前的股票）。    "
   ]
  },
  {
   "cell_type": "code",
   "execution_count": 17,
   "metadata": {},
   "outputs": [
    {
     "data": {
      "text/plain": [
       "2"
      ]
     },
     "execution_count": 17,
     "metadata": {},
     "output_type": "execute_result"
    }
   ],
   "source": [
    "'''\n",
    "方法一：动态规划（空间时间还能进一步优化）\n",
    "时间复杂度：O（kn）\n",
    "空间复杂度：O（kn）\n",
    "'''\n",
    "class Solution:\n",
    "    def maxProfit(self, k: int, prices: list[int]) -> int:\n",
    "        dp = [[0] * len(prices) for _ in range(0, k + 1)]\n",
    "        for i in range(1, k + 1): # k次交易\n",
    "            min_price = prices[0]\n",
    "            for j in range(1, len(prices)): # 每次可以卖也可以不卖\n",
    "                # 若在第i天进行卖出操作，其收益\n",
    "                # 将上一次交易的收益纳入本次交易的成本来考虑\n",
    "                min_price = min(min_price, prices[j] - dp[i-1][j-1]) # 从上到下推进\n",
    "                # dp[i][j-1]表示不进行交易\n",
    "                dp[i][j] = max(dp[i][j-1], prices[j] - min_price) # 从左到右推进\n",
    "        return dp[-1][-1]\n",
    "\n",
    "k, prices = 2, [2,4,1]\n",
    "solu = Solution()\n",
    "solu.maxProfit(k, prices)"
   ]
  },
  {
   "attachments": {},
   "cell_type": "markdown",
   "metadata": {},
   "source": [
    "### 买卖股票的最佳时机 III\n",
    "***力扣第123题***  \n",
    "给定一个数组，它的第 i 个元素是一支给定的股票在第 i 天的价格。   \n",
    "设计一个算法来计算你所能获取的最大利润。你最多可以完成 两笔 交易。   \n",
    "注意：你不能同时参与多笔交易（你必须在再次购买前出售掉之前的股票）。"
   ]
  },
  {
   "cell_type": "code",
   "execution_count": 19,
   "metadata": {},
   "outputs": [
    {
     "data": {
      "text/plain": [
       "6"
      ]
     },
     "execution_count": 19,
     "metadata": {},
     "output_type": "execute_result"
    }
   ],
   "source": [
    "'''\n",
    "方法一：动态规划（空间还能进一步优化）\n",
    "时间复杂度：O（n）\n",
    "空间复杂度：O（n）\n",
    "'''\n",
    "class Solution:\n",
    "    def maxProfit(self, prices: list[int]) -> int:\n",
    "        dp = [[0] * len(prices) for _ in range(0, 3)]\n",
    "        for i in range(1, 3): # k次交易\n",
    "            min_price = prices[0]\n",
    "            for j in range(1, len(prices)): # 每次可以卖也可以不卖\n",
    "                # 若在第i天进行卖出操作，其收益\n",
    "                # 将上一次交易的收益纳入本次交易的成本来考虑\n",
    "                min_price = min(min_price, prices[j] - dp[i-1][j-1]) # 从上到下推进\n",
    "                # dp[i][j-1]表示不进行交易\n",
    "                dp[i][j] = max(dp[i][j-1], prices[j] - min_price) # 从左到右推进\n",
    "        return dp[-1][-1]\n",
    "\n",
    "prices = [3,3,5,0,0,3,1,4]\n",
    "solu = Solution()\n",
    "solu.maxProfit(prices)"
   ]
  }
 ],
 "metadata": {
  "kernelspec": {
   "display_name": "base",
   "language": "python",
   "name": "python3"
  },
  "language_info": {
   "codemirror_mode": {
    "name": "ipython",
    "version": 3
   },
   "file_extension": ".py",
   "mimetype": "text/x-python",
   "name": "python",
   "nbconvert_exporter": "python",
   "pygments_lexer": "ipython3",
   "version": "3.9.12"
  },
  "orig_nbformat": 4
 },
 "nbformat": 4,
 "nbformat_minor": 2
}
