{
 "cells": [
  {
   "attachments": {},
   "cell_type": "markdown",
   "metadata": {},
   "source": [
    "### 滑动窗口最大值\n",
    "***力扣第239题***  \n",
    "给你一个整数数组 nums，有一个大小为 k 的滑动窗口从数组的最左侧移动到数组的最右侧。你只可以看到在滑动窗口内的 k 个数字。滑动窗口每次只向右移动一位。   \n",
    "返回 滑动窗口中的最大值 。"
   ]
  },
  {
   "cell_type": "code",
   "execution_count": 1,
   "metadata": {},
   "outputs": [
    {
     "data": {
      "text/plain": [
       "[3, 3, 5, 5, 6, 7]"
      ]
     },
     "execution_count": 1,
     "metadata": {},
     "output_type": "execute_result"
    }
   ],
   "source": [
    "'''\n",
    "方法一：暴力法（超时）\n",
    "时间复杂度：O（nk）\n",
    "空间复杂度：O（1）\n",
    "'''\n",
    "class Solution:\n",
    "    def maxSlidingWindow(self, nums: list[int], k: int) -> list[int]:\n",
    "        left, right = 0, k\n",
    "        res = []\n",
    "        while right <= len(nums):\n",
    "            res.append(max(nums[left: right]))\n",
    "            left, right = left + 1, right + 1\n",
    "        return res\n",
    "\n",
    "nums, k = [1,3,-1,-3,5,3,6,7], 3\n",
    "solu = Solution()\n",
    "solu.maxSlidingWindow(nums, k)"
   ]
  },
  {
   "cell_type": "code",
   "execution_count": 2,
   "metadata": {},
   "outputs": [
    {
     "data": {
      "text/plain": [
       "[3, 3, 5, 5, 6, 7]"
      ]
     },
     "execution_count": 2,
     "metadata": {},
     "output_type": "execute_result"
    }
   ],
   "source": [
    "'''\n",
    "方法二：单调队列\n",
    "时间复杂度：O（n）\n",
    "空间复杂度：O（k）\n",
    "'''\n",
    "class Solution:\n",
    "    def maxSlidingWindow(self, nums: list[int], k: int) -> list[int]:\n",
    "        window = list()\n",
    "        res = list()\n",
    "        for i, n in enumerate(nums):\n",
    "            # 从尾部开始移除比新加入元素小的元素\n",
    "            while window and nums[window[-1]] < n:\n",
    "                window.pop()\n",
    "            # 将新加入的元素添加到window\n",
    "            window.append(i)\n",
    "            # 如果窗口外的元素仍然在window中，则将其移除\n",
    "            if window[0] == i-k:\n",
    "                window.pop(0)\n",
    "            # 将当前元素即当前最大元素对应数字放入结果数组\n",
    "            if i >= k - 1:\n",
    "                res.append(nums[window[0]])\n",
    "        return res\n",
    "\n",
    "nums, k = [1,3,-1,-3,5,3,6,7], 3\n",
    "solu = Solution()\n",
    "solu.maxSlidingWindow(nums, k)"
   ]
  },
  {
   "attachments": {},
   "cell_type": "markdown",
   "metadata": {},
   "source": [
    "### 最小覆盖子串\n",
    "***力扣第76题***  \n",
    "给你一个字符串 s 、一个字符串 t 。返回 s 中涵盖 t 所有字符的最小子串。如果 s 中不存在涵盖 t 所有字符的子串，则返回空字符串 \"\" 。   \n",
    "注意：   \n",
    "对于 t 中重复字符，我们寻找的子字符串中该字符数量必须不少于 t 中该字符数量。   \n",
    "如果 s 中存在这样的子串，我们保证它是唯一的答案。   "
   ]
  },
  {
   "cell_type": "code",
   "execution_count": 4,
   "metadata": {},
   "outputs": [
    {
     "data": {
      "text/plain": [
       "'BANC'"
      ]
     },
     "execution_count": 4,
     "metadata": {},
     "output_type": "execute_result"
    }
   ],
   "source": [
    "'''\n",
    "方法二：滑动窗口\n",
    "\n",
    "'''\n",
    "class Solution:\n",
    "    def minWindow(self, s: str, t: str) -> str:\n",
    "        max_window = s + 'a' # 最大窗口\n",
    "        t_dict = dict() # 哈希表记录t中的字符\n",
    "\n",
    "        # 统计t中的字符\n",
    "        for ch in t:\n",
    "            if not t_dict.get(ch):\n",
    "                t_dict[ch] = 0\n",
    "            t_dict[ch] += 1\n",
    "        \n",
    "        # 判断当前窗口中是否包含全部t\n",
    "        def all_elem_zero() -> bool:\n",
    "            for key, _ in t_dict.items():\n",
    "                if t_dict[key] > 0:\n",
    "                    return False\n",
    "            return True\n",
    "        \n",
    "        left, right = 0, 0\n",
    "        while right < len(s):\n",
    "            if s[right] in t_dict: \n",
    "                t_dict[s[right]] -= 1\n",
    "                while all_elem_zero(): # 当前窗口包含全部t\n",
    "                    while s[left] not in t_dict: # 缩小窗口时如果遇到不是t中的字符直接跳过\n",
    "                        left += 1\n",
    "                    if right -left + 1 < len(max_window): # 更新最小窗口值\n",
    "                        max_window = s[left:right+1]\n",
    "                    if s[left] in t_dict: # 之前减掉的值加回来\n",
    "                        t_dict[s[left]] += 1\n",
    "                    left += 1\n",
    "            right += 1\n",
    "\n",
    "        return \"\" if max_window == s + 'a' else max_window\n",
    "\n",
    "s, t = \"ADOBECODEBANC\", \"ABC\"\n",
    "solu = Solution()\n",
    "solu.minWindow(s, t)"
   ]
  },
  {
   "attachments": {},
   "cell_type": "markdown",
   "metadata": {},
   "source": [
    "### 替换后的最长重复字符\n",
    "***力扣第424题***  \n",
    "给你一个字符串 s 和一个整数 k 。你可以选择字符串中的任一字符，并将其更改为任何其他大写英文字符。该操作最多可执行 k 次。   \n",
    "在执行上述操作后，返回包含相同字母的最长子字符串的长度。"
   ]
  },
  {
   "cell_type": "code",
   "execution_count": 10,
   "metadata": {},
   "outputs": [
    {
     "data": {
      "text/plain": [
       "4"
      ]
     },
     "execution_count": 10,
     "metadata": {},
     "output_type": "execute_result"
    }
   ],
   "source": [
    "'''\n",
    "方法一：滑动窗口\n",
    "时间复杂度：O（n）\n",
    "空间复杂度：O（1）\n",
    "'''\n",
    "class Solution:\n",
    "    def characterReplacement(self, s: str, k: int) -> int:\n",
    "        max_len = 0\n",
    "        ch_cnt = dict() # 记录字符出现频率\n",
    "        left, right = 0, 0\n",
    "        while right < len(s):\n",
    "            if s[right] not in ch_cnt:\n",
    "                ch_cnt[s[right]] = 0\n",
    "            ch_cnt[s[right]] += 1\n",
    "            if max(ch_cnt.values()) + k < right - left + 1: # 频率最高的字符加上k比当前窗口小，则收缩左窗口\n",
    "                ch_cnt[s[left]] -= 1\n",
    "                left += 1\n",
    "            max_len = max(max_len, right-left+1) # 现在频率最高的字符加上k的长度与当前窗口相等或更大\n",
    "            right += 1\n",
    "        return max_len\n",
    "\n",
    "s, k = \"ABAB\", 2\n",
    "solu = Solution()\n",
    "solu.characterReplacement(s, k)"
   ]
  },
  {
   "cell_type": "code",
   "execution_count": 9,
   "metadata": {},
   "outputs": [
    {
     "data": {
      "text/plain": [
       "4"
      ]
     },
     "execution_count": 9,
     "metadata": {},
     "output_type": "execute_result"
    }
   ],
   "source": [
    "'''\n",
    "方法二：滑动窗口（避免每次求max）\n",
    "时间复杂度：O（n）\n",
    "空间复杂度：O（1）\n",
    "'''\n",
    "import collections\n",
    "class Solution:\n",
    "    def characterReplacement(self, s: str, k: int) -> int:\n",
    "        left = right = 0\n",
    "        max_char_n = 0\n",
    "        counts = collections.Counter()\n",
    "        for right in range(0, len(s)):\n",
    "            counts[s[right]] += 1\n",
    "            max_char_n = max(max_char_n, counts[s[right]])\n",
    "\n",
    "            if right - left + 1 > k + max_char_n:\n",
    "                counts[s[left]] -= 1\n",
    "                left += 1\n",
    "        return right - left + 1\n",
    "\n",
    "s, k = \"ABAB\", 2\n",
    "solu = Solution()\n",
    "solu.characterReplacement(s, k)"
   ]
  },
  {
   "cell_type": "code",
   "execution_count": 11,
   "metadata": {},
   "outputs": [
    {
     "data": {
      "text/plain": [
       "4"
      ]
     },
     "execution_count": 11,
     "metadata": {},
     "output_type": "execute_result"
    }
   ],
   "source": [
    "'''\n",
    "方法三：滑动窗口（更加工整的版本）\n",
    "时间复杂度：O（n）\n",
    "空间复杂度：O（1）\n",
    "'''\n",
    "import collections\n",
    "class Solution:\n",
    "    def characterReplacement(self, s: str, k: int) -> int:\n",
    "        max_char_n = res = 0 \n",
    "        counts = collections.Counter()\n",
    "        for i in range(len(s)):\n",
    "            counts[s[i]] += 1\n",
    "            max_char_n = max(max_char_n, counts[s[i]])\n",
    "\n",
    "            if res - max_char_n < k:\n",
    "                res += 1\n",
    "            else:\n",
    "                counts[s[i-res]] -= 1\n",
    "        return res\n",
    "\n",
    "s, k = \"ABAB\", 2\n",
    "solu = Solution()\n",
    "solu.characterReplacement(s, k)"
   ]
  },
  {
   "attachments": {},
   "cell_type": "markdown",
   "metadata": {},
   "source": [
    "### 字符串的排列\n",
    "***力扣第567题***  \n",
    "给你两个字符串 s1 和 s2 ，写一个函数来判断 s2 是否包含 s1 的排列。如果是，返回 true ；否则，返回 false 。   \n",
    "换句话说，s1 的排列之一是 s2 的 子串 。"
   ]
  },
  {
   "cell_type": "code",
   "execution_count": 14,
   "metadata": {},
   "outputs": [
    {
     "data": {
      "text/plain": [
       "True"
      ]
     },
     "execution_count": 14,
     "metadata": {},
     "output_type": "execute_result"
    }
   ],
   "source": [
    "'''\n",
    "方法一：滑动窗口\n",
    "时间复杂度：O（n）\n",
    "空间复杂度：O（1）\n",
    "'''\n",
    "class Solution:\n",
    "    def checkInclusion(self, s1: str, s2: str) -> bool:\n",
    "        ch_cnt = dict() # 统计字符频次的字典\n",
    "        for ch in s1:\n",
    "            if ch not in ch_cnt:\n",
    "                ch_cnt[ch] = 0\n",
    "            ch_cnt[ch] += 1\n",
    "        \n",
    "        # 处理第一个窗口\n",
    "        for ch in s2[0: len(s1)]:\n",
    "            if ch in ch_cnt:\n",
    "                ch_cnt[ch] -= 1\n",
    "        if max(ch_cnt.values()) == 0:\n",
    "                return True\n",
    "        \n",
    "        # 窗口向右移动\n",
    "        left, right = 0, len(s1)\n",
    "        while right < len(s2):\n",
    "            # 迁移至下一个窗口\n",
    "            if s2[left] in ch_cnt:\n",
    "                ch_cnt[s2[left]] += 1\n",
    "            if s2[right] in ch_cnt:\n",
    "                ch_cnt[s2[right]] -= 1  \n",
    "            if max(ch_cnt.values()) == 0:\n",
    "                return True\n",
    "            left += 1\n",
    "            right += 1\n",
    "        return False\n",
    "\n",
    "s1, s2 = \"ab\", \"eidbaooo\"\n",
    "solu = Solution()\n",
    "solu.checkInclusion(s1, s2)"
   ]
  }
 ],
 "metadata": {
  "kernelspec": {
   "display_name": "base",
   "language": "python",
   "name": "python3"
  },
  "language_info": {
   "codemirror_mode": {
    "name": "ipython",
    "version": 3
   },
   "file_extension": ".py",
   "mimetype": "text/x-python",
   "name": "python",
   "nbconvert_exporter": "python",
   "pygments_lexer": "ipython3",
   "version": "3.9.12"
  },
  "orig_nbformat": 4
 },
 "nbformat": 4,
 "nbformat_minor": 2
}
