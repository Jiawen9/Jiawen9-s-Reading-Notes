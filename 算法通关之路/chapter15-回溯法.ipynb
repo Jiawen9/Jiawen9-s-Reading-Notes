{
 "cells": [
  {
   "cell_type": "markdown",
   "metadata": {},
   "source": [
    "### 全排列\n",
    "***力扣第46题***  \n",
    "给定一个不含重复数字的数组 nums ，返回其 所有可能的全排列 。你可以 按任意顺序 返回答案。"
   ]
  },
  {
   "cell_type": "code",
   "execution_count": 1,
   "metadata": {},
   "outputs": [
    {
     "data": {
      "text/plain": [
       "[[1, 2, 3], [1, 3, 2], [2, 1, 3], [2, 3, 1], [3, 1, 2], [3, 2, 1]]"
      ]
     },
     "execution_count": 1,
     "metadata": {},
     "output_type": "execute_result"
    }
   ],
   "source": [
    "class Solution:\n",
    "    def permute(self, nums: list[int]) -> list[list[int]]:\n",
    "        \n",
    "        res = list()\n",
    "        used = set()\n",
    "        n = len(nums)\n",
    "\n",
    "        def dfs(path: list[int]):\n",
    "            \n",
    "            if len(path) == n:\n",
    "                res.append(path[:]) # 加入的是拷贝不是引用\n",
    "                return\n",
    "            for i in range(n):\n",
    "                if i not in used:\n",
    "                    used.add(i)\n",
    "                    path.append(nums[i])\n",
    "                    dfs(path)\n",
    "                    path.pop()\n",
    "                    used.remove(i)\n",
    "            \n",
    "        dfs([])\n",
    "        return res\n",
    "\n",
    "nums = [1,2,3]\n",
    "solu = Solution()\n",
    "solu.permute(nums)"
   ]
  },
  {
   "cell_type": "markdown",
   "metadata": {},
   "source": [
    "### 全排列 II\n",
    "***力扣第47题***  \n",
    "给定一个可包含重复数字的序列 nums ，按任意顺序 返回所有不重复的全排列。"
   ]
  },
  {
   "cell_type": "code",
   "execution_count": 2,
   "metadata": {},
   "outputs": [
    {
     "data": {
      "text/plain": [
       "[[1, 1, 2], [1, 2, 1], [2, 1, 1]]"
      ]
     },
     "execution_count": 2,
     "metadata": {},
     "output_type": "execute_result"
    }
   ],
   "source": [
    "class Solution:\n",
    "    def permuteUnique(self, nums: list[int]) -> list[list[int]]:\n",
    "\n",
    "        res = list()\n",
    "        used = set()\n",
    "        n = len(nums)\n",
    "        nums.sort() # 提前排序\n",
    "\n",
    "        def dfs(path: list[int]):\n",
    "            \n",
    "            if len(path) == n:\n",
    "                res.append(path[:])\n",
    "                return\n",
    "\n",
    "            for i in range(n):\n",
    "                # 同一个位置数字不能相同，i-1 not in used 表明这个位置i-1已经待过\n",
    "                if i > 0 and nums[i] == nums[i-1] and i-1 not in used:\n",
    "                    continue \n",
    "                if i not in used:\n",
    "                    used.add(i)\n",
    "                    path.append(nums[i])\n",
    "                    dfs(path)\n",
    "                    path.pop()\n",
    "                    used.remove(i)\n",
    "            \n",
    "        dfs([])\n",
    "        return res\n",
    "\n",
    "nums = [1,1,2]\n",
    "solu = Solution()\n",
    "solu.permuteUnique(nums)"
   ]
  },
  {
   "cell_type": "markdown",
   "metadata": {},
   "source": [
    "### 组合总和\n",
    "***力扣第39题***  \n",
    "给你一个 无重复元素 的整数数组 candidates 和一个目标整数 target ，找出 candidates 中可以使数字和为目标数 target 的 所有 不同组合 ，并以列表形式返回。你可以按 任意顺序 返回这些组合。\n",
    "\n",
    "candidates 中的 同一个 数字可以 无限制重复被选取 。如果至少一个数字的被选数量不同，则两种组合是不同的。 \n",
    "\n",
    "对于给定的输入，保证和为 target 的不同组合数少于 150 个。\n",
    "\n",
    "来源：力扣（LeetCode）\n",
    "链接：https://leetcode.cn/problems/combination-sum\n",
    "著作权归领扣网络所有。商业转载请联系官方授权，非商业转载请注明出处。"
   ]
  },
  {
   "cell_type": "code",
   "execution_count": 3,
   "metadata": {},
   "outputs": [
    {
     "data": {
      "text/plain": [
       "[[2, 2, 3], [7]]"
      ]
     },
     "execution_count": 3,
     "metadata": {},
     "output_type": "execute_result"
    }
   ],
   "source": [
    "# 无for循环写法，必须先排序\n",
    "class Solution:\n",
    "    def combinationSum(self, candidates: list[int], target: int) -> list[list[int]]:\n",
    "        \n",
    "        res = list()\n",
    "        n = len(candidates)\n",
    "        candidates.sort()\n",
    "\n",
    "        def dfs(idx: int, cur: int, path: list[int]):\n",
    "\n",
    "            if cur == 0: # 和为target\n",
    "                res.append(path[:])\n",
    "                return\n",
    "            elif idx == n: # 遍历结束\n",
    "                return\n",
    "            \n",
    "            if candidates[idx] <= cur:\n",
    "                path.append(candidates[idx])\n",
    "                dfs(idx, cur-candidates[idx], path)\n",
    "                path.pop()\n",
    "                dfs(idx+1, cur, path)\n",
    "            else: # 没必要继续遍历\n",
    "                return\n",
    "\n",
    "        dfs(0, target, list())\n",
    "        return res\n",
    "\n",
    "candidates, target = [2,3,6,7], 7\n",
    "solu = Solution()\n",
    "solu.combinationSum(candidates, target)"
   ]
  },
  {
   "cell_type": "code",
   "execution_count": 4,
   "metadata": {},
   "outputs": [
    {
     "data": {
      "text/plain": [
       "[[2, 2, 3], [7]]"
      ]
     },
     "execution_count": 4,
     "metadata": {},
     "output_type": "execute_result"
    }
   ],
   "source": [
    "# for循环写法，是否排序都可\n",
    "class Solution:\n",
    "    def combinationSum(self, candidates: list[int], target: int) -> list[list[int]]:\n",
    "        \n",
    "        res = list()\n",
    "        n = len(candidates)\n",
    "\n",
    "        def dfs(idx: int, cur: int, path: list[int]):\n",
    "\n",
    "            if cur == 0: # 和为target\n",
    "                res.append(path[:])\n",
    "                return\n",
    "            \n",
    "            for idx in range(idx, n):\n",
    "        \n",
    "                if candidates[idx] <= cur:\n",
    "                    path.append(candidates[idx])\n",
    "                    dfs(idx, cur-candidates[idx], path)\n",
    "                    path.pop()\n",
    "\n",
    "        dfs(0, target, [])\n",
    "        return res\n",
    "\n",
    "\n",
    "candidates, target = [2,3,6,7], 7\n",
    "solu = Solution()\n",
    "solu.combinationSum(candidates, target)"
   ]
  },
  {
   "cell_type": "markdown",
   "metadata": {},
   "source": [
    "### 组合总和 II\n",
    "***力扣第40题***  \n",
    "给定一个候选人编号的集合 candidates 和一个目标数 target ，找出 candidates 中所有可以使数字和为 target 的组合。\n",
    "\n",
    "candidates 中的每个数字在每个组合中只能使用 一次 。\n",
    "\n",
    "注意：解集不能包含重复的组合。 \n",
    "\n",
    "来源：力扣（LeetCode）\n",
    "链接：https://leetcode.cn/problems/combination-sum-ii\n",
    "著作权归领扣网络所有。商业转载请联系官方授权，非商业转载请注明出处。"
   ]
  },
  {
   "cell_type": "code",
   "execution_count": 6,
   "metadata": {},
   "outputs": [
    {
     "data": {
      "text/plain": [
       "[[1, 1, 6], [1, 2, 5], [1, 7], [2, 6]]"
      ]
     },
     "execution_count": 6,
     "metadata": {},
     "output_type": "execute_result"
    }
   ],
   "source": [
    "# 不使用used的写法，依据i > idx来判断\n",
    "class Solution:\n",
    "    def combinationSum2(self, candidates: list[int], target: int) -> list[list[int]]:\n",
    "     \n",
    "        res = list()\n",
    "        n = len(candidates)\n",
    "        candidates.sort()\n",
    "  \n",
    "\n",
    "        def dfs(idx: int, cur: int, path: list[int]):\n",
    "\n",
    "            if cur == 0: # 和为target\n",
    "                res.append(path[:])\n",
    "                return\n",
    "            \n",
    "            for i in range(idx, n):\n",
    "                # for循环中去重，这里意味着舍弃了i-1所以不能再加入i\n",
    "                if i > idx and candidates[i] == candidates[i-1]:\n",
    "                    continue\n",
    "                if candidates[i] <= cur:\n",
    "                    path.append(candidates[i])\n",
    "                    dfs(i+1, cur-candidates[i], path) # 每次进入下一层时不再考虑当前数字，避免多次使用\n",
    "                    path.pop()\n",
    "                else: \n",
    "                    break\n",
    "\n",
    "        dfs(0, target, list())\n",
    "        return res\n",
    "\n",
    "candidates, target = [10,1,2,7,6,1,5], 8\n",
    "solu = Solution()\n",
    "solu.combinationSum2(candidates, target)"
   ]
  },
  {
   "cell_type": "code",
   "execution_count": 7,
   "metadata": {},
   "outputs": [
    {
     "data": {
      "text/plain": [
       "[[1, 1, 6], [1, 2, 5], [1, 7], [2, 6]]"
      ]
     },
     "execution_count": 7,
     "metadata": {},
     "output_type": "execute_result"
    }
   ],
   "source": [
    "# 使用used的写法\n",
    "class Solution:\n",
    "    def combinationSum2(self, candidates: list[int], target: int) -> list[list[int]]:\n",
    "     \n",
    "        res = list()\n",
    "        n = len(candidates)\n",
    "        candidates.sort()\n",
    "        used = set()\n",
    "  \n",
    "\n",
    "        def dfs(idx: int, cur: int, path: list[int]):\n",
    "\n",
    "            if cur == 0: # 和为target\n",
    "                res.append(path[:])\n",
    "                return\n",
    "            \n",
    "            for i in range(idx, n):\n",
    "                # for循环中去重，这里意味着舍弃了i-1所以不能再加入i\n",
    "                if i > 0 and candidates[i] == candidates[i-1] and i-1 not in used:\n",
    "                    continue\n",
    "                if candidates[i] <= cur:\n",
    "                    path.append(candidates[i])\n",
    "                    used.add(i)\n",
    "                    dfs(i+1, cur-candidates[i], path)\n",
    "                    path.pop()\n",
    "                    used.remove(i)\n",
    "                else: \n",
    "                    break\n",
    "\n",
    "        dfs(0, target, list())\n",
    "        return res\n",
    "\n",
    "candidates, target = [10,1,2,7,6,1,5], 8\n",
    "solu = Solution()\n",
    "solu.combinationSum2(candidates, target)"
   ]
  },
  {
   "cell_type": "markdown",
   "metadata": {},
   "source": [
    "### 子集\n",
    "***力扣第78题***  \n",
    "给你一个整数数组 nums ，数组中的元素 互不相同 。返回该数组所有可能的子集（幂集）。\n",
    "\n",
    "解集 不能 包含重复的子集。你可以按 任意顺序 返回解集。"
   ]
  },
  {
   "cell_type": "code",
   "execution_count": 8,
   "metadata": {},
   "outputs": [
    {
     "data": {
      "text/plain": [
       "[[1, 2, 3], [1, 2], [1, 3], [1], [2, 3], [2], [3], []]"
      ]
     },
     "execution_count": 8,
     "metadata": {},
     "output_type": "execute_result"
    }
   ],
   "source": [
    "# 不使用for循环的写法\n",
    "class Solution:\n",
    "    def subsets(self, nums: list[int]) -> list[list[int]]:\n",
    "        res = []\n",
    "        n = len(nums)\n",
    "\n",
    "        def dfs(idx: int, path: list[int]):\n",
    "            if idx == n:\n",
    "                res.append(path[:])\n",
    "                return\n",
    "            path.append(nums[idx])\n",
    "            dfs(idx+1, path)\n",
    "            path.pop()\n",
    "            dfs(idx+1, path)\n",
    "        \n",
    "        dfs(0, list())\n",
    "        return res\n",
    "\n",
    "nums = [1,2,3]\n",
    "solu = Solution()\n",
    "solu.subsets(nums)"
   ]
  },
  {
   "cell_type": "code",
   "execution_count": 9,
   "metadata": {},
   "outputs": [
    {
     "data": {
      "text/plain": [
       "[[], [1], [1, 2], [1, 2, 3], [1, 3], [2], [2, 3], [3]]"
      ]
     },
     "execution_count": 9,
     "metadata": {},
     "output_type": "execute_result"
    }
   ],
   "source": [
    "# 使用for循环的写法\n",
    "class Solution:\n",
    "    def subsets(self, nums: list[int]) -> list[list[int]]:\n",
    "        res = []\n",
    "        n = len(nums)\n",
    "\n",
    "        def dfs(idx: int, path: list[int]):\n",
    "\n",
    "            res.append(path[:])\n",
    "            for i in range(idx, n):\n",
    "                path.append(nums[i])\n",
    "                dfs(i+1, path)\n",
    "                path.pop()\n",
    "            \n",
    "        dfs(0, list())\n",
    "        return res\n",
    "\n",
    "nums = [1,2,3]\n",
    "solu = Solution()\n",
    "solu.subsets(nums)"
   ]
  },
  {
   "cell_type": "markdown",
   "metadata": {},
   "source": [
    "### 子集 II\n",
    "***力扣第90题***  \n",
    "给你一个整数数组 nums ，其中可能包含重复元素，请你返回该数组所有可能的子集（幂集）。\n",
    "\n",
    "解集 不能 包含重复的子集。返回的解集中，子集可以按 任意顺序 排列。\n",
    "\n",
    "来源：力扣（LeetCode）\n",
    "链接：https://leetcode.cn/problems/subsets-ii\n",
    "著作权归领扣网络所有。商业转载请联系官方授权，非商业转载请注明出处。"
   ]
  },
  {
   "cell_type": "code",
   "execution_count": 11,
   "metadata": {},
   "outputs": [
    {
     "data": {
      "text/plain": [
       "[[], [1], [1, 2], [1, 2, 2], [2], [2, 2]]"
      ]
     },
     "execution_count": 11,
     "metadata": {},
     "output_type": "execute_result"
    }
   ],
   "source": [
    "# 不使用used的写法，依据i > idx来判断\n",
    "class Solution:\n",
    "    def subsetsWithDup(self, nums: list[int]) -> list[list[int]]:\n",
    "        res = []\n",
    "        n = len(nums)\n",
    "        nums.sort()\n",
    "\n",
    "        def dfs(idx: int, path: list[int]):\n",
    "            res.append(path[:])\n",
    "            for i in range(idx, n):\n",
    "                if i > idx and nums[i] == nums[i-1]:\n",
    "                    continue\n",
    "                path.append(nums[i])\n",
    "                dfs(i+1, path)\n",
    "                path.pop()\n",
    "            \n",
    "        dfs(0, list())\n",
    "        return res\n",
    "\n",
    "nums = [1,2,2]\n",
    "solu = Solution()\n",
    "solu.subsetsWithDup(nums)"
   ]
  }
 ],
 "metadata": {
  "kernelspec": {
   "display_name": "base",
   "language": "python",
   "name": "python3"
  },
  "language_info": {
   "codemirror_mode": {
    "name": "ipython",
    "version": 3
   },
   "file_extension": ".py",
   "mimetype": "text/x-python",
   "name": "python",
   "nbconvert_exporter": "python",
   "pygments_lexer": "ipython3",
   "version": "3.9.12"
  },
  "orig_nbformat": 4
 },
 "nbformat": 4,
 "nbformat_minor": 2
}
